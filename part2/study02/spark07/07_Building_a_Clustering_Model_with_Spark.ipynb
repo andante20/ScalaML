{
 "cells": [
  {
   "cell_type": "markdown",
   "metadata": {},
   "source": [
    "# ￼7. Building a Clustering Model with Spark"
   ]
  },
  {
   "cell_type": "markdown",
   "metadata": {},
   "source": [
    "* 싸이그래머 / 스칼라ML : PART 2 - SparkML 파트\n",
    "* 김무성"
   ]
  },
  {
   "cell_type": "markdown",
   "metadata": {},
   "source": [
    "# Contents"
   ]
  },
  {
   "cell_type": "markdown",
   "metadata": {},
   "source": [
    "* Types of clustering models\n",
    "* Extracting the right features from your data\n",
    "* Training a clustering model\n",
    "* Making predictions using a clustering model\n",
    "* Evaluating the performance of clustering models\n",
    "* Tuning parameters for clustering models\n",
    "* Summary"
   ]
  },
  {
   "cell_type": "markdown",
   "metadata": {},
   "source": [
    "# Types of clustering models"
   ]
  },
  {
   "cell_type": "markdown",
   "metadata": {},
   "source": [
    "* K-means clustering\n",
    "* Mixture models\n",
    "* Hierarchical clustering"
   ]
  },
  {
   "cell_type": "markdown",
   "metadata": {},
   "source": [
    "## K-means clustering"
   ]
  },
  {
   "cell_type": "markdown",
   "metadata": {},
   "source": [
    "* Initialization methods\n",
    "* Variants"
   ]
  },
  {
   "cell_type": "markdown",
   "metadata": {},
   "source": [
    "<img src=\"figures/cap1.png\" />"
   ]
  },
  {
   "cell_type": "markdown",
   "metadata": {},
   "source": [
    "* http://spark.apache.org/docs/latest/mllib-clustering.html"
   ]
  },
  {
   "cell_type": "markdown",
   "metadata": {},
   "source": [
    "<img src=\"figures/cap2.png\" width=600 />"
   ]
  },
  {
   "cell_type": "markdown",
   "metadata": {},
   "source": [
    "<img src=\"figures/cap3.png\" width=600 />"
   ]
  },
  {
   "cell_type": "markdown",
   "metadata": {},
   "source": [
    "<img src=\"figures/cap4.png\" width=600 />"
   ]
  },
  {
   "cell_type": "markdown",
   "metadata": {},
   "source": [
    "<img src=\"figures/cap5.png\" width=600 />"
   ]
  },
  {
   "cell_type": "markdown",
   "metadata": {},
   "source": [
    "### Initialization methods"
   ]
  },
  {
   "cell_type": "markdown",
   "metadata": {},
   "source": [
    "* https://en.wikipedia.org/wiki/K-means_clustering#Initialization_methods"
   ]
  },
  {
   "cell_type": "markdown",
   "metadata": {},
   "source": [
    "<img src=\"figures/cap6.png\" width=600 />"
   ]
  },
  {
   "cell_type": "markdown",
   "metadata": {},
   "source": [
    "### Variants"
   ]
  },
  {
   "cell_type": "markdown",
   "metadata": {},
   "source": [
    "* fuzzy K-means"
   ]
  },
  {
   "cell_type": "markdown",
   "metadata": {},
   "source": [
    "## Mixture models"
   ]
  },
  {
   "cell_type": "markdown",
   "metadata": {},
   "source": [
    "* https://en.wikipedia.org/wiki/Mixture_model"
   ]
  },
  {
   "cell_type": "markdown",
   "metadata": {},
   "source": [
    "## Hierarchical clustering"
   ]
  },
  {
   "cell_type": "markdown",
   "metadata": {},
   "source": [
    "* https://en.wikipedia.org/wiki/Hierarchical_clustering"
   ]
  },
  {
   "cell_type": "markdown",
   "metadata": {},
   "source": [
    "# Extracting the right features from your data"
   ]
  },
  {
   "cell_type": "code",
   "execution_count": null,
   "metadata": {
    "collapsed": true
   },
   "outputs": [],
   "source": [
    "# 파이썬 커널로 바꿔서 실행하자.\n",
    "!wget http://files.grouplens.org/datasets/movielens/ml-100k.zip"
   ]
  },
  {
   "cell_type": "code",
   "execution_count": null,
   "metadata": {
    "collapsed": true
   },
   "outputs": [],
   "source": [
    "# 파이썬 커널로 바꿔서 실행하자.\n",
    "!unzip ml-100k.zip"
   ]
  },
  {
   "cell_type": "markdown",
   "metadata": {},
   "source": [
    "## Extracting features from the MovieLens dataset"
   ]
  },
  {
   "cell_type": "markdown",
   "metadata": {},
   "source": [
    "* Extracting movie genre labels\n",
    "* Training the recommendation model\n",
    "* Normalization"
   ]
  },
  {
   "cell_type": "code",
   "execution_count": 6,
   "metadata": {
    "collapsed": true
   },
   "outputs": [],
   "source": [
    "val movies = sc.textFile(\"ml-100k/u.item\")"
   ]
  },
  {
   "cell_type": "code",
   "execution_count": 7,
   "metadata": {
    "collapsed": false
   },
   "outputs": [
    {
     "name": "stdout",
     "output_type": "stream",
     "text": [
      "1|Toy Story (1995)|01-Jan-1995||http://us.imdb.com/M/title-exact?Toy%20Story%20(1995)|0|0|0|1|1|1|0|0|0|0|0|0|0|0|0|0|0|0|0\n"
     ]
    }
   ],
   "source": [
    "println(movies.first)"
   ]
  },
  {
   "cell_type": "markdown",
   "metadata": {},
   "source": [
    "### Extracting movie genre labels"
   ]
  },
  {
   "cell_type": "code",
   "execution_count": 8,
   "metadata": {
    "collapsed": true
   },
   "outputs": [],
   "source": [
    "val genres = sc.textFile(\"ml-100k/u.genre\")"
   ]
  },
  {
   "cell_type": "code",
   "execution_count": 9,
   "metadata": {
    "collapsed": false
   },
   "outputs": [
    {
     "name": "stdout",
     "output_type": "stream",
     "text": [
      "unknown|0\n",
      "Action|1\n",
      "Adventure|2\n",
      "Animation|3\n",
      "Children's|4\n"
     ]
    }
   ],
   "source": [
    "genres.take(5).foreach(println)"
   ]
  },
  {
   "cell_type": "code",
   "execution_count": 10,
   "metadata": {
    "collapsed": true
   },
   "outputs": [],
   "source": [
    "val genreMap = genres.filter(!_.isEmpty).map(line => line. split(\"\\\\|\")).map(array => (array(1), array(0))).collectAsMap"
   ]
  },
  {
   "cell_type": "code",
   "execution_count": 11,
   "metadata": {
    "collapsed": false
   },
   "outputs": [
    {
     "name": "stdout",
     "output_type": "stream",
     "text": [
      "Map(2 -> Adventure, 5 -> Comedy, 12 -> Musical, 15 -> Sci-Fi, 8 -> Drama, 18 -> Western, 7 -> Documentary, 17 -> War, 1 -> Action, 4 -> Children's, 11 -> Horror, 14 -> Romance, 6 -> Crime, 0 -> unknown, 9 -> Fantasy, 16 -> Thriller, 3 -> Animation, 10 -> Film-Noir, 13 -> Mystery)\n"
     ]
    }
   ],
   "source": [
    "println(genreMap)"
   ]
  },
  {
   "cell_type": "code",
   "execution_count": 12,
   "metadata": {
    "collapsed": false
   },
   "outputs": [],
   "source": [
    "val titlesAndGenres = movies.map(_.split(\"\\\\|\")).map { array =>\n",
    "     val genres = array.toSeq.slice(5, array.size)\n",
    "     val genresAssigned = genres.zipWithIndex.filter { case (g, idx)\n",
    "     =>\n",
    "       g == \"1\"\n",
    "     }.map { case (g, idx) =>\n",
    "       genreMap(idx.toString)\n",
    "     }\n",
    "     (array(0).toInt, (array(1), genresAssigned))\n",
    "   }"
   ]
  },
  {
   "cell_type": "code",
   "execution_count": 13,
   "metadata": {
    "collapsed": false
   },
   "outputs": [
    {
     "name": "stdout",
     "output_type": "stream",
     "text": [
      "(1,(Toy Story (1995),ArrayBuffer(Animation, Children's, Comedy)))\n"
     ]
    }
   ],
   "source": [
    "println(titlesAndGenres.first)"
   ]
  },
  {
   "cell_type": "markdown",
   "metadata": {},
   "source": [
    "### Training the recommendation model"
   ]
  },
  {
   "cell_type": "code",
   "execution_count": 14,
   "metadata": {
    "collapsed": true
   },
   "outputs": [],
   "source": [
    "import org.apache.spark.mllib.recommendation.ALS\n",
    "import org.apache.spark.mllib.recommendation.Rating\n",
    "val rawData = sc.textFile(\"ml-100k/u.data\")\n",
    "val rawRatings = rawData.map(_.split(\"\\t\").take(3))\n",
    "val ratings = rawRatings.map{ case Array(user, movie, rating) => Rating(user.toInt, movie.toInt, rating.toDouble) }\n",
    "ratings.cache\n",
    "val alsModel = ALS.train(ratings, 50, 10, 0.1)"
   ]
  },
  {
   "cell_type": "code",
   "execution_count": 15,
   "metadata": {
    "collapsed": true
   },
   "outputs": [],
   "source": [
    "import org.apache.spark.mllib.linalg.Vectors\n",
    "val movieFactors = alsModel.productFeatures.map { case (id, factor) => (id, Vectors.dense(factor)) }\n",
    "val movieVectors = movieFactors.map(_._2)\n",
    "val userFactors = alsModel.userFeatures.map { case (id, factor) => (id, Vectors.dense(factor)) }\n",
    "val userVectors = userFactors.map(_._2)"
   ]
  },
  {
   "cell_type": "markdown",
   "metadata": {},
   "source": [
    "### Normalization"
   ]
  },
  {
   "cell_type": "code",
   "execution_count": 16,
   "metadata": {
    "collapsed": false
   },
   "outputs": [
    {
     "name": "stdout",
     "output_type": "stream",
     "text": [
      "Movie factors mean: [0.20789576878673827,-0.1218642314985826,-0.08050077987566967,0.07875341160286595,0.03130059086048734,-0.17394223160805616,0.27811477528867007,-0.1147974188467822,0.48425019720189455,-0.010162416832331846,0.02780273325699798,-0.029333127912586705,0.002269696770613964,-0.126404266095983,0.23410194056932715,-0.27416059304200485,0.3412157869899644,0.13145729997521985,-0.20346040224647674,-0.417533289718383,0.07048275645402653,-0.16785782941356098,0.022321968114607554,-0.024652617382200193,-0.12933346180310487,0.11004002792496512,-0.013093729829460665,-0.09579578037552726,0.32819452849369735,0.12809119179121456,-0.30179630431435733,-0.2102948194374519,-0.3346491788915079,0.48234844468680715,0.17666643892854142,-0.1846671476193655,0.018568612051423895,-0.10691549152841391,-0.2899559200445816,0.21883869892817648,0.23024444699992483,-0.08566829466179592,-0.1909448688106259,0.011998112661985923,0.1595211027318184,-0.2589499515216911,0.16105921011794508,0.10893434958360669,0.08333522645312884,0.17752541143701664]\n",
      "Movie factors variance: [0.02959632515730502,0.02866824272130712,0.02413514176240636,0.029410834679530904,0.030369536822775437,0.03781983177250416,0.04795640692067656,0.025242729871852512,0.03958975297628005,0.02780554320892754,0.03704196980768807,0.03641587857225547,0.024436511258194477,0.03118777222314223,0.03586209556824579,0.032395708029780375,0.031476098557531015,0.024403084615808188,0.049261138732267375,0.046289813311277385,0.02521412539126045,0.04105408329221739,0.033220717000796596,0.032407196852091306,0.04177073107530281,0.03234422529398304,0.0356881842840057,0.025663676335627154,0.03990634301160229,0.03835194317683254,0.037923385848435444,0.026201161467323382,0.032874337385738375,0.03595712536702532,0.03557048265074859,0.02997071339134741,0.024539829252953244,0.02859270316486203,0.02819030061870405,0.034618233553459034,0.030574688598000267,0.03395140788350833,0.030444629528652692,0.0360551498135309,0.03976239474538087,0.03813423505241456,0.02571811312115873,0.024956734191809937,0.030297498001118355,0.030506909374683214]\n",
      "User factors mean: [0.24239426144213067,-0.14499133988712576,-0.07362247897231464,0.1170615264524317,0.03398988412508951,-0.26262634342747665,0.42382424796053936,-0.13499492749510292,0.6462258020939834,-0.023776852924135134,0.06288832368945252,-0.052247278005045694,0.00661595231163375,-0.2042038875655074,0.323402145515766,-0.37148657001989266,0.497846968716933,0.19585467937939693,-0.29727290473986534,-0.5620299250614352,0.07036830305849219,-0.25690841591067126,0.04507876896259731,-0.056257202646281264,-0.17778895325536023,0.1160708861446506,0.014503390740498945,-0.09758373093155528,0.381311425676126,0.15372311418958554,-0.38150901041978275,-0.2606267546727504,-0.4543174132934973,0.6452269937689017,0.23882457760711026,-0.25814222329510855,0.031045274801904374,-0.13170894159781676,-0.3958812764415436,0.32764376028348174,0.3358223486167287,-0.10590357214014214,-0.30175382327283456,0.02351780616788741,0.25993402911956753,-0.2690051045765484,0.24700443736259053,0.19756029751308585,0.11778096141605857,0.22891183206052004]\n",
      "User factors variance: [0.03328108301296326,0.032400037614739134,0.03225682998964952,0.033399196629732994,0.038744834724388645,0.03484816589067831,0.04358322811900119,0.026697206329281832,0.0463325683352627,0.03090142385188155,0.044540799218290246,0.03930981669297224,0.028867392654984492,0.0432260602035287,0.047204587540567756,0.03771309172693937,0.034617045419644624,0.03081301130486577,0.04392728658585461,0.038375085971054886,0.035430676946657,0.046527990784181836,0.04052627419336905,0.03938149220620512,0.04853483972359621,0.031366381132478416,0.04049560770775189,0.03547330460699501,0.039893382138976835,0.03565391262933179,0.036718908250881636,0.029017838667405267,0.033749028169394304,0.033203825442707495,0.03547365393683819,0.03072491517263314,0.03372853537975756,0.036525167354086244,0.03674253232979937,0.04265390853968256,0.030435444756812202,0.037346142392554446,0.027782112810340296,0.03587759858576915,0.04598747888905343,0.04302327803045195,0.03383916089631274,0.02949241295577929,0.037849771001336796,0.033112477096333144]\n"
     ]
    }
   ],
   "source": [
    "import org.apache.spark.mllib.linalg.distributed.RowMatrix\n",
    "val movieMatrix = new RowMatrix(movieVectors)\n",
    "val movieMatrixSummary =\n",
    "   movieMatrix.computeColumnSummaryStatistics()\n",
    "val userMatrix = new RowMatrix(userVectors)\n",
    "val userMatrixSummary =\n",
    "   userMatrix.computeColumnSummaryStatistics()\n",
    "\n",
    "println(\"Movie factors mean: \" + movieMatrixSummary.mean)\n",
    "println(\"Movie factors variance: \" + movieMatrixSummary.variance)\n",
    "println(\"User factors mean: \" + userMatrixSummary.mean)\n",
    "println(\"User factors variance: \" + userMatrixSummary.variance)"
   ]
  },
  {
   "cell_type": "markdown",
   "metadata": {},
   "source": [
    "# Training a clustering model"
   ]
  },
  {
   "cell_type": "markdown",
   "metadata": {},
   "source": [
    "* Training a clustering model on the MovieLens dataset"
   ]
  },
  {
   "cell_type": "markdown",
   "metadata": {},
   "source": [
    "## Training a clustering model on the MovieLens dataset"
   ]
  },
  {
   "cell_type": "code",
   "execution_count": 17,
   "metadata": {
    "collapsed": true
   },
   "outputs": [],
   "source": [
    "import org.apache.spark.mllib.clustering.KMeans\n",
    "val numClusters = 5\n",
    "val numIterations = 10\n",
    "val numRuns = 3"
   ]
  },
  {
   "cell_type": "code",
   "execution_count": 18,
   "metadata": {
    "collapsed": true
   },
   "outputs": [],
   "source": [
    "val movieClusterModel = KMeans.train(movieVectors, numClusters, \n",
    "    numIterations, numRuns)"
   ]
  },
  {
   "cell_type": "code",
   "execution_count": 19,
   "metadata": {
    "collapsed": true
   },
   "outputs": [],
   "source": [
    "val movieClusterModelConverged = KMeans.train(movieVectors, \n",
    "    numClusters, 100)"
   ]
  },
  {
   "cell_type": "code",
   "execution_count": 20,
   "metadata": {
    "collapsed": true
   },
   "outputs": [],
   "source": [
    "val userClusterModel = KMeans.train(userVectors, numClusters,\n",
    "   numIterations, numRuns)"
   ]
  },
  {
   "cell_type": "markdown",
   "metadata": {},
   "source": [
    "# Making predictions using a clustering model"
   ]
  },
  {
   "cell_type": "markdown",
   "metadata": {},
   "source": [
    "* Interpreting cluster predictions on the MovieLens dataset"
   ]
  },
  {
   "cell_type": "code",
   "execution_count": 21,
   "metadata": {
    "collapsed": false
   },
   "outputs": [
    {
     "name": "stdout",
     "output_type": "stream",
     "text": [
      "4\n"
     ]
    }
   ],
   "source": [
    "val movie1 = movieVectors.first\n",
    "val movieCluster = movieClusterModel.predict(movie1)\n",
    "println(movieCluster)"
   ]
  },
  {
   "cell_type": "code",
   "execution_count": 22,
   "metadata": {
    "collapsed": false
   },
   "outputs": [
    {
     "name": "stdout",
     "output_type": "stream",
     "text": [
      "4,4,4,2,3,2,0,3,1,0\n"
     ]
    }
   ],
   "source": [
    "val predictions = movieClusterModel.predict(movieVectors)\n",
    "println(predictions.take(10).mkString(\",\"))"
   ]
  },
  {
   "cell_type": "markdown",
   "metadata": {},
   "source": [
    "## Interpreting cluster predictions on the MovieLens dataset"
   ]
  },
  {
   "cell_type": "markdown",
   "metadata": {},
   "source": [
    "* Interpreting the movie clusters"
   ]
  },
  {
   "cell_type": "markdown",
   "metadata": {},
   "source": [
    "### Interpreting the movie clusters"
   ]
  },
  {
   "cell_type": "code",
   "execution_count": 23,
   "metadata": {
    "collapsed": true
   },
   "outputs": [],
   "source": [
    "import breeze.linalg._\n",
    "import breeze.numerics.pow\n",
    "def computeDistance(v1: DenseVector[Double], v2: DenseVector[Double])\n",
    "   = pow(v1 - v2, 2).sum"
   ]
  },
  {
   "cell_type": "code",
   "execution_count": 24,
   "metadata": {
    "collapsed": true
   },
   "outputs": [],
   "source": [
    "val titlesWithFactors = titlesAndGenres.join(movieFactors)\n",
    "val moviesAssigned = titlesWithFactors.map { case (id, ((title,\n",
    "   genres), vector)) =>\n",
    "     val pred = movieClusterModel.predict(vector)\n",
    "     val clusterCentre = movieClusterModel.clusterCenters(pred)\n",
    "     val dist = computeDistance(DenseVector(clusterCentre.toArray),\n",
    "   DenseVector(vector.toArray))\n",
    "     (id, title, genres.mkString(\" \"), pred, dist)\n",
    "   }\n",
    "val clusterAssignments = moviesAssigned.groupBy { case (id, title,\n",
    "   genres, cluster, dist) => cluster }.collectAsMap"
   ]
  },
  {
   "cell_type": "code",
   "execution_count": 25,
   "metadata": {
    "collapsed": false
   },
   "outputs": [
    {
     "name": "stdout",
     "output_type": "stream",
     "text": [
      "Cluster 0:\n",
      "(Angela (1995),Drama,0.2722493162569773)\n",
      "(Moonlight and Valentino (1995),Drama Romance,0.32607016919158377)\n",
      "(Blue Chips (1994),Drama,0.3318913159955939)\n",
      "(Outlaw, The (1943),Western,0.36948033644835687)\n",
      "(Johns (1996),Drama,0.3948319364647146)\n",
      "(Outbreak (1995),Action Drama Thriller,0.4200712768357253)\n",
      "(River Wild, The (1994),Action Thriller,0.42240423529013393)\n",
      "(Mr. Jones (1993),Drama Romance,0.4349995632989728)\n",
      "(Intimate Relations (1996),Comedy,0.44102632964306193)\n",
      "(Mr. Wonderful (1993),Comedy Romance,0.4541827549187795)\n",
      "(Air Up There, The (1994),Comedy,0.5395869522340357)\n",
      "(Wedding Bell Blues (1996),Comedy,0.5418234889672385)\n",
      "(Tainted (1998),Comedy Thriller,0.5418234889672385)\n",
      "(Next Step, The (1995),Drama,0.5418234889672385)\n",
      "(Private Benjamin (1980),Comedy,0.5546262184382943)\n",
      "(Maverick (1994),Action Comedy Western,0.5610467996096883)\n",
      "(Target (1995),Action Drama,0.5632667662491723)\n",
      "(New Jersey Drive (1995),Crime Drama,0.5673731701567497)\n",
      "(Nightwatch (1997),Horror Thriller,0.5736265156101105)\n",
      "(Courage Under Fire (1996),Drama War,0.5839324393318397)\n",
      "=====\n",
      "\n",
      "Cluster 1:\n",
      "(Machine, The (1994),Comedy Horror,0.10020010679883289)\n",
      "(Being Human (1993),Drama,0.10830562997872653)\n",
      "(Johnny 100 Pesos (1993),Action Drama,0.138196383376474)\n",
      "(Crows and Sparrows (1949),Drama,0.17992358042891896)\n",
      "(War at Home, The (1996),Drama,0.19205250979495328)\n",
      "(Amityville 1992: It's About Time (1992),Horror,0.20206625882497448)\n",
      "(Amityville: A New Generation (1993),Horror,0.20206625882497448)\n",
      "(Venice/Venice (1992),Drama,0.22337403658892216)\n",
      "(Somebody to Love (1994),Drama,0.22570375372167623)\n",
      "(Boys in Venice (1996),Drama,0.22570375372167623)\n",
      "(Falling in Love Again (1980),Comedy,0.22785900625104988)\n",
      "(Sprung (1997),Comedy,0.22826518363939005)\n",
      "(Coldblooded (1995),Action,0.2323756258684844)\n",
      "(Time Tracers (1995),Action Adventure Sci-Fi,0.24472910954956947)\n",
      "(Amityville: Dollhouse (1996),Horror,0.24533134963612926)\n",
      "(Catwalk (1995),Documentary,0.24536332000247202)\n",
      "(Gordy (1995),Comedy,0.2542433903490686)\n",
      "(Sexual Life of the Belgians, The (1994),Comedy,0.259854432843603)\n",
      "(Homage (1995),Drama,0.2635991994674181)\n",
      "(Crude Oasis, The (1995),Romance,0.2635991994674181)\n",
      "=====\n",
      "\n",
      "Cluster 2:\n",
      "(Gate of Heavenly Peace, The (1995),Documentary,0.3407831706048681)\n",
      "(Killer: A Journal of Murder (1995),Crime Drama,0.37899044392929626)\n",
      "(Wings of Courage (1995),Adventure Romance,0.3930844919020761)\n",
      "(Sunchaser, The (1996),Drama,0.4126072791771126)\n",
      "(Commandments (1997),Romance,0.4690348442101334)\n",
      "(Day the Sun Turned Cold, The (Tianguo niezi) (1994),Drama,0.5159991385382242)\n",
      "(Touch (1997),Romance,0.5341876148617996)\n",
      "(No Escape (1994),Action Sci-Fi,0.5484576682161633)\n",
      "(Bewegte Mann, Der (1994),Comedy,0.5567939759204111)\n",
      "(Mad Dog Time (1996),Crime,0.5577023620395849)\n",
      "(Faces (1968),Drama,0.5629291763332281)\n",
      "(House Party 3 (1994),Comedy,0.6089185099313884)\n",
      "(Hunted, The (1995),Action,0.6134971949989119)\n",
      "(Boys (1996),Drama,0.6337424695734266)\n",
      "(Twilight (1998),Crime Drama,0.6761557865252438)\n",
      "(Ill Gotten Gains (1997),Drama,0.6773709712307588)\n",
      "(Nowhere (1997),Drama,0.6790824477895036)\n",
      "(Cape Fear (1991),Thriller,0.6859169904312)\n",
      "(Albino Alligator (1996),Crime Thriller,0.6926668147065703)\n",
      "(Pie in the Sky (1995),Comedy Romance,0.6956429990982196)\n",
      "=====\n",
      "\n",
      "Cluster 3:\n",
      "(King of the Hill (1993),Drama,0.19472882522701618)\n",
      "(Land and Freedom (Tierra y libertad) (1995),War,0.23989954558866264)\n",
      "(Eighth Day, The (1996),Drama,0.23989954558866264)\n",
      "(Dadetown (1995),Documentary,0.23989954558866264)\n",
      "(Big One, The (1997),Comedy Documentary,0.23989954558866264)\n",
      "(? k?ldum klaka (Cold Fever) (1994),Comedy Drama,0.23989954558866264)\n",
      "(Girls Town (1996),Drama,0.23989954558866264)\n",
      "(Silence of the Palace, The (Saimt el Qusur) (1994),Drama,0.23989954558866264)\n",
      "(Normal Life (1996),Crime Drama,0.23989954558866264)\n",
      "(Two Friends (1986) ,Drama,0.23989954558866264)\n",
      "(Hana-bi (1997),Comedy Crime Drama,0.23989954558866264)\n",
      "(I Can't Sleep (J'ai pas sommeil) (1994),Drama Thriller,0.2607316522400386)\n",
      "(All Over Me (1997),Drama,0.26808716603970945)\n",
      "(Collectionneuse, La (1967),Drama,0.269807287817502)\n",
      "(Lover's Knot (1996),Comedy,0.2883073818834061)\n",
      "(Ed's Next Move (1996),Comedy,0.31255826725501673)\n",
      "(Love and Other Catastrophes (1996),Romance,0.3247605274623979)\n",
      "(Scream of Stone (Schrei aus Stein) (1991),Drama,0.36046238557539945)\n",
      "(Price Above Rubies, A (1998),Drama,0.3621186343593092)\n",
      "(All Things Fair (1996),Drama,0.38485962894400194)\n",
      "=====\n",
      "\n",
      "Cluster 4:\n",
      "(Last Time I Saw Paris, The (1954),Drama,0.14551888773652066)\n",
      "(Substance of Fire, The (1996),Drama,0.2470401527409764)\n",
      "(Witness (1985),Drama Romance Thriller,0.27485110039329247)\n",
      "(Beans of Egypt, Maine, The (1994),Drama,0.3487861024229174)\n",
      "(Mamma Roma (1962),Drama,0.3506051940439447)\n",
      "(Cosi (1996),Comedy,0.389238167538994)\n",
      "(Wife, The (1995),Comedy Drama,0.39218188456940284)\n",
      "(Casablanca (1942),Drama Romance War,0.40081274211388335)\n",
      "(Quiz Show (1994),Drama,0.4048020311618005)\n",
      "(Vertigo (1958),Mystery Thriller,0.4203963790555907)\n",
      "(Farewell to Arms, A (1932),Romance War,0.423798531175495)\n",
      "(They Made Me a Criminal (1939),Crime Drama,0.42894852222412927)\n",
      "(Spellbound (1945),Mystery Romance Thriller,0.4389871331913348)\n",
      "(Angel and the Badman (1947),Western,0.4394283695081788)\n",
      "(African Queen, The (1951),Action Adventure Romance War,0.4478738270246839)\n",
      "(Nelly & Monsieur Arnaud (1995),Drama,0.4593437140457917)\n",
      "(Object of My Affection, The (1998),Comedy Romance,0.4619169645766755)\n",
      "(Sleepover (1995),Comedy Drama,0.4630262276109749)\n",
      "(Love Is All There Is (1996),Comedy Drama,0.4630262276109749)\n",
      "(Century (1993),Drama,0.4630262276109749)\n",
      "=====\n",
      "\n"
     ]
    }
   ],
   "source": [
    "for ( (k, v) <- clusterAssignments.toSeq.sortBy(_._1)) {\n",
    "     println(s\"Cluster $k:\")\n",
    "     val m = v.toSeq.sortBy(_._5)\n",
    "     println(m.take(20).map { case (_, title, genres, _, d) =>\n",
    "     (title, genres, d) }.mkString(\"\\n\"))\n",
    "     println(\"=====\\n\")\n",
    "}"
   ]
  },
  {
   "cell_type": "markdown",
   "metadata": {},
   "source": [
    "# Evaluating the performance of clustering models"
   ]
  },
  {
   "cell_type": "markdown",
   "metadata": {},
   "source": [
    "* Internal evaluation metrics\n",
    "* External evaluation metrics\n",
    "* Computing performance metrics on the MovieLens dataset"
   ]
  },
  {
   "cell_type": "markdown",
   "metadata": {},
   "source": [
    "## Internal evaluation metrics"
   ]
  },
  {
   "cell_type": "markdown",
   "metadata": {},
   "source": [
    "## External evaluation metrics"
   ]
  },
  {
   "cell_type": "markdown",
   "metadata": {},
   "source": [
    "## Computing performance metrics on the MovieLens dataset"
   ]
  },
  {
   "cell_type": "code",
   "execution_count": 26,
   "metadata": {
    "collapsed": false
   },
   "outputs": [
    {
     "name": "stdout",
     "output_type": "stream",
     "text": [
      "WCSS for movies: 2291.295963921779\n",
      "WCSS for users: 1489.5822206450414\n"
     ]
    }
   ],
   "source": [
    "val movieCost = movieClusterModel.computeCost(movieVectors)\n",
    "val userCost = userClusterModel.computeCost(userVectors)\n",
    "println(\"WCSS for movies: \" + movieCost)\n",
    "println(\"WCSS for users: \" + userCost)"
   ]
  },
  {
   "cell_type": "markdown",
   "metadata": {},
   "source": [
    "# Tuning parameters for clustering models"
   ]
  },
  {
   "cell_type": "markdown",
   "metadata": {},
   "source": [
    "* Selecting K through cross-validation"
   ]
  },
  {
   "cell_type": "markdown",
   "metadata": {},
   "source": [
    "## Selecting K through cross-validation"
   ]
  },
  {
   "cell_type": "code",
   "execution_count": 28,
   "metadata": {
    "collapsed": false
   },
   "outputs": [
    {
     "name": "stdout",
     "output_type": "stream",
     "text": [
      "Movie clustering cross-validation:\n",
      "WCSS for K=2 id 867.49\n",
      "WCSS for K=3 id 871.64\n",
      "WCSS for K=4 id 856.87\n",
      "WCSS for K=5 id 852.78\n",
      "WCSS for K=10 id 848.25\n",
      "WCSS for K=20 id 857.27\n"
     ]
    }
   ],
   "source": [
    "val trainTestSplitMovies = movieVectors.randomSplit(Array(0.6, 0.4),\n",
    "   123)\n",
    "val trainMovies = trainTestSplitMovies(0)\n",
    "val testMovies = trainTestSplitMovies(1)\n",
    "val costsMovies = Seq(2, 3, 4, 5, 10, 20).map { k => (k, KMeans.\n",
    "   train(trainMovies, numIterations, k, numRuns).computeCost(testMovies))\n",
    "   }\n",
    "println(\"Movie clustering cross-validation:\")\n",
    "costsMovies.foreach { case (k, cost) => \n",
    "    println(f\"WCSS for K=$k id $cost%2.2f\") }"
   ]
  },
  {
   "cell_type": "code",
   "execution_count": 29,
   "metadata": {
    "collapsed": false
   },
   "outputs": [
    {
     "name": "stdout",
     "output_type": "stream",
     "text": [
      "User clustering cross-validation:\n",
      "WCSS for K=2 id 577.85\n",
      "WCSS for K=3 id 569.65\n",
      "WCSS for K=4 id 567.82\n",
      "WCSS for K=5 id 570.76\n",
      "WCSS for K=10 id 569.52\n",
      "WCSS for K=20 id 572.66\n"
     ]
    }
   ],
   "source": [
    "val trainTestSplitUsers = userVectors.randomSplit(Array(0.6, 0.4),\n",
    "   123)\n",
    "val trainUsers = trainTestSplitUsers(0)\n",
    "val testUsers = trainTestSplitUsers(1)\n",
    "val costsUsers = Seq(2, 3, 4, 5, 10, 20).map { k => (k,\n",
    "   KMeans.train(trainUsers, numIterations, k,\n",
    "   numRuns).computeCost(testUsers)) }\n",
    "println(\"User clustering cross-validation:\")\n",
    "costsUsers.foreach { case (k, cost) => \n",
    "    println(f\"WCSS for K=$k id $cost%2.2f\") }"
   ]
  },
  {
   "cell_type": "markdown",
   "metadata": {},
   "source": [
    "# Summary"
   ]
  },
  {
   "cell_type": "markdown",
   "metadata": {},
   "source": [
    "# 참고자료"
   ]
  },
  {
   "cell_type": "markdown",
   "metadata": {},
   "source": [
    "* [1] book - https://www.packtpub.com/big-data-and-business-intelligence/machine-learning-spark\n",
    "* [2] jypyter/all-spark-notebook docker - https://hub.docker.com/r/jupyter/all-spark-notebook/"
   ]
  }
 ],
 "metadata": {
  "kernelspec": {
   "display_name": "Scala 2.11",
   "language": "scala",
   "name": "scala-2.11"
  },
  "language_info": {
   "codemirror_mode": "text/x-scala",
   "file_extension": "scala",
   "mimetype": "text/x-scala",
   "name": "scala"
  }
 },
 "nbformat": 4,
 "nbformat_minor": 0
}
