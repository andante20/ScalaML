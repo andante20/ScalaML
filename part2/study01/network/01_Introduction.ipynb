{
 "cells": [
  {
   "cell_type": "code",
   "execution_count": null,
   "metadata": {
    "collapsed": true
   },
   "outputs": [],
   "source": [
    "INTRODUCTION"
   ]
  },
  {
   "cell_type": "code",
   "execution_count": null,
   "metadata": {
    "collapsed": true
   },
   "outputs": [],
   "source": [
    "<img src=\"figures/fig1.1.png\" width=600 />\n",
    "<img src=\"figures/fig1.2.png\" width=600 />\n",
    "<img src=\"figures/fig1.3.png\" width=600 />\n",
    "<img src=\"figures/fig1.4.png\" width=600 />\n",
    "<img src=\"figures/fig1.5.1.png\" width=600 />\n",
    "<img src=\"figures/fig1.5.2.png\" width=600 />\n",
    "<img src=\"figures/fig1.6.1.png\" width=600 />\n",
    "<img src=\"figures/fig1.6.2.png\" width=600 />\n",
    "<img src=\"figures/on1.1.png\" width=600 />\n",
    "<img src=\"figures/fig1.7.a.png\" width=600 />\n",
    "<img src=\"figures/fig1.7.b.png\" width=600 />\n",
    "<img src=\"figures/fig1.7.cd.png\" width=600 />\n",
    "<img src=\"figures/fig1.8.png\" width=600 />\n",
    "<img src=\"figures/fig1.9.1.png\" width=600 />\n",
    "<img src=\"figures/fig1.9.2.png\" width=600 />\n",
    "<img src=\"figures/fig1.10.1.png\" width=600 />\n",
    "<img src=\"figures/fig1.10.2.png\" width=600 />\n",
    "<img src=\"figures/on1.2.png\" width=600 />\n",
    "<img src=\"figures/fig1.11.png\" width=600 />\n",
    "<img src=\"figures/fig1.12.1.png\" width=600 />\n",
    "<img src=\"figures/fig1.12.2.png\" width=600 />"
   ]
  }
 ],
 "metadata": {
  "kernelspec": {
   "display_name": "Python 2",
   "language": "python",
   "name": "python2"
  },
  "language_info": {
   "codemirror_mode": {
    "name": "ipython",
    "version": 2
   },
   "file_extension": ".py",
   "mimetype": "text/x-python",
   "name": "python",
   "nbconvert_exporter": "python",
   "pygments_lexer": "ipython2",
   "version": "2.7.3"
  }
 },
 "nbformat": 4,
 "nbformat_minor": 0
}
