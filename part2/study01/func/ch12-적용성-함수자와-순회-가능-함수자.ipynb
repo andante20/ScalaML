{
 "cells": [
  {
   "cell_type": "markdown",
   "metadata": {},
   "source": [
    "chapter 12. 적용성 함수자와 순회 가능 함수자\n",
    "=========================================\n",
    "\n",
    "- 작성자: 김덕태 (2015. 10. 31.)\n"
   ]
  },
  {
   "cell_type": "markdown",
   "metadata": {},
   "source": [
    "# Category\n",
    "\n",
    "## Category (in mathematics)\n",
    "![](https://upload.wikimedia.org/wikipedia/commons/f/ff/Category_SVG.svg)\n",
    "- algebraic structure that comprises \"objects\" that are linked by \"arrows\"\n",
    "    - compose the arrows associatively and the existence of an identity arrow for each object.\n",
    "- algebra\n",
    "    - the study of mathematical symbols and the rules for manipulating these symbols\n",
    "    - includes everything from elementary equation solving to the study of abstractions such as groups, rings, and fields.\n",
    "- a kind group-like structures\n",
    "- Virtually every branch of modern mathematics can be described in terms of categories\n",
    "- Category C consists of\n",
    "    - ob(C): a class of objects\n",
    "    - hom(C): a class of morphisms, or arrows, or maps, between the objects. f: a → b (f is a morphism from a to b)\n",
    "    - composition of morphisms: composition of f: a → b and g: b → c is written as g ∘ f.\n",
    "    - associativity of composition: h ∘ (g ∘ f) = (h ∘ g) ∘ f\n",
    "    - identity morphism: f: a → x, g: x → b => 1<sub>x</sub> ∘ f = f, g ∘ 1<sub>x</sub> = g.\n",
    "- 각 object pair에 대하여 여러개의 다른 morphism이 가능하나 identiy morphism은 각 object에 대하여 1개만 존재함\n",
    "    - 1<sub>x</sub> ∘ 1'<sub>x</sub> = 1<sub>x</sub> = 1'<sub>x</sub>\n",
    "- examples of categories\n",
    "\n",
    "Category |\tObjects    |\tMorphisms\n",
    "---------|-----------------|----------------\n",
    "Set\t| sets\t| functions\n",
    "Grp\t| groups\t| group homomorphisms\n",
    "Ring\t| rings\t| ring homomorphisms\n",
    "Top\t| topological spaces\t| continuous functions\n",
    " Mag\t|magmas\t| magma homomorphisms\n",
    "Man<sup>p</sup>\t| smooth manifolds\t| p-times continuously differentiable maps\n",
    "Met\t| metric spaces\t| short maps\n",
    "R-Mod\t| R-modules, where R is a ring\t| R-module homomorphisms\n",
    "Uni\t| uniform spaces\t| uniformly continuous functions\n",
    "Vect<sub>k</sub> |vector spaces over the field K\t|K-linear maps\n",
    "\n",
    "\n",
    "\n",
    "## Set Category\n",
    "- set의 클래스와 이들 set간의 unary 함수들의 클래스\n",
    "- ob(C): a class of sets\n",
    "- hom(C): a class of functions. f: a → b (f is a function from a to b)\n",
    "- composition of morphisms: composition of functions\n",
    "- associativity of composition: h ∘ (g ∘ f) = (h ∘ g) ∘ f\n",
    "- identity morphism: identify function.\n"
   ]
  },
  {
   "cell_type": "markdown",
   "metadata": {},
   "source": [
    "## 타입 (Type) (in Programming Languge)\n",
    "\n",
    "### minimal definition (data type)\n",
    "- set of data\n",
    "- Ex) Int (-2147483648 to 2147483647 integer)"
   ]
  },
  {
   "cell_type": "code",
   "execution_count": 13,
   "metadata": {
    "collapsed": false
   },
   "outputs": [
    {
     "name": "stdout",
     "output_type": "stream",
     "text": [
      "3\n"
     ]
    },
    {
     "data": {
      "text/plain": [
       "\u001b[36ma\u001b[0m: \u001b[32mInt\u001b[0m = \u001b[32m3\u001b[0m"
      ]
     },
     "metadata": {},
     "output_type": "display_data"
    }
   ],
   "source": [
    "var a: Int = 0\n",
    "a = 3\n",
    "println(a)"
   ]
  },
  {
   "cell_type": "markdown",
   "metadata": {},
   "source": [
    "- 단점: 데이터 집합이 같더라도 그 데이터 집합에 대하여 사용할 수 있는 연산을 정의할 수 없다. 데이터 집합이 같아도 연산이 다르면 다른 타입이다."
   ]
  },
  {
   "cell_type": "markdown",
   "metadata": {},
   "source": [
    "#### abstract definition (data type)\n",
    "- set of data and its operations\n",
    "- Ex) Int (-2147483648 to 2147483647 integer, +, -, * , /, ...)"
   ]
  },
  {
   "cell_type": "code",
   "execution_count": 16,
   "metadata": {
    "collapsed": false
   },
   "outputs": [
    {
     "name": "stdout",
     "output_type": "stream",
     "text": [
      "7\n"
     ]
    },
    {
     "data": {
      "text/plain": [
       "\u001b[36ma\u001b[0m: \u001b[32mInt\u001b[0m = \u001b[32m3\u001b[0m\n",
       "\u001b[36mb\u001b[0m: \u001b[32mInt\u001b[0m = \u001b[32m4\u001b[0m"
      ]
     },
     "metadata": {},
     "output_type": "display_data"
    }
   ],
   "source": [
    "var a, b: Int = 0\n",
    "a = 3\n",
    "b = 4\n",
    "println(a + b)"
   ]
  },
  {
   "cell_type": "markdown",
   "metadata": {},
   "source": [
    "- 단점: 데이터 표현 및 함수 타입을 정의하지 않는다."
   ]
  },
  {
   "cell_type": "markdown",
   "metadata": {},
   "source": [
    "#### general definition (type)\n",
    "- 표현과 연산을 정의 (data type과 function type을 모두 포괄함)\n",
    "- 표현: 이름, 리터럴, 표현식의 표현 가능 범위 및 저장 표현 형식을 결정 (data type만 해당)\n",
    "- 연산: 이름, 리터럴, 표현식의 의미 및 수행할 수 있는 연산을 결정\n",
    "- Ex) Int (-2147483648 to 2147483647 32-bit integer, +, -, * , /, ...), Double(double precision floating point number, +, -, * , /, ...), +(Int, Double, Double), Int.toDouble(Int, Double)"
   ]
  },
  {
   "cell_type": "code",
   "execution_count": 22,
   "metadata": {
    "collapsed": false
   },
   "outputs": [
    {
     "name": "stdout",
     "output_type": "stream",
     "text": [
      "7.0\n",
      "7.0\n"
     ]
    },
    {
     "data": {
      "text/plain": [
       "\u001b[36ma\u001b[0m: \u001b[32mInt\u001b[0m = \u001b[32m3\u001b[0m\n",
       "\u001b[36mb\u001b[0m: \u001b[32mDouble\u001b[0m = \u001b[32m4.0\u001b[0m"
      ]
     },
     "metadata": {},
     "output_type": "display_data"
    }
   ],
   "source": [
    "var a: Int = 0\n",
    "var b: Double = 0.0\n",
    "a = 3\n",
    "b = 4\n",
    "println(a + b)\n",
    "\n",
    "println(a.toDouble + b)"
   ]
  },
  {
   "cell_type": "markdown",
   "metadata": {},
   "source": [
    "- 장점: 데이터만으로 이루어진 타입, 데이터와 연산(함수 등)을 모두 포함하는 객체의 클래스 타입, 데이터 혹은 객체 간의 연산을 정의하는 함수 타입 등을 모두 별개로 정의할 수 있므로 가장 포괄적인 정의이면서 구체적인 정의이다.\n",
    "- 단점: 하나의 타입만으로는 여러 타입 간의 연산(함수 포함)을 정의할 수 없다.\n"
   ]
  },
  {
   "cell_type": "markdown",
   "metadata": {},
   "source": [
    "#### PL에 Set category를 적용하는 방법\n",
    "- 타입 개념은 연산자를 개별 단일 타입에 대해서만 정의할 뿐 여러 타입 간의 연산자 등을 일관되게 다루기 위한 체계적인 방법이 없다.\n",
    "- PL에 Set Category를 적용하면 여러 타입과 함수들을 하나의 타입 시스템으로서 다룰 수 있다.\n",
    "- PL에 Set Category를 적용하기 위해 다음과 같이 매핑한다.\n",
    "    - ob(C): 타입과 함수들의 집합(타입 시스템). 여기서 타입은 값 타입, 클래스 타입, 함수 타입 등 PL에서의 타입을 의미한다. \n",
    "    - hom(C): PL의 함수들의 집합. n-ary 함수를 unary 함수로 표현하기 위해서는 기존 n-ary 함수를 currying 개념을 도입하여 unary 함수로 바꿔서 생각하면 된다. 이 때, ob(C)에 함수 집합이 추가된다.\n",
    "- Set category 개념은 타입의 3번째 정의(general definition)와 유사하다.\n",
    "- 예) category with binary function\n",
    "    - ob(C): { (Int, Int), Int }\n",
    "    - hom(C): { sum }\n",
    "        - sum: (Int, Int) => Int\n",
    "    - 그래픽 표현: (Int, Int) =sum=> Int"
   ]
  },
  {
   "cell_type": "code",
   "execution_count": 2,
   "metadata": {
    "collapsed": false
   },
   "outputs": [
    {
     "name": "stdout",
     "output_type": "stream",
     "text": [
      "3\n"
     ]
    },
    {
     "data": {
      "text/plain": [
       "defined \u001b[32mfunction \u001b[36msum\u001b[0m"
      ]
     },
     "metadata": {},
     "output_type": "display_data"
    }
   ],
   "source": [
    "def sum(x: Int, y: Int): Int = x + y\n",
    "println(sum(1, 2))"
   ]
  },
  {
   "cell_type": "markdown",
   "metadata": {},
   "source": [
    "- 예) category with binary function and unary function\n",
    "    - ob(C): { (Int, Int), Int, { inc = sum2(1, _), sum(2, _), sum(3, _), ... } }\n",
    "    - hom(C): { sum2 }\n",
    "        - sum2(_, _): (Int, Int) => Int\n",
    "        - inc = sum2(1, _): Int => Int\n",
    "        - sum2(2, _): Int => Int\n",
    "    - 그래픽 표현: Int =sum2(x,_)=> sum2(x,_), Int =sum2(1, _)=> Int"
   ]
  },
  {
   "cell_type": "code",
   "execution_count": 5,
   "metadata": {
    "collapsed": false
   },
   "outputs": [
    {
     "name": "stdout",
     "output_type": "stream",
     "text": [
      "3\n"
     ]
    },
    {
     "data": {
      "text/plain": [
       "defined \u001b[32mfunction \u001b[36msum2\u001b[0m\n",
       "\u001b[36minc\u001b[0m: \u001b[32mInt\u001b[0m => \u001b[32mInt\u001b[0m = <function1>"
      ]
     },
     "metadata": {},
     "output_type": "display_data"
    }
   ],
   "source": [
    "def sum2(x: Int, y: Int): Int = x + y\n",
    "val inc = sum2(1, _: Int)\n",
    "println(inc(2))\n"
   ]
  },
  {
   "cell_type": "markdown",
   "metadata": {},
   "source": [
    "- 예) category with unary function\n",
    "    - ob(C): { Int, {sum3}, {sum3(1), sum3(2), sum3(3), ...} }\n",
    "    - hom(C): { sum3, sum3(1), sum3(2), sum(3), ... }\n",
    "    - sum3: Int => (Int => Int)\n",
    "    - sum3(x): Int => Int\n",
    "    - 그래픽 표현: Int =sum3 => sum3(x), Int =sum3(x)=> Int"
   ]
  },
  {
   "cell_type": "code",
   "execution_count": 25,
   "metadata": {
    "collapsed": false
   },
   "outputs": [
    {
     "name": "stdout",
     "output_type": "stream",
     "text": [
      "3\n",
      "3\n"
     ]
    },
    {
     "data": {
      "text/plain": [
       "defined \u001b[32mfunction \u001b[36msum3\u001b[0m\n",
       "\u001b[36minc\u001b[0m: \u001b[32mInt\u001b[0m => \u001b[32mInt\u001b[0m = <function1>"
      ]
     },
     "metadata": {},
     "output_type": "display_data"
    }
   ],
   "source": [
    "def sum3(x: Int)(y: Int): Int = x + y\n",
    "println(sum3(1)(2))\n",
    "\n",
    "val inc = sum3(1)_\n",
    "println(inc(2))"
   ]
  },
  {
   "cell_type": "markdown",
   "metadata": {},
   "source": [
    "## Monoid (in mathematics)\n",
    "- can be regarded as categories with a single object\n",
    "- any algebraic structure with a single associative binary operation(결합 이진 연산) and an identity element\n",
    "- forms a small category with a single object x\n",
    "- definition\n",
    "    - ob(C): { M, I }\n",
    "    - hom(C): { μ: M ⊗ M → M, η: I → M }\n",
    "    - associative binary operation(결합 이진 연산): (M ⊗ M) ⊗ M = M ⊗ (M ⊗ M)\n",
    "    - an identity element: I ⊗ M = M ⊗ I = M\n",
    "- formal definition\n",
    "    - a monoid (or monoid object) (M, μ, η) in a monoidal category (C, ⊗, I) is an object M together with two morphisms\n",
    "        - μ: M ⊗ M → M called multiplication,\n",
    "        - η: I → M called unit,\n",
    "        - such that the pentagon diagram\n",
    "            ![](https://upload.wikimedia.org/wikipedia/commons/3/39/Monoid_multiplication.svg)\n",
    "        - and the unitor diagram\n",
    "            ![](https://upload.wikimedia.org/wikipedia/commons/a/a4/Monoid_unit_svg.svg)\n",
    "        - I is the unit element and α, λ and ρ are respectively the associativity, the left identity and the right identity of the monoidal category C.\n",
    "\n",
    "## Monoid (in Scala)\n",
    "- 결합법칙을 만족하는 이항 연산과 항등원을 갖는 하나의 타입\n",
    "- Ex) String, +, \"\"\n",
    "    - ob(C):  { String }\n",
    "    - hom(C): { +, \"\" }\n"
   ]
  },
  {
   "cell_type": "code",
   "execution_count": 2,
   "metadata": {
    "collapsed": false
   },
   "outputs": [
    {
     "name": "stdout",
     "output_type": "stream",
     "text": [
      "abcdef\n",
      "abcdef\n",
      "ab\n",
      "ab\n",
      "ab\n"
     ]
    },
    {
     "data": {
      "text/plain": []
     },
     "metadata": {},
     "output_type": "display_data"
    }
   ],
   "source": [
    "println((\"ab\" + \"cd\") + \"ef\")\n",
    "println(\"ab\" + (\"cd\" + \"ef\"))\n",
    "println(\"ab\")\n",
    "println(\"ab\" + \"\")\n",
    "println(\"\" + \"ab\")"
   ]
  },
  {
   "cell_type": "markdown",
   "metadata": {
    "collapsed": true
   },
   "source": [
    "- Ex) String, Monoid[String].op, Monoid[String].zero\n",
    "    - ob(C): { String, ... }\n",
    "    - hom(C): { Monoid[String].op, ... }\n"
   ]
  },
  {
   "cell_type": "code",
   "execution_count": 3,
   "metadata": {
    "collapsed": false
   },
   "outputs": [
    {
     "name": "stdout",
     "output_type": "stream",
     "text": [
      "abbccd\n",
      "abbccd\n",
      "ab\n",
      "ab\n",
      "ab\n"
     ]
    },
    {
     "data": {
      "text/plain": [
       "defined \u001b[32mtrait \u001b[36mMonoid\u001b[0m\n",
       "\u001b[36mstringMonoid\u001b[0m: \u001b[32mAnyRef\u001b[0m with \u001b[32m$user\u001b[0m.\u001b[32mMonoid\u001b[0m[\u001b[32mString\u001b[0m] = cmd2$$user$$anonfun$7$$anon$1@13196e3"
      ]
     },
     "metadata": {},
     "output_type": "display_data"
    }
   ],
   "source": [
    "trait Monoid[A] {\n",
    "    def op(a1: A, a2: A): A\n",
    "    def zero: A\n",
    "}\n",
    "\n",
    "val stringMonoid = new Monoid[String] {\n",
    "    def op(a1: String, a2: String) = a1 + a2\n",
    "    def zero = \"\"\n",
    "}\n",
    "\n",
    "println(stringMonoid.op(stringMonoid.op(\"ab\", \"bc\"), \"cd\"))\n",
    "println(stringMonoid.op(\"ab\", stringMonoid.op(\"bc\", \"cd\")))\n",
    "println(\"ab\")\n",
    "println(stringMonoid.op(\"ab\", stringMonoid.zero))\n",
    "println(stringMonoid.op(stringMonoid.zero, \"ab\"))"
   ]
  },
  {
   "cell_type": "markdown",
   "metadata": {},
   "source": [
    "# Functor\n",
    "\n",
    "# 타입 계층\n",
    "- 함수자 (functor)\n",
    "- 적용성 함수자 (applicative functor)\n",
    "- 모나드 (monad)\n",
    "\n",
    "\n"
   ]
  },
  {
   "cell_type": "markdown",
   "metadata": {},
   "source": [
    "\n",
    "## Functor (in mathematics)\n",
    "- a type of mapping between categories which preserve identity morphisms and composition of morphisms.\n",
    "- thought of as homomorphisms between categories\n",
    "- other definition(in computer): function object used to pass function pointers along with its state \n",
    "- formal definition\n",
    "    - Let C and D be categories.\n",
    "    - A functor F from C to D is a mapping that\n",
    "    - associates to each object $X \\in C$ an object $F(X) \\in D$,\n",
    "    - associates to each morphism $f: X \\rightarrow Y \\in C$ a morphism $F(f):F(X) \\rightarrow F(Y) \\in D$ such that the following two conditions hold:\n",
    "      - $F(\\mathrm{id}_{X}) = \\mathrm{id}_{F(X)}\\,\\!$ for every object $X \\in C$\n",
    "      - $F(g \\circ f) = F(g) \\circ F(f)$ for all morphisms $f:X \\rightarrow Y\\,\\!$ and $g:Y\\rightarrow Z.\\,\\!$\n"
   ]
  },
  {
   "cell_type": "markdown",
   "metadata": {},
   "source": [
    "## Functor (in PL)\n",
    "- Functor는 개별 타입간 매핑이 아니라 여러개의 관련된 타입(타입 시스템)들을 일관되게 매핑시키는 타입 시스템 매핑이다.\n",
    "- generic class 개념은 여러 타입(클래스)을 일관된 방식으로 매핑시키기 위해서 Functor에서 유용한 개념이다.\n",
    "- 2 examples\n",
    "    - $A \\rightarrow G[A], B \\rightarrow G[B], A => B \\rightarrow G[A] => G[B]$\n",
    "    - $A \\rightarrow G1[A], B \\rightarrow G2[B], A => B \\rightarrow G1[A] => G2[B]$\n"
   ]
  },
  {
   "cell_type": "markdown",
   "metadata": {},
   "source": [
    "## Functor (in Scala)\n",
    "- 함수자 정의"
   ]
  },
  {
   "cell_type": "code",
   "execution_count": 6,
   "metadata": {
    "collapsed": false
   },
   "outputs": [
    {
     "data": {
      "text/plain": [
       "defined \u001b[32mtrait \u001b[36mFunctor\u001b[0m\n",
       "defined \u001b[32mobject \u001b[36mlistFunctor\u001b[0m\n",
       "\u001b[36mres5_2\u001b[0m: \u001b[32mList\u001b[0m[\u001b[32mInt\u001b[0m] = \u001b[33mList\u001b[0m(\u001b[32m3\u001b[0m, \u001b[32m5\u001b[0m, \u001b[32m7\u001b[0m)\n",
       "defined \u001b[32mfunction \u001b[36mid_int\u001b[0m\n",
       "\u001b[36mres5_4\u001b[0m: \u001b[32mList\u001b[0m[\u001b[32mInt\u001b[0m] = \u001b[33mList\u001b[0m(\u001b[32m1\u001b[0m, \u001b[32m3\u001b[0m, \u001b[32m5\u001b[0m)\n",
       "defined \u001b[32mfunction \u001b[36mf\u001b[0m\n",
       "defined \u001b[32mfunction \u001b[36mg\u001b[0m\n",
       "\u001b[36mres5_7\u001b[0m: \u001b[32mList\u001b[0m[\u001b[32mInt\u001b[0m] = \u001b[33mList\u001b[0m(\u001b[32m30\u001b[0m, \u001b[32m50\u001b[0m, \u001b[32m70\u001b[0m)\n",
       "\u001b[36mres5_8\u001b[0m: \u001b[32mList\u001b[0m[\u001b[32mInt\u001b[0m] = \u001b[33mList\u001b[0m(\u001b[32m30\u001b[0m, \u001b[32m50\u001b[0m, \u001b[32m70\u001b[0m)\n",
       "\u001b[36mres5_9\u001b[0m: \u001b[32mList\u001b[0m[\u001b[32mInt\u001b[0m] = \u001b[33mList\u001b[0m(\u001b[32m12\u001b[0m, \u001b[32m32\u001b[0m, \u001b[32m52\u001b[0m)"
      ]
     },
     "metadata": {},
     "output_type": "display_data"
    }
   ],
   "source": [
    "trait Functor[F[_]] {\n",
    "  def map[A,B](fa: F[A])(f: A => B): F[B]\n",
    "  // ...\n",
    "}\n",
    "\n",
    "object listFunctor extends Functor[List] {\n",
    "  def map[A,B](fa: List[A])(f: A => B): List[B] = fa.map(f)\n",
    "}\n",
    "\n",
    "listFunctor.map(List(1, 3, 5))(_ + 2)\n",
    "\n",
    "// preserving identity morphism\n",
    "def id_int(x: Int) = x\n",
    "listFunctor.map(List(1, 3, 5))(id_int)\n",
    "\n",
    "// preserving composition of morphisms\n",
    "def f(x: Int) = x + 2\n",
    "def g(x: Int) = x * 10\n",
    "listFunctor.map(List(1, 3, 5))(x => g(f(x)))\n",
    "listFunctor.map(listFunctor.map(List(1, 3, 5))(f))(g)\n",
    "listFunctor.map(listFunctor.map(List(1, 3, 5))(g))(f)"
   ]
  },
  {
   "cell_type": "markdown",
   "metadata": {},
   "source": [
    "    - pure function\n",
    "    - category C\n",
    "        - a class of object: _ (Int, Double, ...)\n",
    "        - a class of morphisms: f: A => B (suitable functions)\n",
    "    - category D: F[_](F[Int], F[Double], ...), map(f)\n",
    "        - a class of object: F[_](F[Int], F[Double], ...)\n",
    "        - a class of morphisms: map(f): F[A] = F[B]\n",
    "    - mapping between categories: map[A,B](...)\n",
    "        - object mapping: Int => F[Int], Double => F[Double], ...\n",
    "        - morphism mapping: f => F(f)\n",
    "        - f 함수를 map(f) 함수로 매핑\n",
    "    - preserving identity morphisms\n",
    "        - map(v)(id) == v\n",
    "    - preserving composition of morphisms\n",
    "        - map(map(v)(g))(f) == map(v)(f compose g)\n"
   ]
  },
  {
   "cell_type": "code",
   "execution_count": null,
   "metadata": {
    "collapsed": true
   },
   "outputs": [],
   "source": [
    "- 더 일반적인 함수자 정의"
   ]
  },
  {
   "cell_type": "code",
   "execution_count": 25,
   "metadata": {
    "collapsed": false
   },
   "outputs": [
    {
     "data": {
      "text/plain": [
       "defined \u001b[32mtrait \u001b[36mGFunctor\u001b[0m"
      ]
     },
     "metadata": {},
     "output_type": "display_data"
    }
   ],
   "source": [
    "trait GFunctor[F[_], G[_]] {\n",
    "  def map[A,B](fa: F[A])(f: A => B): G[B]\n",
    "  // ...\n",
    "}\n"
   ]
  },
  {
   "cell_type": "markdown",
   "metadata": {},
   "source": [
    "# Monad\n",
    "\n",
    "## Monad (in mathematics)\n",
    "- an endofunctor (a functor mapping a category to itself), together with two natural transformations.\n",
    "- formal definition\n",
    "    - If C is a category, a monad on C consists of an endofunctor $T \\colon C \\to C$ together with two natural transformations: $\\eta \\colon 1_{C} \\to T$ (where $1_{C}$ denotes the identity functor on C) and $\\mu \\colon T^{2} \\to T$ (where $T^{2}$ is the functor $T \\circ T$ from C to C). These are required to fulfill the following conditions (sometimes called coherence conditions):\n",
    "\n",
    "    - $\\mu \\circ T\\mu = \\mu \\circ \\mu T$ (as natural transformations $T^{3} \\to T$);\n",
    "    - $\\mu \\circ T \\eta = \\mu \\circ \\eta T = 1_{T}$ (as natural transformations $T \\to T$; here $1_{T}$ denotes the identity transformation from T to T).\n",
    "- We can rewrite these conditions using following commutative diagrams:\n",
    "![](https://upload.wikimedia.org/wikipedia/commons/2/28/Coherence_law_for_the_multiplication_of_a_monad.svg)\n",
    "- or commutative diagrams not using $T \\mu$, $\\mu T$ notation\n",
    "![](https://upload.wikimedia.org/wikipedia/commons/2/2b/Monad_multiplication_explicit.svg)\n",
    "- The first axiom is akin to the associativity in monoids, the second axiom to the existence of an identity element. \n"
   ]
  },
  {
   "cell_type": "markdown",
   "metadata": {},
   "source": [
    "## Monad (in Functional Programming)\n",
    "- used in functional programming to express types of sequential computation (sometimes with side-effects)\n",
    "- allows the programmer to build pipelines that process data in steps, in which each action is decorated with additional processing rules provided by the monad\n",
    "- also be seen as a functional design pattern to build generic types\n",
    "- Many common programming concepts can be described in terms of a monad structure, including side effects such as input/output, variable assignment, exception handling, parsing, nondeterminism, concurrency, and continuations in in a purely functional manner.\n",
    "- Formally, a monad consists of a type constructor M and two operations, bind and return (where return is often also called unit)\n",
    "    - return operation: takes a value from a plain type and puts it into a monadic container using the constructor, creating a monadic value.\n",
    "    - bind operation: takes as its arguments a monadic value and a function from a plain type to a monadic value, and returns a new monadic value\n",
    "\n",
    "#### Formal defintion\n",
    "- A monad is a construction that, given an underlying type system, embeds a corresponding type system (called the monadic type system) into it (that is, each monadic type acts as the underlying type). This monadic type system preserves all significant aspects of the underlying type system, while adding features particular to the monad.\n",
    "- The usual formulation of a monad for programming is known as a Kleisli triple, and has the following components:\n",
    "    - A type constructor that defines, for every underlying type, how to obtain a corresponding monadic type. In Haskell's notation, the name of the monad represents the type constructor. If M is the name of the monad and t is a data type, then M t is the corresponding type in the monad.\n",
    "    - A unit function that injects a value in an underlying type to a value in the corresponding monadic type. The unit function has the polymorphic type t→M t. The result is normally the \"simplest\" value in the corresponding type that completely preserves the original value (simplicity being understood appropriately to the monad). In Haskell, this function is called return due to the way it is used in the do-notation described later.\n",
    "    - A binding operation of polymorphic type (M t)→(t→M u)→(M u), which Haskell represents by the infix operator >>=. Its first argument is a value in a monadic type, its second argument is a function that maps from the underlying type of the first argument to another monadic type, and its result is in that other monadic type. Typically, the binding operation can be understood as having four stages:\n",
    "        - The monad-related structure on the first argument is \"pierced\" to expose any number of values in the underlying type t.\n",
    "        - The given function is applied to all of those values to obtain values of type (M u).\n",
    "        - The monad-related structure on those values is also pierced, exposing values of type u.\n",
    "        - Finally, the monad-related structure is reassembled over all of the results, giving a single value of type (M u).\n",
    "- Given a type constructor M, in most contexts, a value of type M a can be thought of as an action that returns a value of type a. The return operation takes a value from a plain type a and puts it into a monadic container of type M a; the bind operation chains a monadic value of type M a with a function of type a → M b to create a monadic value of type M b.\n",
    "\n",
    "#### Monad laws\n",
    "- For a monad to behave correctly, the definitions must obey a few axioms, together called the monad laws.[11] The ≡ symbol indicates equivalence between two Haskell expressions in the following text.\n",
    "    - return acts approximately as a neutral element of >>=, in that:\n",
    "        - (return x) >>= f ≡ f x\n",
    "        - m >>= return ≡ m\n",
    "    - Binding two functions in succession is the same as binding one function that can be determined from them:\n",
    "        - (m >>= f) >>= g ≡ m >>= ( \\x -> (f x >>= g) )\n",
    "- The axioms can also be expressed using expressions in do-block style:\n",
    "    - do { f x } ≡ do { v <- return x; f v }\n",
    "    - do { m } ≡ do { v <- m; return v }\n",
    "    - do { x <- m; y <- f x; g y } ≡ do { y <- do { x <- m; f x }; g y }\n",
    "- or using the monadic composition operator, (f >=> g) x = (f x) >>= g:\n",
    "    - return >=> g ≡ g\n",
    "    - p>=> return ≡ f\n",
    "    - (f >=> g) >=> h ≡ f >=> (g >=> h)\n",
    "\n",
    "#### fmap and join\n",
    "\n",
    "#### Additive monads \n"
   ]
  },
  {
   "cell_type": "markdown",
   "metadata": {},
   "source": [
    "## Monad (in Scala)\n",
    "- 함수자 법칙"
   ]
  },
  {
   "cell_type": "markdown",
   "metadata": {},
   "source": [
    "\n",
    "- 결합법칙\n",
    "    - op(a, op(b, c) == op(op(a, b), c)\n",
    "- 다음 세 집합중 하나의 구현 제공\n",
    "    - unit과 flatMp\n",
    "    - unit과 compose\n",
    "    - unit, map, join\n"
   ]
  },
  {
   "cell_type": "markdown",
   "metadata": {},
   "source": [
    "# 적용성 함수자 법칙\n",
    "- 함수자 법칙\n",
    "    - functor\n",
    "    - distribute\n",
    "    - codistribute\n",
    "- 왼쪽, 오른쪽 항등 법칙\n",
    "    - map(v)(identity) == v\n",
    "    - map(map(v)(g))(f) == map(v)(f compose g)\n",
    "\n",
    "- 결합법칙\n",
    "    - op(a, op(b, c) == op(op(a, b), c)\n",
    "    - compose(f, op(g, h)) = compose(compose(f, g), h)\n",
    "    - 임의 갯수의 F[X] 인자들에 대하여 F[D]를 반환하는 함수는 기본 functor들을 임의 순서로 적용할 수 있으므로 계산 순서에 따른 별도 함수 버전을 필요없게 한다.\n"
   ]
  },
  {
   "cell_type": "code",
   "execution_count": 12,
   "metadata": {
    "collapsed": false
   },
   "outputs": [
    {
     "ename": "",
     "evalue": "",
     "output_type": "error",
     "traceback": [
      "\u001b[31m<console>:1: '=' expected but eof found.",
      "def map3[A, B, C, D] (fa: F[A], fb: F[B], fc: F[C])(f: (A, B, C) => D): F[D]",
      "                                                                            ^\u001b[0m"
     ]
    }
   ],
   "source": [
    "def map3[A, B, C, D] (fa: F[A], fb: F[B], fc: F[C])(f: (A, B, C) => D): F[D]"
   ]
  },
  {
   "cell_type": "markdown",
   "metadata": {},
   "source": [
    "- 곱의 자연성 법칙\n",
    "     - homomorphic?\n"
   ]
  },
  {
   "cell_type": "code",
   "execution_count": 12,
   "metadata": {
    "collapsed": false
   },
   "outputs": [
    {
     "ename": "",
     "evalue": "",
     "output_type": "error",
     "traceback": [
      "Compilation Failed",
      "\u001b[31mMain.scala:58: not found: value map2",
      "map2(a, b)(productF(f, g)) == product(map(a)(f), map(b)(g))",
      "^\u001b[0m",
      "\u001b[31mMain.scala:58: not found: value a",
      "map2(a, b)(productF(f, g)) == product(map(a)(f), map(b)(g))",
      "     ^\u001b[0m",
      "\u001b[31mMain.scala:58: not found: value b",
      "map2(a, b)(productF(f, g)) == product(map(a)(f), map(b)(g))",
      "        ^\u001b[0m",
      "\u001b[31mMain.scala:58: not found: value f",
      "map2(a, b)(productF(f, g)) == product(map(a)(f), map(b)(g))",
      "                    ^\u001b[0m",
      "\u001b[31mMain.scala:58: not found: value g",
      "map2(a, b)(productF(f, g)) == product(map(a)(f), map(b)(g))",
      "                       ^\u001b[0m",
      "\u001b[31mMain.scala:55: not found: type F",
      "                def product[A, B](fa: F[A], fb: F[B]): F[(A, B)] =",
      "                                                       ^\u001b[0m",
      "\u001b[31mMain.scala:55: not found: type F",
      "                def product[A, B](fa: F[A], fb: F[B]): F[(A, B)] =",
      "                                      ^\u001b[0m",
      "\u001b[31mMain.scala:55: not found: type F",
      "                def product[A, B](fa: F[A], fb: F[B]): F[(A, B)] =",
      "                                                ^\u001b[0m",
      "\u001b[31mMain.scala:58: not found: value map",
      "map2(a, b)(productF(f, g)) == product(map(a)(f), map(b)(g))",
      "                                      ^\u001b[0m",
      "\u001b[31mMain.scala:58: not found: value a",
      "map2(a, b)(productF(f, g)) == product(map(a)(f), map(b)(g))",
      "                                          ^\u001b[0m",
      "\u001b[31mMain.scala:58: not found: value f",
      "map2(a, b)(productF(f, g)) == product(map(a)(f), map(b)(g))",
      "                                             ^\u001b[0m",
      "\u001b[31mMain.scala:58: not found: value map",
      "map2(a, b)(productF(f, g)) == product(map(a)(f), map(b)(g))",
      "                                                 ^\u001b[0m",
      "\u001b[31mMain.scala:58: not found: value b",
      "map2(a, b)(productF(f, g)) == product(map(a)(f), map(b)(g))",
      "                                                     ^\u001b[0m",
      "\u001b[31mMain.scala:58: not found: value g",
      "map2(a, b)(productF(f, g)) == product(map(a)(f), map(b)(g))",
      "                                                        ^\u001b[0m",
      "\u001b[31mMain.scala:56: not found: value map2",
      "    map2(fa, fb)((_,_)) ; def productF[I, O, I2, O2](f: I => O, g: I2 => O2): (I, I2) => (O, O2) =",
      "    ^\u001b[0m"
     ]
    }
   ],
   "source": [
    "def product[A, B](fa: F[A], fb: F[B]): F[(A, B)] =\n",
    "    map2(fa, fb)((_,_))\n",
    "\n",
    "\n",
    "def productF[I, O, I2, O2](f: I => O, g: I2 => O2): (I, I2) => (O, O2) =\n",
    "    (i, i2) => (f(i), g(i2))\n",
    "\n",
    "map2(a, b)(productF(f, g)) == product(map(a)(f), map(b)(g))\n"
   ]
  },
  {
   "cell_type": "code",
   "execution_count": 14,
   "metadata": {
    "collapsed": false
   },
   "outputs": [
    {
     "data": {
      "text/plain": [
       "defined \u001b[32mtrait \u001b[36mApplicative\u001b[0m"
      ]
     },
     "metadata": {},
     "output_type": "display_data"
    }
   ],
   "source": [
    "trait Applicative[F[_]] extends Functor[F] {\n",
    "  def map2[A,B,C](fa: F[A], fb: F[B])(f: (A, B) => C): F[C] =\n",
    "    apply(map(fa)(f.curried))(fb)\n",
    "\n",
    "  def apply[A,B](fab: F[A => B])(fa: F[A]): F[B] =\n",
    "    map2(fab, fa)(_(_))\n",
    "\n",
    "  def unit[A](a: => A): F[A]\n",
    "\n",
    "  def map[A,B](fa: F[A])(f: A => B): F[B] =\n",
    "    apply(unit(f))(fa)\n",
    "\n",
    "  def sequence[A](fas: List[F[A]]): F[List[A]] =\n",
    "    traverse(fas)(fa => fa)\n",
    "\n",
    "  def traverse[A,B](as: List[A])(f: A => F[B]): F[List[B]] =\n",
    "    as.foldRight(unit(List[B]()))((a, fbs) => map2(f(a), fbs)(_ :: _))\n",
    "\n",
    "  def replicateM[A](n: Int, fa: F[A]): F[List[A]] =\n",
    "    sequence(List.fill(n)(fa))\n",
    "\n",
    "  def factor[A,B](fa: F[A], fb: F[B]): F[(A,B)] =\n",
    "    map2(fa, fb)((_,_))\n",
    "\n",
    "  def product[G[_]](G: Applicative[G]): Applicative[({type f[x] = (F[x], G[x])})#f] = {\n",
    "    val self = this\n",
    "    new Applicative[({type f[x] = (F[x], G[x])})#f] {\n",
    "      def unit[A](a: => A) = (self.unit(a), G.unit(a))\n",
    "      override def apply[A,B](fs: (F[A => B], G[A => B]))(p: (F[A], G[A])) =\n",
    "        (self.apply(fs._1)(p._1), G.apply(fs._2)(p._2))\n",
    "    }\n",
    "  }\n",
    "  def compose[G[_]](G: Applicative[G]): Applicative[({type f[x] = F[G[x]]})#f] = {\n",
    "    val self = this\n",
    "    new Applicative[({type f[x] = F[G[x]]})#f] {\n",
    "      def unit[A](a: => A) = self.unit(G.unit(a))\n",
    "      override def map2[A,B,C](fga: F[G[A]], fgb: F[G[B]])(f: (A,B) => C) =\n",
    "        self.map2(fga, fgb)(G.map2(_,_)(f))\n",
    "    }\n",
    "  }\n",
    "\n",
    "  def sequenceMap[K,V](ofa: Map[K,F[V]]): F[Map[K,V]] =\n",
    "    (ofa foldLeft unit(Map.empty[K,V])) { case (acc, (k, fv)) =>\n",
    "      map2(acc, fv)((m, v) => m + (k -> v))\n",
    "    }\n",
    "\n",
    "}\n"
   ]
  },
  {
   "cell_type": "markdown",
   "metadata": {},
   "source": [
    "- 모나드에 대한 수많은 유용한 조합기들은 unit과 map2만으로 정의할 수 있다.\n",
    "   - 예) traverse 조합기\n"
   ]
  },
  {
   "cell_type": "markdown",
   "metadata": {},
   "source": [
    "# 순회 가능 함수자 (traversable functor)\n",
    "- traverse와 sequence를 다시 한번 일반화한 추상\n"
   ]
  },
  {
   "cell_type": "code",
   "execution_count": 15,
   "metadata": {
    "collapsed": false
   },
   "outputs": [
    {
     "data": {
      "text/plain": [
       "defined \u001b[32mtrait \u001b[36mMonad\u001b[0m"
      ]
     },
     "metadata": {},
     "output_type": "display_data"
    }
   ],
   "source": [
    "trait Monad[F[_]] extends Applicative[F] {\n",
    "  def flatMap[A,B](ma: F[A])(f: A => F[B]): F[B] =\n",
    "    join(map(ma)(f))\n",
    "\n",
    "  override def apply[A,B](mf: F[A => B])(ma: F[A]): F[B] =\n",
    "    flatMap(mf)(f => map(ma)(f))\n",
    "\n",
    "  override def map[A,B](m: F[A])(f: A => B): F[B] =\n",
    "    flatMap(m)(a => unit(f(a)))\n",
    "\n",
    "  override def map2[A,B,C](ma: F[A], mb: F[B])(f: (A, B) => C): F[C] =\n",
    "    flatMap(ma)(a => map(mb)(b => f(a, b)))\n",
    "\n",
    "  def compose[A,B,C](f: A => F[B], g: B => F[C]): A => F[C] =\n",
    "    a => flatMap(f(a))(g)\n",
    "\n",
    "  def join[A](mma: F[F[A]]): F[A] = flatMap(mma)(ma => ma)\n",
    "}\n"
   ]
  },
  {
   "cell_type": "code",
   "execution_count": 11,
   "metadata": {
    "collapsed": false
   },
   "outputs": [
    {
     "ename": "",
     "evalue": "",
     "output_type": "error",
     "traceback": [
      "Compilation Failed",
      "\u001b[31mMain.scala:60: not found: type Foldable",
      "                trait Traverse[F[_]] extends Functor[F] with Foldable[F] { self =>",
      "                                                             ^\u001b[0m",
      "\u001b[31mMain.scala:76: not found: value Applicative",
      "  import Applicative._",
      "         ^\u001b[0m",
      "\u001b[31mMain.scala:78: not found: type Monoid",
      "  override def foldMap[A,B](as: F[A])(f: A => B)(mb: Monoid[B]): B =",
      "                                                     ^\u001b[0m",
      "\u001b[31mMain.scala:79: not found: type Const",
      "    traverse[({type f[x] = Const[B,x]})#f,A,Nothing](",
      "                           ^\u001b[0m",
      "\u001b[31mMain.scala:80: not found: value monoidApplicative",
      "      as)(f)(monoidApplicative(mb))",
      "             ^\u001b[0m",
      "\u001b[31mMain.scala:82: not found: type State",
      "  def traverseS[S,A,B](fa: F[A])(f: A => State[S, B]): State[S, F[B]] =",
      "                                                       ^\u001b[0m",
      "\u001b[31mMain.scala:82: not found: type State",
      "  def traverseS[S,A,B](fa: F[A])(f: A => State[S, B]): State[S, F[B]] =",
      "                                         ^\u001b[0m",
      "\u001b[31mMain.scala:83: not found: type State",
      "    traverse[({type f[x] = State[S, x]})#f, A, B](fa)(f)(Monad.stateMonad)",
      "                           ^\u001b[0m",
      "\u001b[31mMain.scala:83: not found: value Monad",
      "    traverse[({type f[x] = State[S, x]})#f, A, B](fa)(f)(Monad.stateMonad)",
      "                                                         ^\u001b[0m",
      "\u001b[31mMain.scala:87: not found: value get",
      "      i <- get[Int]",
      "           ^\u001b[0m",
      "\u001b[31mMain.scala:88: not found: value set",
      "      _ <- set(i + 1)",
      "           ^\u001b[0m",
      "\u001b[31mMain.scala:93: not found: value get",
      "      as <- get[List[A]] // Get the current state, the accumulated list.",
      "            ^\u001b[0m",
      "\u001b[31mMain.scala:94: not found: value set",
      "      _  <- set(a :: as) // Add the current element and set the new list as the new state.",
      "            ^\u001b[0m",
      "\u001b[31mMain.scala:99: not found: value get",
      "      s1 <- get[S]",
      "            ^\u001b[0m",
      "\u001b[31mMain.scala:101: not found: value set",
      "      _  <- set(s2)",
      "            ^\u001b[0m"
     ]
    }
   ],
   "source": [
    "trait Traverse[F[_]] extends Functor[F] with Foldable[F] { self =>\n",
    "  def traverse[M[_]:Applicative,A,B](fa: F[A])(f: A => M[B]): M[F[B]] =\n",
    "    sequence(map(fa)(f))\n",
    "  def sequence[M[_]:Applicative,A](fma: F[M[A]]): M[F[A]] =\n",
    "    traverse(fma)(ma => ma)\n",
    "\n",
    "  type Id[A] = A\n",
    "\n",
    "  val idMonad = new Monad[Id] {\n",
    "    def unit[A](a: => A) = a\n",
    "    override def flatMap[A,B](a: A)(f: A => B): B = f(a)\n",
    "  }\n",
    "\n",
    "  def map[A,B](fa: F[A])(f: A => B): F[B] =\n",
    "    traverse[Id, A, B](fa)(f)(idMonad)\n",
    "\n",
    "  import Applicative._\n",
    "\n",
    "  override def foldMap[A,B](as: F[A])(f: A => B)(mb: Monoid[B]): B =\n",
    "    traverse[({type f[x] = Const[B,x]})#f,A,Nothing](\n",
    "      as)(f)(monoidApplicative(mb))\n",
    "\n",
    "  def traverseS[S,A,B](fa: F[A])(f: A => State[S, B]): State[S, F[B]] =\n",
    "    traverse[({type f[x] = State[S, x]})#f, A, B](fa)(f)(Monad.stateMonad)\n",
    "\n",
    "  def zipWithIndex_[A](ta: F[A]): F[(A,Int)] =\n",
    "    traverseS(ta)((a: A) => (for {\n",
    "      i <- get[Int]\n",
    "      _ <- set(i + 1)\n",
    "    } yield (a, i))).run(0)._1\n",
    "\n",
    "  def toList_[A](fa: F[A]): List[A] =\n",
    "    traverseS(fa)((a: A) => (for {\n",
    "      as <- get[List[A]] // Get the current state, the accumulated list.\n",
    "      _  <- set(a :: as) // Add the current element and set the new list as the new state.\n",
    "    } yield ())).run(Nil)._2.reverse\n",
    "\n",
    "  def mapAccum[S,A,B](fa: F[A], s: S)(f: (A, S) => (B, S)): (F[B], S) =\n",
    "    traverseS(fa)((a: A) => (for {\n",
    "      s1 <- get[S]\n",
    "      (b, s2) = f(a, s1)\n",
    "      _  <- set(s2)\n",
    "    } yield b)).run(s)\n",
    "\n",
    "  override def toList[A](fa: F[A]): List[A] =\n",
    "    mapAccum(fa, List[A]())((a, s) => ((), a :: s))._2.reverse\n",
    "\n",
    "  def zipWithIndex[A](fa: F[A]): F[(A, Int)] =\n",
    "    mapAccum(fa, 0)((a, s) => ((a, s), s + 1))._1\n",
    "\n",
    "  def reverse[A](fa: F[A]): F[A] =\n",
    "    mapAccum(fa, toList(fa).reverse)((_, as) => (as.head, as.tail))._1\n",
    "\n",
    "  override def foldLeft[A,B](fa: F[A])(z: B)(f: (B, A) => B): B =\n",
    "    mapAccum(fa, z)((a, b) => ((), f(b, a)))._2\n",
    "\n",
    "  def zip[A,B](fa: F[A], fb: F[B]): F[(A, B)] =\n",
    "    (mapAccum(fa, toList(fb)) {\n",
    "      case (a, Nil) => sys.error(\"zip: Incompatible shapes.\")\n",
    "      case (a, b :: bs) => ((a, b), bs)\n",
    "    })._1\n",
    "\n",
    "  def zipL[A,B](fa: F[A], fb: F[B]): F[(A, Option[B])] =\n",
    "    (mapAccum(fa, toList(fb)) {\n",
    "      case (a, Nil) => ((a, None), Nil)\n",
    "      case (a, b :: bs) => ((a, Some(b)), bs)\n",
    "    })._1\n",
    "\n",
    "  def zipR[A,B](fa: F[A], fb: F[B]): F[(Option[A], B)] =\n",
    "    (mapAccum(fb, toList(fa)) {\n",
    "      case (b, Nil) => ((None, b), Nil)\n",
    "      case (b, a :: as) => ((Some(a), b), as)\n",
    "    })._1\n",
    "\n",
    "  def fuse[M[_],N[_],A,B](fa: F[A])(f: A => M[B], g: A => N[B])\n",
    "                         (implicit M: Applicative[M], N: Applicative[N]): (M[F[B]], N[F[B]]) =\n",
    "    traverse[({type f[x] = (M[x], N[x])})#f, A, B](fa)(a => (f(a), g(a)))(M product N)\n",
    "\n",
    "  def compose[G[_]](implicit G: Traverse[G]): Traverse[({type f[x] = F[G[x]]})#f] =\n",
    "    new Traverse[({type f[x] = F[G[x]]})#f] {\n",
    "      override def traverse[M[_]:Applicative,A,B](fa: F[G[A]])(f: A => M[B]) =\n",
    "        self.traverse(fa)((ga: G[A]) => G.traverse(ga)(f))\n",
    "    }\n",
    "}\n"
   ]
  },
  {
   "cell_type": "markdown",
   "metadata": {},
   "source": [
    "# Traverse의 용도\n"
   ]
  },
  {
   "cell_type": "code",
   "execution_count": 11,
   "metadata": {
    "collapsed": false
   },
   "outputs": [
    {
     "data": {
      "text/plain": [
       "defined \u001b[32mobject \u001b[36mMain\u001b[0m"
      ]
     },
     "metadata": {},
     "output_type": "display_data"
    }
   ],
   "source": [
    " object Main extends App {\n",
    "   val succ = (x: Int) => x + 1\n",
    "   val anonfun1 = new Function1[Int, Int] {\n",
    "     def apply(x: Int): Int = x + 1\n",
    "   }\n",
    "   assert(succ(0) == anonfun1(0))\n",
    "}"
   ]
  },
  {
   "cell_type": "code",
   "execution_count": 14,
   "metadata": {
    "collapsed": false
   },
   "outputs": [
    {
     "data": {
      "text/plain": [
       "\u001b[36ma\u001b[0m: () => \u001b[32mInt\u001b[0m = <function0>"
      ]
     },
     "metadata": {},
     "output_type": "display_data"
    }
   ],
   "source": [
    "val a = new Function0[Int] { def apply() = 3 }"
   ]
  },
  {
   "cell_type": "code",
   "execution_count": null,
   "metadata": {
    "collapsed": true
   },
   "outputs": [],
   "source": []
  },
  {
   "cell_type": "code",
   "execution_count": 15,
   "metadata": {
    "collapsed": false
   },
   "outputs": [
    {
     "data": {
      "text/plain": [
       "\u001b[36mres3\u001b[0m: () => \u001b[32mInt\u001b[0m = <function0>"
      ]
     },
     "metadata": {},
     "output_type": "display_data"
    }
   ],
   "source": [
    "a"
   ]
  },
  {
   "cell_type": "code",
   "execution_count": 16,
   "metadata": {
    "collapsed": false
   },
   "outputs": [
    {
     "data": {
      "text/plain": [
       "\u001b[36mres4\u001b[0m: \u001b[32mInt\u001b[0m = \u001b[32m3\u001b[0m"
      ]
     },
     "metadata": {},
     "output_type": "display_data"
    }
   ],
   "source": [
    "a()"
   ]
  },
  {
   "cell_type": "code",
   "execution_count": null,
   "metadata": {
    "collapsed": true
   },
   "outputs": [],
   "source": []
  }
 ],
 "metadata": {
  "kernelspec": {
   "display_name": "Scala 2.11",
   "language": "scala211",
   "name": "scala211"
  },
  "language_info": {
   "codemirror_mode": "text/x-scala",
   "file_extension": "scala",
   "mimetype": "text/x-scala",
   "name": "scala211",
   "pygments_lexer": "scala",
   "version": "2.11.6"
  }
 },
 "nbformat": 4,
 "nbformat_minor": 0
}
