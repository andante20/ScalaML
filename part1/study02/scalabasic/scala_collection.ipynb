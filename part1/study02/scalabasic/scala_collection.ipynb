{
 "cells": [
  {
   "cell_type": "markdown",
   "metadata": {},
   "source": [
    "#싸이그래머[스칼라ML] 파트1-2회차\n",
    "## 컬렉션\n",
    " + 기본 데이터 구조\n",
    "   + 리스트\n",
    "   + 집합\n",
    "   + 튜플\n",
    "   + 맵\n",
    " + 함수 콤비네이터(Functional Combinator )\n",
    "   + map\n",
    "   + foreach\n",
    "   + filter\n",
    "   + zip\n",
    "   + partition\n",
    "   + find \n",
    "   + drop\n",
    "   + dropWhile\n",
    "   + foldRight\n",
    "   + foldLeft\n",
    "   + flatten\n",
    "   + flatMap\n",
    "   + 일반적인 함수 콤비네이터\n",
    "   + Map?\n",
    "   \n",
    "## 패턴 매치와 함수 합성\n",
    " + 함수 합성\n",
    "   + 함수 합성하기\n",
    "     + compose\n",
    "     + andThen\n",
    "   + 커링과 부분 적용 비교\n",
    "     + Partial Function\n",
    "       + 치역과 정의역\n",
    "       + orElse 합성하기\n",
    " + 패턴매칭\n",
    "   + case 문이란 무엇인가?\n"
   ]
  },
  {
   "cell_type": "markdown",
   "metadata": {},
   "source": [
    "# 리스트\n",
    "## 1. 리스트의 특성\n",
    "   + List 는 immutable (불변) 이다.\n",
    "   + List 는 recursive (재귀적인) 한 구조다. \n",
    "   + List 는 covariant (공변적이다) 하다.\n",
    "     + 타입 S 가 타입 T 의 서브타입이면, List[S] 는 List[T] 의 서브타입이다. \n",
    "     + 예를 들면, List[String] 은 List[Object] 의 서브타입이다.\n",
    "     + 빈 리스트의 타입은 List[Nothing] 이다.\n",
    "     + Nothing 은 스칼라 클래스 계층구조의 맨 아래에 있는 타입이다."
   ]
  },
  {
   "cell_type": "markdown",
   "metadata": {},
   "source": [
    "## 2. 리스트 생성하기\n",
    "   + 리터럴로 생성하기\n",
    "     + scala> val numbers = List(1,2,3,4)\n",
    "     + scala> val empty = List()"
   ]
  },
  {
   "cell_type": "code",
   "execution_count": 26,
   "metadata": {
    "collapsed": false
   },
   "outputs": [
    {
     "data": {
      "text/plain": [
       "\u001b[36mnumbers\u001b[0m: List[Int] = \u001b[33mList\u001b[0m(\u001b[32m1\u001b[0m, \u001b[32m2\u001b[0m, \u001b[32m3\u001b[0m, \u001b[32m4\u001b[0m)"
      ]
     },
     "metadata": {},
     "output_type": "display_data"
    }
   ],
   "source": [
    "val numbers = List(1,2,3,4)"
   ]
  },
  {
   "cell_type": "markdown",
   "metadata": {},
   "source": [
    "  + Nil 과 \"::\" ( cons ) 연산자 사용"
   ]
  },
  {
   "cell_type": "code",
   "execution_count": 27,
   "metadata": {
    "collapsed": false
   },
   "outputs": [
    {
     "data": {
      "text/plain": [
       "\u001b[36mnumbers2\u001b[0m: List[Int] = \u001b[33mList\u001b[0m(\u001b[32m1\u001b[0m, \u001b[32m2\u001b[0m, \u001b[32m3\u001b[0m, \u001b[32m4\u001b[0m)"
      ]
     },
     "metadata": {},
     "output_type": "display_data"
    }
   ],
   "source": [
    "val numbers2 = 1 :: 2 :: 3 :: 4 :: Nil  "
   ]
  },
  {
   "cell_type": "markdown",
   "metadata": {},
   "source": [
    " + cons(::) 는 오른쪽 결합법칙(associative law)을 따른다.\n",
    "   + 즉, 1 :: 2 :: 3 :: 4 :: Nil 은  \n",
    "   + (1 :: (2 :: (3 :: (4 :: Nil)))) 과 같다."
   ]
  },
  {
   "cell_type": "code",
   "execution_count": 28,
   "metadata": {
    "collapsed": false
   },
   "outputs": [
    {
     "data": {
      "text/plain": [
       "\u001b[36mnumbers3\u001b[0m: List[Int] = \u001b[33mList\u001b[0m(\u001b[32m1\u001b[0m, \u001b[32m2\u001b[0m, \u001b[32m3\u001b[0m, \u001b[32m4\u001b[0m)"
      ]
     },
     "metadata": {},
     "output_type": "display_data"
    }
   ],
   "source": [
    "val numbers3 = 1 :: ( 2 :: (3 :: 4 :: Nil ) )"
   ]
  },
  {
   "cell_type": "markdown",
   "metadata": {},
   "source": [
    " + 맨 뒤에 Nil 을 쓰지 않으면 어떻게 될까요?"
   ]
  },
  {
   "cell_type": "code",
   "execution_count": 29,
   "metadata": {
    "collapsed": false
   },
   "outputs": [
    {
     "ename": "",
     "evalue": "",
     "output_type": "error",
     "traceback": [
      "Compilation Failed",
      "\u001b[31mMain.scala:183: value :: is not a member of Int",
      "1 :: 2 :: 3 :: 4 ",
      "            ^\u001b[0m"
     ]
    }
   ],
   "source": [
    "val numbers3 = 1 :: 2 :: 3 :: 4 "
   ]
  },
  {
   "cell_type": "markdown",
   "metadata": {},
   "source": [
    "## 3. 리스트 구조\n",
    "  + 리스트 구조\n",
    "  <img src=\"http://app-genesis.com/wp-content/uploads/2013/11/List.jpg\"/>\n",
    "\n",
    "## 4. 리스트 클래스의 1차 메소드\n",
    "  + 함수를 인자로 받지 않는 메소드를 1차 메소드라 부른다.\n",
    "  + 구조 접근 함수\n",
    "    + head : 리스트의 첫번째 원소를 돌려준다.\n",
    "    + tail : 첫번째 원소를 뺀 나머지 원소들을 가진 리스트를 돌려준다. \n",
    "    + init : 리스트의 맨 마지막 원소를 뺀 원소들을 가진 리스트를 돌려준다.\n",
    "    + last : 리스트의 맨 마지막 원소를 돌려준다."
   ]
  },
  {
   "cell_type": "code",
   "execution_count": 30,
   "metadata": {
    "collapsed": false
   },
   "outputs": [
    {
     "name": "stdout",
     "output_type": "stream",
     "text": [
      "list.head = 1\n",
      "list.tail = List(2, 3, 4)\n",
      "list.init = List(1, 2, 3)\n",
      "list.last = 4\n"
     ]
    },
    {
     "data": {
      "text/plain": [
       "\u001b[36mnumbers\u001b[0m: List[Int] = \u001b[33mList\u001b[0m(\u001b[32m1\u001b[0m, \u001b[32m2\u001b[0m, \u001b[32m3\u001b[0m, \u001b[32m4\u001b[0m)"
      ]
     },
     "metadata": {},
     "output_type": "display_data"
    }
   ],
   "source": [
    "val numbers = 1 :: 2 :: 3 :: 4 :: Nil\n",
    "\n",
    "println(\"list.head = \" + numbers.head)\n",
    "println(\"list.tail = \" + numbers.tail)\n",
    "println(\"list.init = \" + numbers.init)\n",
    "println(\"list.last = \" + numbers.last)"
   ]
  },
  {
   "cell_type": "markdown",
   "metadata": {},
   "source": [
    "  + 리스트 합치기 ( ::: 연산자 )"
   ]
  },
  {
   "cell_type": "code",
   "execution_count": 31,
   "metadata": {
    "collapsed": false
   },
   "outputs": [
    {
     "name": "stdout",
     "output_type": "stream",
     "text": [
      "List 합치기 list1 ::: list2 = List(1, 2, 3, 4)\n",
      "List 합치기 list1 :: list2 = List(List(1, 2), 3, 4)\n",
      "List 합치기 List.concat(list1,list2) = List(1, 2, 3, 4)\n"
     ]
    },
    {
     "data": {
      "text/plain": [
       "\u001b[36mlist1\u001b[0m: List[Int] = \u001b[33mList\u001b[0m(\u001b[32m1\u001b[0m, \u001b[32m2\u001b[0m)\n",
       "\u001b[36mlist2\u001b[0m: List[Int] = \u001b[33mList\u001b[0m(\u001b[32m3\u001b[0m, \u001b[32m4\u001b[0m)"
      ]
     },
     "metadata": {},
     "output_type": "display_data"
    }
   ],
   "source": [
    "val list1 = List(1,2)\n",
    "val list2 = List(3,4)\n",
    "\n",
    "println(\"List 합치기 list1 ::: list2 = \" + (list1 ::: list2))\n",
    "println(\"List 합치기 list1 :: list2 = \" + (list1 :: list2))\n",
    "println(\"List 합치기 List.concat(list1,list2) = \" + List.concat(list1,list2))"
   ]
  },
  {
   "cell_type": "markdown",
   "metadata": {},
   "source": [
    "+ length : 리스트에 있는 원소의 개수를 돌려준다. \n",
    "+ isEmpty : 리스트가 비어 있으면 true, 원소가 하나라도 있으면 false\n",
    "+ contains(element) : List 가 전달된 원소를 가지고 있으면 true, 가지고 있지 않으면 false 를 돌려준다. \n",
    "+ apply(n) : n 번째 원소를 반환한다.\n",
    "+ indices : 리스트에서 유효한 모든 인덱스들을 목록으로 반환한다."
   ]
  },
  {
   "cell_type": "code",
   "execution_count": 32,
   "metadata": {
    "collapsed": false
   },
   "outputs": [
    {
     "name": "stdout",
     "output_type": "stream",
     "text": [
      "list.length = 4\n",
      "list.isEmpty = false\n",
      "list.contains(2) = true\n",
      "list.contains(5) = false\n",
      "list.apply(3) = 4\n",
      "list.indices() = Range(0, 1, 2, 3)\n"
     ]
    },
    {
     "data": {
      "text/plain": [
       "\u001b[36mlist\u001b[0m: List[Int] = \u001b[33mList\u001b[0m(\u001b[32m1\u001b[0m, \u001b[32m2\u001b[0m, \u001b[32m3\u001b[0m, \u001b[32m4\u001b[0m)"
      ]
     },
     "metadata": {},
     "output_type": "display_data"
    }
   ],
   "source": [
    "val list = List(1,2,3,4)\n",
    "\n",
    "println(\"list.length = \" + list.length)\n",
    "println(\"list.isEmpty = \" + list.isEmpty)\n",
    "println(\"list.contains(2) = \" + list.contains(2))\n",
    "println(\"list.contains(5) = \" + list.contains(5))\n",
    "println(\"list.apply(3) = \" + list.apply(3))\n",
    "println(\"list.indices() = \" + list.indices)"
   ]
  },
  {
   "cell_type": "markdown",
   "metadata": {},
   "source": [
    "  + take n : 리스트의 앞에 있는 원소 n 개를 가진 리스트를 반환한다. n 보다 작으면, 자신을 돌려준다. \n",
    "  + drop n : 리스트의 앞에 있는 원소 n 개를 뺀 나머지 원소를 가진 리스트를 반환한다. \n",
    "  + splitAt n : n번째 원소를 기준으로 리스트를 두 개로 갈라서 List 두 개를 묶어서 반환한다. \n",
    "  + reverse : 리스트의 방향을 뒤집은 리스트를 반환한다."
   ]
  },
  {
   "cell_type": "code",
   "execution_count": 33,
   "metadata": {
    "collapsed": false
   },
   "outputs": [
    {
     "name": "stdout",
     "output_type": "stream",
     "text": [
      "list.take(2) = List(1, 2)\n",
      "list.drop(2) = List(3, 4)\n",
      "list.splitAt(2) = (List(1, 2),List(3, 4))\n",
      "list.reverse = List(4, 3, 2, 1)\n"
     ]
    },
    {
     "data": {
      "text/plain": [
       "\u001b[36mlist\u001b[0m: List[Int] = \u001b[33mList\u001b[0m(\u001b[32m1\u001b[0m, \u001b[32m2\u001b[0m, \u001b[32m3\u001b[0m, \u001b[32m4\u001b[0m)"
      ]
     },
     "metadata": {},
     "output_type": "display_data"
    }
   ],
   "source": [
    "val list = List(1,2,3,4)\n",
    "\n",
    "println(\"list.take(2) = \" + list.take(2))\n",
    "println(\"list.drop(2) = \" + list.drop(2))\n",
    "println(\"list.splitAt(2) = \" + list.splitAt(2))\n",
    "println(\"list.reverse = \" + list.reverse)"
   ]
  },
  {
   "cell_type": "markdown",
   "metadata": {},
   "source": [
    "  + flatten : 중첩된 리스트를 풀어 리스트 하나로 만든다."
   ]
  },
  {
   "cell_type": "code",
   "execution_count": 34,
   "metadata": {
    "collapsed": false
   },
   "outputs": [
    {
     "name": "stdout",
     "output_type": "stream",
     "text": [
      "list1.flatten = List(1, 2, 3, 4)\n"
     ]
    },
    {
     "data": {
      "text/plain": [
       "\u001b[36mlist1\u001b[0m: List[List[Int]] = \u001b[33mList\u001b[0m(\u001b[33mList\u001b[0m(\u001b[32m1\u001b[0m, \u001b[32m2\u001b[0m), \u001b[33mList\u001b[0m(\u001b[32m3\u001b[0m, \u001b[32m4\u001b[0m))"
      ]
     },
     "metadata": {},
     "output_type": "display_data"
    }
   ],
   "source": [
    "val list1 = List(List(1,2),List(3,4))\n",
    "\n",
    "println(\"list1.flatten = \" + list1.flatten)"
   ]
  },
  {
   "cell_type": "markdown",
   "metadata": {},
   "source": [
    "  + zip : 두 리스트를 받아서, 순서쌍 리스트를 만든다.\n",
    "  + zipWithIndex : 리스트를 받아서, 리스트와 인덱스를 하나의 순서쌍으로 묶어서 리스트를 반환한다.\n",
    "  + unzip : 순서쌍 리스트를 받아서, 리스트의 튜플로 만든다."
   ]
  },
  {
   "cell_type": "code",
   "execution_count": 35,
   "metadata": {
    "collapsed": false
   },
   "outputs": [
    {
     "name": "stdout",
     "output_type": "stream",
     "text": [
      "zipped = List((1,A), (2,B))\n",
      "zipped.unzip = (List(1, 2),List(A, B))\n",
      "list2.zipWithIndex = List((A,0), (B,1))\n"
     ]
    },
    {
     "data": {
      "text/plain": [
       "\u001b[36mlist1\u001b[0m: List[Int] = \u001b[33mList\u001b[0m(\u001b[32m1\u001b[0m, \u001b[32m2\u001b[0m)\n",
       "\u001b[36mlist2\u001b[0m: List[java.lang.String] = \u001b[33mList\u001b[0m(\u001b[32m\"A\"\u001b[0m, \u001b[32m\"B\"\u001b[0m)\n",
       "\u001b[36mzipped\u001b[0m: List[(Int, java.lang.String)] = \u001b[33mList\u001b[0m(\u001b[33m\u001b[0m(\u001b[32m1\u001b[0m, \u001b[32m\"A\"\u001b[0m), \u001b[33m\u001b[0m(\u001b[32m2\u001b[0m, \u001b[32m\"B\"\u001b[0m))"
      ]
     },
     "metadata": {},
     "output_type": "display_data"
    }
   ],
   "source": [
    "val list1 = List(1,2)\n",
    "val list2 = List(\"A\",\"B\")\n",
    "\n",
    "val zipped = list1 zip list2;\n",
    "\n",
    "println(\"zipped = \" + zipped)\n",
    "println(\"zipped.unzip = \" + zipped.unzip )\n",
    "println(\"list2.zipWithIndex = \" + list2.zipWithIndex)"
   ]
  },
  {
   "cell_type": "markdown",
   "metadata": {},
   "source": [
    "  + toString : 리스트의 내용을 문자열로 반환한다.\n",
    "  + mkString : 리스트의 내용을 toString 과 다르게 출력하고 싶을 때 사용한다. \n",
    "     + xs mkString ( pre, sep, post ) 와 같이 사용\n",
    "        + 출력형식은 pre + 0번째원소 + sep + 2번째 원소 + sep + 3번째 원소 + ... + post "
   ]
  },
  {
   "cell_type": "code",
   "execution_count": 36,
   "metadata": {
    "collapsed": false
   },
   "outputs": [
    {
     "data": {
      "text/plain": [
       "\u001b[36mlist1\u001b[0m: List[java.lang.String] = \u001b[33mList\u001b[0m(\u001b[32m\"A\"\u001b[0m, \u001b[32m\"B\"\u001b[0m)\n",
       "\u001b[36mres33_1\u001b[0m: String = \u001b[32m\"List [A-B]\"\u001b[0m"
      ]
     },
     "metadata": {},
     "output_type": "display_data"
    }
   ],
   "source": [
    "val list1 = List(\"A\",\"B\")\n",
    "\n",
    "list1.mkString(\"List [\",\"-\", \"]\")"
   ]
  },
  {
   "cell_type": "markdown",
   "metadata": {},
   "source": [
    "+ toArray : 리스트를 배열로 만들어 반환한다.\n",
    "+ copyToArray : 리스트 원소들을 배열에 복사한다."
   ]
  },
  {
   "cell_type": "code",
   "execution_count": 37,
   "metadata": {
    "collapsed": false
   },
   "outputs": [
    {
     "data": {
      "text/plain": [
       "\u001b[36mlist1\u001b[0m: List[java.lang.String] = \u001b[33mList\u001b[0m(\u001b[32m\"A\"\u001b[0m, \u001b[32m\"B\"\u001b[0m)\n",
       "\u001b[36marr\u001b[0m: scala.Array[java.lang.String] = \u001b[33mArray\u001b[0m(\u001b[32m\"A\"\u001b[0m, \u001b[32m\"B\"\u001b[0m)\n",
       "\u001b[36mlist2\u001b[0m: scala.List[java.lang.String] = \u001b[33mList\u001b[0m(\u001b[32m\"A\"\u001b[0m, \u001b[32m\"B\"\u001b[0m)"
      ]
     },
     "metadata": {},
     "output_type": "display_data"
    }
   ],
   "source": [
    "val list1 = List(\"A\",\"B\")\n",
    "val arr = list1.toArray\n",
    "val list2 = arr.toList"
   ]
  },
  {
   "cell_type": "markdown",
   "metadata": {},
   "source": [
    "## 5. 리스트 클래스의 고차 메소드\n",
    "+ 메소드에 함수를 전달할 수 있는 메소드 ( 함수 콤비네이터 )\n",
    "+ map\n",
    "+ foreach\n",
    "+ filter\n",
    "+ filterNot\n",
    "+ partition\n",
    "+ takeWhile\n",
    "+ dropWhile\n",
    "+ span\n",
    "+ exists\n",
    "+ reduceLeft\n",
    "+ foldLeft\n",
    "+ foldRight\n",
    "+ reduceRight\n",
    "+ find"
   ]
  },
  {
   "cell_type": "markdown",
   "metadata": {},
   "source": [
    "+ 함수 정의하기\n",
    "  + 리턴 타입을 지정하는 경우 \n",
    "     + 모든 것을 다 갖춘 경우\n",
    "        + def add(a:Int,b:Int) : Int = { var sum = a; a + b; }\n",
    "     + 함수 내용이 한 문장인 경우\n",
    "        + def add(a:Int,b:Int) : Int = a + b\n",
    "  + 리턴타입이 없는 경우 : 리턴타입을 추론할 수 있는 경우 ( 혹은 리턴타입이 Unit 인 경우=반환값이 없는 경우 )\n",
    "     + 문장이 한 줄일 때 \n",
    "        + def add(a:Int,b:Int) = a + b\n",
    "     + 문장이 한 줄 이상일 때 \n",
    "        + def add(a:Int,b:Int) = { var sum = a; a + b; }\n",
    "  + 함수 이름이 없는 경우\n",
    "     + 함수 내용이 한 문장인 경우\n",
    "        + (a:Int,b:Int) => a + b\n",
    "     + 함수 내용이 한 문장 이상인 경우\n",
    "        + (a:Int,b:Int) => { var sum = a; a + b }\n",
    "     + 함수 내용이 한 문장 이상인 경우\n",
    "        + (a:Int,b:Int) => { var sum = a; a + b }\n",
    "     + 블럭으로 묶을 때\n",
    "        + 패러미터가 하나일 때 : \n",
    "            + { a:Int => a * 2 }\n",
    "            + { (a:Int) => a * 2 }\n",
    "        + 패러미터가 두개 이상일 때\n",
    "            + { a:Int,b:Int => a + b } ( 오류가 남 )\n",
    "  + 함수 부분 적용하기 (Partial Application)\n",
    "     + 함수의 패러미터 중 일부분만을 지정한다.\n",
    "     + 패러미터 값을 지정하고 싶지 않은 패러미터의 경우 밑줄(_) 을 사용하고, 타입을 지정해야 한다.\n",
    "        + 패러미터를 선택해서 부분 적용하기\n",
    "            + val addby2 = add(_:Int,2)\n",
    "            + val addby3 = add(3,_:Int)\n",
    "        + 모든 패러미터를 적용하지 않는 부분 적용\n",
    "            + add _\n",
    "  + Curried 함수\n",
    "     + Curried 함수 정의하기\n",
    "        + def multiply(a:Int)(b:Int)(c:Int) = { a * b * c}\n",
    "        + multiply _\n",
    "     + 함수를 Curried function 으로 바꾸기\n",
    "        + (add _).curried\n",
    "     + Curried 함수에 부분 적용하기\n",
    "        + 앞쪽 패러미터에 부분 적용하기\n",
    "            + otherMultiply = multiply _\n",
    "            + multiply3 = multiply(3) _\n",
    "            + multiply3by4 = multiply(3)(4)_\n",
    "        + 중간 패러미터에 부분 적용하기\n",
    "            + multiply3 = multiply (_:Int)(3)(_:Int)\n",
    "            + multiply3by4 = multiply (_:Int)(3)(4)"
   ]
  },
  {
   "cell_type": "markdown",
   "metadata": {},
   "source": [
    "## 리스트 매핑하기\n",
    "+ map\n",
    "+ flatMap\n",
    "+ foreach\n",
    "\n",
    "+ List[T].map( T => U )\n",
    "    + T 타입을 받아서 U 타입으로 바꾸는 함수\n",
    "    + 패러미터로 전달된 함수를 원소 각각에 대해 적용하여 새로운 값을 계산하고, 이 값들로 구성된 리스트를 돌려준다. \n",
    "    + 함수 패러미터를 넘기는 방법\n",
    "        + 이름이 정의된 함수를 넘기는 방법\n",
    "            + def timesTo(x:Int) = { 2 * x }\n",
    "            + numbers.map(timesTwo _) \n",
    "        + 무기명 함수를 넘기는 방법\n",
    "            + numbers.map( (x) => 2 * x )\n",
    "            + numbers.map( x => 2 * x )\n",
    "            + numbers.map( 2 * _ )\n"
   ]
  },
  {
   "cell_type": "code",
   "execution_count": 38,
   "metadata": {
    "collapsed": false
   },
   "outputs": [
    {
     "data": {
      "text/plain": [
       "\u001b[36mnumbers\u001b[0m: List[Int] = \u001b[33mList\u001b[0m(\u001b[32m1\u001b[0m, \u001b[32m2\u001b[0m, \u001b[32m3\u001b[0m, \u001b[32m4\u001b[0m)\n",
       "defined \u001b[32mfunction \u001b[36mtimesTwo\u001b[0m\n",
       "\u001b[36mres35_2\u001b[0m: List[Int] = \u001b[33mList\u001b[0m(\u001b[32m2\u001b[0m, \u001b[32m4\u001b[0m, \u001b[32m6\u001b[0m, \u001b[32m8\u001b[0m)\n",
       "\u001b[36mres35_3\u001b[0m: List[Int] = \u001b[33mList\u001b[0m(\u001b[32m2\u001b[0m, \u001b[32m4\u001b[0m, \u001b[32m6\u001b[0m, \u001b[32m8\u001b[0m)\n",
       "\u001b[36mres35_4\u001b[0m: List[Int] = \u001b[33mList\u001b[0m(\u001b[32m2\u001b[0m, \u001b[32m4\u001b[0m, \u001b[32m6\u001b[0m, \u001b[32m8\u001b[0m)\n",
       "\u001b[36mres35_5\u001b[0m: List[Int] = \u001b[33mList\u001b[0m(\u001b[32m2\u001b[0m, \u001b[32m4\u001b[0m, \u001b[32m6\u001b[0m, \u001b[32m8\u001b[0m)"
      ]
     },
     "metadata": {},
     "output_type": "display_data"
    }
   ],
   "source": [
    "val numbers = List(1,2,3,4)\n",
    "def timesTwo(x:Int) = { 2 * x }\n",
    "\n",
    "numbers.map(timesTwo _)\n",
    "\n",
    "numbers.map((x) => 2 * x)\n",
    "numbers.map( x => 2 * x)\n",
    "numbers.map( 2 * _ )"
   ]
  },
  {
   "cell_type": "markdown",
   "metadata": {},
   "source": [
    "+ List[T].flatMap( T => List[U] )\n",
    "    + map 과 유사하지만, map 과 flatten 을 합성한 함수다."
   ]
  },
  {
   "cell_type": "code",
   "execution_count": 39,
   "metadata": {
    "collapsed": false
   },
   "outputs": [
    {
     "data": {
      "text/plain": [
       "\u001b[36mnumbers\u001b[0m: List[List[Int]] = \u001b[33mList\u001b[0m(\u001b[33mList\u001b[0m(\u001b[32m1\u001b[0m, \u001b[32m2\u001b[0m), \u001b[33mList\u001b[0m(\u001b[32m3\u001b[0m, \u001b[32m4\u001b[0m))\n",
       "\u001b[36mres36_1\u001b[0m: List[Int] = \u001b[33mList\u001b[0m(\u001b[32m2\u001b[0m, \u001b[32m4\u001b[0m, \u001b[32m6\u001b[0m, \u001b[32m8\u001b[0m)"
      ]
     },
     "metadata": {},
     "output_type": "display_data"
    }
   ],
   "source": [
    "val numbers = List(List(1,2),List(3,4))\n",
    "\n",
    "numbers.flatMap( (x) => x.map((y) => y *2))"
   ]
  },
  {
   "cell_type": "code",
   "execution_count": 40,
   "metadata": {
    "collapsed": false
   },
   "outputs": [
    {
     "data": {
      "text/plain": [
       "\u001b[36mwords\u001b[0m: List[java.lang.String] = \u001b[33mList\u001b[0m(\u001b[32m\"Hello\"\u001b[0m, \u001b[32m\"World\"\u001b[0m)\n",
       "\u001b[36mres37_1\u001b[0m: List[Char] = \u001b[33mList\u001b[0m(\n",
       "  \u001b[32m'H'\u001b[0m,\n",
       "  \u001b[32m'e'\u001b[0m,\n",
       "  \u001b[32m'l'\u001b[0m,\n",
       "  \u001b[32m'l'\u001b[0m,\n",
       "  \u001b[32m'o'\u001b[0m,\n",
       "  \u001b[32m'W'\u001b[0m,\n",
       "  \u001b[32m'o'\u001b[0m,\n",
       "  \u001b[32m'r'\u001b[0m,\n",
       "  \u001b[32m'l'\u001b[0m,\n",
       "  \u001b[32m'd'\u001b[0m\n",
       ")"
      ]
     },
     "metadata": {},
     "output_type": "display_data"
    }
   ],
   "source": [
    "val words = List(\"Hello\",\"World\")\n",
    "\n",
    "words.flatMap( _.toList )"
   ]
  },
  {
   "cell_type": "markdown",
   "metadata": {},
   "source": [
    "+ List[T].foreach ( T => U )\n",
    "    + 맵과 비슷하지만, 반환하는 것이 없다.\n",
    "    + 따라서, foreach 는 부작용을 위해 사용한다. "
   ]
  },
  {
   "cell_type": "code",
   "execution_count": 41,
   "metadata": {
    "collapsed": false
   },
   "outputs": [
    {
     "data": {
      "text/plain": [
       "\u001b[36mnumbers\u001b[0m: List[Int] = \u001b[33mList\u001b[0m(\u001b[32m1\u001b[0m, \u001b[32m2\u001b[0m, \u001b[32m3\u001b[0m, \u001b[32m4\u001b[0m)"
      ]
     },
     "metadata": {},
     "output_type": "display_data"
    }
   ],
   "source": [
    "val numbers = List(1,2,3,4)\n",
    "\n",
    "numbers.foreach( (i:Int) => i * 2 )"
   ]
  },
  {
   "cell_type": "code",
   "execution_count": 42,
   "metadata": {
    "collapsed": false
   },
   "outputs": [
    {
     "name": "stdout",
     "output_type": "stream",
     "text": [
      "Sum of numbers = 10\n"
     ]
    },
    {
     "data": {
      "text/plain": [
       "\u001b[36msum\u001b[0m: Int = \u001b[32m10\u001b[0m"
      ]
     },
     "metadata": {},
     "output_type": "display_data"
    }
   ],
   "source": [
    "var sum = 0\n",
    "\n",
    "numbers.foreach( sum += _ )\n",
    "println(\"Sum of numbers = \" + sum)"
   ]
  },
  {
   "cell_type": "markdown",
   "metadata": {},
   "source": [
    "## 리스트 걸러내기\n",
    "리스트에서 특정 조건을 만족하는 원소만 고를 때 사용한다.\n",
    "\n",
    "패러미터로 전달되는 함수는 참/거짓(즉, Boolean 값)을 반환한다.\n",
    "이런 함수를 술어함수(predicate function)라고 한다.\n",
    "\n",
    "+ filter ( T => Boolean )\n",
    "    + 술어함수를 만족시키는 원소로 구성된 리스트를 반환한다.\n",
    "+ filterNot ( T => Boolean )\n",
    "    + 술어함수를 만족시키지 않는 원소로 구성된 리스트를 반환한다. \n",
    "+ partition ( T => Boolean )\n",
    "    + 술어함수를 만족시키는 원소들과 만족시키지 않는 원소들을 두 개의 리스트로 만들어 반환한다. \n",
    "+ find ( T => Boolean )\n",
    "    + 술어함수를 만족하는 가장 첫 원소를 반환한다. \n",
    "+ takeWhile ( T => Boolean )\n",
    "    + 리스트의 각 원소에 대해서 술어를 적용하고, 술어를 만족하지 않는 첫번째 원소 이전까지를 목록으로 만들어 돌려준다.\n",
    "+ dropWhile ( T => Boolean )\n",
    "    + 술어함수를 만족하지 않는 첫번째 원소부터 나머지 원소로 구성된 리스트를 반환한다.\n",
    "+ span ( T => Boolean )\n",
    "    + takeWhile 과 dropWhile 을 한데 묶은 것\n",
    "    + ( list.takeWhile( predicate), list.dropWhile ( predicate ) ) 결과와 같음"
   ]
  },
  {
   "cell_type": "markdown",
   "metadata": {},
   "source": [
    "## 리스트 폴드\n",
    "+ reduceLeft\n",
    "    + (((xs[0] + xs[1]) + ... xs[n-1])\n",
    "+ reduceRight \n",
    "    + (xs[0] + (xs[1] + (( xs[n-2] + xs[n-1])))\n",
    "\n",
    "+ foldLeft(initial)((a:Int,b:Int) => a + b)\n",
    "    + 초기값을 initial 로 하고, 리스트의 앞쪽부터 연산을 해 나간다.\n",
    "    + (((initial + xs[0]) + xs[1]) + ... xs[n-1])\n",
    "+ foldRight(초기값)((a:Int,b:Int) => a + b)\n",
    "    + 초기값을 initial 로 하고, 리스트의 뒤쪽부터 연산을 해 나간다.\n",
    "    + (xs[0] + (xs[1] + (.... (xs[n-1] + initial))))\n",
    "<img src=\"https://joelneely.files.wordpress.com/2008/04/foldlfoldr1.jpg?w=796&h=400\"/>\n"
   ]
  },
  {
   "cell_type": "code",
   "execution_count": 43,
   "metadata": {
    "collapsed": false
   },
   "outputs": [
    {
     "name": "stdout",
     "output_type": "stream",
     "text": [
      "sum = 1, x = 2\n",
      "sum = 3, x = 3\n",
      "sum = 6, x = 4\n"
     ]
    },
    {
     "data": {
      "text/plain": [
       "\u001b[36mnumbers\u001b[0m: List[Int] = \u001b[33mList\u001b[0m(\u001b[32m1\u001b[0m, \u001b[32m2\u001b[0m, \u001b[32m3\u001b[0m, \u001b[32m4\u001b[0m)\n",
       "\u001b[36mres40_1\u001b[0m: Int = \u001b[32m10\u001b[0m\n",
       "\u001b[36mres40_2\u001b[0m: Int = \u001b[32m10\u001b[0m\n",
       "\u001b[36mres40_3\u001b[0m: Int = \u001b[32m10\u001b[0m"
      ]
     },
     "metadata": {},
     "output_type": "display_data"
    }
   ],
   "source": [
    "val numbers = List(1,2,3,4)\n",
    "\n",
    "numbers.reduceLeft( (sum:Int,x:Int) => sum + x )\n",
    "numbers.reduceLeft( _ + _)\n",
    "numbers.reduceLeft( { (sum:Int,x:Int) => println(\"sum = \" + sum + \", x = \" + x); sum + x} )"
   ]
  },
  {
   "cell_type": "code",
   "execution_count": 44,
   "metadata": {
    "collapsed": false
   },
   "outputs": [
    {
     "name": "stdout",
     "output_type": "stream",
     "text": [
      "sum = 4, x = 3\n",
      "sum = 7, x = 2\n",
      "sum = 9, x = 1\n"
     ]
    },
    {
     "data": {
      "text/plain": [
       "\u001b[36mnumbers\u001b[0m: List[Int] = \u001b[33mList\u001b[0m(\u001b[32m1\u001b[0m, \u001b[32m2\u001b[0m, \u001b[32m3\u001b[0m, \u001b[32m4\u001b[0m)\n",
       "\u001b[36mres41_1\u001b[0m: Int = \u001b[32m10\u001b[0m\n",
       "\u001b[36mres41_2\u001b[0m: Int = \u001b[32m10\u001b[0m\n",
       "\u001b[36mres41_3\u001b[0m: Int = \u001b[32m10\u001b[0m"
      ]
     },
     "metadata": {},
     "output_type": "display_data"
    }
   ],
   "source": [
    "val numbers = List(1,2,3,4)\n",
    "\n",
    "numbers.reduceRight( (x:Int,sum:Int) => sum + x )\n",
    "numbers.reduceRight( _ + _)\n",
    "numbers.reduceRight( { (x:Int,sum:Int) => println(\"sum = \" + sum + \", x = \" + x); sum + x} )"
   ]
  },
  {
   "cell_type": "code",
   "execution_count": 45,
   "metadata": {
    "collapsed": false
   },
   "outputs": [
    {
     "name": "stdout",
     "output_type": "stream",
     "text": [
      "sum = 1, x = 0\n",
      "sum = 2, x = 1\n",
      "sum = 3, x = 3\n",
      "sum = 4, x = 6\n"
     ]
    },
    {
     "data": {
      "text/plain": [
       "\u001b[36mnumbers\u001b[0m: List[Int] = \u001b[33mList\u001b[0m(\u001b[32m1\u001b[0m, \u001b[32m2\u001b[0m, \u001b[32m3\u001b[0m, \u001b[32m4\u001b[0m)\n",
       "\u001b[36mres42_1\u001b[0m: Int = \u001b[32m10\u001b[0m\n",
       "\u001b[36mres42_2\u001b[0m: Int = \u001b[32m10\u001b[0m\n",
       "\u001b[36mres42_3\u001b[0m: Int = \u001b[32m10\u001b[0m"
      ]
     },
     "metadata": {},
     "output_type": "display_data"
    }
   ],
   "source": [
    "val numbers = List(1,2,3,4)\n",
    "\n",
    "numbers.foldLeft(0)( (x:Int,sum:Int) => sum + x )\n",
    "numbers.foldLeft(0)( _ + _)\n",
    "numbers.foldLeft(0)( { (x:Int,sum:Int) => println(\"sum = \" + sum + \", x = \" + x); sum + x} )"
   ]
  },
  {
   "cell_type": "code",
   "execution_count": 46,
   "metadata": {
    "collapsed": false
   },
   "outputs": [
    {
     "name": "stdout",
     "output_type": "stream",
     "text": [
      "sum = 0, x = 4\n",
      "sum = 4, x = 3\n",
      "sum = 7, x = 2\n",
      "sum = 9, x = 1\n"
     ]
    },
    {
     "data": {
      "text/plain": [
       "\u001b[36mnumbers\u001b[0m: List[Int] = \u001b[33mList\u001b[0m(\u001b[32m1\u001b[0m, \u001b[32m2\u001b[0m, \u001b[32m3\u001b[0m, \u001b[32m4\u001b[0m)\n",
       "\u001b[36mres43_1\u001b[0m: Int = \u001b[32m10\u001b[0m\n",
       "\u001b[36mres43_2\u001b[0m: Int = \u001b[32m10\u001b[0m\n",
       "\u001b[36mres43_3\u001b[0m: Int = \u001b[32m10\u001b[0m"
      ]
     },
     "metadata": {},
     "output_type": "display_data"
    }
   ],
   "source": [
    "val numbers = List(1,2,3,4)\n",
    "\n",
    "numbers.foldRight(0)( (x:Int,sum:Int) => sum + x )\n",
    "numbers.foldRight(0)( _ + _)\n",
    "numbers.foldRight(0)( { (x:Int,sum:Int) => println(\"sum = \" + sum + \", x = \" + x); sum + x} )"
   ]
  },
  {
   "cell_type": "markdown",
   "metadata": {},
   "source": [
    "## 리스트 전체에 대한 술어\n",
    "+ forall\n",
    "    + 리스트의 모든 원소가 술어를 만족하면 true, 리스트의 원소중 하나라도 술어를 만족하지 않으면 false \n",
    "+ exists\n",
    "    + 리스트의 원소 중 하나가 술어를 만족하면 true, 리스트의 모든 원소가 술어를 만족하지 않으면 false "
   ]
  },
  {
   "cell_type": "markdown",
   "metadata": {},
   "source": [
    "## 함수 콤비네이터 만들기\n",
    "+ 함수를 패러미터로 받는 함수 콤비네이터(고차원 함수)를 다음과 같이 만들 수 있다.\n",
    "<pre> \n",
    "def myMap(numbers: List[Int], fn: Int => Int) : List[Int] = {\n",
    "      numbers.foldRight(List[Int]()){ \n",
    "          (x:Int, xs:List[Int] => fn(x) :: xs\n",
    "     }\n",
    "}\n",
    "</pre>"
   ]
  },
  {
   "cell_type": "markdown",
   "metadata": {},
   "source": [
    "# 함수 합성\n",
    "다음 두 함수가 유용하다고 가정하자.\n",
    "\n",
    "+ f compose g = f ( g(x) )\n",
    "+ f andThen g = g ( f(x) )"
   ]
  },
  {
   "cell_type": "code",
   "execution_count": 47,
   "metadata": {
    "collapsed": false
   },
   "outputs": [
    {
     "name": "stdout",
     "output_type": "stream",
     "text": [
      "ummThenAham = well umm aham\n",
      "ahamThenUmm = well aham umm\n"
     ]
    },
    {
     "data": {
      "text/plain": [
       "defined \u001b[32mfunction \u001b[36maddUmm\u001b[0m\n",
       "defined \u001b[32mfunction \u001b[36maddAham\u001b[0m\n",
       "\u001b[36mummThenAham\u001b[0m: String => java.lang.String = <function1>\n",
       "\u001b[36mahamThenUmm\u001b[0m: String => java.lang.String = <function1>"
      ]
     },
     "metadata": {},
     "output_type": "display_data"
    }
   ],
   "source": [
    "def addUmm(x:String) = x + \" umm\"\n",
    "def addAham(x:String) = x + \" aham\"\n",
    "\n",
    "val ummThenAham = addAham _ compose addUmm _\n",
    "println(\"ummThenAham = \" + ummThenAham(\"well\"))\n",
    "\n",
    "val ahamThenUmm = addAham _ andThen addUmm _\n",
    "println(\"ahamThenUmm = \" + ahamThenUmm(\"well\"))"
   ]
  },
  {
   "cell_type": "markdown",
   "metadata": {},
   "source": [
    "# Case 문과 부분적용 ( Partial Function )\n",
    "+ case 문은 PartialFunction 의 하위 클래스다.\n",
    "+ 케이스문을 여러개 사용하는 것은 PartialFunction 들이 서로 compose 된 것이다.\n",
    "\n",
    "## Partial Function\n",
    "+ 함수는 정의된 모든 인자 값에 대해 동작한다.\n",
    "+ (Int) => String 타입으로 정의된 함수는 모든 Int 에 대해 어떤 String 을 반환한다.\n",
    "+ 모든 정수가 그에  해당되는 문자열을 가지고 있다.\n",
    "+ 부분 함수는 인자 타입의 값 중 일부에 대해서만 정의되어 있다. \n",
    "+ PartialFunction 에는 isDefinedAt 메소드가 정의되어 있다, 해당 PartialFunction 이 주어진 값을 받을 수 있는지를 알려준다.\n"
   ]
  },
  {
   "cell_type": "code",
   "execution_count": 48,
   "metadata": {
    "collapsed": false
   },
   "outputs": [
    {
     "name": "stdout",
     "output_type": "stream",
     "text": [
      "one.isDefinedAt(1) = true\n",
      "one.isDefinedAt(2) = false\n"
     ]
    },
    {
     "data": {
      "text/plain": [
       "\u001b[36mone\u001b[0m: scala.PartialFunction[Int,String] = <function1>\n",
       "\u001b[36mres45_3\u001b[0m: String = \u001b[32m\"one\"\u001b[0m"
      ]
     },
     "metadata": {},
     "output_type": "display_data"
    }
   ],
   "source": [
    "val one: PartialFunction[Int, String] = { case 1 => \"one\" }\n",
    "\n",
    "println(\"one.isDefinedAt(1) = \" + one.isDefinedAt(1))\n",
    "println(\"one.isDefinedAt(2) = \" + one.isDefinedAt(2))\n",
    "\n",
    "one(1)"
   ]
  },
  {
   "cell_type": "markdown",
   "metadata": {},
   "source": [
    "### PartialFunction 합성하기\n",
    "+ orElse 를 이용하여 PartialFunction 을 합성할 수 있다.\n",
    "+ "
   ]
  },
  {
   "cell_type": "code",
   "execution_count": 49,
   "metadata": {
    "collapsed": false
   },
   "outputs": [
    {
     "name": "stdout",
     "output_type": "stream",
     "text": [
      "partial(1) = one\n",
      "partial(2) = two\n",
      "partial(3) = three\n",
      "partial(4) = something else\n",
      "partial(5) = something else\n"
     ]
    },
    {
     "data": {
      "text/plain": [
       "\u001b[36mtwo\u001b[0m: scala.PartialFunction[Int,String] = <function1>\n",
       "\u001b[36mthree\u001b[0m: scala.PartialFunction[Int,String] = <function1>\n",
       "\u001b[36mwildcard\u001b[0m: scala.PartialFunction[Int,String] = <function1>\n",
       "\u001b[36mpartial\u001b[0m: scala.PartialFunction[Int,String] = <function1>"
      ]
     },
     "metadata": {},
     "output_type": "display_data"
    }
   ],
   "source": [
    "val two: PartialFunction[Int, String] = { case 2 => \"two\" }\n",
    "val three: PartialFunction[Int, String] = { case 3 => \"three\" }\n",
    "val wildcard: PartialFunction[Int, String] = { case _ => \"something else\" }\n",
    "\n",
    "val partial = one orElse two orElse three orElse wildcard\n",
    "\n",
    "println(\"partial(1) = \" + partial(1))\n",
    "println(\"partial(2) = \" + partial(2))\n",
    "println(\"partial(3) = \" + partial(3))\n",
    "println(\"partial(4) = \" + partial(4))\n",
    "println(\"partial(5) = \" + partial(5))\n"
   ]
  },
  {
   "cell_type": "markdown",
   "metadata": {},
   "source": [
    "### 케이스 문의 신비\n",
    "+ 함수가 필요한 위치에 케이스문을 사용할 수 있다.\n",
    "+ PartialFunction 은 Function 의 하위타입이므로 함수를 패러미터로 사용하는 곳에 Case 문을 사용할 수 있다."
   ]
  },
  {
   "cell_type": "code",
   "execution_count": 50,
   "metadata": {
    "collapsed": false
   },
   "outputs": [
    {
     "data": {
      "text/plain": [
       "defined \u001b[32mclass \u001b[36mPhoneExt\u001b[0m\n",
       "\u001b[36mextensions\u001b[0m: List[$user.PhoneExt] = \u001b[33mList\u001b[0m(\n",
       "  \u001b[33mPhoneExt\u001b[0m(\u001b[32m\"steve\"\u001b[0m, \u001b[32m100\u001b[0m),\n",
       "  \u001b[33mPhoneExt\u001b[0m(\u001b[32m\"robey\"\u001b[0m, \u001b[32m200\u001b[0m)\n",
       ")\n",
       "\u001b[36mres47_2\u001b[0m: List[$user.PhoneExt] = \u001b[33mList\u001b[0m(\u001b[33mPhoneExt\u001b[0m(\u001b[32m\"steve\"\u001b[0m, \u001b[32m100\u001b[0m))"
      ]
     },
     "metadata": {},
     "output_type": "display_data"
    }
   ],
   "source": [
    "case class PhoneExt(name:String,ext:Int)\n",
    "\n",
    "val extensions = List(PhoneExt(\"steve\",100),PhoneExt(\"robey\",200))\n",
    "\n",
    "extensions.filter( {case PhoneExt(name,extension) => extension < 200})"
   ]
  },
  {
   "cell_type": "code",
   "execution_count": null,
   "metadata": {
    "collapsed": true
   },
   "outputs": [],
   "source": []
  }
 ],
 "metadata": {
  "kernelspec": {
   "display_name": "Scala 2.10",
   "language": "scala210",
   "name": "scala210"
  },
  "language_info": {
   "codemirror_mode": "text/x-scala",
   "file_extension": "scala",
   "mimetype": "text/x-scala",
   "name": "scala210",
   "pygments_lexer": "scala",
   "version": "2.10.5"
  }
 },
 "nbformat": 4,
 "nbformat_minor": 0
}
