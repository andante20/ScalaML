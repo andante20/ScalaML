{
 "cells": [
  {
   "cell_type": "code",
   "execution_count": 6,
   "metadata": {
    "collapsed": false
   },
   "outputs": [
    {
     "ename": "",
     "evalue": "",
     "output_type": "error",
     "traceback": [
      "java.lang.NullPointerException"
     ]
    }
   ],
   "source": [
    "case class Employee(name:String,department:String)\n",
    "\n",
    "def lookupByName(name:String) : Employee = {\n",
    "    name match {\n",
    "        case \"joe\" => new Employee(\"joe\",\"development\")\n",
    "        case _ => null\n",
    "    }\n",
    "}\n",
    "\n",
    "def getDepartment(name:String) : String = {\n",
    "    val employee = lookupByName(name) \n",
    "    if ( employee != null ) employee.department\n",
    "    else \"\"\n",
    "}\n",
    "\n",
    "val dept: String = getDepartment(\"joe\")\n",
    "val dept2: String = getDepartment(\"jaehoon\")"
   ]
  },
  {
   "cell_type": "markdown",
   "metadata": {},
   "source": [
    "+ 위 코드는 어떤 문제가 있나요? 문제를 찾아 봅시다.\n",
    "+ 위 문제를 해결하는 방법은?\n",
    "+ 위 코드를 함수형으로 바꾸려면 어떻게 해야 할까?\n",
    "+ 위 코드를 함수형으로 바꾼 형태는 어떻게 될까?"
   ]
  },
  {
   "cell_type": "code",
   "execution_count": 7,
   "metadata": {
    "collapsed": false
   },
   "outputs": [
    {
     "data": {
      "text/plain": [
       "defined \u001b[32mclass \u001b[36mEmployee\u001b[0m\n",
       "defined \u001b[32mfunction \u001b[36mlookupByName\u001b[0m\n",
       "defined \u001b[32mfunction \u001b[36mgetDepartment\u001b[0m\n",
       "\u001b[36mdept\u001b[0m: String = \u001b[32m\"development\"\u001b[0m"
      ]
     },
     "metadata": {},
     "output_type": "display_data"
    }
   ],
   "source": [
    "case class Employee(name:String,department:String)\n",
    "\n",
    "def lookupByName(name:String) : Employee = {\n",
    "    name match {\n",
    "        case \"joe\" => new Employee(\"joe\",\"development\")\n",
    "    }\n",
    "}\n",
    "\n",
    "def getDepartment(name:String) : String = {\n",
    "    lookupByName(name).department\n",
    "}\n",
    "\n",
    "val dept: String = getDepartment(\"joe\")"
   ]
  },
  {
   "cell_type": "markdown",
   "metadata": {},
   "source": [
    "# 4. 예외를 이용하지 않은 오류 처리\n",
    "\n",
    "+ 이번 장의 목표\n",
    "    + 실패 상황과 예외를 보통의 값으로 표현할 수 있다.\n",
    "    + 일반적인 오류 처리-복구 패턴을 추상화한 고차 함수를 작성할 수 있다. \n",
    "+ 예외\n",
    "    + 예외를 던지는 것은 부수효과중 하나다. \n",
    "    + 함수적 코드에서는 예외를 사용하지 않는다.\n",
    "    + 함수적 코드에서는 예외를 어떻게 처리할까?\n",
    "        + 함수적 코드에서는 예외를 값으로 돌려준다.\n",
    "            + 이 방법은 예외를 던지는 방법보다 더 안전하다.\n",
    "            + 이 방법은 참조 투명성을 깨뜨리지 않는다.\n",
    "        + 고차 함수를 이용해서 \"오류 처리 논리를 통합(consolidation)\"할 수 있다."
   ]
  },
  {
   "cell_type": "markdown",
   "metadata": {},
   "source": [
    "## 4.1 예외의 장단점\n",
    "+ 예외는 참조 투명성을 해칠까?\n",
    "+ 예외가 참조 투명성을 해치는 것이 왜 문제가 될까?"
   ]
  },
  {
   "cell_type": "code",
   "execution_count": 8,
   "metadata": {
    "collapsed": false
   },
   "outputs": [
    {
     "ename": "",
     "evalue": "",
     "output_type": "error",
     "traceback": [
      "java.lang.Exception: fail"
     ]
    }
   ],
   "source": [
    "def failingFn1(i:Int) : Int = {\n",
    "    val y : Int = throw new Exception(\"fail\")\n",
    "    try {\n",
    "        val x = 42 + 5\n",
    "        x //x + y\n",
    "    }\n",
    "    catch { case e : Exception => 43 }\n",
    "}\n",
    "\n",
    "val x = failingFn1(1)"
   ]
  },
  {
   "cell_type": "code",
   "execution_count": 9,
   "metadata": {
    "collapsed": false
   },
   "outputs": [
    {
     "data": {
      "text/plain": [
       "defined \u001b[32mfunction \u001b[36mfailingFn2\u001b[0m\n",
       "\u001b[36mx\u001b[0m: Int = \u001b[32m43\u001b[0m"
      ]
     },
     "metadata": {},
     "output_type": "display_data"
    }
   ],
   "source": [
    "def failingFn2(i:Int) : Int = {\n",
    "    try {\n",
    "        val x = 42 + 5\n",
    "        x + ((throw new Exception(\"fail\")): Int)\n",
    "    }\n",
    "    catch { case e : Exception => 43 }\n",
    "}\n",
    "\n",
    "val x = failingFn2(1)"
   ]
  },
  {
   "cell_type": "markdown",
   "metadata": {},
   "source": [
    "+ 참조 투명성(Referential Transparency)\n",
    "    + 표현식이 참조 투명하다면, 문맥(context)에 의존하지 않으며 지역적으로 추론할 수 있다.\n",
    "    + 표현식이 참조 투명하지 않다면, 표현식의 의미가 문맥에 의존적이고, 전역의 추론이 필요하다.\n",
    "    + 표현식 42 + 5 는 문맥에 관계없이 항상 47이다.\n",
    "    + 그러나, throw new Exception(\"fail\") 의 의미는 문맥에 따라 달라진다.\n",
    "        + try 블럭에 포함되어 있지 않으면, 예외를 던진다.\n",
    "        + try 블럭에 포함되어 있다면, 오류 처리 로직(catch 문)이 실행된다. \n",
    "        \n",
    "+ 예외의 문제\n",
    "    + 예외는 참조 투명성을 위반하고, 문맥 의존성을 만든다. \n",
    "        + 치환 모형의 간단한 추론이 불가능해진다.\n",
    "        + 예외에 기초한 혼란스런 코드가 만들어진다.\n",
    "        + 예외는 오류 처리에만 사용하고, 흐름의 제어에는 사용하지 말아야 한다.\n",
    "    + 예외는 형식에 안전하지 않다.\n",
    "        + 함수의 형식(signature)만 보고는 이 함수가 예외를 던질 수 있다는 사실을 전혀 알 수 없다. \n",
    "        + 따라서, 컴파일러는 failingFn1 의 호출자가 예외를 처리하도록 강제할 방법이 없다.\n",
    "        + failingFn1 의 호출자에서 예외 처리를 하지 않으면, 실행시점에야 발견된다.\n",
    "        \n",
    "        \n",
    "+ Java 의 Checked Exception\n",
    "    + 오류를 처리할 것인지, Call Stack 상의 아래 함수(예외가 발생한 함수를 부른 함수)로 전달할 것인지 강제화한다.\n",
    "    + 호출하는 쪽에 판에 박힌 코드(boilerplate)가 만들어진다.\n",
    "    + 고차함수에서는 통하지 않는다.\n",
    "        + 고차함수는 함수를 인자로 받는다.\n",
    "        + 이 함수가 어떤 예외를 발생시킬지 알 수가 없다.\n",
    "\n",
    "\n",
    "+ 오류 처리 논리를 consolidation 하고 중앙집중화를 유지하려면 어떻게 해야할까?\n",
    "    + 예외를 던지는 대신, 예외적인 조건이 발생했음을 뜻하는 값을 돌려준다.\n",
    "        + C에서 예외 처리를 위해 오류부호를 돌려주는 방식.\n",
    "    + 오류 부호를 직접 돌려주는 대신, 오류 부호를 돌려주기 위한 새로운 타입을 도입하고\n",
    "    + 오류 처리와 전파에 관한 공통적인 패턴들을 고차 함수를 이용해 캡슐화한다. \n",
    "        + 형식에 완전히 안전하다.\n",
    "        + 구문 잡음을 최소화할 수 있다.\n",
    "        + 스칼라의 타입 검사기가 실수를 미리 발견할 수 있다.\n",
    "\n",
    "\n",
    "        \n",
    "## 4.2 예외의 가능한 대안들\n"
   ]
  },
  {
   "cell_type": "code",
   "execution_count": 66,
   "metadata": {
    "collapsed": false
   },
   "outputs": [
    {
     "data": {
      "text/plain": [
       "defined \u001b[32mfunction \u001b[36mmean\u001b[0m"
      ]
     },
     "metadata": {},
     "output_type": "display_data"
    }
   ],
   "source": [
    "def mean(xs: Seq[Double]) : Double = \n",
    "    if ( xs.isEmpty )\n",
    "        throw new ArithmeticException(\"mean of empty list!\")\n",
    "    else xs.sum / xs.length"
   ]
  },
  {
   "cell_type": "markdown",
   "metadata": {},
   "source": [
    "+ 평균값을 구하는 mean 함수를 보자.\n",
    "    + 이 함수는 부분함수(partial function)이다. \n",
    "    + 일부 입력에 대해서는 정의되지 않는 함수를 부분함수라고 한다.\n",
    "+ 예외를 처리하는 방법\n",
    "    + 첫번째 대안. \n",
    "        + Double 형식의 가짜 값을 돌려준다. \n",
    "            + 경계값을 돌려준다. NaN 값을 돌려준다.\n",
    "            + type 값대신 null 을 돌려준다. \n",
    "        + 이 접근 방식의 문제\n",
    "            + 오류가 소리 없이 전파될 수 있다.\n",
    "                + 오류 점검 코드를 빼먹어도 컴파일러가 경고해 줄 수 없다.\n",
    "                + 오류가 발생하면 이후 코드가 제대로 작동되지 않는다.\n",
    "                + 오류가 훨씬 나중에 다른 코드 영역에서 검출된다.\n",
    "            + 호출하는 쪽에 오류를 검사하는 판에 박힌 코드들이 추가되어야 한다. \n",
    "            + 다형적 코드에는 적용할 수가 없다. \n",
    "                + 형식의 경계값을 결정하는 것이 불가능할 수도 있다.\n",
    "            + 호출자에게 특별한 방침이나 호출 규약을 요구한다.\n",
    "                + 호출자는 mean 을 호출해서 사용하는 것 이상의 작업을 해야 한다. \n",
    "                + 함수에 이런 특별한 방침을 요구한다면, 모든 인슈를 동일한 방식으로 처리해야 하는 고차 함수에 전달하기 어렵다."
   ]
  },
  {
   "cell_type": "markdown",
   "metadata": {},
   "source": [
    "+ 두번째 대안\n",
    "    + 함수가 입력을 처리할 수 없을 때, 처리해야 하는 것을 인수로 전달한다. \n",
    "    + mean은 부분함수가 아니라 완전함수가 된다.\n",
    "    + mean 함수의 호출자가 결과가 정의되지 않은 경우의 처리 방식을 호출하는 사람이 알고 있어야 한다.\n",
    "    + 단점 \n",
    "        + mean 이 정의되지 않은 입력에 대해서, 계산을 취소해야 한다면 어떻게 할까?\n",
    "        + 더 큰 계산에서 지금과는 완전히 다른 분기로 넘어가야 한다면?\n",
    "        + onEmpty 값만을 넘겨줘서는 그런 유연성을 얻을 수 없다."
   ]
  },
  {
   "cell_type": "code",
   "execution_count": 67,
   "metadata": {
    "collapsed": false
   },
   "outputs": [
    {
     "data": {
      "text/plain": [
       "defined \u001b[32mfunction \u001b[36mmean_1\u001b[0m"
      ]
     },
     "metadata": {},
     "output_type": "display_data"
    }
   ],
   "source": [
    "def mean_1(xs: Seq[Double],onEmpty:Double) : Double = \n",
    "    if ( xs.isEmpty ) onEmpty\n",
    "    else xs.sum / xs.length"
   ]
  },
  {
   "cell_type": "markdown",
   "metadata": {},
   "source": [
    "## 4.3 Option 자료 형식\n",
    "\n",
    "+ 오류처리 논리를 통합하는 해법\n",
    "    + 반환 형식을 이용해서 함수가 항상 답을 내지 못한다는 점을 명시적으로 표현한다. \n",
    "    + 이 방법은 오류 처리 전략을 호출자에게 미루는 것으로 볼 수도 있다. \n",
    "    + 이 방법을 구현하기 위해서 Option 이라는 새로운 타입을 도입한다."
   ]
  },
  {
   "cell_type": "code",
   "execution_count": 68,
   "metadata": {
    "collapsed": false
   },
   "outputs": [
    {
     "data": {
      "text/plain": [
       "defined \u001b[32mtrait \u001b[36mOption\u001b[0m\n",
       "defined \u001b[32mclass \u001b[36mSome\u001b[0m\n",
       "defined \u001b[32mobject \u001b[36mNone\u001b[0m"
      ]
     },
     "metadata": {},
     "output_type": "display_data"
    }
   ],
   "source": [
    "sealed trait Option[+A]\n",
    "case class Some[+A](get:A) extends Option[A]\n",
    "case object None extends Option[Nothing]"
   ]
  },
  {
   "cell_type": "markdown",
   "metadata": {},
   "source": [
    "+ Option 의 값 해석하기\n",
    "    + Some : 계산 결과를 정의할 수 있는 경우에 값을 감싸서 돌려준다.\n",
    "    + None : 계산 결과를 정의할 수 없는 경우에 돌려준다."
   ]
  },
  {
   "cell_type": "code",
   "execution_count": 69,
   "metadata": {
    "collapsed": false
   },
   "outputs": [
    {
     "data": {
      "text/plain": [
       "defined \u001b[32mfunction \u001b[36mmean_1\u001b[0m"
      ]
     },
     "metadata": {},
     "output_type": "display_data"
    }
   ],
   "source": [
    "def mean_1(xs: Seq[Double],onEmpty:Double) : Option[Double] = \n",
    "    if ( xs.isEmpty ) None\n",
    "    else Some(xs.sum / xs.length)"
   ]
  },
  {
   "cell_type": "markdown",
   "metadata": {},
   "source": [
    "+ 평균을 구하는 함수 mean 을 위와 같이 바꿀 수 있다.\n",
    "    + 결과값이 Option 이기 때문에, 함수 결과가 정의되지 않는 경우가 있다는 것을 알 수 있다.\n",
    "    + mean_1 은 항상 값을 돌려주기 때문에 완전함수가 된다."
   ]
  },
  {
   "cell_type": "markdown",
   "metadata": {},
   "source": [
    "### 4.3.1 Option 사용하기\n",
    "\n",
    "+ Functional Programming 에서는 Option 과 같은 타입을 이용해서 부분함수를 처리한다.\n",
    "    + 스칼라 라이브러리에서 Option 을 사용하는 예\n",
    "        + Map 에서 주어진 키를 찾는 함수는 Option 을 돌려준다.\n",
    "        + 목록에서 headOption 과 lastOption 을 사용한다. \n",
    "    + Option 은 왜 편리한가?\n",
    "        + 고차 함수를 이용해 오류 처리의 공통 패턴을 추출할 수 있다.\n",
    "        + 예외 처리에 수반되는 판에 박힌 코드를 작성하지 않아도 된다. "
   ]
  },
  {
   "cell_type": "code",
   "execution_count": 70,
   "metadata": {
    "collapsed": false,
    "scrolled": true
   },
   "outputs": [
    {
     "data": {
      "text/plain": [
       "defined \u001b[32mtrait \u001b[36mOption\u001b[0m"
      ]
     },
     "metadata": {},
     "output_type": "display_data"
    }
   ],
   "source": [
    "trait Option[+A] {\n",
    "    def map[B](f: A=>B) : Option[B] // Option 이 None 이 아니면, f 를 적용한다.\n",
    "    def flatMap[B](f: A=>Option[B]) : Option[B] // Option 이 None 이 아니면 f 를 적용한다.\n",
    "    def getOrElse[B >: A](default: => B) : B // Option 이 None 이면 default 를 None 이 아니면 \n",
    "    def orElse[B>:A](ob: => Option[B]): Option[B]\n",
    "    def filter(f:A=>Boolean) : Option[A] // 값이 f를 만족하지 않으면 Some 을 None 으로 변환한다.\n",
    "}"
   ]
  },
  {
   "cell_type": "markdown",
   "metadata": {},
   "source": [
    "+ trait 로 정의하기 : 위에서 Option 에 대한 기본적인 함수들을 trait 로 정의하였다.\n",
    "+ trait 로 정의하면 \n",
    "    + obj.fn(arg) 나 obj fn arg1 같은 방식으로 호출할 수 있다. \n",
    "    + 동반객체로 정의하면 fn(obj,arg1) 과 같은 형식으로 호출해야 한다. \n",
    "+ Option 함수 정의에서 특이한 부분 살펴보기\n",
    "    + default :=> \n",
    "        + 해당 인수의 형식이 B 이지만 그 인수가 함수에서 실제로 쓰일 때까지는 평가되지 않는다. \n",
    "        + 이를 비엄격성(non-strictness)라고 하는데, 5장에서 설명한다.\n",
    "    + B >: A\n",
    "        + B가 A 타입이거나 A 의 supertype 임을 의미한다.\n",
    "        + Option[+A] 를 A 의 공변형식으로 선언해도 안전하다고 추론하게 하려면 반드시 이렇게 지정해야 한다.\n",
    "+ 함수들의 정의\n",
    "    + map \\[ B \\](f: A=>B) : Option[B]\n",
    "        + 자신이 Some 인 경우에 변환을 수행한(함수 f를 적용) 후에, 변환된 값을 Some 으로 감싸서 돌려준다.\n",
    "        + None 인 경우에는 None 을 반환한다.\n",
    "    + flatMap \\[ B \\](f: A=>Option[B]) : Option[B]\n",
    "        + Some 인 경우에 함수를 적용한 Option 값을 반환한다.\n",
    "        + None 인 경우에는 None 을 돌려준다.\n",
    "    + getOrElse \\[ B >: A \\](default: => B) : B\n",
    "        + 자신이 None 이면 패러미터 값을 반환한다.\n",
    "        + 자신이 None 이 아니면, 옵션 값을 반환한다.\n",
    "    + orElse \\[ B >: A \\](ob: => Option[B]): Option[B]\n",
    "        + getOrElse 와 같지만, Option 으로 돌려준다는 것만 다르다. \n",
    "    + filter(f:A => Boolean) : Option[A]\n",
    "        + 필터로 전달된 함수가 성공할 때는 자기자신을 반환한다.\n",
    "        + 그렇지 않으면, None 을 반환한다."
   ]
  },
  {
   "cell_type": "markdown",
   "metadata": {},
   "source": [
    "연습문제 4.1\n",
    "+ Option 의 함수들을 모두 구현하라. 각 함수를 구현할 때 그 함수가 어떤 일을 하고 어떤 상황에서 쓰일 것인지 생각해 보라. 이 함수들 각각의 용도를 잠시 후에 보게 될 것이다."
   ]
  },
  {
   "cell_type": "code",
   "execution_count": 71,
   "metadata": {
    "collapsed": false
   },
   "outputs": [
    {
     "data": {
      "text/plain": [
       "\u001b[32mimport \u001b[36mscala.{Option => _, Either => _, _}\u001b[0m\n",
       "defined \u001b[32mtrait \u001b[36mOption\u001b[0m\n",
       "defined \u001b[32mclass \u001b[36mSome\u001b[0m\n",
       "defined \u001b[32mobject \u001b[36mNone\u001b[0m"
      ]
     },
     "metadata": {},
     "output_type": "display_data"
    }
   ],
   "source": [
    "//hide std library `Option` and `Either`, since we are writing our own in this chapter\n",
    "import scala.{Option => _, Either => _, _}\n",
    "\n",
    "sealed trait Option[+A] {\n",
    "    def map[B](f: A=>B) : Option[B] = {\n",
    "        this match {\n",
    "            case None => None\n",
    "            case Some(a) => println(a); Some(f(a))\n",
    "        }\n",
    "    }\n",
    "    def getOrElse[B >: A](default: => B) : B = {\n",
    "        this match {\n",
    "            case None => default\n",
    "            case Some(a) => a\n",
    "        }\n",
    "    }\n",
    "    def flatMap[B](f: A=>Option[B]) : Option[B] = {\n",
    "        this match {\n",
    "            case None => None\n",
    "            case Some(a) => f(a)\n",
    "        }\n",
    "    }\n",
    "    def orElse[B>:A](ob: => Option[B]): Option[B] = {\n",
    "        this map(Some(_)) getOrElse ob\n",
    "    }\n",
    "    \n",
    "    def filter(f:A=>Boolean) : Option[A] = {\n",
    "        this match {\n",
    "            case Some(a) if f(a) => Some(a)\n",
    "            case _ => None\n",
    "        }\n",
    "    }\n",
    "}\n",
    "\n",
    "case class Some[+A](get:A) extends Option[A]\n",
    "case object None extends Option[Nothing]"
   ]
  },
  {
   "cell_type": "code",
   "execution_count": 10,
   "metadata": {
    "collapsed": false
   },
   "outputs": [
    {
     "data": {
      "text/plain": [
       "defined \u001b[32mclass \u001b[36mEmployee\u001b[0m\n",
       "defined \u001b[32mfunction \u001b[36mlookupByName\u001b[0m\n",
       "\u001b[36mjoeDepartment\u001b[0m: scala.Option[String] = Some(Development)\n",
       "\u001b[36mjaehoonDepartment\u001b[0m: scala.Option[String] = None"
      ]
     },
     "metadata": {},
     "output_type": "display_data"
    }
   ],
   "source": [
    "case class Employee(name:String, department:String)\n",
    "\n",
    "def lookupByName(name:String) : Option[Employee] = name match {\n",
    "    case \"Joe\" => Some(new Employee(\"Joe\",\"Development\"))\n",
    "    case _ => None\n",
    "}\n",
    "\n",
    "val joeDepartment: Option[String] = lookupByName(\"Joe\").map(_.department)\n",
    "val jaehoonDepartment: Option[String] = lookupByName(\"Jaehoon\").map(_.department)"
   ]
  },
  {
   "cell_type": "markdown",
   "metadata": {},
   "source": [
    "+ joeDepartment \n",
    "    + \"Joe\" 라는 이름을 가진 직원이 있는지 찾아서 부서를 돌려준다.\n",
    "+ jaehoonDepartment\n",
    "    + lookupByName 이 None 을 돌려주기 때문에 map 함수가 실행되지 않는다."
   ]
  },
  {
   "cell_type": "markdown",
   "metadata": {},
   "source": [
    "lookupByName(\"Joe\").map(_.department)\n",
    "lookupByName(\"Joe\").flatMap(_.manager)\n",
    "lookupByName(\"Joe\").map(_.department).getOrElse(\"Default Dept.\")"
   ]
  },
  {
   "cell_type": "markdown",
   "metadata": {},
   "source": [
    "연습문제 4.2 \n",
    "variance 함수를 flatMap 을 이용해서 구현하라. 순차열이 평균이 m 이라 할 떄, 순차열의 각 요소 x를 math.pow(x-m,2) 을 평균한 값이 분산이다.\n",
    "\n",
    "def variance(xs: Seq \\[ Double \\]): Option\\[ Double \\]"
   ]
  },
  {
   "cell_type": "code",
   "execution_count": 73,
   "metadata": {
    "collapsed": false
   },
   "outputs": [
    {
     "ename": "",
     "evalue": "",
     "output_type": "error",
     "traceback": [
      "Compilation Failed",
      "\u001b[31mMain.scala:61: object <repeated> is not a member of package scala",
      "import scala.{",
      "       ^\u001b[0m",
      "\u001b[31mMain.scala:298: value map is not a member of cmd41.this.$ref$cmd32.Employee",
      "possible cause: maybe a semicolon is missing before `value map'?",
      "    map(_.department).",
      "    ^\u001b[0m"
     ]
    }
   ],
   "source": [
    "val dept: String = \n",
    "    lookupByName(\"Joe\").\n",
    "    map(_.department).\n",
    "    filter(_ != \"Accounting\").\n",
    "    getOrElse(\"Default Dept\")"
   ]
  },
  {
   "cell_type": "markdown",
   "metadata": {},
   "source": [
    "+ 오류를 보통의 값으로 돌려주었기 때문에 코드를 읽기가 훨씬 편하다.\n",
    "    + 예외를 처리하기 위한 로직이 필요없기 때문에, 코드 짜기가 편해진다.\n",
    "    + 고차함수를 사용해서 오류 처리 논리를 통합하면서도 비지니스 로직과는 격리할 수 있다.\n",
    "    + 계산할 때마다 None 을 점검할 필요가 없다.\n",
    "    + 타입 안정성을 얻을 수 있다. Option[A] 와 A 는 다른 타입이기 때문에 None 일 수 있는 상황을 처리하지 않으면 컴파일 오류가 발생한다."
   ]
  },
  {
   "cell_type": "markdown",
   "metadata": {},
   "source": [
    "### 4.3.2 예외 지향적 API 의 Option 승급, 감싸기\n",
    "\n",
    "+ Option 을 사용하기 시작하면, 코드 기반 전체에 Option 이 번지게 되지 않을까?\n",
    "    + 즉, Option 을 받거나 돌려주는 메소드를 호출하는 모든 코드를 Some 이나 None  을 처리하도록 수정해야 하지 않을까?\n",
    "    + 그렇게 하지 않아도 된다. \n",
    "    + 보통 함수를 Option 에 대해서도 작용하는 함수로 승급(lift)시킬 수 있기 때문이다.\n",
    "        + Option[A] 의 map 함수를 부르고\n",
    "        + A => B 타입의 함수를 전달하면\n",
    "        + Option[B] 를 돌려주는 함수로 바꿀 수 있다."
   ]
  },
  {
   "cell_type": "code",
   "execution_count": 74,
   "metadata": {
    "collapsed": false
   },
   "outputs": [
    {
     "ename": "",
     "evalue": "",
     "output_type": "error",
     "traceback": [
      "Compilation Failed",
      "\u001b[31mMain.scala:61: object <repeated> is not a member of package scala",
      "import scala.{",
      "       ^\u001b[0m",
      "\u001b[31mMain.scala:303: type mismatch;",
      " found   : () => Option[Int] => Option[Int]",
      " required: Option[Double] => Option[Double]",
      "}.apply",
      "  ^\u001b[0m"
     ]
    }
   ],
   "source": [
    "def lift[A,B](f: A=> B): Option[A] => Option[B] = _ map f\n",
    "\n",
    "val abs2: Option[Double] => Option[Double] = lift(math.abs)"
   ]
  },
  {
   "cell_type": "markdown",
   "metadata": {},
   "source": [
    "+ lift 는 None 을 None 으로 사상하고 Some 의 내용을 f 에 적용하는 함수를 돌려준다. \n",
    "    + f 는 Option 타입을 인지할 필요가 없다.\n",
    "+ Option 문맥으로 승급시키기\n",
    "    + 위의 math.abs 처럼 선택적 값에 따라 작동하는 함수를 모두 작성할 필요가 없다.\n",
    "    + 함수를 Option 문맥으로 승급시키기만 하면 된다."
   ]
  },
  {
   "cell_type": "code",
   "execution_count": 21,
   "metadata": {
    "collapsed": false
   },
   "outputs": [
    {
     "ename": "",
     "evalue": "",
     "output_type": "error",
     "traceback": [
      "Compilation Failed",
      "\u001b[31mMain.scala:95: type mismatch;",
      " found   : Unit",
      " required: Option[Double]",
      "} ; def Try[A](a: => A) : Option[A] = {",
      "^\u001b[0m"
     ]
    }
   ],
   "source": [
    "def insuranceRateQuote(age:Int,numberOfSpeedingTickets:Int) : Double = \n",
    "    age * numberOfSpeedingTickets\n",
    "\n",
    "def parseInsuranceRateQuote(age:String,numberOfSpeedingTickets: String) : Option[Double] = {\n",
    "    val optAge: Option[Int] = Try(age.toInt)\n",
    "    val optTickets : Option[Int] = Try(numberOfSpeedingTickets.toInt)\n",
    "    insuranceRateQuote(optAge,optTickets)\n",
    "}\n",
    "\n",
    "def Try[A](a: => A) : Option[A] = {\n",
    "    try Some(a)\n",
    "    catch { case e: Exception => None }\n",
    "}"
   ]
  },
  {
   "cell_type": "markdown",
   "metadata": {},
   "source": [
    "+ Try 는 예외기반 API 를 Option 지향적 API 로 변환하는 범용 함수다.\n",
    "    + 이 함수는 게으른(lazy) 인수를 사용한다. "
   ]
  },
  {
   "cell_type": "markdown",
   "metadata": {},
   "source": [
    "연습문제 4.3\n",
    "+ 두 Option 값을 이항 함수(binary function)을 이용해서 결합하는 일반적 함수 map2 를 작성하라.\n",
    "+ 두 Option 값 중 하나라도 None 이면 map2 의 결과 역시 None 이어야 한다. \n",
    "+ Signature 는 다음과 같다.\n",
    "\n",
    "def map2 \\[ A,B,C \\](a:Option\\[ A \\],b:Option \\[ B \\])(f:(A,B) => C) : Option \\[ C \\]"
   ]
  },
  {
   "cell_type": "code",
   "execution_count": 11,
   "metadata": {
    "collapsed": false
   },
   "outputs": [
    {
     "data": {
      "text/plain": [
       "defined \u001b[32mfunction \u001b[36mmap2\u001b[0m"
      ]
     },
     "metadata": {},
     "output_type": "display_data"
    }
   ],
   "source": [
    "def map2[A,B,C](a:Option[A],b:Option[B])(f:(A,B) => C) : Option[C] =\n",
    "    a flatMap ( aa => b map ( bb => f(aa,bb)))"
   ]
  },
  {
   "cell_type": "markdown",
   "metadata": {},
   "source": [
    "+ map2 함수는 인수가 두 개인 함수를 아무 수정없이 Option 에 대응하게 만들 수 있다."
   ]
  },
  {
   "cell_type": "code",
   "execution_count": 12,
   "metadata": {
    "collapsed": false
   },
   "outputs": [
    {
     "data": {
      "text/plain": [
       "defined \u001b[32mfunction \u001b[36minsuranceRateQuote\u001b[0m\n",
       "defined \u001b[32mfunction \u001b[36mparseInsuranceRateQuote\u001b[0m\n",
       "defined \u001b[32mfunction \u001b[36mTry\u001b[0m"
      ]
     },
     "metadata": {},
     "output_type": "display_data"
    }
   ],
   "source": [
    "def insuranceRateQuote(age:Int,numberOfSpeedingTickets:Int) : Double = \n",
    "    age * numberOfSpeedingTickets\n",
    "\n",
    "def parseInsuranceRateQuote(age:String,numberOfSpeedingTickets: String) : Option[Double] = {\n",
    "    val optAge: Option[Int] = Try(age.toInt)\n",
    "    val optTickets : Option[Int] = Try(numberOfSpeedingTickets.toInt)\n",
    "    map2(optAge,optTickets)(insuranceRateQuote)\n",
    "}\n",
    "\n",
    "def Try[A](a: => A) : Option[A] = {\n",
    "    try Some(a)\n",
    "    catch { case e: Exception => None }\n",
    "}"
   ]
  },
  {
   "cell_type": "markdown",
   "metadata": {},
   "source": [
    "연습문제 4.4\n",
    "+ Option 들의 목록을 받고, 그 목록에 있는 모든 Some 값으로 구성된 목록을 담은 Option 을 돌려주는 함수 sequence 를 작성하라. \n",
    "+ 원래의 목록에 None 이 하나라도 있으면 함수의 결과도 None 이어야 한다.\n",
    "+ 원래의 목록에 None 이 없으면, 원래 목록에 있는 모든 값의 목록을 담은 Some 을 돌려주어야 한다.\n",
    "+ Signature 는 다음과 같다.\n",
    "\n",
    "def sequence \\[ A \\](a: List \\[ Option \\[ A \\] \\]) : Option \\[ List \\[ A \\] \\]"
   ]
  },
  {
   "cell_type": "code",
   "execution_count": 20,
   "metadata": {
    "collapsed": false
   },
   "outputs": [
    {
     "data": {
      "text/plain": [
       "defined \u001b[32mfunction \u001b[36msequence\u001b[0m"
      ]
     },
     "metadata": {},
     "output_type": "display_data"
    }
   ],
   "source": [
    "def sequence [ A ](a: List [ Option [ A ] ]) : Option [ List [ A ] ] = {\n",
    "    a match {\n",
    "        case Nil => Some( Nil )\n",
    "        case h :: t => h flatMap (hh => sequence(t) map (hh :: _))\n",
    "    }\n",
    "}"
   ]
  },
  {
   "cell_type": "markdown",
   "metadata": {},
   "source": [
    "+ 목록의 원소 중 하나라도 None 을 돌려주면, 전체 결과가 None 이 되게 해야 할 때도 있다.\n",
    "+ 예를 들어, String 목록을 정수로 파싱하는데 하나라도 실패하면 전체가 실패하게 만들어야 한다면 어떻게 할까?"
   ]
  },
  {
   "cell_type": "code",
   "execution_count": 22,
   "metadata": {
    "collapsed": false
   },
   "outputs": [
    {
     "ename": "",
     "evalue": "",
     "output_type": "error",
     "traceback": [
      "Compilation Failed",
      "\u001b[31mMain.scala:93: type mismatch;",
      " found   : List[cmd15.INSTANCE.$ref$cmd12.Either[Exception,Int]]",
      " required: List[Option[Int]]",
      "    sequence( a map ( i => Try(i.toInt)) )",
      "                ^\u001b[0m"
     ]
    }
   ],
   "source": [
    "def parseInt(a:List[String]) : Option[List[Int]] =\n",
    "    sequence( a map ( i => Try(i.toInt)) )"
   ]
  },
  {
   "cell_type": "markdown",
   "metadata": {},
   "source": [
    "+ 이 접근 방법은 목록을 두 번 훑어야 하기 때문에 비효율적이다. \n",
    "    + 한 번은, 각 String 을 Option \\[ Int \\] 로 변환하기 위해서\n",
    "    + 또 한 번은, Option \\[ Int \\] 값들을 하나의 Option\\[ List \\[ Int \\] \\] 로 결합하기 위해서"
   ]
  },
  {
   "cell_type": "markdown",
   "metadata": {},
   "source": [
    "연습문제 4.5\n",
    "+ def traverse \\[ A, B \\](a: List \\[ A \\])(f: A => Option \\[ B \\]) : Option \\[ List \\[ B \\] \\]"
   ]
  },
  {
   "cell_type": "markdown",
   "metadata": {},
   "source": [
    "+ for-함축"
   ]
  },
  {
   "cell_type": "code",
   "execution_count": 13,
   "metadata": {
    "collapsed": false
   },
   "outputs": [
    {
     "data": {
      "text/plain": [
       "defined \u001b[32mfunction \u001b[36mmap2\u001b[0m"
      ]
     },
     "metadata": {},
     "output_type": "display_data"
    }
   ],
   "source": [
    "def map2[A,B,C](a:Option[A], b:Option[B])(f: (A,B) => C) : Option[C] =\n",
    "    for {\n",
    "        aa <- a\n",
    "        bb <- b\n",
    "    } yield f(aa,bb)"
   ]
  },
  {
   "cell_type": "code",
   "execution_count": 14,
   "metadata": {
    "collapsed": false
   },
   "outputs": [
    {
     "data": {
      "text/plain": [
       "defined \u001b[32mfunction \u001b[36mmap2\u001b[0m"
      ]
     },
     "metadata": {},
     "output_type": "display_data"
    }
   ],
   "source": [
    "def map2[A,B,C](a:Option[A], b:Option[B])(f: (A,B) => C) : Option[C] =\n",
    "    a flatMap ( \n",
    "        aa => b map (\n",
    "            bb => f(aa,bb)\n",
    "        )\n",
    "    )"
   ]
  },
  {
   "cell_type": "markdown",
   "metadata": {},
   "source": [
    "## 4.4 Either 자료 형식\n",
    "\n",
    "+ Option 의 문제는?\n",
    "    + 예외적인 조건이 발생했을 때 무엇이 잘못되었는지에 대한 정보를 제공하지 못한다.\n",
    "    + 실패하면, 유효한 값이 없음을 나타내는 None 을 돌려줄 뿐이다. \n",
    "+ 예외가 발생했을 때 더 상세한 정보를 전달하고 싶다면 어떻게 할까?\n",
    "    + 실패에 관해 알고 싶은 정보가 있다면, 실패 정보를 부호화하는 자료 형식을 만들 수 있다.\n",
    "    + Either 타입을 사용하면 실패의 원인을 추적할 수 있다."
   ]
  },
  {
   "cell_type": "code",
   "execution_count": 15,
   "metadata": {
    "collapsed": false
   },
   "outputs": [
    {
     "data": {
      "text/plain": [
       "defined \u001b[32mtrait \u001b[36mEither\u001b[0m\n",
       "defined \u001b[32mclass \u001b[36mLeft\u001b[0m\n",
       "defined \u001b[32mclass \u001b[36mRight\u001b[0m"
      ]
     },
     "metadata": {},
     "output_type": "display_data"
    }
   ],
   "source": [
    "sealed trait Either[+E,+A]\n",
    "case class Left[+E](value:E) extends Either[E,Nothing]\n",
    "case class Right[+A](value:A) extends Either[Nothing,A]"
   ]
  },
  {
   "cell_type": "markdown",
   "metadata": {},
   "source": [
    "+ Either\n",
    "    + Option 과 달리 두 경우 모두 다 값ㅇㄹ 가진다.\n",
    "    + 두 값중 하나일 수 있는 타입을 나타낸다.\n",
    "    + 이 타입은 두 타입의 분리 합집합(disjoint union)이라 할 수 있다 \n",
    "    + 성공을 나타낼 때는 Right 를 사용하고\n",
    "    + 실패를 나타낼 때는 Left 를 사용한다. \n",
    "    + 왼쪽 매개변수인 E 는 에러를 나타낸다. "
   ]
  },
  {
   "cell_type": "code",
   "execution_count": 16,
   "metadata": {
    "collapsed": false
   },
   "outputs": [
    {
     "data": {
      "text/plain": [
       "defined \u001b[32mfunction \u001b[36mmean\u001b[0m\n",
       "\u001b[36mres13_1\u001b[0m: cmd13.INSTANCE.$ref$cmd12.Either[String,Double] = Left(mean of empty list!)"
      ]
     },
     "metadata": {},
     "output_type": "display_data"
    }
   ],
   "source": [
    "def mean(xs: IndexedSeq[Double]): Either[String,Double] = {\n",
    "    if ( xs.isEmpty )\n",
    "        Left(\"mean of empty list!\")\n",
    "    else Right(xs.sum / xs.length)\n",
    "}\n",
    "\n",
    "mean(IndexedSeq())"
   ]
  },
  {
   "cell_type": "markdown",
   "metadata": {},
   "source": [
    "+ 오류가 발생한 위치를 알고 싶다면 예외를 저장하면 된다."
   ]
  },
  {
   "cell_type": "code",
   "execution_count": 17,
   "metadata": {
    "collapsed": false
   },
   "outputs": [
    {
     "data": {
      "text/plain": [
       "defined \u001b[32mfunction \u001b[36msafeDiv\u001b[0m"
      ]
     },
     "metadata": {},
     "output_type": "display_data"
    }
   ],
   "source": [
    "def safeDiv(x:Int, y:Int): Either[Exception,Int] =\n",
    "    try Right(x/y)\n",
    "    catch { case e: Exception => Left(e)}"
   ]
  },
  {
   "cell_type": "code",
   "execution_count": 18,
   "metadata": {
    "collapsed": false
   },
   "outputs": [
    {
     "data": {
      "text/plain": [
       "defined \u001b[32mfunction \u001b[36mTry\u001b[0m"
      ]
     },
     "metadata": {},
     "output_type": "display_data"
    }
   ],
   "source": [
    "def Try[A](a: => A) : Either[Exception,A] =\n",
    "    try Right(a)\n",
    "    catch { case e: Exception => Left(e) }"
   ]
  },
  {
   "cell_type": "code",
   "execution_count": 19,
   "metadata": {
    "collapsed": false
   },
   "outputs": [
    {
     "data": {
      "text/plain": [
       "defined \u001b[32mtrait \u001b[36mEither\u001b[0m"
      ]
     },
     "metadata": {},
     "output_type": "display_data"
    }
   ],
   "source": [
    "trait Either[+E, +A] {\n",
    "    def map[B](f: A => B) : Either[E,B]\n",
    "    def flatMap[EE >:E,B](f: A => Either[EE,B]): Either[EE,B]\n",
    "    def orElse[EE >:E, B>:A](b: => Either[EE,B]): Either[EE,B]\n",
    "    def map2[EE >:E, B, C](b:Either[EE,B])(f: (A,B) => C): Either[EE,C]\n",
    "}"
   ]
  }
 ],
 "metadata": {
  "kernelspec": {
   "display_name": "Scala 2.10",
   "language": "scala210",
   "name": "scala210"
  },
  "language_info": {
   "codemirror_mode": "text/x-scala",
   "file_extension": "scala",
   "mimetype": "text/x-scala",
   "name": "scala210",
   "pygments_lexer": "scala",
   "version": "2.10.5"
  }
 },
 "nbformat": 4,
 "nbformat_minor": 0
}
