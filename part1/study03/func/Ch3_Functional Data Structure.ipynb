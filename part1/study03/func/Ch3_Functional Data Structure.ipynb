{
 "cells": [
  {
   "cell_type": "markdown",
   "metadata": {},
   "source": [
    "<h1>함수적 자료구조</h1>\n",
    "<br>\n",
    "<li>함수적 = 순수함수 (부수효과 없는)</li>\n",
    "<li>자료구조 = 자료를 효과적으로 관리할 수 있는 구조</li>\n",
    "<br>\n",
    "<p>함수적이기 때문에,</p>\n",
    "<p>1. 데이터에 변화가 생길 때마다 새롭게 만들고</p>\n",
    "<p>2. 한번 만들어진 데이터는 변하지않는다 (삭제 포함)</p>"
   ]
  },
  {
   "cell_type": "code",
   "execution_count": 14,
   "metadata": {
    "collapsed": false
   },
   "outputs": [
    {
     "data": {
      "text/plain": [
       "\u001b[36ma\u001b[0m: \u001b[32mList\u001b[0m[\u001b[32mInt\u001b[0m] = \u001b[33mList\u001b[0m(\u001b[32m1\u001b[0m, \u001b[32m2\u001b[0m, \u001b[32m3\u001b[0m, \u001b[32m4\u001b[0m)\n",
       "\u001b[36mb\u001b[0m: \u001b[32mList\u001b[0m[\u001b[32mInt\u001b[0m] = \u001b[33mList\u001b[0m(\u001b[32m5\u001b[0m, \u001b[32m6\u001b[0m, \u001b[32m7\u001b[0m, \u001b[32m8\u001b[0m)\n",
       "\u001b[36mc\u001b[0m: \u001b[32mList\u001b[0m[\u001b[32mInt\u001b[0m] = \u001b[33mList\u001b[0m(\u001b[32m1\u001b[0m, \u001b[32m2\u001b[0m, \u001b[32m3\u001b[0m, \u001b[32m4\u001b[0m, \u001b[32m5\u001b[0m, \u001b[32m6\u001b[0m, \u001b[32m7\u001b[0m, \u001b[32m8\u001b[0m)"
      ]
     },
     "metadata": {},
     "output_type": "display_data"
    }
   ],
   "source": [
    "val a=List(1,2,3,4)\n",
    "val b=List(5,6,7,8)\n",
    "\n",
    "val c=a++b"
   ]
  },
  {
   "cell_type": "markdown",
   "metadata": {},
   "source": [
    "<p><b>Q) 그렇다면 불필요한 복사가 많이 일어나지않을까?</b></p>\n",
    "<p><b>A) 복사는 일어나지 않는다. 구슬(데이터)이 변하지 않으므로(immutable), 구슬들의 순서만 바꿔서 엮어주면 된다</b></p>\n",
    "<p> ( x - y - z ) a </p>\n",
    "<p> ( x - z - a ) y </p>"
   ]
  },
  {
   "cell_type": "markdown",
   "metadata": {},
   "source": [
    "<p> 구체적인 예제로 살펴보자<p>\n",
    "<p> 다음은 Singly LinkedList 구조를 스칼라로 구현한 것이다. </p>\n",
    "<p> 책에는 CList 가 아닌 List로 구현이 되어있는데, 본래 존재하는 List의 영향이 없음을 확실히 하기 위해 기존에 없는 CList로 작성하였다 </p>"
   ]
  },
  {
   "cell_type": "markdown",
   "metadata": {},
   "source": [
    "<h1>0. 스칼라 문법체크 : 자료구조의 일반형 (자료생성자 + apply)</h1>\n",
    "<br/>"
   ]
  },
  {
   "cell_type": "code",
   "execution_count": 10,
   "metadata": {
    "collapsed": false
   },
   "outputs": [
    {
     "data": {
      "text/plain": [
       "defined \u001b[32mtrait \u001b[36mCList\u001b[0m\n",
       "defined \u001b[32mobject \u001b[36mNil\u001b[0m\n",
       "defined \u001b[32mclass \u001b[36mCons\u001b[0m\n",
       "defined \u001b[32mobject \u001b[36mCList\u001b[0m"
      ]
     },
     "metadata": {},
     "output_type": "display_data"
    }
   ],
   "source": [
    "sealed trait CList[+A]\n",
    " \n",
    "case object Nil extends CList[Nothing]\n",
    " \n",
    "case class Cons[A](head: A, tail: CList[A]) extends CList[A]\n",
    " \n",
    "object CList {\n",
    " \n",
    "  def apply[A](a: A*): CList[A] = {\n",
    "    if (a.isEmpty) {\n",
    "      Nil\n",
    "    }else{\n",
    "      Cons(a.head, apply(a.tail: _*))\n",
    "    }\n",
    "  }\n",
    "}"
   ]
  },
  {
   "cell_type": "markdown",
   "metadata": {},
   "source": [
    "<p>우선 새로운 문법이 나왔으니 살펴보자</p>\n",
    "<br/>\n",
    "<li>1. sealed : 해당 파일 (.scala) 내에서 모든 구현이 선언되어 있어야 함을 뜻한다</li>\n",
    "<li>2. [+A] : +는 A가 B의 하위타입일 때, CList[A]도 CList[B]의 하위타입이 되도록 만든다. 가변지정자라고 부른다(variance annotation)</li>\n",
    "<li>3. apply : apply 메서드를 사용하면 CList(1,2,3,4) 등의 목록리터럴(list literal)방식으로 편하게 자료구조를 생성할 수 있게된다. </li>\n",
    "<li>4. [a: A\\*] : \\*는 여러개의 인자(0개 이상)를 받을 수 있도록 만들어준다(variadic function). Seq의 syntatic sugar이다. a.head, a.tail 이 가능한 이유이다</li> \n",
    "<br/>\n"
   ]
  },
  {
   "cell_type": "markdown",
   "metadata": {},
   "source": [
    "<p>case object Nil extends CList[Nothing]</p>\n",
    "<p>case class Cons\\[A\\](head: A, tail: CList[A]) extends CList\\[A\\]</p>\n",
    "<br/>\n",
    "<p>을 <font color=red>자료 생성자(Data Constructor)</font> 라고 칭한다. 그냥 생성자와는 다르다. 구슬들을 실제로 엮는 역할을 맡고 있다</p>\n",
    "<p>CList가 취할 수 있는 두 가지 형태를 표현한다</p>\n",
    "<br/>\n",
    "<li>1. Nil 은 비어있는 CList를</li>\n",
    "<li>2. Cons는 내용물이 있는 CList를 표현한다</li>\n",
    "<br/>\n",
    "<p>이때, Cons의 tail은 Nil 일 수 있다</p>\n",
    "<br/>\n",
    "<p>Nil과 같은 형태가 가능한 이유는, 가변지정자(trait CList[+A]) 덕분에 CList[Nothing]이 CList[A]의 하위타입이 되었기 때문이다</p>\n",
    "<p>참고로 Nothing은 모든 타입의 하위타입이다(Any는 모든 타입의 상위타입)</p>\n",
    "<br/>\n",
    "<p>이제 문법 체크가 끝났으니 다시 본론으로 돌아가 자료구조를 살펴보자</p>\n",
    "<br/>"
   ]
  },
  {
   "cell_type": "markdown",
   "metadata": {},
   "source": [
    "<h1>1. 재귀적 구슬(데이터) 엮기</h1>\n",
    "<br/>"
   ]
  },
  {
   "cell_type": "code",
   "execution_count": 22,
   "metadata": {
    "collapsed": false
   },
   "outputs": [
    {
     "name": "stdout",
     "output_type": "stream",
     "text": [
      "Cons(1,Cons(2,Cons(3,Cons(4,Cons(5,Nil)))))\r\n"
     ]
    },
    {
     "data": {
      "text/plain": [
       "\u001b[36mlist\u001b[0m: \u001b[32mCList\u001b[0m[\u001b[32mInt\u001b[0m] = Cons(1,Cons(2,Cons(3,Cons(4,Cons(5,Nil)))))"
      ]
     },
     "metadata": {},
     "output_type": "display_data"
    }
   ],
   "source": [
    "val list = CList(1,2,3,4,5)\n",
    "println(list)"
   ]
  },
  {
   "cell_type": "markdown",
   "metadata": {},
   "source": [
    "<p>Cons 구조는 재귀적형태로 구성되어 있는데, </p>\n",
    "<p>주목해야할 것은 </p>\n",
    "<li>1. Cons의 구성이 원소(element) 한개와 : example) 1</li>\n",
    "<li>2. 나머지 여러 데이터를 품고있는 Cons 로 이루어져 있다는 것이다 : example) Cons(2,Cons(3,Cons(hi,Cons(5,Nil))))</li>\n",
    "<br/>\n",
    "<p>이제 이러한 자료구조에서 구슬(자료)들을 다르게 엮는 여러 메서드들을 살펴보자</p>"
   ]
  },
  {
   "cell_type": "code",
   "execution_count": 35,
   "metadata": {
    "collapsed": false
   },
   "outputs": [
    {
     "data": {
      "text/plain": [
       "defined \u001b[32mfunction \u001b[36mtail\u001b[0m\n",
       "defined \u001b[32mfunction \u001b[36mdrop\u001b[0m\n",
       "defined \u001b[32mfunction \u001b[36msetHead\u001b[0m\n",
       "defined \u001b[32mfunction \u001b[36maddHead\u001b[0m\n",
       "defined \u001b[32mfunction \u001b[36mappend\u001b[0m"
      ]
     },
     "metadata": {},
     "output_type": "display_data"
    }
   ],
   "source": [
    "def tail[A](l:CList[A]): CList[A] = l match {\n",
    "    case Nil => throw new NoSuchElementException\n",
    "    case Cons(x, xs) => xs\n",
    "}\n",
    "def drop[A](l:CList[A], n:Int): CList[A] = l match {\n",
    "    case Nil => Nil\n",
    "    case Cons(x, xs) => {\n",
    "      if(n>1){\n",
    "        drop(xs, n-1)\n",
    "      }else{\n",
    "        xs\n",
    "      }\n",
    "    }\n",
    "}\n",
    "\n",
    "def setHead[A](l:CList[A], n:A): CList[A] = l match {\n",
    "    case Nil => CList(n)\n",
    "    case Cons(x, xs) => Cons(n, xs)\n",
    "}\n",
    "def addHead[A](l:CList[A], n:A): CList[A] = l match {\n",
    "    case Nil => CList(n)\n",
    "    case Cons(x, xs) => Cons(n, Cons(x, xs))\n",
    "}\n",
    "def append[A](a1: CList[A], a2: CList[A]): CList[A] = a1 match {\n",
    "    case Nil => a2\n",
    "    case Cons(x, xs) => Cons(x, append(xs, a2))\n",
    "}"
   ]
  },
  {
   "cell_type": "code",
   "execution_count": 38,
   "metadata": {
    "collapsed": false
   },
   "outputs": [
    {
     "data": {
      "text/plain": [
       "\u001b[36mres24_0\u001b[0m: \u001b[32mCList\u001b[0m[\u001b[32mInt\u001b[0m] = Cons(2,Cons(3,Cons(4,Cons(5,Nil))))\n",
       "\u001b[36mres24_1\u001b[0m: \u001b[32mCList\u001b[0m[\u001b[32mInt\u001b[0m] = Cons(4,Cons(5,Nil))\n",
       "\u001b[36mres24_2\u001b[0m: \u001b[32mCList\u001b[0m[\u001b[32mInt\u001b[0m] = Nil\n",
       "\u001b[36mres24_3\u001b[0m: \u001b[32mCList\u001b[0m[\u001b[32mInt\u001b[0m] = Cons(9,Cons(2,Cons(3,Cons(4,Cons(5,Nil)))))\n",
       "\u001b[36mres24_4\u001b[0m: \u001b[32mCList\u001b[0m[\u001b[32mInt\u001b[0m] = Cons(9,Cons(1,Cons(2,Cons(3,Cons(4,Cons(5,Nil))))))\n",
       "\u001b[36mres24_5\u001b[0m: \u001b[32mCList\u001b[0m[\u001b[32mInt\u001b[0m] = Cons(1,Cons(2,Cons(3,Cons(4,Cons(5,Cons(1,Cons(2,Cons(3,Cons(4,Cons(5,Nil))))))))))"
      ]
     },
     "metadata": {},
     "output_type": "display_data"
    }
   ],
   "source": [
    "tail(list)\n",
    "drop(list, 3)\n",
    "drop(list, 6)\n",
    "setHead(list, 9)\n",
    "addHead(list, 9)\n",
    "append(list, list)"
   ]
  },
  {
   "cell_type": "markdown",
   "metadata": {
    "collapsed": true
   },
   "source": [
    "<p>한편, 자료구조의 각 요소들을 더한다거나, 곱하는 등의 조작도 당연히 가능하다</p>"
   ]
  },
  {
   "cell_type": "code",
   "execution_count": 43,
   "metadata": {
    "collapsed": false
   },
   "outputs": [
    {
     "data": {
      "text/plain": [
       "defined \u001b[32mfunction \u001b[36msum\u001b[0m\n",
       "defined \u001b[32mfunction \u001b[36mproduct\u001b[0m"
      ]
     },
     "metadata": {},
     "output_type": "display_data"
    }
   ],
   "source": [
    "def sum(ints: CList[Int]): Int = ints match {\n",
    "    case Nil => 0\n",
    "    case Cons(x, xs) => x + sum(xs)\n",
    "}\n",
    "\n",
    "def product(ds: CList[Int]): Int = ds match {\n",
    "    case Nil => 1\n",
    "    case Cons(x, xs) => x * product(xs)\n",
    "}"
   ]
  },
  {
   "cell_type": "code",
   "execution_count": 48,
   "metadata": {
    "collapsed": false
   },
   "outputs": [
    {
     "data": {
      "text/plain": [
       "\u001b[36mres29_0\u001b[0m: \u001b[32mCList\u001b[0m[\u001b[32mInt\u001b[0m] = Cons(1,Cons(2,Cons(3,Cons(4,Cons(5,Nil)))))\n",
       "\u001b[36mres29_1\u001b[0m: \u001b[32mInt\u001b[0m = \u001b[32m15\u001b[0m\n",
       "\u001b[36mres29_2\u001b[0m: \u001b[32mInt\u001b[0m = \u001b[32m120\u001b[0m"
      ]
     },
     "metadata": {},
     "output_type": "display_data"
    }
   ],
   "source": [
    "list\n",
    "sum(list)\n",
    "product(list)"
   ]
  },
  {
   "cell_type": "markdown",
   "metadata": {},
   "source": [
    "<h1>2. 고차 함수로의 일반화</h1>\n",
    "<br/>\n",
    "<p>그런데 sum과 product처럼 비슷하게 생긴 코드를 봤을 때, 일반화하고 싶은 마음이 들어야 프로그래머로써 옳은 자세다</p>\n",
    "<br/>"
   ]
  },
  {
   "cell_type": "code",
   "execution_count": 51,
   "metadata": {
    "collapsed": false
   },
   "outputs": [
    {
     "data": {
      "text/plain": [
       "defined \u001b[32mfunction \u001b[36mfoldRight\u001b[0m\n",
       "defined \u001b[32mfunction \u001b[36msum2\u001b[0m\n",
       "defined \u001b[32mfunction \u001b[36mproduct2\u001b[0m"
      ]
     },
     "metadata": {},
     "output_type": "display_data"
    }
   ],
   "source": [
    "def foldRight[A, B](l: CList[A], z: B)(f: (A, B) =>B): B = l match {\n",
    "    case Nil => z\n",
    "    case Cons(x, xs) => f(x, foldRight(xs, z)(f))\n",
    "}\n",
    "\n",
    "def sum2(l: CList[Int]) = foldRight(l, 0)((x,y)=> x + y)\n",
    "\n",
    "def product2(l: CList[Int]) = foldRight(l, 1)(_ * _)"
   ]
  },
  {
   "cell_type": "markdown",
   "metadata": {},
   "source": [
    "<p>구현한 건 좋은데, 꼬리재귀가 아니니 stack safe 하지 않다. stack safe하게 다시 일반화해보자</p>"
   ]
  },
  {
   "cell_type": "code",
   "execution_count": 55,
   "metadata": {
    "collapsed": false
   },
   "outputs": [
    {
     "data": {
      "text/plain": [
       "defined \u001b[32mfunction \u001b[36mfoldLeft\u001b[0m\n",
       "defined \u001b[32mfunction \u001b[36msum3\u001b[0m\n",
       "defined \u001b[32mfunction \u001b[36mproduct3\u001b[0m"
      ]
     },
     "metadata": {},
     "output_type": "display_data"
    }
   ],
   "source": [
    "def foldLeft[A, B](l: CList[A], z: B)(f: (A, B) =>B): B = l match {\n",
    "    case Nil => z\n",
    "    case Cons(x, xs) => foldLeft(xs, f(x, z))(f)\n",
    "}\n",
    "\n",
    "def sum3(l: CList[Int]) = foldLeft(l, 0)((x,y)=> x + y)\n",
    "\n",
    "def product3(l: CList[Int]) = foldLeft(l, 1)(_ * _)"
   ]
  },
  {
   "cell_type": "code",
   "execution_count": 56,
   "metadata": {
    "collapsed": false
   },
   "outputs": [
    {
     "data": {
      "text/plain": [
       "\u001b[36mres34_0\u001b[0m: \u001b[32mInt\u001b[0m = \u001b[32m15\u001b[0m\n",
       "\u001b[36mres34_1\u001b[0m: \u001b[32mInt\u001b[0m = \u001b[32m15\u001b[0m\n",
       "\u001b[36mres34_2\u001b[0m: \u001b[32mInt\u001b[0m = \u001b[32m120\u001b[0m\n",
       "\u001b[36mres34_3\u001b[0m: \u001b[32mInt\u001b[0m = \u001b[32m120\u001b[0m"
      ]
     },
     "metadata": {},
     "output_type": "display_data"
    }
   ],
   "source": [
    "sum2(list)\n",
    "sum3(list)\n",
    "product2(list)\n",
    "product3(list)"
   ]
  },
  {
   "cell_type": "markdown",
   "metadata": {},
   "source": [
    "<h1>3. 일반화의 단점 : 순회와 평가단축(5장을 기다리며...)</h1>\n",
    "<br/>\n",
    "<p><b>Q) 0을 곱하면 무조건 0이다. 일반화한 foldRight나 foldLeft로 만든 product2, product3는 중간에 0을 만났을 때 재귀를 멈추고 0을 돌려줄 수 있을까?</b></p>\n",
    "<p><b>A) foldRight, Left는 무조건 전체 데이터를 순회하게되어있어서 평가단축이 불가능하다. 중간에 평가단축 로직을 넣자니 sum2, sum3가 망가진다</b></p>\n",
    "<br/>\n",
    "<h3> 그럼 어쩌나... 일반화를 포기해야하나?</h3>\n",
    "<br/>"
   ]
  },
  {
   "cell_type": "markdown",
   "metadata": {},
   "source": [
    "<h1>번외 : 커리함수와 타입추론</h1>\n",
    "<br/>"
   ]
  },
  {
   "cell_type": "code",
   "execution_count": 59,
   "metadata": {
    "collapsed": false
   },
   "outputs": [
    {
     "data": {
      "text/plain": [
       "defined \u001b[32mfunction \u001b[36mfindCharFirst\u001b[0m\n",
       "defined \u001b[32mfunction \u001b[36mfindAnyFirst\u001b[0m\n",
       "defined \u001b[32mfunction \u001b[36mfindRealAnyFirst\u001b[0m"
      ]
     },
     "metadata": {},
     "output_type": "display_data"
    }
   ],
   "source": [
    "\n",
    " \n",
    "  def findCharFirst(a: Array[Char], c: Char): Int = {\n",
    " \n",
    "    def loop(n: Int): Int = {\n",
    "      if (n >= a.length) {\n",
    "        -1\n",
    "      } else if (a(n) == c) {\n",
    "        n\n",
    "      } else {\n",
    "        loop(n + 1)\n",
    "      }\n",
    "    }\n",
    "    loop(0)\n",
    "  }\n",
    " \n",
    "  def findAnyFirst[T](a: Array[T], f: T => Boolean): Int = {\n",
    " \n",
    "    def loop(n: Int): Int = {\n",
    "      if (n >= a.length) {\n",
    "        -1\n",
    "      } else if (f(a(n))) {\n",
    "        n\n",
    "      } else {\n",
    "        loop(n + 1)\n",
    "      }\n",
    "    }\n",
    "    loop(0)\n",
    "  }\n",
    " \n",
    "  def findRealAnyFirst[T](a: Array[T])(f: T => Boolean): Int = {\n",
    " \n",
    "    def loop(n: Int): Int = {\n",
    "      if (n >= a.length) {\n",
    "        -1\n",
    "      } else if (f(a(n))) {\n",
    "        n\n",
    "      } else {\n",
    "        loop(n + 1)\n",
    "      }\n",
    "    }\n",
    "    loop(0)\n",
    "  }"
   ]
  },
  {
   "cell_type": "code",
   "execution_count": 60,
   "metadata": {
    "collapsed": false
   },
   "outputs": [
    {
     "name": "stdout",
     "output_type": "stream",
     "text": [
      "char, r\r\n",
      "int, 3\r\n",
      "class java.lang.String, hi\r\n"
     ]
    },
    {
     "data": {
      "text/plain": [
       "\u001b[36mtargetChar\u001b[0m: \u001b[32mArray\u001b[0m[\u001b[32mChar\u001b[0m] = \u001b[33mArray\u001b[0m(\n",
       "  \u001b[32m'H'\u001b[0m,\n",
       "  \u001b[32m'e'\u001b[0m,\n",
       "  \u001b[32m'l'\u001b[0m,\n",
       "  \u001b[32m'l'\u001b[0m,\n",
       "  \u001b[32m'o'\u001b[0m,\n",
       "  \u001b[32m','\u001b[0m,\n",
       "  \u001b[32m' '\u001b[0m,\n",
       "  \u001b[32m'w'\u001b[0m,\n",
       "  \u001b[32m'o'\u001b[0m,\n",
       "  \u001b[32m'r'\u001b[0m,\n",
       "  \u001b[32m'l'\u001b[0m,\n",
       "  \u001b[32m'd'\u001b[0m,\n",
       "  \u001b[32m'!'\u001b[0m\n",
       ")\n",
       "\u001b[36mtargetInt\u001b[0m: \u001b[32mArray\u001b[0m[\u001b[32mInt\u001b[0m] = \u001b[33mArray\u001b[0m(\u001b[32m1\u001b[0m, \u001b[32m2\u001b[0m, \u001b[32m3\u001b[0m, \u001b[32m4\u001b[0m, \u001b[32m5\u001b[0m)\n",
       "\u001b[36mtargetFree\u001b[0m: \u001b[32mArray\u001b[0m[\u001b[32mAny\u001b[0m] = \u001b[33mArray\u001b[0m(1, 2, 3, hi, 5)\n",
       "\u001b[36mres1\u001b[0m: \u001b[32mInt\u001b[0m = \u001b[32m9\u001b[0m\n",
       "\u001b[36mres2\u001b[0m: \u001b[32mInt\u001b[0m = \u001b[32m2\u001b[0m\n",
       "\u001b[36mres3\u001b[0m: \u001b[32mInt\u001b[0m = \u001b[32m3\u001b[0m"
      ]
     },
     "metadata": {},
     "output_type": "display_data"
    }
   ],
   "source": [
    "val targetChar = \"Hello, world!\".toCharArray\n",
    "val targetInt = Array(1,2,3,4,5)\n",
    "val targetFree = Array(1,2,3,\"hi\",5)\n",
    " \n",
    "val res1 = findCharFirst(targetChar, 'r')\n",
    "val res2 = findAnyFirst(targetInt, (x: Int) => x == 3)\n",
    "val res3 = findRealAnyFirst(targetFree)(_ == \"hi\")\n",
    " \n",
    "println(targetChar(res1).getClass+\", \"+targetChar(res1))\n",
    "println(targetInt(res2).getClass+\", \"+targetInt(res2))\n",
    "println(targetFree(res3).getClass+\", \"+targetFree(res3))"
   ]
  },
  {
   "cell_type": "markdown",
   "metadata": {},
   "source": [
    "<h3>1. findCharFirst 메서드에서는 고정된 type인 Char만을 다루지만</h3>\n",
    "<br/>\n",
    "<h3>2. findAnyFirst 메서드에서는 추상적 타입을 받아서 처리하고 있다</h3>\n",
    "<br/>\n",
    "<p>def findAnyFirst[T](a: Array[T], f: T => Boolean): Int</p>\n",
    "<br/>\n",
    "<p>parameter를 임의 type의 Array, 그리고 임의 type을 받는 함수로 지정해놓았음을 확인할 수 있다</p>\n",
    "하지만 여전히 실사용시에는 type이 고정되어 있다 :  (x: Int) => x == 3</p>\n",
    "<br/>\n",
    "<h3>3. 반면 findRealAnyFirst 메서드에서는 진정한 type에 자유로운 모습을 보여주고 있다</h3>\n",
    "<br/>\n",
    "<p>def findRealAnyFirst[T](a: Array[T])(f: T => Boolean): Int</p>\n",
    "<br/>\n",
    "<p>이는 (a: Array[T])(f: T => Boolean)식으로 커링(currying) 되어있어 타입 추론을 할 수 있기 때문이다</p>\n",
    "<br/>\n",
    "<p>사실 findAnyFirst 메서드처럼 해도 타입을 추론할 수 있어야 맞는 거 같지만... </p>\n",
    "<p>안타깝게도 안된다</p>\n",
    "<br/>\n",
    "\n"
   ]
  },
  {
   "cell_type": "code",
   "execution_count": null,
   "metadata": {
    "collapsed": true
   },
   "outputs": [],
   "source": []
  }
 ],
 "metadata": {
  "kernelspec": {
   "display_name": "Scala 2.11",
   "language": "scala211",
   "name": "scala211"
  },
  "language_info": {
   "codemirror_mode": "text/x-scala",
   "file_extension": "scala",
   "mimetype": "text/x-scala",
   "name": "scala211",
   "pygments_lexer": "scala",
   "version": "2.11.6"
  }
 },
 "nbformat": 4,
 "nbformat_minor": 0
}
