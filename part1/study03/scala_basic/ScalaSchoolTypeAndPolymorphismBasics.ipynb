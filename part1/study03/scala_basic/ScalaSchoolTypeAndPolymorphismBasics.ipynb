{
 "cells": [
  {
   "cell_type": "markdown",
   "metadata": {},
   "source": [
    "# Scala school type and polymorphism basics"
   ]
  },
  {
   "cell_type": "markdown",
   "metadata": {
    "collapsed": true
   },
   "source": [
    "## What are static types? Why are they useful?"
   ]
  },
  {
   "cell_type": "markdown",
   "metadata": {},
   "source": [
    "Pierce왈\n",
    "\n",
    "“A type system is a syntactic method for automatically checking the absence of certain erroneous behaviors by classifying program phrases according to the kinds of values they compute.”"
   ]
  },
  {
   "cell_type": "raw",
   "metadata": {},
   "source": [
    "f: R -> N"
   ]
  },
  {
   "cell_type": "markdown",
   "metadata": {},
   "source": [
    "# Types in scala"
   ]
  },
  {
   "cell_type": "markdown",
   "metadata": {},
   "source": [
    "- parametric polymorphism\n",
    "- (local) type inference\n",
    "- existential quantification\n",
    "- views"
   ]
  },
  {
   "cell_type": "markdown",
   "metadata": {},
   "source": [
    "# Parametric polymorphism"
   ]
  },
  {
   "cell_type": "code",
   "execution_count": 3,
   "metadata": {
    "collapsed": false
   },
   "outputs": [
    {
     "data": {
      "text/plain": [
       "\u001b[36mlist\u001b[0m: \u001b[32mList\u001b[0m[\u001b[32mAny\u001b[0m] = \u001b[33mList\u001b[0m(2, 1, bar, foo)"
      ]
     },
     "metadata": {},
     "output_type": "display_data"
    }
   ],
   "source": [
    "val list = 2 :: 1 :: \"bar\" :: \"foo\" :: Nil"
   ]
  },
  {
   "cell_type": "code",
   "execution_count": 5,
   "metadata": {
    "collapsed": false
   },
   "outputs": [
    {
     "data": {
      "text/plain": [
       "\u001b[36mres4\u001b[0m: \u001b[32mAny\u001b[0m = 2"
      ]
     },
     "metadata": {},
     "output_type": "display_data"
    }
   ],
   "source": [
    "list.head"
   ]
  },
  {
   "cell_type": "markdown",
   "metadata": {},
   "source": [
    "asInstanceOf[]를 사용하여 형변환 필요"
   ]
  },
  {
   "cell_type": "code",
   "execution_count": 7,
   "metadata": {
    "collapsed": false
   },
   "outputs": [
    {
     "data": {
      "text/plain": [
       "defined \u001b[32mfunction \u001b[36mdrop1\u001b[0m\n",
       "\u001b[36mres6_1\u001b[0m: \u001b[32mList\u001b[0m[\u001b[32mInt\u001b[0m] = \u001b[33mList\u001b[0m(\u001b[32m2\u001b[0m, \u001b[32m3\u001b[0m)"
      ]
     },
     "metadata": {},
     "output_type": "display_data"
    }
   ],
   "source": [
    "def drop1[A](list: List[A]) = list.tail\n",
    "drop1(List(1,2,3))"
   ]
  },
  {
   "cell_type": "markdown",
   "metadata": {},
   "source": [
    "## Scala has rank-1 polymorphism\n"
   ]
  },
  {
   "cell_type": "code",
   "execution_count": 8,
   "metadata": {
    "collapsed": false
   },
   "outputs": [
    {
     "data": {
      "text/plain": [
       "defined \u001b[32mfunction \u001b[36mtoList\u001b[0m"
      ]
     },
     "metadata": {},
     "output_type": "display_data"
    }
   ],
   "source": [
    "def toList[A](a: A) = List(a)"
   ]
  },
  {
   "cell_type": "code",
   "execution_count": 9,
   "metadata": {
    "collapsed": false
   },
   "outputs": [
    {
     "ename": "",
     "evalue": "",
     "output_type": "error",
     "traceback": [
      "Compilation Failed",
      "\u001b[31mMain.scala:64: type mismatch;",
      " found   : b.type (with underlying type B)",
      " required: A",
      "                def foo[A, B](f: A => List[A], b: B) = f(b)",
      "                                                         ^\u001b[0m"
     ]
    }
   ],
   "source": [
    "def foo[A, B](f: A => List[A], b: B) = f(b)"
   ]
  },
  {
   "cell_type": "code",
   "execution_count": 10,
   "metadata": {
    "collapsed": false
   },
   "outputs": [
    {
     "ename": "",
     "evalue": "",
     "output_type": "error",
     "traceback": [
      "Compilation Failed",
      "\u001b[31mMain.scala:64: type mismatch;",
      " found   : i.type (with underlying type Int)",
      " required: A",
      "                def foo[A, B](f: A => List[A], i: Int) = f(i)",
      "                                                           ^\u001b[0m"
     ]
    }
   ],
   "source": [
    "def foo[A, B](f: A => List[A], i: Int) = f(i)"
   ]
  },
  {
   "cell_type": "markdown",
   "metadata": {},
   "source": [
    "# Type inference"
   ]
  },
  {
   "cell_type": "markdown",
   "metadata": {},
   "source": [
    "Hindely-Milner의 type inference\n",
    "\n",
    "HM type inference는 ML에 처음 적용"
   ]
  },
  {
   "cell_type": "code",
   "execution_count": 10,
   "metadata": {
    "collapsed": false
   },
   "outputs": [
    {
     "ename": "",
     "evalue": "",
     "output_type": "error",
     "traceback": [
      "\u001b[31m<console>:1: ';' expected but '=>' found.",
      "x => x",
      "  ^\u001b[0m"
     ]
    }
   ],
   "source": [
    "{ x => x }"
   ]
  },
  {
   "cell_type": "raw",
   "metadata": {},
   "source": [
    "# fun x -> x;;\n",
    "- : 'a -> 'a = <fun>"
   ]
  },
  {
   "cell_type": "code",
   "execution_count": 12,
   "metadata": {
    "collapsed": false
   },
   "outputs": [
    {
     "data": {
      "text/plain": [
       "defined \u001b[32mfunction \u001b[36mid\u001b[0m\n",
       "\u001b[36mx1\u001b[0m: \u001b[32mInt\u001b[0m = \u001b[32m322\u001b[0m\n",
       "\u001b[36mx2\u001b[0m: \u001b[32mString\u001b[0m = \u001b[32m\"hey\"\u001b[0m\n",
       "\u001b[36mx3\u001b[0m: \u001b[32mArray\u001b[0m[\u001b[32mInt\u001b[0m] = \u001b[33mArray\u001b[0m(\u001b[32m1\u001b[0m, \u001b[32m2\u001b[0m, \u001b[32m3\u001b[0m, \u001b[32m4\u001b[0m)"
      ]
     },
     "metadata": {},
     "output_type": "display_data"
    }
   ],
   "source": [
    "def id[T](x: T) = x\n",
    "val x1 = id(322)\n",
    "val x2 = id(\"hey\")\n",
    "val x3 = id(Array(1,2,3,4))"
   ]
  },
  {
   "cell_type": "markdown",
   "metadata": {},
   "source": [
    "# Variance"
   ]
  },
  {
   "cell_type": "markdown",
   "metadata": {},
   "source": [
    "T1 is subtype of T\n",
    "\n",
    "covariant: [+T], C[T1] is subtype of C[T]\n",
    "\n",
    "contravariant: [-T], C[T1] is supertype of C[T]\n",
    "\n",
    "invariant: [T], C[T1] and C[T] are not related"
   ]
  },
  {
   "cell_type": "code",
   "execution_count": 14,
   "metadata": {
    "collapsed": false
   },
   "outputs": [
    {
     "data": {
      "text/plain": [
       "defined \u001b[32mclass \u001b[36mCovariant\u001b[0m"
      ]
     },
     "metadata": {},
     "output_type": "display_data"
    }
   ],
   "source": [
    "class Covariant[+A]"
   ]
  },
  {
   "cell_type": "code",
   "execution_count": 15,
   "metadata": {
    "collapsed": false
   },
   "outputs": [
    {
     "data": {
      "text/plain": [
       "\u001b[36mcv\u001b[0m: \u001b[32mCovariant\u001b[0m[\u001b[32mAnyRef\u001b[0m] = cmd10$$user$Covariant@6afc436"
      ]
     },
     "metadata": {},
     "output_type": "display_data"
    }
   ],
   "source": [
    "val cv: Covariant[AnyRef] = new Covariant[String]"
   ]
  },
  {
   "cell_type": "code",
   "execution_count": 16,
   "metadata": {
    "collapsed": false
   },
   "outputs": [
    {
     "ename": "",
     "evalue": "",
     "output_type": "error",
     "traceback": [
      "Compilation Failed",
      "\u001b[31mMain.scala:78: type mismatch;",
      " found   : cmd12.this.$ref$cmd10.Covariant[AnyRef]",
      " required: cmd12.this.$ref$cmd10.Covariant[String]",
      "}.apply",
      "  ^\u001b[0m"
     ]
    }
   ],
   "source": [
    "val cv: Covariant[String] = new Covariant[AnyRef]"
   ]
  },
  {
   "cell_type": "code",
   "execution_count": 17,
   "metadata": {
    "collapsed": false
   },
   "outputs": [
    {
     "data": {
      "text/plain": [
       "defined \u001b[32mclass \u001b[36mContravariant\u001b[0m"
      ]
     },
     "metadata": {},
     "output_type": "display_data"
    }
   ],
   "source": [
    "class Contravariant[-A]"
   ]
  },
  {
   "cell_type": "code",
   "execution_count": 19,
   "metadata": {
    "collapsed": false
   },
   "outputs": [
    {
     "data": {
      "text/plain": [
       "\u001b[36mcv\u001b[0m: \u001b[32mContravariant\u001b[0m[\u001b[32mString\u001b[0m] = cmd12$$user$Contravariant@242fd953"
      ]
     },
     "metadata": {},
     "output_type": "display_data"
    }
   ],
   "source": [
    "val cv: Contravariant[String] = new Contravariant[AnyRef]"
   ]
  },
  {
   "cell_type": "code",
   "execution_count": 20,
   "metadata": {
    "collapsed": false
   },
   "outputs": [
    {
     "ename": "",
     "evalue": "",
     "output_type": "error",
     "traceback": [
      "Compilation Failed",
      "\u001b[31mMain.scala:80: type mismatch;",
      " found   : cmd14.this.$ref$cmd12.Contravariant[String]",
      " required: cmd14.this.$ref$cmd12.Contravariant[AnyRef]",
      "}.apply",
      "  ^\u001b[0m"
     ]
    }
   ],
   "source": [
    "val cv: Contravariant[AnyRef] = new Contravariant[String]"
   ]
  },
  {
   "cell_type": "code",
   "execution_count": 21,
   "metadata": {
    "collapsed": false
   },
   "outputs": [
    {
     "data": {
      "text/plain": [
       "defined \u001b[32mtrait \u001b[36mFunctiona1\u001b[0m"
      ]
     },
     "metadata": {},
     "output_type": "display_data"
    }
   ],
   "source": [
    "trait Functiona1[-T1, +R] extends AnyRef"
   ]
  },
  {
   "cell_type": "code",
   "execution_count": 22,
   "metadata": {
    "collapsed": false
   },
   "outputs": [
    {
     "data": {
      "text/plain": [
       "defined \u001b[32mclass \u001b[36mAnimal\u001b[0m\n",
       "defined \u001b[32mclass \u001b[36mBird\u001b[0m\n",
       "defined \u001b[32mclass \u001b[36mChicken\u001b[0m"
      ]
     },
     "metadata": {},
     "output_type": "display_data"
    }
   ],
   "source": [
    "class Animal{ val sound = \"rustle\" }\n",
    "class Bird extends Animal{ override val sound = \"call\" }\n",
    "class Chicken extends Bird{ override val sound = \"cluck\" }"
   ]
  },
  {
   "cell_type": "raw",
   "metadata": {},
   "source": [
    "val getTweet: (Bird => String) = //Todo"
   ]
  },
  {
   "cell_type": "code",
   "execution_count": 23,
   "metadata": {
    "collapsed": false
   },
   "outputs": [
    {
     "data": {
      "text/plain": [
       "\u001b[36mgetTweet\u001b[0m: \u001b[32mBird\u001b[0m => \u001b[32mString\u001b[0m = <function1>"
      ]
     },
     "metadata": {},
     "output_type": "display_data"
    }
   ],
   "source": [
    "val getTweet: (Bird => String) = ((a: Animal) => a.sound)"
   ]
  },
  {
   "cell_type": "code",
   "execution_count": 25,
   "metadata": {
    "collapsed": false
   },
   "outputs": [
    {
     "ename": "",
     "evalue": "",
     "output_type": "error",
     "traceback": [
      "Compilation Failed",
      "\u001b[31mMain.scala:91: type mismatch;",
      " found   : cmd17.this.$ref$cmd15.Chicken => String",
      " required: cmd17.this.$ref$cmd15.Bird => String",
      "                val getTweet: (Bird => String) = ((c: Chicken) => c.sound)",
      "                                                               ^\u001b[0m"
     ]
    }
   ],
   "source": [
    "val getTweet: (Bird => String) = ((c: Chicken) => c.sound)"
   ]
  },
  {
   "cell_type": "code",
   "execution_count": 27,
   "metadata": {
    "collapsed": false
   },
   "outputs": [
    {
     "data": {
      "text/plain": [
       "\u001b[36mhatch\u001b[0m: () => \u001b[32mBird\u001b[0m = <function0>"
      ]
     },
     "metadata": {},
     "output_type": "display_data"
    }
   ],
   "source": [
    "val hatch: (() => Bird) = (() => new Chicken)"
   ]
  },
  {
   "cell_type": "code",
   "execution_count": 28,
   "metadata": {
    "collapsed": false
   },
   "outputs": [
    {
     "ename": "",
     "evalue": "",
     "output_type": "error",
     "traceback": [
      "Compilation Failed",
      "\u001b[31mMain.scala:93: type mismatch;",
      " found   : cmd19.this.$ref$cmd15.Animal",
      " required: cmd19.this.$ref$cmd15.Bird",
      "                val hatch: (() => Bird) = (() => new Animal)",
      "                                                 ^\u001b[0m"
     ]
    }
   ],
   "source": [
    "val hatch: (() => Bird) = (() => new Animal)"
   ]
  },
  {
   "cell_type": "markdown",
   "metadata": {},
   "source": [
    "# Bounds"
   ]
  },
  {
   "cell_type": "code",
   "execution_count": 29,
   "metadata": {
    "collapsed": false
   },
   "outputs": [
    {
     "ename": "",
     "evalue": "",
     "output_type": "error",
     "traceback": [
      "Compilation Failed",
      "\u001b[31mMain.scala:89: value sound is not a member of type parameter T",
      "                def cacophony[T](things: Seq[T]) = things map (_.sound)",
      "                                                                 ^\u001b[0m"
     ]
    }
   ],
   "source": [
    "def cacophony[T](things: Seq[T]) = things map (_.sound)"
   ]
  },
  {
   "cell_type": "code",
   "execution_count": 31,
   "metadata": {
    "collapsed": false
   },
   "outputs": [
    {
     "data": {
      "text/plain": [
       "defined \u001b[32mfunction \u001b[36mbiophony\u001b[0m"
      ]
     },
     "metadata": {},
     "output_type": "display_data"
    }
   ],
   "source": [
    "def biophony[T <: Animal](things: Seq[T]) = things map (_.sound)"
   ]
  },
  {
   "cell_type": "code",
   "execution_count": 33,
   "metadata": {
    "collapsed": false
   },
   "outputs": [
    {
     "data": {
      "text/plain": [
       "\u001b[36mres21\u001b[0m: \u001b[32mSeq\u001b[0m[\u001b[32mString\u001b[0m] = \u001b[33mList\u001b[0m(\u001b[32m\"cluck\"\u001b[0m, \u001b[32m\"call\"\u001b[0m)"
      ]
     },
     "metadata": {},
     "output_type": "display_data"
    }
   ],
   "source": [
    "biophony(Seq(new Chicken, new Bird))"
   ]
  },
  {
   "cell_type": "code",
   "execution_count": 35,
   "metadata": {
    "collapsed": false
   },
   "outputs": [
    {
     "data": {
      "text/plain": [
       "\u001b[36mflock\u001b[0m: \u001b[32mList\u001b[0m[\u001b[32mBird\u001b[0m] = \u001b[33mList\u001b[0m(cmd15$$user$Bird@1184640e, cmd15$$user$Bird@ac4dc1e)"
      ]
     },
     "metadata": {},
     "output_type": "display_data"
    }
   ],
   "source": [
    "val flock = List(new Bird, new Bird)"
   ]
  },
  {
   "cell_type": "code",
   "execution_count": 38,
   "metadata": {
    "collapsed": false
   },
   "outputs": [
    {
     "data": {
      "text/plain": [
       "\u001b[36mres26_0\u001b[0m: \u001b[32mList\u001b[0m[\u001b[32mBird\u001b[0m] = \u001b[33mList\u001b[0m(cmd15$$user$Chicken@a51987e, cmd15$$user$Bird@1184640e, cmd15$$user$Bird@ac4dc1e)\n",
       "\u001b[36mres26_1\u001b[0m: \u001b[32mList\u001b[0m[\u001b[32mAnimal\u001b[0m] = \u001b[33mList\u001b[0m(cmd15$$user$Animal@36ffbc92, cmd15$$user$Bird@1184640e, cmd15$$user$Bird@ac4dc1e)"
      ]
     },
     "metadata": {},
     "output_type": "display_data"
    }
   ],
   "source": [
    "new Chicken :: flock\n",
    "new Animal :: flock"
   ]
  },
  {
   "cell_type": "markdown",
   "metadata": {},
   "source": [
    "# Quantification"
   ]
  },
  {
   "cell_type": "code",
   "execution_count": 40,
   "metadata": {
    "collapsed": false
   },
   "outputs": [
    {
     "data": {
      "text/plain": [
       "defined \u001b[32mfunction \u001b[36mcount\u001b[0m"
      ]
     },
     "metadata": {},
     "output_type": "display_data"
    }
   ],
   "source": [
    "def count[A](list: List[A]) = list.size"
   ]
  },
  {
   "cell_type": "code",
   "execution_count": 41,
   "metadata": {
    "collapsed": false
   },
   "outputs": [
    {
     "data": {
      "text/plain": [
       "defined \u001b[32mfunction \u001b[36mcount\u001b[0m"
      ]
     },
     "metadata": {},
     "output_type": "display_data"
    }
   ],
   "source": [
    "def count(list: List[_]) = list.size"
   ]
  },
  {
   "cell_type": "code",
   "execution_count": 43,
   "metadata": {
    "collapsed": false
   },
   "outputs": [
    {
     "data": {
      "text/plain": [
       "defined \u001b[32mfunction \u001b[36mcount\u001b[0m"
      ]
     },
     "metadata": {},
     "output_type": "display_data"
    }
   ],
   "source": [
    "def count(list: List[T forSome { type T }]) = list.size"
   ]
  },
  {
   "cell_type": "code",
   "execution_count": 44,
   "metadata": {
    "collapsed": false
   },
   "outputs": [
    {
     "data": {
      "text/plain": [
       "defined \u001b[32mfunction \u001b[36mhashcodes\u001b[0m"
      ]
     },
     "metadata": {},
     "output_type": "display_data"
    }
   ],
   "source": [
    "def hashcodes(list: Seq[_<:AnyRef]) = list map (_.hashCode)"
   ]
  },
  {
   "cell_type": "code",
   "execution_count": 45,
   "metadata": {
    "collapsed": false
   },
   "outputs": [
    {
     "ename": "",
     "evalue": "",
     "output_type": "error",
     "traceback": [
      "Compilation Failed",
      "\u001b[31mMain.scala:112: the result type of an implicit conversion must be more specific than AnyRef",
      "hashcodes(Seq(1,2,3))",
      "              ^\u001b[0m",
      "\u001b[31mMain.scala:112: the result type of an implicit conversion must be more specific than AnyRef",
      "hashcodes(Seq(1,2,3))",
      "                ^\u001b[0m",
      "\u001b[31mMain.scala:112: the result type of an implicit conversion must be more specific than AnyRef",
      "hashcodes(Seq(1,2,3))",
      "                  ^\u001b[0m"
     ]
    }
   ],
   "source": [
    "hashcodes(Seq(1,2,3))"
   ]
  },
  {
   "cell_type": "code",
   "execution_count": 46,
   "metadata": {
    "collapsed": false
   },
   "outputs": [
    {
     "data": {
      "text/plain": [
       "\u001b[36mres32\u001b[0m: \u001b[32mSeq\u001b[0m[\u001b[32mInt\u001b[0m] = \u001b[33mList\u001b[0m(\u001b[32m110182\u001b[0m, \u001b[32m115276\u001b[0m, \u001b[32m110339486\u001b[0m)"
      ]
     },
     "metadata": {},
     "output_type": "display_data"
    }
   ],
   "source": [
    "hashcodes(Seq(\"one\",\"two\",\"three\"))"
   ]
  }
 ],
 "metadata": {
  "kernelspec": {
   "display_name": "Scala 2.11",
   "language": "scala211",
   "name": "scala211"
  },
  "language_info": {
   "codemirror_mode": "text/x-scala",
   "file_extension": "scala",
   "mimetype": "text/x-scala",
   "name": "scala211",
   "pygments_lexer": "scala",
   "version": "2.11.6"
  }
 },
 "nbformat": 4,
 "nbformat_minor": 0
}
