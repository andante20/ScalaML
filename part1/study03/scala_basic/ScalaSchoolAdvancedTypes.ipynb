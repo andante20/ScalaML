{
 "cells": [
  {
   "cell_type": "markdown",
   "metadata": {},
   "source": [
    "# Scala school advanced types"
   ]
  },
  {
   "cell_type": "markdown",
   "metadata": {},
   "source": [
    "- View bounds (\"type classes\")\n",
    "- Other Type Bounds\n",
    "- Higher kinded types & ad-hoc polymorphism\n",
    "- F-bounded polymophism / recursive types\n",
    "- Structural types\n",
    "- Abstract types members\n",
    "- Type erasures & manifests\n",
    "- Case study: Finagle"
   ]
  },
  {
   "cell_type": "markdown",
   "metadata": {
    "collapsed": false
   },
   "source": [
    "# View bounds (\"type classes\")"
   ]
  },
  {
   "cell_type": "code",
   "execution_count": 1,
   "metadata": {
    "collapsed": false
   },
   "outputs": [
    {
     "data": {
      "text/plain": [
       "defined \u001b[32mfunction \u001b[36mstrToInt\u001b[0m"
      ]
     },
     "metadata": {},
     "output_type": "display_data"
    }
   ],
   "source": [
    "implicit def strToInt(x: String) = x.toInt"
   ]
  },
  {
   "cell_type": "code",
   "execution_count": 2,
   "metadata": {
    "collapsed": false
   },
   "outputs": [
    {
     "data": {
      "text/plain": [
       "\u001b[36mres1\u001b[0m: \u001b[32mString\u001b[0m = \u001b[32m\"123\"\u001b[0m"
      ]
     },
     "metadata": {},
     "output_type": "display_data"
    }
   ],
   "source": [
    "\"123\""
   ]
  },
  {
   "cell_type": "code",
   "execution_count": 3,
   "metadata": {
    "collapsed": false
   },
   "outputs": [
    {
     "data": {
      "text/plain": [
       "\u001b[36my\u001b[0m: \u001b[32mInt\u001b[0m = \u001b[32m123\u001b[0m"
      ]
     },
     "metadata": {},
     "output_type": "display_data"
    }
   ],
   "source": [
    "val y: Int = \"123\""
   ]
  },
  {
   "cell_type": "code",
   "execution_count": 4,
   "metadata": {
    "collapsed": false
   },
   "outputs": [
    {
     "data": {
      "text/plain": [
       "\u001b[36mres3\u001b[0m: \u001b[32mInt\u001b[0m = \u001b[32m123\u001b[0m"
      ]
     },
     "metadata": {},
     "output_type": "display_data"
    }
   ],
   "source": [
    "math.max(\"123\", 111)"
   ]
  },
  {
   "cell_type": "code",
   "execution_count": 5,
   "metadata": {
    "collapsed": false
   },
   "outputs": [
    {
     "data": {
      "text/plain": [
       "defined \u001b[32mclass \u001b[36mContainer\u001b[0m"
      ]
     },
     "metadata": {},
     "output_type": "display_data"
    }
   ],
   "source": [
    "class Container[A <% Int] { \n",
    "    def addIt(x: A) = 123 + x\n",
    "}"
   ]
  },
  {
   "cell_type": "code",
   "execution_count": 7,
   "metadata": {
    "collapsed": false
   },
   "outputs": [
    {
     "data": {
      "text/plain": [
       "\u001b[36mres5\u001b[0m: \u001b[32mInt\u001b[0m = \u001b[32m246\u001b[0m"
      ]
     },
     "metadata": {},
     "output_type": "display_data"
    }
   ],
   "source": [
    "(new Container[String]).addIt(\"123\")"
   ]
  },
  {
   "cell_type": "code",
   "execution_count": 10,
   "metadata": {
    "collapsed": false
   },
   "outputs": [
    {
     "data": {
      "text/plain": [
       "\u001b[36mres7\u001b[0m: \u001b[32mInt\u001b[0m = \u001b[32m246\u001b[0m"
      ]
     },
     "metadata": {},
     "output_type": "display_data"
    }
   ],
   "source": [
    "(new Container[Int]).addIt(123)"
   ]
  },
  {
   "cell_type": "code",
   "execution_count": 9,
   "metadata": {
    "collapsed": false
   },
   "outputs": [
    {
     "ename": "",
     "evalue": "",
     "output_type": "error",
     "traceback": [
      "Compilation Failed",
      "\u001b[31mMain.scala:65: No implicit view available from Float => Int.",
      "(new Container[Float]).addIt(123.2F)",
      " ^\u001b[0m"
     ]
    }
   ],
   "source": [
    "(new Container[Float]).addIt(123.2F)"
   ]
  },
  {
   "cell_type": "markdown",
   "metadata": {},
   "source": [
    "# Other type bounds"
   ]
  },
  {
   "cell_type": "raw",
   "metadata": {},
   "source": [
    "sum[B >: A](implicit num: Numeric[B]): B"
   ]
  },
  {
   "cell_type": "markdown",
   "metadata": {},
   "source": [
    "Numeric[T]가 정의되어 있음"
   ]
  },
  {
   "cell_type": "raw",
   "metadata": {},
   "source": [
    "A =:= B"
   ]
  },
  {
   "cell_type": "raw",
   "metadata": {},
   "source": [
    "A <:< B"
   ]
  },
  {
   "cell_type": "raw",
   "metadata": {},
   "source": [
    "A <%< B"
   ]
  },
  {
   "cell_type": "markdown",
   "metadata": {},
   "source": [
    "<:<, <%<는 2.10 이후에는 없어짐."
   ]
  },
  {
   "cell_type": "code",
   "execution_count": 13,
   "metadata": {
    "collapsed": false
   },
   "outputs": [
    {
     "data": {
      "text/plain": [
       "defined \u001b[32mclass \u001b[36mContainer\u001b[0m"
      ]
     },
     "metadata": {},
     "output_type": "display_data"
    }
   ],
   "source": [
    "class Container[A](value: A) {\n",
    "    def addIt(implicit evidence: A =:= Int) = 123 + value\n",
    "}"
   ]
  },
  {
   "cell_type": "code",
   "execution_count": 14,
   "metadata": {
    "collapsed": false
   },
   "outputs": [
    {
     "data": {
      "text/plain": [
       "\u001b[36mres9\u001b[0m: \u001b[32mInt\u001b[0m = \u001b[32m246\u001b[0m"
      ]
     },
     "metadata": {},
     "output_type": "display_data"
    }
   ],
   "source": [
    "(new Container(123)).addIt"
   ]
  },
  {
   "cell_type": "code",
   "execution_count": 15,
   "metadata": {
    "collapsed": false
   },
   "outputs": [
    {
     "ename": "",
     "evalue": "",
     "output_type": "error",
     "traceback": [
      "Compilation Failed",
      "\u001b[31mMain.scala:69: Cannot prove that String =:= Int.",
      "(new Container(\"123\")).addIt",
      "                       ^\u001b[0m"
     ]
    }
   ],
   "source": [
    "(new Container(\"123\")).addIt"
   ]
  },
  {
   "cell_type": "code",
   "execution_count": 16,
   "metadata": {
    "collapsed": false
   },
   "outputs": [
    {
     "ename": "",
     "evalue": "",
     "output_type": "error",
     "traceback": [
      "Compilation Failed",
      "\u001b[31mMain.scala:67: not found: type <%<",
      "    def addIt(implicit evidence: A <%< Int) = 123 + value",
      "                                   ^\u001b[0m",
      "\u001b[31mMain.scala:67: overloaded method value + with alternatives:",
      "  (x: Double)Double <and>",
      "  (x: Float)Float <and>",
      "  (x: Long)Long <and>",
      "  (x: Int)Int <and>",
      "  (x: Char)Int <and>",
      "  (x: Short)Int <and>",
      "  (x: Byte)Int <and>",
      "  (x: String)String",
      " cannot be applied to (A)",
      "    def addIt(implicit evidence: A <%< Int) = 123 + value",
      "                                                  ^\u001b[0m"
     ]
    }
   ],
   "source": [
    "class Container[A](value: A) {\n",
    "    def addIt(implicit evidence: A <%< Int) = 123 + value\n",
    "}"
   ]
  },
  {
   "cell_type": "code",
   "execution_count": 17,
   "metadata": {
    "collapsed": false
   },
   "outputs": [
    {
     "ename": "",
     "evalue": "",
     "output_type": "error",
     "traceback": [
      "Compilation Failed",
      "\u001b[31mMain.scala:69: Cannot prove that String =:= Int.",
      "(new Container(\"123\")).addIt",
      "                       ^\u001b[0m"
     ]
    }
   ],
   "source": [
    "(new Container(\"123\")).addIt"
   ]
  },
  {
   "cell_type": "markdown",
   "metadata": {},
   "source": [
    "## Generic programming with views"
   ]
  },
  {
   "cell_type": "raw",
   "metadata": {},
   "source": [
    "def min[B>:A](implicit cmp: Ordering[B]): A = {\n",
    "    if(isEmpty) throw new UnsupoortedOperationException(\"empty.min\")\n",
    "    reduceLeft((x,y)=>if(cmp.lteq(x,y))x else y)\n",
    "}"
   ]
  },
  {
   "cell_type": "code",
   "execution_count": 18,
   "metadata": {
    "collapsed": false
   },
   "outputs": [
    {
     "data": {
      "text/plain": [
       "\u001b[36mres10\u001b[0m: \u001b[32mInt\u001b[0m = \u001b[32m1\u001b[0m"
      ]
     },
     "metadata": {},
     "output_type": "display_data"
    }
   ],
   "source": [
    "List(1,2,3,4).min"
   ]
  },
  {
   "cell_type": "code",
   "execution_count": 19,
   "metadata": {
    "collapsed": false
   },
   "outputs": [
    {
     "data": {
      "text/plain": [
       "\u001b[36mres11\u001b[0m: \u001b[32mInt\u001b[0m = \u001b[32m4\u001b[0m"
      ]
     },
     "metadata": {},
     "output_type": "display_data"
    }
   ],
   "source": [
    "List(1,2,3,4).min(new Ordering[Int] {def compare(a: Int, b: Int) = b compare a})"
   ]
  },
  {
   "cell_type": "code",
   "execution_count": 22,
   "metadata": {
    "collapsed": false
   },
   "outputs": [
    {
     "data": {
      "text/plain": [
       "defined \u001b[32mtrait \u001b[36mLowPriorityOrderingImplicits\u001b[0m"
      ]
     },
     "metadata": {},
     "output_type": "display_data"
    }
   ],
   "source": [
    "trait LowPriorityOrderingImplicits {\n",
    "    implicit def ordered[A <: Ordered[A]]: Ordering[A] = new Ordering[A] {\n",
    "        def compare(x: A, y: A) = x.compare(y)\n",
    "    }\n",
    "}"
   ]
  },
  {
   "cell_type": "markdown",
   "metadata": {},
   "source": [
    "## Context bounds & implicitly[]"
   ]
  },
  {
   "cell_type": "code",
   "execution_count": 3,
   "metadata": {
    "collapsed": false
   },
   "outputs": [
    {
     "data": {
      "text/plain": [
       "defined \u001b[32mfunction \u001b[36mfoo\u001b[0m"
      ]
     },
     "metadata": {},
     "output_type": "display_data"
    }
   ],
   "source": [
    "def foo[A](implicit x: Ordered[A]) {}"
   ]
  },
  {
   "cell_type": "code",
   "execution_count": 4,
   "metadata": {
    "collapsed": false
   },
   "outputs": [
    {
     "data": {
      "text/plain": [
       "defined \u001b[32mfunction \u001b[36mfoo\u001b[0m"
      ]
     },
     "metadata": {},
     "output_type": "display_data"
    }
   ],
   "source": [
    "def foo[A: Ordered] {}"
   ]
  },
  {
   "cell_type": "code",
   "execution_count": 5,
   "metadata": {
    "collapsed": false
   },
   "outputs": [
    {
     "data": {
      "text/plain": [
       "\u001b[36mres4\u001b[0m: \u001b[32mOrdering\u001b[0m[\u001b[32mInt\u001b[0m] = scala.math.Ordering$Int$@29a39fe5"
      ]
     },
     "metadata": {},
     "output_type": "display_data"
    }
   ],
   "source": [
    "implicitly[Ordering[Int]]"
   ]
  },
  {
   "cell_type": "markdown",
   "metadata": {},
   "source": [
    "# Higher kinded types & ad-hoc polymorphism "
   ]
  },
  {
   "cell_type": "code",
   "execution_count": 6,
   "metadata": {
    "collapsed": false
   },
   "outputs": [
    {
     "data": {
      "text/plain": [
       "defined \u001b[32mtrait \u001b[36mContainer\u001b[0m"
      ]
     },
     "metadata": {},
     "output_type": "display_data"
    }
   ],
   "source": [
    "trait Container[M[_]] { def put[A](x: A): M[A]; def get[A](m: M[A]): A }"
   ]
  },
  {
   "cell_type": "code",
   "execution_count": 8,
   "metadata": {
    "collapsed": false
   },
   "outputs": [
    {
     "data": {
      "text/plain": [
       "\u001b[36mcontainer\u001b[0m: \u001b[32mAnyRef\u001b[0m with \u001b[32mContainer\u001b[0m[\u001b[32mList\u001b[0m] = cmd7$$user$$anonfun$1$$anon$1@3c8d785e"
      ]
     },
     "metadata": {},
     "output_type": "display_data"
    }
   ],
   "source": [
    "val container = new Container[List] { def put[A](x: A) = List(x); def get[A](m: List[A]) = m.head }"
   ]
  },
  {
   "cell_type": "code",
   "execution_count": 9,
   "metadata": {
    "collapsed": false
   },
   "outputs": [
    {
     "data": {
      "text/plain": [
       "\u001b[36mres8_0\u001b[0m: \u001b[32mList\u001b[0m[\u001b[32mString\u001b[0m] = \u001b[33mList\u001b[0m(\u001b[32m\"hey\"\u001b[0m)\n",
       "\u001b[36mres8_1\u001b[0m: \u001b[32mList\u001b[0m[\u001b[32mInt\u001b[0m] = \u001b[33mList\u001b[0m(\u001b[32m123\u001b[0m)"
      ]
     },
     "metadata": {},
     "output_type": "display_data"
    }
   ],
   "source": [
    "container.put(\"hey\")\n",
    "container.put(123)"
   ]
  },
  {
   "cell_type": "code",
   "execution_count": 17,
   "metadata": {
    "collapsed": false
   },
   "outputs": [
    {
     "data": {
      "text/plain": [
       "defined \u001b[32mtrait \u001b[36mContainer\u001b[0m"
      ]
     },
     "metadata": {},
     "output_type": "display_data"
    }
   ],
   "source": [
    "trait Container[M[_]] { def put[A](x: A): M[A]; def get[A](m: M[A]): A }"
   ]
  },
  {
   "cell_type": "code",
   "execution_count": 18,
   "metadata": {
    "collapsed": false
   },
   "outputs": [
    {
     "data": {
      "text/plain": [
       "\u001b[36mlistContainer\u001b[0m: \u001b[32mAnyRef\u001b[0m with \u001b[32mContainer\u001b[0m[\u001b[32mList\u001b[0m] = cmd16$$user$$anonfun$1$$anon$1@20d517d6"
      ]
     },
     "metadata": {},
     "output_type": "display_data"
    }
   ],
   "source": [
    "implicit val listContainer = new Container[List] { def put[A](x: A) = List(x); def get[A](m: List[A]) = m.head }"
   ]
  },
  {
   "cell_type": "code",
   "execution_count": 19,
   "metadata": {
    "collapsed": false
   },
   "outputs": [
    {
     "data": {
      "text/plain": [
       "\u001b[36moptionContainer\u001b[0m: \u001b[32mAnyRef\u001b[0m with \u001b[32mContainer\u001b[0m[\u001b[32mSome\u001b[0m] = cmd17$$user$$anonfun$1$$anon$1@5870c8d2"
      ]
     },
     "metadata": {},
     "output_type": "display_data"
    }
   ],
   "source": [
    "implicit val optionContainer = new Container[Some] { def put[A](x: A) = Some(x); def get[A](m: Some[A]) = m.get }"
   ]
  },
  {
   "cell_type": "code",
   "execution_count": 20,
   "metadata": {
    "collapsed": false
   },
   "outputs": [
    {
     "data": {
      "text/plain": [
       "defined \u001b[32mfunction \u001b[36mtupleize\u001b[0m"
      ]
     },
     "metadata": {},
     "output_type": "display_data"
    }
   ],
   "source": [
    "def tupleize[M[_]: Container, A, B](fst: M[A], snd: M[B]) = {\n",
    "    val c = implicitly[Container[M]]\n",
    "    c.put(c.get(fst), c.get(snd))\n",
    "}"
   ]
  },
  {
   "cell_type": "code",
   "execution_count": 21,
   "metadata": {
    "collapsed": false
   },
   "outputs": [
    {
     "data": {
      "text/plain": [
       "\u001b[36mres19\u001b[0m: \u001b[32mSome\u001b[0m[(\u001b[32mInt\u001b[0m, \u001b[32mInt\u001b[0m)] = \u001b[33mSome\u001b[0m(\u001b[33m\u001b[0m(\u001b[32m1\u001b[0m, \u001b[32m2\u001b[0m))"
      ]
     },
     "metadata": {},
     "output_type": "display_data"
    }
   ],
   "source": [
    "tupleize(Some(1), Some(2))"
   ]
  },
  {
   "cell_type": "code",
   "execution_count": 22,
   "metadata": {
    "collapsed": false
   },
   "outputs": [
    {
     "data": {
      "text/plain": [
       "\u001b[36mres20\u001b[0m: \u001b[32mList\u001b[0m[(\u001b[32mInt\u001b[0m, \u001b[32mInt\u001b[0m)] = \u001b[33mList\u001b[0m(\u001b[33m\u001b[0m(\u001b[32m1\u001b[0m, \u001b[32m2\u001b[0m))"
      ]
     },
     "metadata": {},
     "output_type": "display_data"
    }
   ],
   "source": [
    "tupleize(List(1), List(2))"
   ]
  },
  {
   "cell_type": "markdown",
   "metadata": {},
   "source": [
    "# F-bounded polymophism / recursive types"
   ]
  },
  {
   "cell_type": "code",
   "execution_count": 28,
   "metadata": {
    "collapsed": false
   },
   "outputs": [
    {
     "data": {
      "text/plain": [
       "defined \u001b[32mtrait \u001b[36mContainer\u001b[0m"
      ]
     },
     "metadata": {},
     "output_type": "display_data"
    }
   ],
   "source": [
    "trait Container extends Ordered[Container]"
   ]
  },
  {
   "cell_type": "code",
   "execution_count": 29,
   "metadata": {
    "collapsed": false
   },
   "outputs": [
    {
     "ename": "",
     "evalue": "",
     "output_type": "error",
     "traceback": [
      "Compilation Failed",
      "\u001b[31mMain.scala:105: class MyContainer needs to be abstract, since method compare in trait Ordered of type (that: cmd22.this.$ref$cmd21.Container)Int is not defined",
      "(Note that A does not match $user.this.MyContainer)",
      "                class MyContainer extends Container {",
      "                      ^\u001b[0m"
     ]
    }
   ],
   "source": [
    "class MyContainer extends Container {\n",
    "  def compare(that: MyContainer): Int = 0\n",
    "}"
   ]
  },
  {
   "cell_type": "code",
   "execution_count": 30,
   "metadata": {
    "collapsed": false
   },
   "outputs": [
    {
     "data": {
      "text/plain": [
       "defined \u001b[32mtrait \u001b[36mContainer\u001b[0m"
      ]
     },
     "metadata": {},
     "output_type": "display_data"
    }
   ],
   "source": [
    "trait Container[A <: Container[A]] extends Ordered[A]"
   ]
  },
  {
   "cell_type": "code",
   "execution_count": 31,
   "metadata": {
    "collapsed": false
   },
   "outputs": [
    {
     "data": {
      "text/plain": [
       "defined \u001b[32mclass \u001b[36mMyContainer\u001b[0m"
      ]
     },
     "metadata": {},
     "output_type": "display_data"
    }
   ],
   "source": [
    "class MyContainer extends Container[MyContainer] { \n",
    "  def compare(that: MyContainer) = 0 \n",
    "}"
   ]
  },
  {
   "cell_type": "code",
   "execution_count": 33,
   "metadata": {
    "collapsed": false
   },
   "outputs": [
    {
     "data": {
      "text/plain": [
       "\u001b[36mres25_0\u001b[0m: \u001b[32mList\u001b[0m[\u001b[32mMyContainer\u001b[0m] = \u001b[33mList\u001b[0m(\n",
       "  cmd23$$user$MyContainer@1ae62981,\n",
       "  cmd23$$user$MyContainer@7caee1f2,\n",
       "  cmd23$$user$MyContainer@3d7416d1\n",
       ")\n",
       "\u001b[36mres25_1\u001b[0m: \u001b[32mMyContainer\u001b[0m = cmd23$$user$MyContainer@7900ee0a"
      ]
     },
     "metadata": {},
     "output_type": "display_data"
    }
   ],
   "source": [
    "List(new MyContainer, new MyContainer, new MyContainer)\n",
    "List(new MyContainer, new MyContainer, new MyContainer).min"
   ]
  },
  {
   "cell_type": "code",
   "execution_count": 37,
   "metadata": {
    "collapsed": false
   },
   "outputs": [
    {
     "data": {
      "text/plain": [
       "defined \u001b[32mclass \u001b[36mYourContainer\u001b[0m"
      ]
     },
     "metadata": {},
     "output_type": "display_data"
    }
   ],
   "source": [
    "class YourContainer extends Container[YourContainer] { def compare(that: YourContainer) = 0 }"
   ]
  },
  {
   "cell_type": "code",
   "execution_count": 38,
   "metadata": {
    "collapsed": false
   },
   "outputs": [
    {
     "ename": "",
     "evalue": "",
     "output_type": "error",
     "traceback": [
      "Compilation Failed",
      "\u001b[31mMain.scala:87: type arguments [_45] do not conform to trait Container's type parameter bounds [A <: $user.this.Container[A]]",
      "              def $main() = {val $user: cmd28.INSTANCE.$user.type = cmd28.INSTANCE.$user; ReplBridge.shell.Internal.combinePrints(ReplBridge.shell.Internal.print($user.res28, \"res28\", _root_.scala.None))}",
      "                                                                                                                                                                 ^\u001b[0m"
     ]
    }
   ],
   "source": [
    "List(new MyContainer, new MyContainer, new MyContainer, new YourContainer)   "
   ]
  },
  {
   "cell_type": "code",
   "execution_count": 39,
   "metadata": {
    "collapsed": false
   },
   "outputs": [
    {
     "ename": "",
     "evalue": "",
     "output_type": "error",
     "traceback": [
      "Compilation Failed",
      "\u001b[31mMain.scala:119: value min is not a member of (cmd28.this.$ref$cmd23.MyContainer, cmd28.this.$ref$cmd23.MyContainer, cmd28.this.$ref$cmd23.MyContainer, cmd28.this.$ref$cmd27.YourContainer)",
      "(new MyContainer, new MyContainer, new MyContainer, new YourContainer).min",
      "                                                                       ^\u001b[0m"
     ]
    }
   ],
   "source": [
    "(new MyContainer, new MyContainer, new MyContainer, new YourContainer).min"
   ]
  },
  {
   "cell_type": "markdown",
   "metadata": {},
   "source": [
    "https://en.wikipedia.org/wiki/Bounded_quantification"
   ]
  },
  {
   "cell_type": "markdown",
   "metadata": {},
   "source": [
    "http://www.slideshare.net/b0ris_1/so-different-polymorphism-in-scala"
   ]
  },
  {
   "cell_type": "markdown",
   "metadata": {},
   "source": [
    "# Structural types"
   ]
  },
  {
   "cell_type": "code",
   "execution_count": 21,
   "metadata": {
    "collapsed": false
   },
   "outputs": [
    {
     "data": {
      "text/plain": [
       "defined \u001b[32mfunction \u001b[36mfoo\u001b[0m"
      ]
     },
     "metadata": {},
     "output_type": "display_data"
    }
   ],
   "source": [
    "def foo(x: { def get: Int }) = 123 + x.get"
   ]
  },
  {
   "cell_type": "code",
   "execution_count": 22,
   "metadata": {
    "collapsed": false
   },
   "outputs": [
    {
     "data": {
      "text/plain": [
       "\u001b[36mres12\u001b[0m: \u001b[32mInt\u001b[0m = \u001b[32m133\u001b[0m"
      ]
     },
     "metadata": {},
     "output_type": "display_data"
    }
   ],
   "source": [
    "foo(new { def get = 10 })            "
   ]
  },
  {
   "cell_type": "markdown",
   "metadata": {},
   "source": [
    "# Abstract types members"
   ]
  },
  {
   "cell_type": "code",
   "execution_count": 40,
   "metadata": {
    "collapsed": false
   },
   "outputs": [
    {
     "data": {
      "text/plain": [
       "defined \u001b[32mtrait \u001b[36mFoo\u001b[0m\n",
       "\u001b[36mres28_1\u001b[0m: \u001b[32mInt\u001b[0m = \u001b[32m123\u001b[0m\n",
       "\u001b[36mres28_2\u001b[0m: \u001b[32mString\u001b[0m = \u001b[32m\"hey\"\u001b[0m"
      ]
     },
     "metadata": {},
     "output_type": "display_data"
    }
   ],
   "source": [
    "trait Foo { type A; val x: A; def getX: A = x }\n",
    "\n",
    "(new Foo { type A = Int; val x = 123 }).getX   \n",
    "\n",
    "(new Foo { type A = String; val x = \"hey\" }).getX"
   ]
  },
  {
   "cell_type": "code",
   "execution_count": 41,
   "metadata": {
    "collapsed": false
   },
   "outputs": [
    {
     "data": {
      "text/plain": [
       "defined \u001b[32mtrait \u001b[36mFoo\u001b[0m\n",
       "\u001b[36mx\u001b[0m: \u001b[32mList\u001b[0m[\u001b[32mInt\u001b[0m] = \u001b[33mList\u001b[0m(\u001b[32m1\u001b[0m)"
      ]
     },
     "metadata": {},
     "output_type": "display_data"
    }
   ],
   "source": [
    "trait Foo[M[_]] { type t[A] = M[A] }\n",
    "\n",
    "val x: Foo[List]#t[Int] = List(1)"
   ]
  },
  {
   "cell_type": "markdown",
   "metadata": {},
   "source": [
    "# Type erasures & manifests"
   ]
  },
  {
   "cell_type": "code",
   "execution_count": 26,
   "metadata": {
    "collapsed": false
   },
   "outputs": [
    {
     "data": {
      "text/plain": [
       "defined \u001b[32mclass \u001b[36mMakeFoo\u001b[0m\n",
       "\u001b[36mres18_1\u001b[0m: \u001b[32mString\u001b[0m = \u001b[32m\"\"\u001b[0m"
      ]
     },
     "metadata": {},
     "output_type": "display_data"
    }
   ],
   "source": [
    "class MakeFoo[A](implicit manifest: Manifest[A]) {\n",
    "    def make: A = manifest.erasure.newInstance.asInstanceOf[A]\n",
    "}\n",
    "(new MakeFoo[String]).make"
   ]
  },
  {
   "cell_type": "markdown",
   "metadata": {},
   "source": [
    "http://www.scala-lang.org/api/2.11.6/index.html#scala.reflect.Manifest"
   ]
  },
  {
   "cell_type": "markdown",
   "metadata": {},
   "source": [
    "http://docs.scala-lang.org/overviews/reflection/typetags-manifests.html"
   ]
  },
  {
   "cell_type": "markdown",
   "metadata": {},
   "source": [
    "# Case study: Finagle"
   ]
  },
  {
   "cell_type": "raw",
   "metadata": {
    "collapsed": true
   },
   "source": [
    "trait Service[-Req, +Rep] extends (Req => Future[Rep])\n",
    "\n",
    "trait Filter[-ReqIn, +RepOut, +ReqOut, -RepIn]\n",
    "  extends ((ReqIn, Service[ReqOut, RepIn]) => Future[RepOut])\n",
    "{\n",
    "  def andThen[Req2, Rep2](next: Filter[ReqOut, RepIn, Req2, Rep2]) =\n",
    "    new Filter[ReqIn, RepOut, Req2, Rep2] {\n",
    "      def apply(request: ReqIn, service: Service[Req2, Rep2]) = {\n",
    "        Filter.this.apply(request, new Service[ReqOut, RepIn] {\n",
    "          def apply(request: ReqOut): Future[RepIn] = next(request, service)\n",
    "          override def release() = service.release()\n",
    "          override def isAvailable = service.isAvailable\n",
    "        })\n",
    "      }\n",
    "    }\n",
    "    \n",
    "  def andThen(service: Service[ReqOut, RepIn]) = new Service[ReqIn, RepOut] {\n",
    "    private[this] val refcounted = new RefcountedService(service)\n",
    "\n",
    "    def apply(request: ReqIn) = Filter.this.apply(request, refcounted)\n",
    "    override def release() = refcounted.release()\n",
    "    override def isAvailable = refcounted.isAvailable\n",
    "  }    \n",
    "}"
   ]
  },
  {
   "cell_type": "raw",
   "metadata": {
    "collapsed": true
   },
   "source": [
    "trait RequestWithCredentials extends Request {\n",
    "  def credentials: Credentials\n",
    "}\n",
    "\n",
    "class CredentialsFilter(credentialsParser: CredentialsParser)\n",
    "  extends Filter[Request, Response, RequestWithCredentials, Response]\n",
    "{\n",
    "  def apply(request: Request, service: Service[RequestWithCredentials, Response]): Future[Response] = {\n",
    "    val requestWithCredentials = new RequestWrapper with RequestWithCredentials {\n",
    "      val underlying = request\n",
    "      val credentials = credentialsParser(request) getOrElse NullCredentials\n",
    "    }\n",
    "\n",
    "    service(requestWithCredentials)\n",
    "  }\n",
    "}"
   ]
  },
  {
   "cell_type": "raw",
   "metadata": {
    "collapsed": true
   },
   "source": [
    "val upFilter =\n",
    "  logTransaction     andThen\n",
    "  handleExceptions   andThen\n",
    "  extractCredentials andThen\n",
    "  homeUser           andThen\n",
    "  authenticate       andThen\n",
    "  route"
   ]
  }
 ],
 "metadata": {
  "kernelspec": {
   "display_name": "Scala 2.11",
   "language": "scala211",
   "name": "scala211"
  },
  "language_info": {
   "codemirror_mode": "text/x-scala",
   "file_extension": "scala",
   "mimetype": "text/x-scala",
   "name": "scala211",
   "pygments_lexer": "scala",
   "version": "2.11.6"
  }
 },
 "nbformat": 4,
 "nbformat_minor": 0
}
