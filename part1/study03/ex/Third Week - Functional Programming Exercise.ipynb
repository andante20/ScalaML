{
 "cells": [
  {
   "cell_type": "markdown",
   "metadata": {},
   "source": [
    "## Exercise for Chapter 3, Functional Programming in Scala"
   ]
  },
  {
   "cell_type": "markdown",
   "metadata": {},
   "source": [
    "Class Definition for Exercises"
   ]
  },
  {
   "cell_type": "code",
   "execution_count": 3,
   "metadata": {
    "collapsed": false
   },
   "outputs": [
    {
     "data": {
      "text/plain": [
       "defined \u001b[32mtrait \u001b[36mList\u001b[0m\n",
       "defined \u001b[32mobject \u001b[36mNil\u001b[0m\n",
       "defined \u001b[32mclass \u001b[36mCons\u001b[0m\n",
       "defined \u001b[32mobject \u001b[36mList\u001b[0m"
      ]
     },
     "metadata": {},
     "output_type": "display_data"
    }
   ],
   "source": [
    "sealed trait List[+A]\n",
    "case object Nil extends List[Nothing]\n",
    "case class Cons[+A](head: A, tail: List[A]) extends List[A]\n",
    "\n",
    "object List {\n",
    "    \n",
    "    def sum(ints: List[Int]): Int = ints match {\n",
    "        case Nil => 0\n",
    "        case Cons(x,xs) => x + sum(xs)\n",
    "    }\n",
    "    \n",
    "    def product(ds: List[Double]): Double = ds match {\n",
    "        case Nil => 1.0\n",
    "        case Cons(0.0, _) => 0.0\n",
    "        case Cons(x,xs) => x * product(xs)\n",
    "    }    \n",
    "    \n",
    "    def apply[A](as: A*): List[A] = \n",
    "        if (as.isEmpty) Nil\n",
    "        else Cons(as.head, apply(as.tail:_*))\n",
    "}"
   ]
  },
  {
   "cell_type": "markdown",
   "metadata": {},
   "source": [
    "Exercise 3.1\n",
    "- What will be the result of the following match expression?"
   ]
  },
  {
   "cell_type": "code",
   "execution_count": 15,
   "metadata": {
    "collapsed": false
   },
   "outputs": [
    {
     "data": {
      "text/plain": [
       "\u001b[36mx\u001b[0m: \u001b[32mInt\u001b[0m = \u001b[32m3\u001b[0m"
      ]
     },
     "metadata": {},
     "output_type": "display_data"
    }
   ],
   "source": [
    "val x = List(1,2,3,4,5) match {\n",
    "    case Cons(x, Cons(2, Cons(4, _))) => x\n",
    "    case Nil => 42\n",
    "    case Cons(x, Cons(y, Cons(3, Cons(4, _)))) => x + y\n",
    "    case Cons(h,t) => h + List.sum(t)\n",
    "    case _ => 101\n",
    "}"
   ]
  },
  {
   "cell_type": "markdown",
   "metadata": {},
   "source": [
    "Exercise 3.2\n",
    "- Implement the function \"tail\" for removing the first element of a List. What are different choices you could make in your implementation if the List is Nil?"
   ]
  },
  {
   "cell_type": "code",
   "execution_count": 17,
   "metadata": {
    "collapsed": false
   },
   "outputs": [
    {
     "data": {
      "text/plain": [
       "defined \u001b[32mfunction \u001b[36mtail\u001b[0m"
      ]
     },
     "metadata": {},
     "output_type": "display_data"
    }
   ],
   "source": [
    "def tail[A](l: List[A]): List[A] = l match{\n",
    "    case Nil => sys.error(\"empty list\")\n",
    "    case Cons(h,t) => t\n",
    "}"
   ]
  },
  {
   "cell_type": "markdown",
   "metadata": {},
   "source": [
    "Exercise 3.3\n",
    "- Using the same idea, implement the function \"setHead\" for replacing the first element of a List with a different value"
   ]
  },
  {
   "cell_type": "code",
   "execution_count": 18,
   "metadata": {
    "collapsed": false
   },
   "outputs": [
    {
     "data": {
      "text/plain": [
       "defined \u001b[32mfunction \u001b[36msetHead\u001b[0m"
      ]
     },
     "metadata": {},
     "output_type": "display_data"
    }
   ],
   "source": [
    "def setHead[A](hd: A, l: List[A]): List[A] = \n",
    "    Cons(hd, tail(l))"
   ]
  },
  {
   "cell_type": "markdown",
   "metadata": {},
   "source": [
    "Exercise 3.4\n",
    "- Generalize \"tail\" to the function \"drop\", which removes the first n elements from a list. "
   ]
  },
  {
   "cell_type": "code",
   "execution_count": 22,
   "metadata": {
    "collapsed": false
   },
   "outputs": [
    {
     "data": {
      "text/plain": [
       "defined \u001b[32mfunction \u001b[36mdrop\u001b[0m"
      ]
     },
     "metadata": {},
     "output_type": "display_data"
    }
   ],
   "source": [
    "def drop[A](n: Int, l: List[A]): List[A] =\n",
    "    if (n == 0) l\n",
    "    else drop(n-1, tail(l))"
   ]
  },
  {
   "cell_type": "code",
   "execution_count": 25,
   "metadata": {
    "collapsed": false
   },
   "outputs": [
    {
     "data": {
      "text/plain": [
       "defined \u001b[32mfunction \u001b[36mdropANSWER\u001b[0m"
      ]
     },
     "metadata": {},
     "output_type": "display_data"
    }
   ],
   "source": [
    "def dropANSWER[A](l: List[A], n: Int): List[A] = \n",
    "  if (n <= 0) l\n",
    "  else l match {\n",
    "    case Nil => Nil\n",
    "    case Cons(_,t) => drop(t, n-1) \n",
    "  }"
   ]
  },
  {
   "cell_type": "markdown",
   "metadata": {},
   "source": [
    "Exercise 3.5\n",
    "- Implement \"dropWhile\", which removes elements from the List prefix as long as they match a predicate"
   ]
  },
  {
   "cell_type": "code",
   "execution_count": 27,
   "metadata": {
    "collapsed": false
   },
   "outputs": [
    {
     "data": {
      "text/plain": [
       "defined \u001b[32mfunction \u001b[36mdropWhile\u001b[0m"
      ]
     },
     "metadata": {},
     "output_type": "display_data"
    }
   ],
   "source": [
    "def dropWhile[A](l: List[A], f: A => Boolean): List[A] = \n",
    "    l match {\n",
    "        case Nil => Nil\n",
    "        case Cons(x,xs) => if (f(x)) dropWhile(xs, f)\n",
    "                           else xs\n",
    "    }"
   ]
  },
  {
   "cell_type": "code",
   "execution_count": 28,
   "metadata": {
    "collapsed": false
   },
   "outputs": [
    {
     "data": {
      "text/plain": [
       "defined \u001b[32mfunction \u001b[36mdropWhileANSWER\u001b[0m"
      ]
     },
     "metadata": {},
     "output_type": "display_data"
    }
   ],
   "source": [
    "def dropWhileANSWER[A](l: List[A], f: A => Boolean): List[A] = \n",
    "  l match {\n",
    "    case Cons(h,t) if f(h) => dropWhile(t, f) \n",
    "    case _ => l\n",
    "  }"
   ]
  },
  {
   "cell_type": "markdown",
   "metadata": {},
   "source": [
    "Exercise 3.6\n",
    "- Implement a function, \"init\", that returns a List consisting of all but the last element of a List."
   ]
  },
  {
   "cell_type": "code",
   "execution_count": 97,
   "metadata": {
    "collapsed": false
   },
   "outputs": [
    {
     "data": {
      "text/plain": [
       "defined \u001b[32mfunction \u001b[36minit\u001b[0m"
      ]
     },
     "metadata": {},
     "output_type": "display_data"
    }
   ],
   "source": [
    "def init[A](l: List[A]): List[A] = \n",
    "    l match {\n",
    "        case Nil => sys.error(\"init of empty list\")\n",
    "        case Cons(x,xs) => Cons(x, init(xs))\n",
    "        case Cons(x, Nil) => Nil\n",
    "    }"
   ]
  },
  {
   "cell_type": "code",
   "execution_count": 35,
   "metadata": {
    "collapsed": false
   },
   "outputs": [
    {
     "data": {
      "text/plain": [
       "defined \u001b[32mfunction \u001b[36minit\u001b[0m"
      ]
     },
     "metadata": {},
     "output_type": "display_data"
    }
   ],
   "source": [
    "def initANSWER[A](l: List[A]): List[A] = \n",
    "  l match { \n",
    "    case Nil => sys.error(\"init of empty list\")\n",
    "    case Cons(_,Nil) => Nil\n",
    "    case Cons(h,t) => Cons(h,init(t))\n",
    "  }"
   ]
  },
  {
   "cell_type": "code",
   "execution_count": 98,
   "metadata": {
    "collapsed": false
   },
   "outputs": [
    {
     "ename": "",
     "evalue": "",
     "output_type": "error",
     "traceback": [
      "java.lang.RuntimeException: init of empty list",
      "\tscala.sys.package$.error(package.scala:27)",
      "\tcmd68$$user.init(Main.scala:61)",
      "\tcmd68$$user.init(Main.scala:62)",
      "\tcmd68$$user.init(Main.scala:62)",
      "\tcmd69$$user$$anonfun$1.apply(Main.scala:48)",
      "\tcmd69$$user$$anonfun$1.apply(Main.scala:47)"
     ]
    }
   ],
   "source": [
    "init(List(1,2))"
   ]
  },
  {
   "cell_type": "code",
   "execution_count": 4,
   "metadata": {
    "collapsed": false
   },
   "outputs": [
    {
     "data": {
      "text/plain": [
       "defined \u001b[32mfunction \u001b[36mfoldRight\u001b[0m"
      ]
     },
     "metadata": {},
     "output_type": "display_data"
    }
   ],
   "source": [
    "def foldRight[A,B](as: List[A], z:B)(f: (A, B) => B): B = \n",
    "    as match{\n",
    "        case Nil => z\n",
    "        case Cons(x,xs) => f(x, foldRight(xs,z)(f))\n",
    "    }"
   ]
  },
  {
   "cell_type": "markdown",
   "metadata": {},
   "source": [
    "Exercise 3.7\n",
    "- Can \"product\", implemented using \"foldRight\", immediately half the recursion and return 0.0 if it encounters 0.0?"
   ]
  },
  {
   "cell_type": "markdown",
   "metadata": {},
   "source": [
    "Exercise 3.8 "
   ]
  },
  {
   "cell_type": "code",
   "execution_count": 45,
   "metadata": {
    "collapsed": false
   },
   "outputs": [
    {
     "data": {
      "text/plain": [
       "\u001b[36mres31\u001b[0m: \u001b[32mcmd31.INSTANCE.$ref$cmd19.List[Int]\u001b[0m = Cons(1,Cons(2,Cons(3,Nil)))"
      ]
     },
     "metadata": {},
     "output_type": "display_data"
    }
   ],
   "source": [
    "foldRight(List(1,2,3), Nil:List[Int])(Cons(_,_))"
   ]
  },
  {
   "cell_type": "markdown",
   "metadata": {},
   "source": [
    "Exercise 3.9\n",
    "- Compute the length of a list using foldRight"
   ]
  },
  {
   "cell_type": "code",
   "execution_count": 137,
   "metadata": {
    "collapsed": false
   },
   "outputs": [
    {
     "data": {
      "text/plain": [
       "defined \u001b[32mfunction \u001b[36mlength\u001b[0m"
      ]
     },
     "metadata": {},
     "output_type": "display_data"
    }
   ],
   "source": [
    "def length[A](as: List[A]): Int = \n",
    "    as match{\n",
    "        case Nil => 0\n",
    "        case Cons(x,xs) => 1 + length(xs)\n",
    "    }"
   ]
  },
  {
   "cell_type": "code",
   "execution_count": 7,
   "metadata": {
    "collapsed": false
   },
   "outputs": [
    {
     "data": {
      "text/plain": [
       "defined \u001b[32mfunction \u001b[36mlength\u001b[0m"
      ]
     },
     "metadata": {},
     "output_type": "display_data"
    }
   ],
   "source": [
    "def length[A](as: List[A]): Int=\n",
    "    foldRight(as, 0)((x, acc) => 1 + acc)"
   ]
  },
  {
   "cell_type": "code",
   "execution_count": 8,
   "metadata": {
    "collapsed": false
   },
   "outputs": [
    {
     "data": {
      "text/plain": [
       "\u001b[36mres5\u001b[0m: \u001b[32mInt\u001b[0m = \u001b[32m3\u001b[0m"
      ]
     },
     "metadata": {},
     "output_type": "display_data"
    }
   ],
   "source": [
    "length(List(1,2,3))"
   ]
  },
  {
   "cell_type": "markdown",
   "metadata": {},
   "source": [
    "Exercise 3.10\n",
    "- Write \"foldLeft\" that is tail-recursive, using the techniques we discussed in the previous chapter.\n",
    "- @annotation.tailrec ?"
   ]
  },
  {
   "cell_type": "code",
   "execution_count": 10,
   "metadata": {
    "collapsed": false
   },
   "outputs": [
    {
     "data": {
      "text/plain": [
       "defined \u001b[32mfunction \u001b[36mfoldLeft\u001b[0m"
      ]
     },
     "metadata": {},
     "output_type": "display_data"
    }
   ],
   "source": [
    "def foldLeft[A,B](l: List[A], z: B)(f: (B, A) => B): B = l match {    \n",
    "    case Nil => z\n",
    "    case Cons(h,t) => foldLeft(t, f(z,h))(f)\n",
    "}"
   ]
  },
  {
   "cell_type": "markdown",
   "metadata": {},
   "source": [
    "Exercise 3.11\n",
    "- Write sum, product and a fuction to compute the length of a list using foldLeft"
   ]
  },
  {
   "cell_type": "code",
   "execution_count": 11,
   "metadata": {
    "collapsed": false
   },
   "outputs": [
    {
     "data": {
      "text/plain": [
       "defined \u001b[32mfunction \u001b[36msum\u001b[0m"
      ]
     },
     "metadata": {},
     "output_type": "display_data"
    }
   ],
   "source": [
    "def sum(ints: List[Int]): Int = \n",
    "    foldLeft(ints, 0)((acc,h) => acc + h)"
   ]
  },
  {
   "cell_type": "code",
   "execution_count": 13,
   "metadata": {
    "collapsed": false
   },
   "outputs": [
    {
     "data": {
      "text/plain": [
       "defined \u001b[32mfunction \u001b[36mproduct\u001b[0m"
      ]
     },
     "metadata": {},
     "output_type": "display_data"
    }
   ],
   "source": [
    "def product(ints: List[Double]): Double = \n",
    "    foldLeft(ints,1.0)((acc,h) => acc * h )"
   ]
  },
  {
   "cell_type": "code",
   "execution_count": 64,
   "metadata": {
    "collapsed": false
   },
   "outputs": [
    {
     "data": {
      "text/plain": [
       "defined \u001b[32mfunction \u001b[36mlength\u001b[0m"
      ]
     },
     "metadata": {},
     "output_type": "display_data"
    }
   ],
   "source": [
    "def length[A](as: List[A]): Int = \n",
    "    foldLeft(as, 0)((acc,h) => 1 + acc)"
   ]
  },
  {
   "cell_type": "markdown",
   "metadata": {},
   "source": [
    "Exercise 3.12\n",
    "- Write a function that returns the reverse of a list. See if you can write it using a fold."
   ]
  },
  {
   "cell_type": "code",
   "execution_count": 58,
   "metadata": {
    "collapsed": false
   },
   "outputs": [
    {
     "data": {
      "text/plain": [
       "defined \u001b[32mfunction \u001b[36mrev\u001b[0m"
      ]
     },
     "metadata": {},
     "output_type": "display_data"
    }
   ],
   "source": [
    "def rev[A](l: List[A]): List[A] = {\n",
    "    def go[A](acc: List[A], lst: List[A]): List[A] =\n",
    "        lst match{\n",
    "            case Nil => acc\n",
    "            case Cons(x,xs) => go(Cons(x, acc), xs)\n",
    "        }\n",
    "    go(Nil, l)   \n",
    "}"
   ]
  },
  {
   "cell_type": "code",
   "execution_count": 99,
   "metadata": {
    "collapsed": false
   },
   "outputs": [
    {
     "ename": "",
     "evalue": "",
     "output_type": "error",
     "traceback": [
      "Compilation Failed",
      "\u001b[31mMain.scala:56: type mismatch;",
      " found   : cmd70.this.$ref$cmd19.Cons[A]",
      " required: cmd70.this.$ref$cmd19.Nil.type\r",
      "   foldLeft(l, Nil)((acc,h) => Cons(h, acc))\r",
      "                                   ^\u001b[0m"
     ]
    }
   ],
   "source": [
    "def rev[A](l: List[A]): List[A] = \n",
    "   foldLeft(l, Nil)((acc,h) => Cons(h, acc))"
   ]
  },
  {
   "cell_type": "code",
   "execution_count": 70,
   "metadata": {
    "collapsed": false
   },
   "outputs": [
    {
     "data": {
      "text/plain": [
       "defined \u001b[32mfunction \u001b[36mrevANSWER\u001b[0m"
      ]
     },
     "metadata": {},
     "output_type": "display_data"
    }
   ],
   "source": [
    "def revANSWER[A](l: List[A]): List[A] = \n",
    "   foldLeft(l, List[A]())((acc,h) => Cons(h, acc))"
   ]
  },
  {
   "cell_type": "markdown",
   "metadata": {},
   "source": [
    "Exercise 3.13\n",
    "- (Hard): Can you write foldLeft in terms of foldRight? How about the other way around?"
   ]
  },
  {
   "cell_type": "code",
   "execution_count": 71,
   "metadata": {
    "collapsed": false
   },
   "outputs": [
    {
     "ename": "",
     "evalue": "",
     "output_type": "error",
     "traceback": [
      "Compilation Failed",
      "\u001b[31mMain.scala:48: polymorphic expression cannot be instantiated to expected type;",
      " found   : [A, B(in method foldLeft)](l: cmd35.INSTANCE.$ref$cmd19.List[A], z: B(in method foldLeft))(f: (B(in method foldLeft), A) => B(in method foldLeft))B(in method foldLeft)",
      " required: B(in method foldRight)\r",
      "    foldLeft\r",
      "    ^\u001b[0m"
     ]
    }
   ],
   "source": [
    "def foldRight[A,B](as: List[A], z:B)(f: (A, B) => B): B = \n",
    "    foldLeft"
   ]
  },
  {
   "cell_type": "markdown",
   "metadata": {},
   "source": [
    "Exercise 3.14\n",
    "- Implement append in terms of either foldLeft or foldRight"
   ]
  },
  {
   "cell_type": "code",
   "execution_count": 92,
   "metadata": {
    "collapsed": false
   },
   "outputs": [
    {
     "data": {
      "text/plain": [
       "defined \u001b[32mfunction \u001b[36mappend\u001b[0m"
      ]
     },
     "metadata": {},
     "output_type": "display_data"
    }
   ],
   "source": [
    "def append[A](a1: List[A], a2:List[A]): List[A] = \n",
    "    a1 match {\n",
    "    case Nil => a2\n",
    "    case Cons(h,t) => Cons(h, append(t, a2))\n",
    "    }"
   ]
  },
  {
   "cell_type": "code",
   "execution_count": 15,
   "metadata": {
    "collapsed": false,
    "scrolled": true
   },
   "outputs": [
    {
     "data": {
      "text/plain": [
       "defined \u001b[32mfunction \u001b[36mappendViaFoldRight\u001b[0m"
      ]
     },
     "metadata": {},
     "output_type": "display_data"
    }
   ],
   "source": [
    "def appendViaFoldRight[A](l: List[A], r: List[A]): List[A] = \n",
    "  foldRight(l, r)(Cons(_,_))"
   ]
  },
  {
   "cell_type": "markdown",
   "metadata": {},
   "source": [
    "Exercise 3.15\n",
    "- (Hard) Write a function that concatenates a list of lists into a single list."
   ]
  },
  {
   "cell_type": "code",
   "execution_count": 93,
   "metadata": {
    "collapsed": false
   },
   "outputs": [
    {
     "data": {
      "text/plain": [
       "defined \u001b[32mfunction \u001b[36mconlist\u001b[0m"
      ]
     },
     "metadata": {},
     "output_type": "display_data"
    }
   ],
   "source": [
    "def conlist[A](lsts: List[List[A]]): List[A] =\n",
    "    lsts match {\n",
    "        case Nil => Nil\n",
    "        case Cons(x,xs) => append(x, conlist(xs))\n",
    "    }"
   ]
  },
  {
   "cell_type": "code",
   "execution_count": 95,
   "metadata": {
    "collapsed": false
   },
   "outputs": [
    {
     "data": {
      "text/plain": [
       "defined \u001b[32mfunction \u001b[36mconcat\u001b[0m"
      ]
     },
     "metadata": {},
     "output_type": "display_data"
    }
   ],
   "source": [
    "def concat[A](l: List[List[A]]): List[A] = \n",
    "  foldRight(l, Nil:List[A])(append)"
   ]
  },
  {
   "cell_type": "code",
   "execution_count": 96,
   "metadata": {
    "collapsed": false
   },
   "outputs": [
    {
     "data": {
      "text/plain": [
       "\u001b[36mres67_0\u001b[0m: \u001b[32mcmd64.INSTANCE.$ref$cmd19.List[Int]\u001b[0m = Cons(1,Cons(2,Cons(3,Cons(4,Nil))))\n",
       "\u001b[36mres67_1\u001b[0m: \u001b[32mcmd66.INSTANCE.$ref$cmd19.List[Int]\u001b[0m = Cons(1,Cons(2,Cons(3,Cons(4,Nil))))"
      ]
     },
     "metadata": {},
     "output_type": "display_data"
    }
   ],
   "source": [
    "conlist(List(List(1,2),List(3,4)));\n",
    "concat(List(List(1,2),List(3,4)))"
   ]
  },
  {
   "cell_type": "markdown",
   "metadata": {},
   "source": [
    "Exercise 3.16\n",
    "- Write a function that transforms a list of integers by adding 1 to each element."
   ]
  },
  {
   "cell_type": "code",
   "execution_count": 101,
   "metadata": {
    "collapsed": false
   },
   "outputs": [
    {
     "data": {
      "text/plain": [
       "defined \u001b[32mfunction \u001b[36maddone\u001b[0m"
      ]
     },
     "metadata": {},
     "output_type": "display_data"
    }
   ],
   "source": [
    "def addone(l: List[Int]): List[Int] = \n",
    "    l match{\n",
    "        case Nil => Nil\n",
    "        case Cons(x,xs) => Cons(x+1, addone(xs))\n",
    "    }"
   ]
  },
  {
   "cell_type": "markdown",
   "metadata": {},
   "source": [
    "Exercise 3.17\n",
    "- Write a function that turns each value in a List[Double] into a String. You can use expression d.toString to convert."
   ]
  },
  {
   "cell_type": "code",
   "execution_count": 103,
   "metadata": {
    "collapsed": false
   },
   "outputs": [
    {
     "data": {
      "text/plain": [
       "defined \u001b[32mfunction \u001b[36mdtoString\u001b[0m"
      ]
     },
     "metadata": {},
     "output_type": "display_data"
    }
   ],
   "source": [
    "def dtoString(ds: List[Double]): List[String] =\n",
    "    ds match{\n",
    "        case Nil => Nil\n",
    "        case Cons(x,xs) => Cons(x.toString, dtoString(xs))\n",
    "    }"
   ]
  },
  {
   "cell_type": "markdown",
   "metadata": {},
   "source": [
    "Exercise 3.18\n",
    "- Write a function map that generalizes modifying each element in a list while maintaining the structure of the list."
   ]
  },
  {
   "cell_type": "code",
   "execution_count": 106,
   "metadata": {
    "collapsed": false
   },
   "outputs": [
    {
     "data": {
      "text/plain": [
       "defined \u001b[32mfunction \u001b[36mmap\u001b[0m"
      ]
     },
     "metadata": {},
     "output_type": "display_data"
    }
   ],
   "source": [
    "def map[A,B](as: List[A])(f: A => B): List[B] =\n",
    "    as match{\n",
    "        case Nil => Nil\n",
    "        case Cons(x,xs) => Cons(f(x),map(xs)(f))\n",
    "    }"
   ]
  },
  {
   "cell_type": "markdown",
   "metadata": {},
   "source": [
    "Exercise 3.19\n",
    "- Write a function \"filter\" that removes elements from a list unless they satisfy a given predicate. Use it to remove all odd numbers from a List[Int]."
   ]
  },
  {
   "cell_type": "code",
   "execution_count": 108,
   "metadata": {
    "collapsed": false
   },
   "outputs": [
    {
     "data": {
      "text/plain": [
       "defined \u001b[32mfunction \u001b[36mfilter\u001b[0m"
      ]
     },
     "metadata": {},
     "output_type": "display_data"
    }
   ],
   "source": [
    "def filter[A](as: List[A])(f: A => Boolean): List[A] = \n",
    "    as match{\n",
    "        case Nil => Nil\n",
    "        case Cons(x, xs) => if (f(x)) Cons(x, filter(xs)(f)) else filter(xs)(f)\n",
    "    }"
   ]
  },
  {
   "cell_type": "markdown",
   "metadata": {},
   "source": [
    "Exercise 3.20\n",
    "- Write a function \"flatMap\" that works like \"map\" except that the function given will return a list instead of a single result, and that list should be inserted into the final resulting list."
   ]
  },
  {
   "cell_type": "code",
   "execution_count": 110,
   "metadata": {
    "collapsed": false
   },
   "outputs": [
    {
     "data": {
      "text/plain": [
       "defined \u001b[32mfunction \u001b[36mflatMap\u001b[0m"
      ]
     },
     "metadata": {},
     "output_type": "display_data"
    }
   ],
   "source": [
    "def flatMap[A,B](as: List[A])(f: A => List[B]): List[B] =\n",
    "    as match{\n",
    "        case Nil => Nil\n",
    "        case Cons(x,xs) => append(f(x),flatMap(xs)(f))\n",
    "    }"
   ]
  },
  {
   "cell_type": "markdown",
   "metadata": {},
   "source": [
    "Exercise 3.21\n",
    "- Use \"flatMap\" to implement \"filter\""
   ]
  },
  {
   "cell_type": "code",
   "execution_count": 115,
   "metadata": {
    "collapsed": false
   },
   "outputs": [
    {
     "data": {
      "text/plain": [
       "defined \u001b[32mfunction \u001b[36mfilter\u001b[0m"
      ]
     },
     "metadata": {},
     "output_type": "display_data"
    }
   ],
   "source": [
    "def filter[A](as: List[A])(f: A => Boolean): List[A] = \n",
    "    flatMap(as)(a => if (f(a)) List(a) else Nil)"
   ]
  },
  {
   "cell_type": "markdown",
   "metadata": {},
   "source": [
    "Exercise 3.22\n",
    "- Write a function that accepts two lists and constructs a new list by adding corresponding elements."
   ]
  },
  {
   "cell_type": "code",
   "execution_count": 116,
   "metadata": {
    "collapsed": false
   },
   "outputs": [
    {
     "data": {
      "text/plain": [
       "defined \u001b[32mfunction \u001b[36mnewlist\u001b[0m"
      ]
     },
     "metadata": {},
     "output_type": "display_data"
    }
   ],
   "source": [
    "def newlist(a: List[Int], b: List[Int]): List[Int] = (a,b) match {\n",
    "  case (Nil, b) => b\n",
    "  case (a, Nil) => a\n",
    "  case (Cons(h1,t1), Cons(h2,t2)) => Cons(h1+h2, newlist(t1,t2))\n",
    "}"
   ]
  },
  {
   "cell_type": "markdown",
   "metadata": {},
   "source": [
    "Exercise 3.23\n",
    "- Generalize the function you just wrote so that it's not specific to integers or addition."
   ]
  },
  {
   "cell_type": "code",
   "execution_count": 118,
   "metadata": {
    "collapsed": false
   },
   "outputs": [
    {
     "data": {
      "text/plain": [
       "defined \u001b[32mfunction \u001b[36mzipWith\u001b[0m"
      ]
     },
     "metadata": {},
     "output_type": "display_data"
    }
   ],
   "source": [
    "def zipWith[A](a: List[A], b: List[A])(f:(A,A) => A): List[A] = (a,b) match {\n",
    "  case (Nil, b) => b\n",
    "  case (a, Nil) => a\n",
    "  case (Cons(h1,t1), Cons(h2,t2)) => Cons(f(h1,h2), zipWith(t1,t2)(f))\n",
    "}"
   ]
  },
  {
   "cell_type": "code",
   "execution_count": 128,
   "metadata": {
    "collapsed": false
   },
   "outputs": [
    {
     "data": {
      "text/plain": [
       "defined \u001b[32mfunction \u001b[36mzipWithANSWER\u001b[0m"
      ]
     },
     "metadata": {},
     "output_type": "display_data"
    }
   ],
   "source": [
    "def zipWithANSWER[A,B,C](a: List[A], b: List[B])(f: (A,B) => C): List[C] = (a,b) match {\n",
    "  case (Nil, _) => Nil\n",
    "  case (_, Nil) => Nil\n",
    "  case (Cons(h1,t1), Cons(h2,t2)) => Cons(f(h1,h2), zipWithANSWER(t1,t2)(f))\n",
    "}"
   ]
  },
  {
   "cell_type": "markdown",
   "metadata": {},
   "source": [
    "Exercise 3.24\n",
    "- (Hard) implement \"hasSubsequence\" for checking whether a List contains another List as a subsequence."
   ]
  },
  {
   "cell_type": "code",
   "execution_count": 129,
   "metadata": {
    "collapsed": false
   },
   "outputs": [
    {
     "ename": "",
     "evalue": "",
     "output_type": "error",
     "traceback": [
      "Compilation Failed",
      "\u001b[31mMain.scala:52: could not optimize @tailrec annotated method startsWith: it is neither private nor final so can be overridden\r",
      "def startsWith[A](l: List[A], prefix: List[A]): Boolean = (l,prefix) match {\r",
      "    ^\u001b[0m",
      "\u001b[31mMain.scala:57: could not optimize @tailrec annotated method hasSubsequence: it is neither private nor final so can be overridden\r",
      "def hasSubsequence[A](sup: List[A], sub: List[A]): Boolean = sup match {\r",
      "    ^\u001b[0m"
     ]
    }
   ],
   "source": [
    "@annotation.tailrec\n",
    "def startsWith[A](l: List[A], prefix: List[A]): Boolean = (l,prefix) match {\n",
    "  case (_,Nil) => true\n",
    "  case (Cons(h,t),Cons(h2,t2)) if h == h2 => startsWith(t, t2)\n",
    "  case _ => false\n",
    "}\n",
    "@annotation.tailrec\n",
    "def hasSubsequence[A](sup: List[A], sub: List[A]): Boolean = sup match {\n",
    "  case Nil => sub == Nil\n",
    "  case _ if startsWith(sup, sub) => true\n",
    "  case Cons(_,t) => hasSubsequence(t, sub)\n",
    "}"
   ]
  },
  {
   "cell_type": "code",
   "execution_count": 130,
   "metadata": {
    "collapsed": false
   },
   "outputs": [
    {
     "data": {
      "text/plain": [
       "defined \u001b[32mtrait \u001b[36mTree\u001b[0m\n",
       "defined \u001b[32mclass \u001b[36mLeaf\u001b[0m\n",
       "defined \u001b[32mclass \u001b[36mBranch\u001b[0m"
      ]
     },
     "metadata": {},
     "output_type": "display_data"
    }
   ],
   "source": [
    "sealed trait Tree[+A]\n",
    "case class Leaf[A](value: A) extends Tree[A]\n",
    "case class Branch[A](left: Tree[A], right: Tree[A]) extends Tree[A]"
   ]
  },
  {
   "cell_type": "markdown",
   "metadata": {},
   "source": [
    "Exercise 3.25\n",
    "- Write a function \"size\" that counts the number of nodes(leaves and branches) in a tree."
   ]
  },
  {
   "cell_type": "code",
   "execution_count": 136,
   "metadata": {
    "collapsed": false
   },
   "outputs": [
    {
     "data": {
      "text/plain": [
       "defined \u001b[32mfunction \u001b[36msize\u001b[0m"
      ]
     },
     "metadata": {},
     "output_type": "display_data"
    }
   ],
   "source": [
    "def size[A](tr: Tree[A]): Int =\n",
    "    tr match{\n",
    "        case Leaf(_) => 1\n",
    "        case Branch(left, right) => 1 + size(left) + size(right)\n",
    "    }"
   ]
  },
  {
   "cell_type": "markdown",
   "metadata": {},
   "source": [
    "Exercise 3.26\n",
    "- Write a function \"maximum\" that returns the maximum element in a Tree[Int]. "
   ]
  },
  {
   "cell_type": "code",
   "execution_count": null,
   "metadata": {
    "collapsed": true
   },
   "outputs": [],
   "source": []
  }
 ],
 "metadata": {
  "kernelspec": {
   "display_name": "Scala 2.11",
   "language": "scala211",
   "name": "scala211"
  },
  "language_info": {
   "codemirror_mode": "text/x-scala",
   "file_extension": "scala",
   "mimetype": "text/x-scala",
   "name": "scala211",
   "pygments_lexer": "scala",
   "version": "2.11.6"
  }
 },
 "nbformat": 4,
 "nbformat_minor": 0
}
