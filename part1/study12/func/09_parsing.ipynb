{
 "cells": [
  {
   "cell_type": "markdown",
   "metadata": {},
   "source": [
    "# 9장 파서 조합기 라이브러리"
   ]
  },
  {
   "cell_type": "markdown",
   "metadata": {},
   "source": [
    "* 싸이그래머 / 스칼라ML - 함수형 스칼라 파트\n",
    "* 김무성"
   ]
  },
  {
   "cell_type": "markdown",
   "metadata": {},
   "source": [
    "# 차례"
   ]
  },
  {
   "cell_type": "markdown",
   "metadata": {},
   "source": [
    "* 9.1 대수의 설계 : 첫 시도\n",
    "* 9.2 가능한 대수 하나\n",
    "* 9.3 문맥 민감성 처리\n",
    "* 9.4 JSON 파서 작성\n",
    "* 9.5 오류 보고\n",
    "* 9.6 대수의 구현\n",
    "* 9.7 요약"
   ]
  },
  {
   "cell_type": "markdown",
   "metadata": {},
   "source": [
    "# 9.1 대수의 설계 : 첫 시도"
   ]
  },
  {
   "cell_type": "markdown",
   "metadata": {},
   "source": [
    "#### 하고 싶은 것\n",
    "\n",
    "* \"abracadabra\"에 'abra'가 있는가? -> yes"
   ]
  },
  {
   "cell_type": "markdown",
   "metadata": {},
   "source": [
    "-----"
   ]
  },
  {
   "cell_type": "markdown",
   "metadata": {},
   "source": [
    "#### 하고 싶은 것\n",
    "* 'a'나 \"abra\"가 있는지 찾아내는 파서를 생성하고 싶다"
   ]
  },
  {
   "cell_type": "markdown",
   "metadata": {},
   "source": [
    "-----"
   ]
  },
  {
   "cell_type": "code",
   "execution_count": null,
   "metadata": {
    "collapsed": true
   },
   "outputs": [],
   "source": [
    "// char('a') -> Parser('a') 생성\n",
    "def char(c: Char): Parser[Char]"
   ]
  },
  {
   "cell_type": "code",
   "execution_count": null,
   "metadata": {
    "collapsed": true
   },
   "outputs": [],
   "source": [
    "// run(char('a'))('a') -> 'a'\n",
    "def run[A](p: Parser[A])(input: String): Either[ParseError, A]"
   ]
  },
  {
   "cell_type": "code",
   "execution_count": null,
   "metadata": {
    "collapsed": true
   },
   "outputs": [],
   "source": [
    "trait Parsers[ParseError, Parser[+_]] {\n",
    "    def run[A](p: Parser[A])(input: String): Either[ParseError, A]\n",
    "    def char(c: Char): Parser[Char]\n",
    "}"
   ]
  },
  {
   "cell_type": "code",
   "execution_count": null,
   "metadata": {
    "collapsed": true
   },
   "outputs": [],
   "source": [
    "// run(char('a'))('a') == Right('a')\n",
    "run(char(c))(c.toString) == Right(c)"
   ]
  },
  {
   "cell_type": "markdown",
   "metadata": {},
   "source": [
    "-----"
   ]
  },
  {
   "cell_type": "code",
   "execution_count": null,
   "metadata": {
    "collapsed": true
   },
   "outputs": [],
   "source": [
    "// string(\"abra\") -> Parser(\"abra\") 생성\n",
    "def string(s: String): Parser[String]"
   ]
  },
  {
   "cell_type": "code",
   "execution_count": null,
   "metadata": {
    "collapsed": true
   },
   "outputs": [],
   "source": [
    "// run(string(\"abra\"))(\"abra\") == Right(\"abra\")\n",
    "run(string(s))(s) == Right(s)"
   ]
  },
  {
   "cell_type": "markdown",
   "metadata": {},
   "source": [
    "-----"
   ]
  },
  {
   "cell_type": "markdown",
   "metadata": {},
   "source": [
    "#### 하고 싶은 것\n",
    "* \"abracadabra\"에 \n",
    "    * \"abra\" 또는(or) \"cadabra\"가 있는가? \n",
    "    * -> yes"
   ]
  },
  {
   "cell_type": "markdown",
   "metadata": {},
   "source": [
    "-----"
   ]
  },
  {
   "cell_type": "code",
   "execution_count": null,
   "metadata": {
    "collapsed": true
   },
   "outputs": [],
   "source": [
    "// orString(\"abr\", \"cadabra\") -> Pareser 생성\n",
    "def orString(s1: String, s2: String): Parser[String]"
   ]
  },
  {
   "cell_type": "markdown",
   "metadata": {},
   "source": [
    "-------"
   ]
  },
  {
   "cell_type": "code",
   "execution_count": null,
   "metadata": {
    "collapsed": true
   },
   "outputs": [],
   "source": [
    "// or(string(\"abra\"), string(\"cadabra\")) -> Parser 생성\n",
    "def or[A](s1: Parser[A], s2: Parser[A]): Parser[A]"
   ]
  },
  {
   "cell_type": "code",
   "execution_count": null,
   "metadata": {
    "collapsed": true
   },
   "outputs": [],
   "source": [
    "run(or(string(\"abra\"),string(\"cadabra\")))(\"abra\") == Right(\"abra\")"
   ]
  },
  {
   "cell_type": "code",
   "execution_count": null,
   "metadata": {
    "collapsed": true
   },
   "outputs": [],
   "source": [
    "run(or(string(\"abra\"),string(\"cadabra\")))(\"cadabra\") == Right(\"cadabra\")"
   ]
  },
  {
   "cell_type": "markdown",
   "metadata": {},
   "source": [
    "----------"
   ]
  },
  {
   "cell_type": "markdown",
   "metadata": {},
   "source": [
    "#### 하고 싶은 것\n",
    "* or(string(\"abra\"), string(\"cadabra\")) 를 아래처럼도 쓰고 싶다\n",
    "* \"abra\" | \"cadabra\""
   ]
  },
  {
   "cell_type": "markdown",
   "metadata": {},
   "source": [
    "-----"
   ]
  },
  {
   "cell_type": "markdown",
   "metadata": {},
   "source": [
    "#### 목록 9.1 파서에 중위 구문 추가"
   ]
  },
  {
   "cell_type": "code",
   "execution_count": null,
   "metadata": {
    "collapsed": true
   },
   "outputs": [],
   "source": [
    "trait Parsers[ParseError, Parser[+_]] { self =>\n",
    "    \n",
    "    def or[A](s1: Parser[A], s2: Parser[A]): Parser[A]\n",
    "    implicit def string(s: String): Parser[String]\n",
    "    implicit def operators[A](p: Parser[A]) = ParserOps[A](p)\n",
    "    implicit def asStringParser[A](a: A)(implicit f: A => Parser[String]) : \n",
    "        ParserOps[String] = ParserOps(f(a)) \n",
    "\n",
    "    case class ParserOps[A](p: Parser[A]) {\n",
    "        def |[B>:A](p2: Parser[B]): Parser[B] = self.or(p, p2)\n",
    "        def or[B>:A](p2: Parser[B]): Parser[B] = self.or(p, p2)\n",
    "    }                                  \n",
    "}"
   ]
  },
  {
   "cell_type": "code",
   "execution_count": null,
   "metadata": {
    "collapsed": true
   },
   "outputs": [],
   "source": [
    "run(or(string(\"abra\"),string(\"cadabra\")))(\"abra\") == Right(\"abra\")"
   ]
  },
  {
   "cell_type": "code",
   "execution_count": null,
   "metadata": {
    "collapsed": true
   },
   "outputs": [],
   "source": [
    "run(\"abra\" | \"cadabra\")(\"abra\") == Right(\"abra\")"
   ]
  },
  {
   "cell_type": "markdown",
   "metadata": {},
   "source": [
    "-----"
   ]
  },
  {
   "cell_type": "markdown",
   "metadata": {},
   "source": [
    "#### 하고 싶은 것\n",
    "* 특정 문자열을 탐지하는 파서를 \n",
    "* 한 문자열 입력에\n",
    "* 여러번 적용하고 싶다.\n",
    "    - \"abraca\"에 ('a')파서를 3번 적용 -> 'a', 'a', 'a'\n",
    "    - \"ababcad\"에 (\"ab\" | \"cad\")파서를 3번 적용 -> \"ab\", \"ab\", \"cad\""
   ]
  },
  {
   "cell_type": "markdown",
   "metadata": {},
   "source": [
    "----"
   ]
  },
  {
   "cell_type": "code",
   "execution_count": null,
   "metadata": {
    "collapsed": true
   },
   "outputs": [],
   "source": [
    "// listOfN(3, 파서) -> 파서(리스트) 생성\n",
    "def listOfN[A](n: Int, p: Parser[A]): Parser[List[A]]"
   ]
  },
  {
   "cell_type": "code",
   "execution_count": null,
   "metadata": {
    "collapsed": true
   },
   "outputs": [],
   "source": [
    "run(listOfN(3, \"ab\" | \"cad\")(\"ababcad\") == Right(List(\"ab\", \"ab\", \"cad\"))"
   ]
  },
  {
   "cell_type": "code",
   "execution_count": null,
   "metadata": {
    "collapsed": true
   },
   "outputs": [],
   "source": [
    "run(listOfN(3, \"ab\" | \"cad\")(\"cadabab\") == Right(List(\"cad\", \"ab\", \"ab\"))"
   ]
  },
  {
   "cell_type": "code",
   "execution_count": null,
   "metadata": {
    "collapsed": true
   },
   "outputs": [],
   "source": [
    "run(listOfN(3, \"ab\" | \"cad\")(\"ababab\") == Right(List(\"ab\", \"ab\", \"ab\"))"
   ]
  },
  {
   "cell_type": "markdown",
   "metadata": {},
   "source": [
    "-----"
   ]
  },
  {
   "cell_type": "markdown",
   "metadata": {},
   "source": [
    "#### 고려해 볼 만한 추가적인 파싱 과제들과 영감을 얻을 만한 질문 몇 가지\n",
    "* 0개 이상의 문자 'a'들을 인식하고 그 개수를 돌려주는 Parser[Int].\n",
    "    - 예를 들어 \"aa\"에 대해서는 2를 돌려줘야 하고\n",
    "    - \"aa\"나 \"b123\"('a'로 시작하지는 문자열)에 대해서는 0을 돌려줘야 한다.\n",
    "* 하나 이상의 문자 'a'들을 인식하고 그 개수를 돌려주는 Parser[Int].\n",
    "    - 0개 이상의 'a'들을 인식하는 파서에 사용하는 것과 동일한 조합기들을 이 파서를 이용해서 구현할 수 있을까?\n",
    "    - 'a'로 시작하지 않는 문자열은 인식하지 말아야 한다.\n",
    "        - 그런 실패의 경우 오류를 어떻게 보고하는 것이 좋을까?\n",
    "        - 실패의 경우에 \"Expected one or more 'a'\" 같은 명시적인 메시지를 제시하는 기능을 API에 추가해야 할까?\n",
    "* ....(책에는 이밖에도 많다...도전~) "
   ]
  },
  {
   "cell_type": "markdown",
   "metadata": {},
   "source": [
    "# 9.2 가능한 대수 하나"
   ]
  },
  {
   "cell_type": "markdown",
   "metadata": {},
   "source": [
    "* 9.2.1 슬라이싱과 비지 않은 되풀이"
   ]
  },
  {
   "cell_type": "markdown",
   "metadata": {},
   "source": [
    "#### 하고 싶은 것\n",
    "* 0개 이상의 문자 'a'를 인식해서 그 개수를 돌려주는 파서"
   ]
  },
  {
   "cell_type": "markdown",
   "metadata": {},
   "source": [
    "----"
   ]
  },
  {
   "cell_type": "code",
   "execution_count": null,
   "metadata": {
    "collapsed": true
   },
   "outputs": [],
   "source": [
    "// many('a'파서) -> 파서(리스트) 생성\n",
    "def many[A](p: Parser[A]): Parser[List[A]]"
   ]
  },
  {
   "cell_type": "code",
   "execution_count": null,
   "metadata": {
    "collapsed": true
   },
   "outputs": [],
   "source": [
    "def map[A,B](a: Parser[A])(f: A => B): Parser[B]"
   ]
  },
  {
   "cell_type": "code",
   "execution_count": null,
   "metadata": {
    "collapsed": true
   },
   "outputs": [],
   "source": [
    "// 이제 파서를 정의할 수 있게 되었다.\n",
    "map(many(char('a')))(_.size)"
   ]
  },
  {
   "cell_type": "code",
   "execution_count": null,
   "metadata": {
    "collapsed": true
   },
   "outputs": [],
   "source": [
    "// ParserOps의 메서드로 추가하자. 그러면 아래처럼 깔끔한 구문을 쓸수 있게 된다.\n",
    "val numA: Parser[Int] = char('a').many.map(_.size)"
   ]
  },
  {
   "cell_type": "code",
   "execution_count": null,
   "metadata": {
    "collapsed": true
   },
   "outputs": [],
   "source": [
    "run(numA)(\"aaa\") == Right(3)"
   ]
  },
  {
   "cell_type": "code",
   "execution_count": null,
   "metadata": {
    "collapsed": true
   },
   "outputs": [],
   "source": [
    "run(numA)(\"b\") == Right(0)"
   ]
  },
  {
   "cell_type": "markdown",
   "metadata": {},
   "source": [
    "-----"
   ]
  },
  {
   "cell_type": "markdown",
   "metadata": {},
   "source": [
    "#### 하고 싶은 것\n",
    "* map은 Parser가 파싱에 성공하면 그냥 그 결과 값만 변환해야 한다.\n",
    "    - map이 입력 문자들을 더 조사해서는 안되며,\n",
    "    - 실패한 파서를 map이 성공으로 간주해서도 안된다(그 역도 마찬가지).\n",
    "* 일반화하자면, Par나 Gen에 대한 map처럼 이 map도 구조를 보존해야 한다. \n",
    "* map(p)(a => a) == p"
   ]
  },
  {
   "cell_type": "markdown",
   "metadata": {},
   "source": [
    "----"
   ]
  },
  {
   "cell_type": "markdown",
   "metadata": {},
   "source": [
    "#### 목록 9.2 Parser와 map의 조합"
   ]
  },
  {
   "cell_type": "code",
   "execution_count": null,
   "metadata": {
    "collapsed": true
   },
   "outputs": [],
   "source": [
    "import fpinscala.testing._\n",
    "\n",
    "trait Parsers[ParseError, Parser[+_]]\n",
    "    ...\n",
    "    object Laws {\n",
    "        def equal[A](p1: Parser[A], p2: Parser[A])(in: Gen[String]): Prop =\n",
    "            forAll(in)(s => run(p1)(s) == run(p2)(s))\n",
    "        \n",
    "        def mapLaw[A](p: Parser[A])(in: Gen[String]): Prop =\n",
    "            equal(p, p.mam(a => a))(in)\n",
    "    }"
   ]
  },
  {
   "cell_type": "markdown",
   "metadata": {},
   "source": [
    "#### 이제 이렇게 구현해볼 수 있다."
   ]
  },
  {
   "cell_type": "code",
   "execution_count": null,
   "metadata": {
    "collapsed": true
   },
   "outputs": [],
   "source": [
    "def char(c: Char): Parser[Char] =\n",
    "    string(c.toString) map (_.charAt(0))"
   ]
  },
  {
   "cell_type": "code",
   "execution_count": null,
   "metadata": {
    "collapsed": true
   },
   "outputs": [],
   "source": [
    "def succeed[A](a: A): Parser[A] =\n",
    "    string(\"\") map (_ => a)"
   ]
  },
  {
   "cell_type": "code",
   "execution_count": null,
   "metadata": {
    "collapsed": true
   },
   "outputs": [],
   "source": [
    "run(succeed(a))(s) == Right(a)"
   ]
  },
  {
   "cell_type": "markdown",
   "metadata": {},
   "source": [
    "## 9.2.1 슬라이싱과 비지 않은 되풀이"
   ]
  },
  {
   "cell_type": "markdown",
   "metadata": {},
   "source": [
    "#### 하고 싶은 것\n",
    "* map과 many을 조합해서 타겟 문자 개수를 세는 구현은, 비효율적이다.\n",
    "    - List[Char]를 구축하고는 그 길이만 추출하고 값들을 폐기하므로 비효율적\n",
    "* Parser가 입력 문자열에서 자신이 조사하는 부분만 보게 만들자.\n",
    "* 이것이 비지 않은 되풀이(non-empty repetition)"
   ]
  },
  {
   "cell_type": "markdown",
   "metadata": {},
   "source": [
    "----"
   ]
  },
  {
   "cell_type": "code",
   "execution_count": null,
   "metadata": {
    "collapsed": true
   },
   "outputs": [],
   "source": [
    "def slice[A](p: Parser[A]): Parser[String]"
   ]
  },
  {
   "cell_type": "code",
   "execution_count": null,
   "metadata": {
    "collapsed": true
   },
   "outputs": [],
   "source": [
    "// 원래 이 구현을\n",
    "val numA: Parser[Int] = char('a').many.map(_.size)\n",
    "\n",
    "// 이렇게 구현할 수 있다.\n",
    "val numA: Parser[Int] = char('a').many.slice.map(_.size)"
   ]
  },
  {
   "cell_type": "markdown",
   "metadata": {},
   "source": [
    "---"
   ]
  },
  {
   "cell_type": "markdown",
   "metadata": {},
   "source": [
    "#### 하고 싶은 것\n",
    "* 하나 이상의 'a'문자들을 인식해야 한다면 어떻게 할까?\n",
    "* 비지 않은 되풀이 방식으로 구현해보자"
   ]
  },
  {
   "cell_type": "markdown",
   "metadata": {},
   "source": [
    "----"
   ]
  },
  {
   "cell_type": "code",
   "execution_count": null,
   "metadata": {
    "collapsed": true
   },
   "outputs": [],
   "source": [
    "def many1[A](p: Parser[A]): Parser[List[A]]"
   ]
  },
  {
   "cell_type": "code",
   "execution_count": null,
   "metadata": {
    "collapsed": true
   },
   "outputs": [],
   "source": [
    "// many1을 기본수단으로 쓰는게 아니고,\n",
    "// many를 이용해서 정의해야 한다.\n",
    "// 그러면 한 파서를 실행하고 그것이 성공하면 또 다른 파서를 실행하는 수단이 필요하다.\n",
    "def product[A,B](p: Parser[A], p2: Parser[B]): Parser[(A,B)]"
   ]
  },
  {
   "cell_type": "markdown",
   "metadata": {},
   "source": [
    "#### ParserOps의 메서드로 추가해놓자. 중위표현을 위해."
   ]
  },
  {
   "cell_type": "code",
   "execution_count": null,
   "metadata": {
    "collapsed": true
   },
   "outputs": [],
   "source": [
    "a product b"
   ]
  },
  {
   "cell_type": "code",
   "execution_count": null,
   "metadata": {
    "collapsed": true
   },
   "outputs": [],
   "source": [
    "// 이런 표현도 동치가 되도록 추가해놓자\n",
    "a ** b "
   ]
  },
  {
   "cell_type": "markdown",
   "metadata": {},
   "source": [
    "----"
   ]
  },
  {
   "cell_type": "code",
   "execution_count": null,
   "metadata": {
    "collapsed": true
   },
   "outputs": [],
   "source": [
    "def many[A](p: Parser[A]): Parser[List[A]] =\n",
    "    map2(p, many(p))(_ :: _) or succeed(List())"
   ]
  },
  {
   "cell_type": "code",
   "execution_count": null,
   "metadata": {
    "collapsed": true
   },
   "outputs": [],
   "source": [
    "// 어떤 파서 p에 대한 many(p)가 평가되는 과정을 추적한 결과의 일부분\n",
    "map(p)\n",
    "map2(p, many(p))(_ :: _)\n",
    "map2(p, map2(p, many(p))(_ :: _))(_ :: _)\n",
    "map2(p, map2(p, map2(p, many(p)))(_ :: _))(_ :: _)(_ :: _)\n",
    "...\n",
    "\n",
    "// map2는 항상 둘째 인수를 평가하므로, many 호출은 절대로 종료되지 않는다!\n",
    "// product와 map2의 둘째 인수를 엄격하지 않게 만들어야 한다!"
   ]
  },
  {
   "cell_type": "markdown",
   "metadata": {},
   "source": [
    "---"
   ]
  },
  {
   "cell_type": "markdown",
   "metadata": {},
   "source": [
    "#### product와 map2의 둘째 인수를 엄격하지 않게 만들자"
   ]
  },
  {
   "cell_type": "code",
   "execution_count": null,
   "metadata": {
    "collapsed": true
   },
   "outputs": [],
   "source": [
    "def product[A,B](p: Parser[A], p2: => Parser[B]): Parser[(A,B)]"
   ]
  },
  {
   "cell_type": "code",
   "execution_count": null,
   "metadata": {
    "collapsed": true
   },
   "outputs": [],
   "source": [
    "def map2[A,B,C](p: Parser[A], p2: => Parser[B])(\n",
    "                f: (A,B) => C): Parser[C] =\n",
    "    product(p, p2) map (f.tupled)"
   ]
  },
  {
   "cell_type": "markdown",
   "metadata": {},
   "source": [
    "----"
   ]
  },
  {
   "cell_type": "markdown",
   "metadata": {},
   "source": [
    "#### or 조합기도 비엄격성 방식으로 다시 만들자."
   ]
  },
  {
   "cell_type": "code",
   "execution_count": null,
   "metadata": {
    "collapsed": true
   },
   "outputs": [],
   "source": [
    "// 원래 버전\n",
    "def or[A](p1: Parser[A], p2: Parser[A]): Parser[A]"
   ]
  },
  {
   "cell_type": "code",
   "execution_count": null,
   "metadata": {
    "collapsed": true
   },
   "outputs": [],
   "source": [
    "// 비엄격 버전\n",
    "def or[A](p1: Parser[A], p2: => Parser[A]): Parser[A]"
   ]
  },
  {
   "cell_type": "markdown",
   "metadata": {},
   "source": [
    "# 9.3 문맥 민감성 처리"
   ]
  },
  {
   "cell_type": "markdown",
   "metadata": {},
   "source": [
    "#### 하고 싶은 것\n",
    "* '4' 같은 어떤 숫자 하나 다음에 그 개수만큼의 문자 'a'가 오는 문자열을 파싱한다고 하자.\n",
    "    - 예) \"0\", \"1a\", \"2aa\", \"4aaaa\" \n",
    "* 이런것을 문맥 민감 문법(context-sensitive grammer; 또는 문맥 감지 문법)이라고 한다.\n",
    "* 지금까지 만든 것으로는 이를 처리할 수 없다.\n",
    "* 표현력의 한계를 깨기 위해, 새 수단을 도입하자."
   ]
  },
  {
   "cell_type": "markdown",
   "metadata": {},
   "source": [
    "----"
   ]
  },
  {
   "cell_type": "code",
   "execution_count": null,
   "metadata": {
    "collapsed": true
   },
   "outputs": [],
   "source": [
    "def flatMap[A,B](p: Parser[A])(f: A => Parser[B]): Parser[B]"
   ]
  },
  {
   "cell_type": "markdown",
   "metadata": {},
   "source": [
    "# 9.4 JSON 파서 작성"
   ]
  },
  {
   "cell_type": "markdown",
   "metadata": {},
   "source": [
    "* 9.4.1 JSON 서식\n",
    "* 9.4.2 JSON 파서"
   ]
  },
  {
   "cell_type": "code",
   "execution_count": null,
   "metadata": {
    "collapsed": true
   },
   "outputs": [],
   "source": [
    "def jsonParser[Err,Parser[+_]](P: Parsers[Err,Parser]): Parser[JSON] = {\n",
    "    import P._\n",
    "    val spaces = char(' ').many.slice\n",
    "    ...\n",
    "}"
   ]
  },
  {
   "cell_type": "markdown",
   "metadata": {},
   "source": [
    "## 9.4.1 JSON 서식"
   ]
  },
  {
   "cell_type": "code",
   "execution_count": null,
   "metadata": {
    "collapsed": true
   },
   "outputs": [],
   "source": [
    "trait JSON\n",
    "object JSON {\n",
    "    case object JNull extends JSON\n",
    "    case class JNumber(get: Double) extends JSON\n",
    "    case class JString(get: String) extends JSON\n",
    "    case class JBool(get: Boolean) extends JSON\n",
    "    case class JArray(get: IndexedSeq[JSON]) extends JSON\n",
    "    case class JObject(get: Map[String, JSON]) extends JSON\n",
    "}"
   ]
  },
  {
   "cell_type": "markdown",
   "metadata": {},
   "source": [
    "## 9.4.2 JSON 파서"
   ]
  },
  {
   "cell_type": "markdown",
   "metadata": {},
   "source": [
    "# 9.5 오류 보고"
   ]
  },
  {
   "cell_type": "markdown",
   "metadata": {},
   "source": [
    "* 9.5.1 가능한 설계 하나\n",
    "* 9.5.2 오류의 중첩\n",
    "* 9.5.3 분기와 역추적의 제어"
   ]
  },
  {
   "cell_type": "markdown",
   "metadata": {},
   "source": [
    "## 9.5.1 가능한 설계 하나"
   ]
  },
  {
   "cell_type": "code",
   "execution_count": null,
   "metadata": {
    "collapsed": true
   },
   "outputs": [],
   "source": [
    "def label[A](msg: String)(p: Parser[A]): Parser[A]"
   ]
  },
  {
   "cell_type": "code",
   "execution_count": null,
   "metadata": {
    "collapsed": true
   },
   "outputs": [],
   "source": [
    "case class Location(input: String, offset: Int = 0) {\n",
    "    lazy val line = input.slice(0, offset+1).count(_ == '\\n') + 1\n",
    "    lazy val col = input.slice(0, offset+1).lastIndexOf('\\n') match {\n",
    "        case -1 => offset + 1\n",
    "        case lineStart => offset - lineStart\n",
    "    }\n",
    "}\n",
    "\n",
    "\n",
    "def errorLocation(e: ParseError): Location\n",
    "def errorMessage(e: ParseError): String"
   ]
  },
  {
   "cell_type": "markdown",
   "metadata": {},
   "source": [
    "## 9.5.2 오류의 중첩"
   ]
  },
  {
   "cell_type": "code",
   "execution_count": null,
   "metadata": {
    "collapsed": true
   },
   "outputs": [],
   "source": [
    "val p = label(\"first magic word\")(\"abra\") ** \n",
    "        \"\".many ** \n",
    "        label(\"second magic word\")(\"cadabra\")"
   ]
  },
  {
   "cell_type": "code",
   "execution_count": null,
   "metadata": {
    "collapsed": true
   },
   "outputs": [],
   "source": [
    "def scope[A](msg: String)(p: Parser[A]): Parser[A]"
   ]
  },
  {
   "cell_type": "code",
   "execution_count": null,
   "metadata": {
    "collapsed": true
   },
   "outputs": [],
   "source": [
    "case class ParseError(stack: List[(Location,String)])"
   ]
  },
  {
   "cell_type": "code",
   "execution_count": null,
   "metadata": {
    "collapsed": true
   },
   "outputs": [],
   "source": [
    "trait Parsers[Parser[+_]] {\n",
    "    def run[A](p: Parser[A])(input: String): Eiter[ParseError,A]\n",
    "}"
   ]
  },
  {
   "cell_type": "markdown",
   "metadata": {},
   "source": [
    "## 9.5.3 분기와 역추적의 제어"
   ]
  },
  {
   "cell_type": "code",
   "execution_count": null,
   "metadata": {
    "collapsed": true
   },
   "outputs": [],
   "source": [
    "val spaces = \" \".many\n",
    "val p1 = scope(\"magic spell\") {\n",
    "    \"abra\" ** spaces ** \"cadabra\"\n",
    "}\n",
    "val p2 = scope(\"gibberish\") {\n",
    "    \"abba\" ** spaces ** \"babba\"\n",
    "}\n",
    "val p = p1 or p2"
   ]
  },
  {
   "cell_type": "code",
   "execution_count": null,
   "metadata": {
    "collapsed": true
   },
   "outputs": [],
   "source": [
    "def attempt[A](p: Parser[A]): Parser[A]"
   ]
  },
  {
   "cell_type": "code",
   "execution_count": null,
   "metadata": {
    "collapsed": true
   },
   "outputs": [],
   "source": [
    "attemp(p flatMap (_ => fail)) or p2 == p2"
   ]
  },
  {
   "cell_type": "code",
   "execution_count": null,
   "metadata": {
    "collapsed": true
   },
   "outputs": [],
   "source": [
    "(attempt(\"abra\" ** spaces ** \"abra\")) ** \"cadabra\") or (\n",
    "    \"abra\" ** spaces \"cadabra!\")"
   ]
  },
  {
   "cell_type": "markdown",
   "metadata": {},
   "source": [
    "# 9.6 대수의 구현"
   ]
  },
  {
   "cell_type": "markdown",
   "metadata": {},
   "source": [
    "* 9.6.1 가능한 구현 하나\n",
    "* 9.6.2 파서들의 순차 실행\n",
    "* 9.6.3 파서에 이름표 붙이기\n",
    "* 9.6.4 실패의 극복과 역추적\n",
    "* 9.6.5 문맥 민감성 파싱"
   ]
  },
  {
   "cell_type": "markdown",
   "metadata": {},
   "source": [
    "* strings(s) - 하나의 string을 인식해서 돌려준다.\n",
    "* regex(s) - 정규표현식 s를 인식한다.\n",
    "* slice(s) - 파싱 성공시 입력 중 p가 조사한 부분을 돌려준다.\n",
    "* label(e)(p) - 실패 시 배정된 메시지를 e로 치환한다.\n",
    "* scope(e)(p) - 실패 시 e를 p가 돌려준 스택에 추가한다.\n",
    "* flatMap(p)(f) - 파서를 실행한 후 그 결과에 기초해서 둘째 파서를 선택, 실행한다.\n",
    "* attempt(p) - p의 확정을 p의 성공 이후로 미룬다.\n",
    "* or(p1,p2) - 두 파서 중 하나를 선택한다. 먼저 p1을 시도하고, 만일 p1이 입력에 대해서 미확정 상태에서 실패하면 p2를 시도한다."
   ]
  },
  {
   "cell_type": "markdown",
   "metadata": {},
   "source": [
    "## 9.6.1 가능한 구현 하나"
   ]
  },
  {
   "cell_type": "code",
   "execution_count": null,
   "metadata": {
    "collapsed": true
   },
   "outputs": [],
   "source": [
    "def string(s: String): Parser[A]"
   ]
  },
  {
   "cell_type": "code",
   "execution_count": null,
   "metadata": {
    "collapsed": true
   },
   "outputs": [],
   "source": [
    "def run[A](p: Parser[A])(input: String): Either[ParseError,A]"
   ]
  },
  {
   "cell_type": "code",
   "execution_count": null,
   "metadata": {
    "collapsed": true
   },
   "outputs": [],
   "source": [
    "type Parser[+A] = String => Either[ParseError,A]"
   ]
  },
  {
   "cell_type": "code",
   "execution_count": null,
   "metadata": {
    "collapsed": true
   },
   "outputs": [],
   "source": [
    "def string(s: String): Parser[A] =\n",
    "  (input: String) =>\n",
    "    if (input.startsWith(s))\n",
    "        Right(s)\n",
    "    else\n",
    "        Left(Location(input).toError(\"Expected: \" + s))"
   ]
  },
  {
   "cell_type": "code",
   "execution_count": null,
   "metadata": {
    "collapsed": true
   },
   "outputs": [],
   "source": [
    "def toError(msg: String): ParseError =\n",
    "    ParseError(List((this, msg)))"
   ]
  },
  {
   "cell_type": "markdown",
   "metadata": {},
   "source": [
    "## 9.6.2 파서들의 순차 실행"
   ]
  },
  {
   "cell_type": "code",
   "execution_count": null,
   "metadata": {
    "collapsed": true
   },
   "outputs": [],
   "source": [
    "type Parser[+A] = Location => Result[A]\n",
    "\n",
    "trait Result[+A]\n",
    "case class Sucess[+A](get: A, charsConsumed: Int) extends Result[A]\n",
    "case class Failur(get: ParseError) extends Result[Nothing]"
   ]
  },
  {
   "cell_type": "markdown",
   "metadata": {},
   "source": [
    "## 9.6.3 파서에 이름표 붙이기"
   ]
  },
  {
   "cell_type": "code",
   "execution_count": null,
   "metadata": {
    "collapsed": true
   },
   "outputs": [],
   "source": [
    "def push(loc: Location, msg: String): ParseError =\n",
    "    copy(stack = (loc, msg) :: stack)"
   ]
  },
  {
   "cell_type": "code",
   "execution_count": null,
   "metadata": {
    "collapsed": true
   },
   "outputs": [],
   "source": [
    "def scope[A](msg: String)(p: Parser[A]): Parser[A] =\n",
    "    s => p(s).mapError(_.push(s.loc,msg))"
   ]
  },
  {
   "cell_type": "code",
   "execution_count": null,
   "metadata": {
    "collapsed": true
   },
   "outputs": [],
   "source": [
    "def mapError(f: ParseError => ParseError) : Result[A] = this match {\n",
    "    case Failure(e) => Failure(f(e))\n",
    "    case _ => this\n",
    "}"
   ]
  },
  {
   "cell_type": "code",
   "execution_count": null,
   "metadata": {
    "collapsed": true
   },
   "outputs": [],
   "source": [
    "scope(msg1)(a ** scope(msg2)(b))"
   ]
  },
  {
   "cell_type": "code",
   "execution_count": null,
   "metadata": {
    "collapsed": true
   },
   "outputs": [],
   "source": [
    "def label[A](msg: String)(p: Parser[A]): Parser[A] =\n",
    "    s => p(s).mapError(_.label(msg))"
   ]
  },
  {
   "cell_type": "code",
   "execution_count": null,
   "metadata": {
    "collapsed": true
   },
   "outputs": [],
   "source": [
    "def label[A](s: String): ParseError =\n",
    "    ParseError(latestLoc.map((_,s)).toList)\n",
    "\n",
    "def latestLoc: Option[Location] =\n",
    "    latest map (_._1)\n",
    "\n",
    "def latest: Option[(Location,String)] =\n",
    "    stack.lastOption"
   ]
  },
  {
   "cell_type": "markdown",
   "metadata": {},
   "source": [
    "## 9.6.4 실패의 극복과 역추적"
   ]
  },
  {
   "cell_type": "code",
   "execution_count": null,
   "metadata": {
    "collapsed": true
   },
   "outputs": [],
   "source": [
    "case class Failure(get: ParseError,\n",
    "                  isCommitted: Boolean) extends Result[Nothing]"
   ]
  },
  {
   "cell_type": "code",
   "execution_count": null,
   "metadata": {
    "collapsed": true
   },
   "outputs": [],
   "source": [
    "def attempt[A](p: Parser[A]): Parser[A] =\n",
    "    s => p(s).uncommit"
   ]
  },
  {
   "cell_type": "code",
   "execution_count": null,
   "metadata": {
    "collapsed": true
   },
   "outputs": [],
   "source": [
    "def uncommit: Result[A] = this match {\n",
    "    case Failure(e,true) => Failure(e,false)\n",
    "    case _ => this\n",
    "}"
   ]
  },
  {
   "cell_type": "code",
   "execution_count": null,
   "metadata": {
    "collapsed": true
   },
   "outputs": [],
   "source": [
    "def or[A](x: Parser[A], y: => Parser[A]): Parser[A] =\n",
    "    s => x(s) match {\n",
    "        case Failure(e, false) => y(s)\n",
    "        case r => r\n",
    "    }"
   ]
  },
  {
   "cell_type": "markdown",
   "metadata": {},
   "source": [
    "## 9.6.5 문맥 민감성 파싱"
   ]
  },
  {
   "cell_type": "markdown",
   "metadata": {},
   "source": [
    "#### 목록 9.3 파서를 확정 상태로 만드는 addCommit 메서드를 이용한 구현"
   ]
  },
  {
   "cell_type": "code",
   "execution_count": null,
   "metadata": {
    "collapsed": true
   },
   "outputs": [],
   "source": [
    "def flatMap[A,B](f: Parser[A])(g: A => Parser[B]): Parser[B] =\n",
    "    s => f(s) match {\n",
    "        case Success(a, n) => g(a)(s.advanceBy(n))\n",
    "                                .addCommit(n != 0)\n",
    "                                .advanceSuccess(n)\n",
    "        case e@Failure(_,_) => e\n",
    "    }"
   ]
  },
  {
   "cell_type": "code",
   "execution_count": null,
   "metadata": {
    "collapsed": true
   },
   "outputs": [],
   "source": [
    "def advanceBy(n: Int): Loation =\n",
    "    copy(offset = offset + n)"
   ]
  },
  {
   "cell_type": "code",
   "execution_count": null,
   "metadata": {
    "collapsed": true
   },
   "outputs": [],
   "source": [
    "def addCommit(isCommitted: Boolean): Result[A] = this match {\n",
    "    case Failure(e,c) => Failure(e, c || isCommitted)\n",
    "    case _=> this\n",
    "}"
   ]
  },
  {
   "cell_type": "code",
   "execution_count": null,
   "metadata": {
    "collapsed": true
   },
   "outputs": [],
   "source": [
    "def advanceSuccess(n: Int): Result[A] = this match {\n",
    "    case Success(a,m) => Success(a, n+m)\n",
    "    case _ => this\n",
    "}"
   ]
  },
  {
   "cell_type": "markdown",
   "metadata": {},
   "source": [
    "# 9.7 요약"
   ]
  },
  {
   "cell_type": "markdown",
   "metadata": {},
   "source": [
    "# 참고자료"
   ]
  },
  {
   "cell_type": "code",
   "execution_count": 1,
   "metadata": {
    "collapsed": false
   },
   "outputs": [
    {
     "name": "stdout",
     "output_type": "stream",
     "text": []
    },
    {
     "name": "stderr",
     "output_type": "stream",
     "text": []
    },
    {
     "data": {
      "text/plain": []
     },
     "execution_count": 1,
     "metadata": {},
     "output_type": "execute_result"
    }
   ],
   "source": [
    "def map2[A,B,C](fa: List[A], fb: List[B])(f:(A,B)=>C): List[C] =\n",
    "    fa flatMap(a => fb map(b => f(a,b)))"
   ]
  },
  {
   "cell_type": "code",
   "execution_count": 2,
   "metadata": {
    "collapsed": false
   },
   "outputs": [
    {
     "data": {
      "text/plain": [
       "List(4, 5, 5, 6)"
      ]
     },
     "execution_count": 2,
     "metadata": {},
     "output_type": "execute_result"
    },
    {
     "name": "stdout",
     "output_type": "stream",
     "text": []
    }
   ],
   "source": [
    "map2(List(1,2), List(3,4))(_+_)"
   ]
  },
  {
   "cell_type": "code",
   "execution_count": 3,
   "metadata": {
    "collapsed": false
   },
   "outputs": [
    {
     "ename": "",
     "evalue": "",
     "output_type": "error",
     "traceback": [
      "Compilation Failed",
      "\u001b[31mMain.scala:18: value map2 is not a member of object List",
      "                val res2 = (List.map2(List(1, 2), List(3, 4)) (_ + _))",
      "                                 ^\u001b[0m"
     ]
    }
   ],
   "source": [
    "List.map2(List(1, 2), List(3, 4)) (_ + _)"
   ]
  },
  {
   "cell_type": "code",
   "execution_count": null,
   "metadata": {
    "collapsed": true
   },
   "outputs": [],
   "source": []
  }
 ],
 "metadata": {
  "kernelspec": {
   "display_name": "Scala 2.11",
   "language": "scala",
   "name": "scala-2.11"
  },
  "language_info": {
   "codemirror_mode": "text/x-scala",
   "file_extension": "scala",
   "mimetype": "text/x-scala",
   "name": "scala"
  }
 },
 "nbformat": 4,
 "nbformat_minor": 0
}
