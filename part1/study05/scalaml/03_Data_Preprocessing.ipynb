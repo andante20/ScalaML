{
 "cells": [
  {
   "cell_type": "markdown",
   "metadata": {},
   "source": [
    "# 3. Data Preprocessing"
   ]
  },
  {
   "cell_type": "markdown",
   "metadata": {},
   "source": [
    "* 싸이그래머 : 스칼라ML - Scala for Machine Learning [1]\n",
    "* 김무성"
   ]
  },
  {
   "cell_type": "markdown",
   "metadata": {},
   "source": [
    "# Contents"
   ]
  },
  {
   "cell_type": "markdown",
   "metadata": {},
   "source": [
    "* Time series\n",
    "* Moving averages\n",
    "* Fourier analysis\n",
    "* The Kalman filter\n",
    "* Alternative preprocessing techniques\n",
    "* Summary"
   ]
  },
  {
   "cell_type": "markdown",
   "metadata": {},
   "source": [
    "# Time series"
   ]
  },
  {
   "cell_type": "markdown",
   "metadata": {},
   "source": [
    "# Moving averages"
   ]
  },
  {
   "cell_type": "markdown",
   "metadata": {},
   "source": [
    "* The simple moving average\n",
    "* The weighted moving average\n",
    "* The exponential moving average"
   ]
  },
  {
   "cell_type": "markdown",
   "metadata": {},
   "source": [
    "## The simple moving average"
   ]
  },
  {
   "cell_type": "markdown",
   "metadata": {},
   "source": [
    "## The weighted moving average"
   ]
  },
  {
   "cell_type": "markdown",
   "metadata": {},
   "source": [
    "## The exponential moving average"
   ]
  },
  {
   "cell_type": "markdown",
   "metadata": {},
   "source": [
    "# Fourier analysis"
   ]
  },
  {
   "cell_type": "markdown",
   "metadata": {},
   "source": [
    "* Discrete Fourier transform (DFT)\n",
    "* DFT-based filtering\n",
    "* Detection of market cycles"
   ]
  },
  {
   "cell_type": "markdown",
   "metadata": {},
   "source": [
    "## Discrete Fourier transform (DFT)"
   ]
  },
  {
   "cell_type": "markdown",
   "metadata": {},
   "source": [
    "## DFT-based filtering"
   ]
  },
  {
   "cell_type": "markdown",
   "metadata": {},
   "source": [
    "## Detection of market cycles"
   ]
  },
  {
   "cell_type": "markdown",
   "metadata": {},
   "source": [
    "# The Kalman filter"
   ]
  },
  {
   "cell_type": "markdown",
   "metadata": {},
   "source": [
    "* The state space estimation\n",
    "    - The transition equation\n",
    "    - The measurement equation\n",
    "* The recursive algorithm\n",
    "    - Prediction\n",
    "    - Correction\n",
    "    - Kalman smoothing\n",
    "    - Experimentation"
   ]
  },
  {
   "cell_type": "markdown",
   "metadata": {},
   "source": [
    "## The state space estimation"
   ]
  },
  {
   "cell_type": "markdown",
   "metadata": {},
   "source": [
    "<img src=\"figures/eq3.1.png\" width=600 />  \n",
    "<img src=\"figures/eq3.2.png\" width=600 />    \n",
    "<img src=\"figures/eq3.3.png\" width=600 />    \n",
    "<img src=\"figures/eq3.4.png\" width=600 />    \n",
    "<img src=\"figures/eq3.5.png\" width=600 />  \n",
    "\n",
    "<img src=\"figures/fig3.1.png\" width=600 />     \n",
    "<img src=\"figures/fig3.2.png\" width=600 />    \n",
    "<img src=\"figures/fig3.3.png\" width=600 />    \n",
    "<img src=\"figures/fig3.4.png\" width=600 />    \n",
    "<img src=\"figures/fig3.5.png\" width=600 />    \n",
    "<img src=\"figures/fig3.6.png\" width=600 />    \n",
    "<img src=\"figures/fig3.7.png\" width=600 />  \n",
    "<img src=\"figures/fig3.8.png\" width=600 />  \n",
    "<img src=\"figures/fig3.9.png\" width=600 />  \n",
    "\n",
    "<img src=\"figures/fig3.10.png\" width=600 />    \n",
    "<img src=\"figures/fig3.11.png\" width=600 />    \n",
    "<img src=\"figures/fig3.12.png\" width=600 />    \n",
    "<img src=\"figures/fig3.13.png\" width=600 />    \n",
    "<img src=\"figures/fig3.14.png\" width=600 />    \n",
    "<img src=\"figures/fig3.15.png\" width=600 />    \n",
    "<img src=\"figures/fig3.16.png\" width=600 />    \n",
    "<img src=\"figures/fig3.17.png\" width=600 />    \n",
    "\n",
    "<img src=\"figures/tip3.1.png\" width=600 />     \n",
    "<img src=\"figures/tip3.2.png\" width=600 />    \n",
    "<img src=\"figures/tip3.3.png\" width=600 />    \n",
    "<img src=\"figures/tip3.4.png\" width=600 />    \n",
    "<img src=\"figures/tip3.5.png\" width=600 />    \n",
    "<img src=\"figures/tip3.6.png\" width=600 />    \n",
    "<img src=\"figures/tip3.7.png\" width=600 />  \n",
    "<img src=\"figures/tip3.8.png\" width=600 />  \n",
    "<img src=\"figures/tip3.9.png\" width=600 />  \n",
    "\n",
    "<img src=\"figures/tip3.10.png\" width=600 />    \n",
    "<img src=\"figures/tip3.11.png\" width=600 />    \n",
    "<img src=\"figures/tip3.12.png\" width=600 />    \n",
    "<img src=\"figures/tip3.13.png\" width=600 />    \n",
    "<img src=\"figures/tip3.14.png\" width=600 />    \n",
    "<img src=\"figures/tip3.15.png\" width=600 />    \n",
    "<img src=\"figures/tip3.16.png\" width=600 />    \n",
    "<img src=\"figures/tip3.17.png\" width=600 />    \n",
    "<img src=\"figures/tip3.18.png\" width=600 />    \n",
    "<img src=\"figures/tip3.19.png\" width=600 />    \n",
    "<img src=\"figures/tip3.20.png\" width=600 />    \n",
    "<img src=\"figures/tip3.21.png\" width=600 />    \n",
    "<img src=\"figures/tip3.22.png\" width=600 />    \n",
    "<img src=\"figures/tip3.23.png\" width=600 />    \n",
    "<img src=\"figures/tip3.24.png\" width=600 />    "
   ]
  },
  {
   "cell_type": "markdown",
   "metadata": {},
   "source": [
    "### The transition equation"
   ]
  },
  {
   "cell_type": "markdown",
   "metadata": {},
   "source": [
    "### The measurement equation"
   ]
  },
  {
   "cell_type": "markdown",
   "metadata": {},
   "source": [
    "## The recursive algorithm"
   ]
  },
  {
   "cell_type": "markdown",
   "metadata": {},
   "source": [
    "### Prediction"
   ]
  },
  {
   "cell_type": "markdown",
   "metadata": {},
   "source": [
    "### Correction"
   ]
  },
  {
   "cell_type": "markdown",
   "metadata": {},
   "source": [
    "### Kalman smoothing"
   ]
  },
  {
   "cell_type": "markdown",
   "metadata": {},
   "source": [
    "### Experimentation"
   ]
  },
  {
   "cell_type": "markdown",
   "metadata": {},
   "source": [
    "# Alternative preprocessing techniques"
   ]
  },
  {
   "cell_type": "markdown",
   "metadata": {},
   "source": [
    "# Summary"
   ]
  },
  {
   "cell_type": "markdown",
   "metadata": {},
   "source": [
    "# 참고자료"
   ]
  },
  {
   "cell_type": "markdown",
   "metadata": {},
   "source": [
    "* [1] Scala for Machine Learning - https://www.packtpub.com/big-data-and-business-intelligence/scala-machine-learning\n",
    "* [2] IntelliJ 다운로드 - https://www.jetbrains.com/idea/download/\n",
    "* [3] 윈도우즈에서 IntelliJ IDEA + Scala 개발환경 만들기기 - http://webnautes.tistory.com/456\n",
    "* [4] 저자 소스 - https://github.com/prnicolas/ScalaMl.git"
   ]
  }
 ],
 "metadata": {
  "kernelspec": {
   "display_name": "Scala 2.11",
   "language": "scala",
   "name": "scala-2.11"
  },
  "language_info": {
   "codemirror_mode": "text/x-scala",
   "file_extension": "scala",
   "mimetype": "text/x-scala",
   "name": "scala"
  }
 },
 "nbformat": 4,
 "nbformat_minor": 0
}
