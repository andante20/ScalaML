{
 "cells": [
  {
   "cell_type": "markdown",
   "metadata": {},
   "source": [
    "# Introduction"
   ]
  },
  {
   "cell_type": "markdown",
   "metadata": {},
   "source": [
    "객체 집합을 표현할 때 일반적으로 함수를 적용하여 단일 객체로 줄이는 것을 원한다. 처음에 2개의 요소에 함수를 적용한 결과 객체가 최종 결과가 되고 이 어풀리케이션의 결과를 취하여 다음 요소에 순차적으로 적용하면 마침내 단일 객체를 만들 수 있다.\n",
    "\n",
    "예를 들어 1,2,3,4에 +를 적용하면 (((1+2)+3)+4)가 된다. 이처럼 접거나 줄이는게 가능하다.\n",
    "\n",
    "Foldable pattern은 줄임을 집합에 적용할 수 있는 표준 디자인 패턴이다. Reduce라고 불린다."
   ]
  },
  {
   "cell_type": "markdown",
   "metadata": {},
   "source": [
    "접히는 패턴의 구성 성분은 type T와 T로 이루어진 집합이다."
   ]
  },
  {
   "cell_type": "code",
   "execution_count": 1,
   "metadata": {
    "collapsed": false
   },
   "outputs": [
    {
     "data": {
      "text/plain": [
       "defined \u001b[32mtrait \u001b[36mFoldable\u001b[0m"
      ]
     },
     "metadata": {},
     "output_type": "display_data"
    }
   ],
   "source": [
    "trait Foldable[T[_], A] {\n",
    "    val identity: A\n",
    "    def fold(op: (A,A)=>A): A\n",
    "}"
   ]
  },
  {
   "cell_type": "code",
   "execution_count": 3,
   "metadata": {
    "collapsed": false
   },
   "outputs": [
    {
     "data": {
      "text/plain": [
       "defined \u001b[32mclass \u001b[36mFoldableList\u001b[0m"
      ]
     },
     "metadata": {},
     "output_type": "display_data"
    }
   ],
   "source": [
    "abstract class FoldableList[A] extends Foldable[List, A] {\n",
    "    //private[foldable] val list: List[A]\n",
    "    val list: List[A]\n",
    "    def fold(op: (A,A)=>A): A = list.foldRight(identity)(op)\n",
    "}"
   ]
  },
  {
   "cell_type": "code",
   "execution_count": 4,
   "metadata": {
    "collapsed": false
   },
   "outputs": [
    {
     "data": {
      "text/plain": [
       "defined \u001b[32mclass \u001b[36mFoldableIntList\u001b[0m"
      ]
     },
     "metadata": {},
     "output_type": "display_data"
    }
   ],
   "source": [
    "case class FoldableIntList(val list: List[Int]) extends FoldableList[Int] {\n",
    "    val identity = 0\n",
    "}"
   ]
  },
  {
   "cell_type": "code",
   "execution_count": 6,
   "metadata": {
    "collapsed": false
   },
   "outputs": [
    {
     "data": {
      "text/plain": [
       "defined \u001b[32mclass \u001b[36mFoldableStringList\u001b[0m"
      ]
     },
     "metadata": {},
     "output_type": "display_data"
    }
   ],
   "source": [
    "case class FoldableStringList(val list: List[String]) extends FoldableList[String] {\n",
    "    val identity = \"\"\n",
    "}"
   ]
  },
  {
   "cell_type": "code",
   "execution_count": 7,
   "metadata": {
    "collapsed": false
   },
   "outputs": [
    {
     "name": "stdout",
     "output_type": "stream",
     "text": [
      "10\n",
      "ABC\n"
     ]
    },
    {
     "data": {
      "text/plain": [
       "\u001b[36mfoldable\u001b[0m: \u001b[32mFoldableIntList\u001b[0m = \u001b[33mFoldableIntList\u001b[0m(\u001b[33mList\u001b[0m(\u001b[32m1\u001b[0m, \u001b[32m2\u001b[0m, \u001b[32m3\u001b[0m, \u001b[32m4\u001b[0m))\n",
       "\u001b[36mstrings\u001b[0m: \u001b[32mFoldableStringList\u001b[0m = \u001b[33mFoldableStringList\u001b[0m(\u001b[33mList\u001b[0m(\u001b[32m\"A\"\u001b[0m, \u001b[32m\"B\"\u001b[0m, \u001b[32m\"C\"\u001b[0m))"
      ]
     },
     "metadata": {},
     "output_type": "display_data"
    }
   ],
   "source": [
    "val foldable = FoldableIntList(List(1,2,3,4))\n",
    "println(foldable.fold(_+_))\n",
    "\n",
    "val strings = FoldableStringList(List(\"A\",\"B\",\"C\"))\n",
    "println(strings.fold(_+_))"
   ]
  }
 ],
 "metadata": {
  "kernelspec": {
   "display_name": "Scala 2.11",
   "language": "scala211",
   "name": "scala211"
  },
  "language_info": {
   "codemirror_mode": "text/x-scala",
   "file_extension": "scala",
   "mimetype": "text/x-scala",
   "name": "scala211",
   "pygments_lexer": "scala",
   "version": "2.11.6"
  }
 },
 "nbformat": 4,
 "nbformat_minor": 0
}
