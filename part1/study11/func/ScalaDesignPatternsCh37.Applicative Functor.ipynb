{
 "cells": [
  {
   "cell_type": "markdown",
   "metadata": {},
   "source": [
    "# Introduction"
   ]
  },
  {
   "cell_type": "markdown",
   "metadata": {},
   "source": [
    "Applicative Functor pattern은 이전장의 함자 패턴에서 구축된다. 이 패턴에는 두개의 함수가 추가된다. 하나는 컨테이너에 객체를 넣는 것이고 다른 하나는 각 함수를 돌아가면서 적용한 결과를 반환하는 컨테이너를 담고 있는 객체의 컨텍스트를 담고 있는 함수를 적용하는 것이다."
   ]
  },
  {
   "cell_type": "markdown",
   "metadata": {},
   "source": [
    "응용 함자는 함자의 일종이라서 함자 패턴에서 언급된 모든 것이 응용 함자에서도 성립한다."
   ]
  },
  {
   "cell_type": "markdown",
   "metadata": {},
   "source": [
    "응용 함자 패턴이 추가한 2개의 연산을 pure와 apply라고 부른다."
   ]
  },
  {
   "cell_type": "markdown",
   "metadata": {},
   "source": [
    "* pure: 객체를 컨테이너나 컨텍스트에 담는다. 이는 객체를 취해서 최소한의 컨텍스트 내에서 객체를 감싼다. 이는 그 객체 요소를 담고 있는 리스트를 반환한다.\n",
    "* apply: 컨텍스트에서 하나 이상의 함수를 취해서 컨텍스트의 객체에 함수들을 하나하나 적용한다. 생성된 결과 또한 컨텍스트 내에 위치한다. 함수들을 객체들에 적용하는 정확한 효과는 구현에 따라 다르다. 예를 들어 함수 리스트가 생성된 결과으 시니규 리스트를 내는 객체의 리스트에 적용되기도 한다. 구현은 첫번째 함수가 리스트의 첫 객체에 적용되고 하위 함수들이 이전 함수에 의해 생성된 리스트에 적용된다. 함수의 효과는 누적된다."
   ]
  },
  {
   "cell_type": "markdown",
   "metadata": {},
   "source": [
    "# Constituent Parts"
   ]
  },
  {
   "cell_type": "markdown",
   "metadata": {},
   "source": [
    "응용 함자의 구성 성분은 함자 패턴에 서와 같다.\n",
    "* 리스트, 시퀀스, 리스트 버퍼, 사용자 컨테이너 같은 함자 컨테이너\n",
    "* 함수를 컨테이너의 모든 메소드에 적용할 수 있는 능력\n",
    "* 컨테이너에 각 요소를 적용할 파라미터 하나짜리 함수"
   ]
  },
  {
   "cell_type": "markdown",
   "metadata": {},
   "source": [
    "응용 함자에 추가 부분\n",
    "* 컨텍스트에 객체를 놓는 pure 연산\n",
    "* 컨텍스트 내에 객체에 컨텍스트 내에 함수 리스트를 적용하는 apply 함수"
   ]
  },
  {
   "cell_type": "markdown",
   "metadata": {},
   "source": [
    "<img src='./figures/Fig.37.1 The constituent parts of an Applicative Functor.png'>"
   ]
  },
  {
   "cell_type": "code",
   "execution_count": 13,
   "metadata": {
    "collapsed": false
   },
   "outputs": [
    {
     "data": {
      "text/plain": [
       "defined \u001b[32mtrait \u001b[36mFunctor\u001b[0m"
      ]
     },
     "metadata": {},
     "output_type": "display_data"
    }
   ],
   "source": [
    "trait Functor[T[_], A] {\n",
    "    def fmap[B](f: A=>B): T[B]\n",
    "    val identity: A\n",
    "}"
   ]
  },
  {
   "cell_type": "markdown",
   "metadata": {},
   "source": [
    "<img src='./figures/Fig.37.2 The types used in the Applicative Functor example.png'>"
   ]
  },
  {
   "cell_type": "code",
   "execution_count": 15,
   "metadata": {
    "collapsed": false
   },
   "outputs": [
    {
     "data": {
      "text/plain": [
       "defined \u001b[32mtrait \u001b[36mApplicativeFunctor\u001b[0m"
      ]
     },
     "metadata": {},
     "output_type": "display_data"
    }
   ],
   "source": [
    "trait ApplicativeFunctor[T[_], A] extends Functor[T, A] {\n",
    "    def apply(tf: T[A=>A]): T[A]\n",
    "}"
   ]
  },
  {
   "cell_type": "code",
   "execution_count": 16,
   "metadata": {
    "collapsed": false
   },
   "outputs": [
    {
     "data": {
      "text/plain": [
       "defined \u001b[32mclass \u001b[36mListApplicativeFunctor\u001b[0m"
      ]
     },
     "metadata": {},
     "output_type": "display_data"
    }
   ],
   "source": [
    "abstract class ListApplicativeFunctor[A](list: List[A]) extends \n",
    "        ApplicativeFunctor[List, A] {\n",
    "    def fmap[B](f: A=>B): List[B] = list.map(f)\n",
    "    def apply(tf: List[A=>A]): List[A] = {\n",
    "        var l: List[A] = list\n",
    "        tf.foreach(f => l = l.map(f))\n",
    "        return l\n",
    "    }\n",
    "}"
   ]
  },
  {
   "cell_type": "code",
   "execution_count": 26,
   "metadata": {
    "collapsed": false,
    "scrolled": true
   },
   "outputs": [
    {
     "data": {
      "text/plain": [
       "defined \u001b[32mclass \u001b[36mIntListAppFunctor\u001b[0m"
      ]
     },
     "metadata": {},
     "output_type": "display_data"
    }
   ],
   "source": [
    "case class IntListAppFunctor(list: List[Int], val identity: Int = 0) extends\n",
    "    ListApplicativeFunctor[Int](list)"
   ]
  },
  {
   "cell_type": "code",
   "execution_count": 27,
   "metadata": {
    "collapsed": false
   },
   "outputs": [
    {
     "ename": "",
     "evalue": "",
     "output_type": "error",
     "traceback": [
      "Compilation Failed",
      "\u001b[31mMain.scala:57: $user.this.IntListAppFunctor.type does not take parameters",
      "    implicit def pure(a: Int) = IntListAppFunctor(List[Int](a))",
      "                                                 ^\u001b[0m"
     ]
    }
   ],
   "source": [
    "object IntListAppFunctor {\n",
    "    implicit def pure(a: Int) = IntListAppFunctor(List[Int](a))\n",
    "}"
   ]
  },
  {
   "cell_type": "code",
   "execution_count": 31,
   "metadata": {
    "collapsed": false
   },
   "outputs": [
    {
     "name": "stdout",
     "output_type": "stream",
     "text": [
      "List(2, 3)\n",
      "List(4, 6)\n"
     ]
    },
    {
     "data": {
      "text/plain": [
       "\u001b[36maf\u001b[0m: \u001b[32mIntListAppFunctor\u001b[0m = \u001b[33mIntListAppFunctor\u001b[0m(\u001b[33mList\u001b[0m(\u001b[32m1\u001b[0m, \u001b[32m2\u001b[0m), \u001b[32m0\u001b[0m)\n",
       "\u001b[36mincrease\u001b[0m: \u001b[32mInt\u001b[0m => \u001b[32mInt\u001b[0m = <function1>\n",
       "\u001b[36mdouble\u001b[0m: \u001b[32mInt\u001b[0m => \u001b[32mInt\u001b[0m = <function1>"
      ]
     },
     "metadata": {},
     "output_type": "display_data"
    }
   ],
   "source": [
    "val af = IntListAppFunctor(List(1,2))\n",
    "val increase = (x: Int) => x + 1\n",
    "val double = (x: Int) => x * 2\n",
    "\n",
    "println(af.apply(List(increase)))\n",
    "println(af.apply(List(increase, double)))\n",
    "//println(IntListAppFunctor.pure(23))"
   ]
  }
 ],
 "metadata": {
  "kernelspec": {
   "display_name": "Scala 2.11",
   "language": "scala211",
   "name": "scala211"
  },
  "language_info": {
   "codemirror_mode": "text/x-scala",
   "file_extension": "scala",
   "mimetype": "text/x-scala",
   "name": "scala211",
   "pygments_lexer": "scala",
   "version": "2.11.6"
  }
 },
 "nbformat": 4,
 "nbformat_minor": 0
}
