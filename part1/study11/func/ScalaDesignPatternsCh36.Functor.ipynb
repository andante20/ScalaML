{
 "cells": [
  {
   "cell_type": "markdown",
   "metadata": {},
   "source": [
    "# Introduction"
   ]
  },
  {
   "cell_type": "markdown",
   "metadata": {},
   "source": [
    "Functor는 컨테이너가 객체의 그룹을 참조하면서 다음을 제공하는 함수적 패턴이다.\n",
    "\n",
    "* 함수를 컨테이너에 있는 모든 객체에 함수를 적용할 수 있는 능력 (fmap을 통해서)\n",
    "* 컨테이너의 구조를 변경시키지 않을 것\n",
    "* 전형적으로 컨테이너의 원래 내용ㅇ에 함수를 적용한 결과를 포함하는 새로운 컨테이너를 반환할 것.\n",
    "\n",
    "여기서 컨테이너는 함수가 적용될 수 있는 환경을 제공해야 한다.\n",
    "\n",
    "각 함자는 기본값을 나타내는 유일한 항등원을 갖는다. integer는 0, String은 \"\" 등\n",
    "\n",
    "함자의 구현과 관련된 여러가지 규칙이 있다."
   ]
  },
  {
   "cell_type": "markdown",
   "metadata": {
    "collapsed": true
   },
   "source": [
    "1. 제공된 함수를 함자 항등원에 적용하면 아무런 영향이 없다.\n",
    "이는 fmap(id) == id를 의미한다. 예를 들어 두개의 0을 더하면 0이다 유사하게 두개의 빈 문자열을 더하면 빈 문자열이다.\n",
    "2. 함수적 조합 적응력\n",
    "두개함수를 함께 조합하여 조합된 함수를 적용하면 첫번쨰 함수 이후에 두번쨰 함수를 적용한 결과와 같다.\n",
    "fmap(g+h) == fmap(g) + fmap(h)"
   ]
  },
  {
   "cell_type": "markdown",
   "metadata": {},
   "source": [
    "함자는 한개의 메소드만으로 이루어진 클래스, 트로잇, 오브젝트로 발현된다.  함자 오브젝트는 생성되거나 파라미터로 전달될 수도 있으며 함수를 객체 집합에 적용하는데 유용하다."
   ]
  },
  {
   "cell_type": "markdown",
   "metadata": {},
   "source": [
    "절차적 구현"
   ]
  },
  {
   "cell_type": "code",
   "execution_count": null,
   "metadata": {
    "collapsed": true
   },
   "outputs": [],
   "source": [
    "Set set = new Set(1,2,3)\n",
    "for(int i: set) {\n",
    "    func(i)\n",
    "}"
   ]
  },
  {
   "cell_type": "markdown",
   "metadata": {},
   "source": [
    "함수적 구현"
   ]
  },
  {
   "cell_type": "code",
   "execution_count": null,
   "metadata": {
    "collapsed": true
   },
   "outputs": [],
   "source": [
    "val c = Container(1,2,3)\n",
    "c.fmap(func)"
   ]
  },
  {
   "cell_type": "markdown",
   "metadata": {},
   "source": [
    "<img src='./figures/Fig.36.1 Functor pattern roles and relationships.png'>"
   ]
  },
  {
   "cell_type": "markdown",
   "metadata": {},
   "source": [
    "# Functor 구성요소"
   ]
  },
  {
   "cell_type": "markdown",
   "metadata": {},
   "source": [
    "* 리스트, 시퀀스, 리스트 버퍼, 사용자 컨테이너 같은 함자 컨테이너\n",
    "* 함수를 컨테이너의 모든 메소드에 적용할 수 있는 능력\n",
    "* 컨테이너에 각 요소를 적용할 파라미터 하나짜리 함수"
   ]
  },
  {
   "cell_type": "markdown",
   "metadata": {},
   "source": [
    "## Function Based Solution"
   ]
  },
  {
   "cell_type": "code",
   "execution_count": 2,
   "metadata": {
    "collapsed": false
   },
   "outputs": [
    {
     "data": {
      "text/plain": [
       "defined \u001b[32mtrait \u001b[36mFunctor\u001b[0m"
      ]
     },
     "metadata": {},
     "output_type": "display_data"
    }
   ],
   "source": [
    "trait Functor[T[_]] {\n",
    "    def fmap[A,B](list: List[A])(f: A=>B): List[B]\n",
    "}"
   ]
  },
  {
   "cell_type": "code",
   "execution_count": 5,
   "metadata": {
    "collapsed": false
   },
   "outputs": [
    {
     "data": {
      "text/plain": [
       "defined \u001b[32mobject \u001b[36mListFunctor\u001b[0m"
      ]
     },
     "metadata": {},
     "output_type": "display_data"
    }
   ],
   "source": [
    "object ListFunctor extends Functor[List] {\n",
    "    def fmap[A,B](list: List[A])(f: A=>B): List[B] = list map f\n",
    "}"
   ]
  },
  {
   "cell_type": "code",
   "execution_count": 10,
   "metadata": {
    "collapsed": false
   },
   "outputs": [
    {
     "name": "stdout",
     "output_type": "stream",
     "text": [
      "List(2, 3)\n"
     ]
    },
    {
     "data": {
      "text/plain": [
       "\u001b[36ml1\u001b[0m: \u001b[32mList\u001b[0m[\u001b[32mInt\u001b[0m] = \u001b[33mList\u001b[0m(\u001b[32m1\u001b[0m, \u001b[32m2\u001b[0m)\n",
       "\u001b[36mresult\u001b[0m: \u001b[32mList\u001b[0m[\u001b[32mInt\u001b[0m] = \u001b[33mList\u001b[0m(\u001b[32m2\u001b[0m, \u001b[32m3\u001b[0m)"
      ]
     },
     "metadata": {},
     "output_type": "display_data"
    }
   ],
   "source": [
    "val l1 = List(1,2)\n",
    "val result = ListFunctor.fmap(l1)(_+1)\n",
    "println(result)"
   ]
  },
  {
   "cell_type": "markdown",
   "metadata": {},
   "source": [
    "## Hybrid Solution"
   ]
  },
  {
   "cell_type": "code",
   "execution_count": 11,
   "metadata": {
    "collapsed": false
   },
   "outputs": [
    {
     "data": {
      "text/plain": [
       "defined \u001b[32mtrait \u001b[36mFunctor\u001b[0m"
      ]
     },
     "metadata": {},
     "output_type": "display_data"
    }
   ],
   "source": [
    "trait Functor[T[_], A] {\n",
    "    def fmap[B](f: A=>B): T[B]\n",
    "    val identity: A\n",
    "}"
   ]
  },
  {
   "cell_type": "code",
   "execution_count": 12,
   "metadata": {
    "collapsed": false
   },
   "outputs": [
    {
     "data": {
      "text/plain": [
       "defined \u001b[32mclass \u001b[36mListFunctor\u001b[0m"
      ]
     },
     "metadata": {},
     "output_type": "display_data"
    }
   ],
   "source": [
    "case class ListFunctor[A](val identity: A, list: List[A]) extends Functor[List,A] {\n",
    "    def fmap[B](f: A=>B): List[B] = list.map(f)\n",
    "}"
   ]
  },
  {
   "cell_type": "code",
   "execution_count": 13,
   "metadata": {
    "collapsed": false
   },
   "outputs": [
    {
     "name": "stdout",
     "output_type": "stream",
     "text": [
      "List(2, 3)\n"
     ]
    },
    {
     "data": {
      "text/plain": [
       "\u001b[36mlf\u001b[0m: \u001b[32mListFunctor\u001b[0m[\u001b[32mInt\u001b[0m] = \u001b[33mListFunctor\u001b[0m(\u001b[32m0\u001b[0m, \u001b[33mList\u001b[0m(\u001b[32m1\u001b[0m, \u001b[32m2\u001b[0m))"
      ]
     },
     "metadata": {},
     "output_type": "display_data"
    }
   ],
   "source": [
    "val lf = ListFunctor[Int](0, List(1,2))\n",
    "println(lf.fmap(_+1))"
   ]
  },
  {
   "cell_type": "markdown",
   "metadata": {},
   "source": [
    "<img src='./figures/Fig.36.2 Types used in the hybrid solution.png'>"
   ]
  }
 ],
 "metadata": {
  "kernelspec": {
   "display_name": "Scala 2.11",
   "language": "scala211",
   "name": "scala211"
  },
  "language_info": {
   "codemirror_mode": "text/x-scala",
   "file_extension": "scala",
   "mimetype": "text/x-scala",
   "name": "scala211",
   "pygments_lexer": "scala",
   "version": "2.11.6"
  }
 },
 "nbformat": 4,
 "nbformat_minor": 0
}
