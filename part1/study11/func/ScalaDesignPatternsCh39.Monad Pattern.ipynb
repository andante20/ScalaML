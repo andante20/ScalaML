{
 "cells": [
  {
   "cell_type": "markdown",
   "metadata": {},
   "source": [
    "# Introduction"
   ]
  },
  {
   "cell_type": "markdown",
   "metadata": {},
   "source": [
    "Monoids, Monads는 스칼라와 함수적 프로그래밍 세계에서는 반복되어 나오는 테마다. 이장은 Monoid의 구상에 기반한 디자인패턴을 설명한다. 순수 함수적 프로그래밍에서 monoid는 객체 집합에서 계산을 나타내는 구조이다.\n",
    "\n",
    "Monoid 패턴은 monad 구조 이면의 구상을 가져다가 컨테이너의 멤버에 함수를 적용하는 Monad의 생성과 조합을 다루는 컨테어너 타입을 어떻게 생성하는지 정의하고 다중의 컨테이너가 어떻게 단일 컨테이너를 펴지는지를 정의한다."
   ]
  },
  {
   "cell_type": "markdown",
   "metadata": {},
   "source": [
    "Monad 패턴은 다음처럼 함께 그룹질 수 있는 연산의 집합을 제공하는 T 타입의 컨테이너를 식별한다."
   ]
  },
  {
   "cell_type": "markdown",
   "metadata": {
    "collapsed": true
   },
   "source": [
    "Functor 같은 연산들\n",
    "* monad에서 함수를 적용함에 아무런 영향을 주지 않는 유일한 항등원을 소유한다.\n",
    "* 동일 타입의 신규 컨테이너를 반환하는 컨테이너의 모든 객체에 함수를 적용할 수 있는 능력\n",
    "* 함수적 조합 적용력. 2개 함수를 함께 조합한 후 조합된 함수를 적용하면 첫번째 함수를 적용하고 연이어 두번째 함수를 적용한 것과 동일한 효과를 얻는다."
   ]
  },
  {
   "cell_type": "markdown",
   "metadata": {
    "collapsed": true
   },
   "source": [
    "Applicative Functor 같은 연산들\n",
    "* pure 연산. 컨텍스트 내에 객체를 담는다.\n",
    "* apply 연산. 이미 있는 컨텍스트에서 하나 이상의 함수들을 취하여 객체들에 적용한다. 생성된 결과는 역시 그 컨텍스트 내에 있다."
   ]
  },
  {
   "cell_type": "markdown",
   "metadata": {
    "collapsed": true
   },
   "source": [
    "Monoid 같은 연산들\n",
    "* 추가적으로 함께 집합의 요소들을 조합하는 조합 연산\n",
    "* 다중의 집합을 취해서 단일 집합에 조합하는 연산 (Join이라고 알려졌다)"
   ]
  },
  {
   "cell_type": "code",
   "execution_count": 2,
   "metadata": {
    "collapsed": false
   },
   "outputs": [
    {
     "data": {
      "text/plain": [
       "defined \u001b[32mtrait \u001b[36mFunctor\u001b[0m"
      ]
     },
     "metadata": {},
     "output_type": "display_data"
    }
   ],
   "source": [
    "trait Functor[T[_], A] {\n",
    "    def fmap(func: A=>A): Functor[T, A]\n",
    "    val identity: T[A]\n",
    "}"
   ]
  },
  {
   "cell_type": "code",
   "execution_count": 3,
   "metadata": {
    "collapsed": false,
    "scrolled": true
   },
   "outputs": [
    {
     "data": {
      "text/plain": [
       "defined \u001b[32mtrait \u001b[36mApplicativeFunctor\u001b[0m"
      ]
     },
     "metadata": {},
     "output_type": "display_data"
    }
   ],
   "source": [
    "trait ApplicativeFunctor[T[_], A] extends Functor[T, A] {\n",
    "    def apply(functions: T[A=>A]): ApplicativeFunctor[T, A]\n",
    "}"
   ]
  },
  {
   "cell_type": "markdown",
   "metadata": {},
   "source": [
    "<img src='./figures/Fig.39.1 Types used in the Monad example.png'>"
   ]
  },
  {
   "cell_type": "code",
   "execution_count": 4,
   "metadata": {
    "collapsed": false
   },
   "outputs": [
    {
     "data": {
      "text/plain": [
       "defined \u001b[32mtrait \u001b[36mMonoid\u001b[0m"
      ]
     },
     "metadata": {},
     "output_type": "display_data"
    }
   ],
   "source": [
    "trait Monoid[T[_], A] {\n",
    "    def append(values: T[A]): Monoid[T, A]\n",
    "}"
   ]
  },
  {
   "cell_type": "code",
   "execution_count": 5,
   "metadata": {
    "collapsed": false
   },
   "outputs": [
    {
     "data": {
      "text/plain": [
       "defined \u001b[32mtrait \u001b[36mMonad\u001b[0m"
      ]
     },
     "metadata": {},
     "output_type": "display_data"
    }
   ],
   "source": [
    "trait Monad[T[_], A] extends Monoid[T, A] with ApplicativeFunctor[T, A]"
   ]
  },
  {
   "cell_type": "code",
   "execution_count": 6,
   "metadata": {
    "collapsed": false
   },
   "outputs": [
    {
     "data": {
      "text/plain": [
       "defined \u001b[32mclass \u001b[36mListMonad\u001b[0m"
      ]
     },
     "metadata": {},
     "output_type": "display_data"
    }
   ],
   "source": [
    "case class ListMonad[A](val list: List[A]) extends Monad[List, A] {\n",
    "    val identity = Nil\n",
    "    \n",
    "    def fmap(f: A=>A): ListMonad[A] = ListMonad(list.map(f))\n",
    "    def apply(tf: List[A=>A]): ListMonad[A] = {\n",
    "        var l: List[A] = list\n",
    "        tf.foreach(f => l = l.map(f))\n",
    "        return ListMonad(l)\n",
    "    }\n",
    "    def append(l: List[A]) = ListMonad(list ++ l)\n",
    "}"
   ]
  },
  {
   "cell_type": "code",
   "execution_count": 8,
   "metadata": {
    "collapsed": false,
    "scrolled": true
   },
   "outputs": [
    {
     "ename": "",
     "evalue": "",
     "output_type": "error",
     "traceback": [
      "Compilation Failed",
      "\u001b[31mMain.scala:62: $user.this.ListMonad.type does not take parameters",
      "        ListMonad(buffer.toList)",
      "                 ^\u001b[0m",
      "\u001b[31mMain.scala:64: $user.this.ListMonad.type does not take parameters",
      "    def pure[A](a: A) = ListMonad(List(a))",
      "                                 ^\u001b[0m"
     ]
    }
   ],
   "source": [
    "import scala.collection.mutable.ListBuffer\n",
    "\n",
    "object ListMonad {\n",
    "    def join[A](xs: List[ListMonad[A]]): ListMonad[A] = {\n",
    "        val buffer = ListBuffer[A]()\n",
    "        xs.foldLeft(buffer)((x, y) => x ++= y.list)\n",
    "        ListMonad(buffer.toList)\n",
    "    }\n",
    "    def pure[A](a: A) = ListMonad(List(a))\n",
    "}"
   ]
  },
  {
   "cell_type": "code",
   "execution_count": null,
   "metadata": {
    "collapsed": true
   },
   "outputs": [],
   "source": [
    "val monad = ListMonad[Int](List(1,2))\n",
    "println(monad)\n",
    "println(monad append List(6,7))\n",
    "println(monad fmpa(_+1))\n",
    "\n",
    "val increase = (x: Int) => x+1\n",
    "val double = (x: Int) => x*2\n",
    "println(monad apply(List(increase)))\n",
    "println(monad apply(List(increase, double)))\n",
    "\n",
    "val l1 = List(ListMonad(List(1,2)), ListMonad(List(5,6)))\n",
    "println(ListMonad join l1)\n",
    "println(ListMonad pure 4)"
   ]
  }
 ],
 "metadata": {
  "kernelspec": {
   "display_name": "Scala 2.11",
   "language": "scala211",
   "name": "scala211"
  },
  "language_info": {
   "codemirror_mode": "text/x-scala",
   "file_extension": "scala",
   "mimetype": "text/x-scala",
   "name": "scala211",
   "pygments_lexer": "scala",
   "version": "2.11.6"
  }
 },
 "nbformat": 4,
 "nbformat_minor": 0
}
