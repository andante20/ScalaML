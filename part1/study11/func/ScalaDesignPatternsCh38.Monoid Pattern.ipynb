{
 "cells": [
  {
   "cell_type": "markdown",
   "metadata": {},
   "source": [
    "# Introduction"
   ]
  },
  {
   "cell_type": "markdown",
   "metadata": {},
   "source": [
    "Monoid란 용어는 함수적 프로그래밍의 마당과 추상적 대수와 그룹 이론에서 반복적으로 오가는 것 중에 하나이다. 이 패턴은 이 구상에서 오지만 스칼라에 적용된다.추상적 대수 마당과 수학적 지류에서 monoid는 단일의 이진 결합 연산과 항등원과 연관된 대수적 구조이다. 일반적으로 monoid의 개념은 집합 내에서 함수 합성에 대한 구상을 물고 들어간다."
   ]
  },
  {
   "cell_type": "markdown",
   "metadata": {},
   "source": [
    "패턴 관점에서 monoid patterndms 객체의 집합과 객체들을 조합하는 연산을 정의한다."
   ]
  },
  {
   "cell_type": "markdown",
   "metadata": {},
   "source": [
    "다양한 알려진 타입에서 monoid의 행위를 볼 수 있다.\n",
    "* 0을 항등원으로 갖고 새로운 숫자로 조합할 수 있는 정수\n",
    "* Nil이나 empty list를 항등원으로 갖는 연결가능한(concatenate) List\n",
    "* 빈 문자열이나 \"\"를 항등원으로 갖는 String"
   ]
  },
  {
   "cell_type": "markdown",
   "metadata": {},
   "source": [
    "monoid에서 항등원은 아무것도 하지 않는 다는 의미에서 \"no-op\"으로 취급된다.\n",
    "\n",
    "최종적으로 monoid에서 객체를 조합하는 연산은 결합적이다. 값이 조합되는 순서는 중요하지 않다. 3에 5를 더하나 5에 3을 더하나 값은 같다."
   ]
  },
  {
   "cell_type": "markdown",
   "metadata": {},
   "source": [
    "# Constituent Parts"
   ]
  },
  {
   "cell_type": "markdown",
   "metadata": {},
   "source": [
    "monoid pattern의 구성 부품은 타입 T, 타입을 조합하는 연산과 항등원이다. monoid 패턴과 함께 2개의 규칙이 있다.\n",
    "* 덧붙이기는 결합적이여야 한다. append(x,y) == append(y,x)\n",
    "* 항등원은 덧붙이기 함수에 항등원이여야 한다. append(identity, x) == x"
   ]
  },
  {
   "cell_type": "code",
   "execution_count": 1,
   "metadata": {
    "collapsed": false
   },
   "outputs": [
    {
     "data": {
      "text/plain": [
       "defined \u001b[32mtrait \u001b[36mMonoid\u001b[0m"
      ]
     },
     "metadata": {},
     "output_type": "display_data"
    }
   ],
   "source": [
    "trait Monoid[T] {\n",
    "    def append(m1: T, m2: T): T\n",
    "    val identity: T\n",
    "}"
   ]
  },
  {
   "cell_type": "code",
   "execution_count": 2,
   "metadata": {
    "collapsed": false
   },
   "outputs": [
    {
     "data": {
      "text/plain": [
       "defined \u001b[32mclass \u001b[36mStringMonoid\u001b[0m"
      ]
     },
     "metadata": {},
     "output_type": "display_data"
    }
   ],
   "source": [
    "case class StringMonoid() extends Monoid[String] {\n",
    "    def append(s1: String, s2: String) = s1 + s2\n",
    "    val identity = \"\"\n",
    "}"
   ]
  },
  {
   "cell_type": "code",
   "execution_count": 4,
   "metadata": {
    "collapsed": false
   },
   "outputs": [
    {
     "name": "stdout",
     "output_type": "stream",
     "text": [
      "John\n",
      "JohnHunt\n"
     ]
    },
    {
     "data": {
      "text/plain": [
       "\u001b[36mstringMonoid\u001b[0m: \u001b[32mStringMonoid\u001b[0m = \u001b[33mStringMonoid\u001b[0m()"
      ]
     },
     "metadata": {},
     "output_type": "display_data"
    }
   ],
   "source": [
    "val stringMonoid = StringMonoid()\n",
    "println(stringMonoid.append(stringMonoid.identity, \"John\"))\n",
    "println(stringMonoid.append(\"John\", \"Hunt\"))"
   ]
  },
  {
   "cell_type": "code",
   "execution_count": 5,
   "metadata": {
    "collapsed": false
   },
   "outputs": [
    {
     "data": {
      "text/plain": [
       "defined \u001b[32mobject \u001b[36mIntMonoid\u001b[0m"
      ]
     },
     "metadata": {},
     "output_type": "display_data"
    }
   ],
   "source": [
    "object IntMonoid extends Monoid[Int] {\n",
    "    def append(x: Int, y: Int) = x + y\n",
    "    val identity = 0\n",
    "}"
   ]
  },
  {
   "cell_type": "code",
   "execution_count": 6,
   "metadata": {
    "collapsed": false
   },
   "outputs": [
    {
     "name": "stdout",
     "output_type": "stream",
     "text": [
      "1\n",
      "3\n",
      "3\n"
     ]
    },
    {
     "data": {
      "text/plain": []
     },
     "metadata": {},
     "output_type": "display_data"
    }
   ],
   "source": [
    "println(IntMonoid.append(IntMonoid.identity, 1))\n",
    "println(IntMonoid.append(1, 2))\n",
    "println(IntMonoid.append(2, 1))"
   ]
  }
 ],
 "metadata": {
  "kernelspec": {
   "display_name": "Scala 2.11",
   "language": "scala211",
   "name": "scala211"
  },
  "language_info": {
   "codemirror_mode": "text/x-scala",
   "file_extension": "scala",
   "mimetype": "text/x-scala",
   "name": "scala211",
   "pygments_lexer": "scala",
   "version": "2.11.6"
  }
 },
 "nbformat": 4,
 "nbformat_minor": 0
}
