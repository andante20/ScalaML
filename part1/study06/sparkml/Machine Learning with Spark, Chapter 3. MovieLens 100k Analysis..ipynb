{
 "cells": [
  {
   "cell_type": "code",
   "execution_count": 1,
   "metadata": {
    "collapsed": false
   },
   "outputs": [
    {
     "name": "stdout",
     "output_type": "stream",
     "text": [
      "Populating the interactive namespace from numpy and matplotlib\n"
     ]
    }
   ],
   "source": [
    "%pylab inline"
   ]
  },
  {
   "cell_type": "markdown",
   "metadata": {},
   "source": [
    "# Chapter 3. Obtaining, Processing, and Preparing Data with Spark"
   ]
  },
  {
   "cell_type": "raw",
   "metadata": {},
   "source": [
    "Illustrate a few key concepts related to data processing, transformation, and feature extraction in Spark\n",
    "\n",
    "Public data source 활용 사례 중심으로 설명\n",
    "\n",
    "• Briefly cover the types of data typically used in machine learning.\n",
    "• Provide examples of where to obtain interesting datasets, often publicly available on the Internet. We will use some of these datasets throughout the book to illustrate the use of the models we introduce.\n",
    "• Discover how to process, clean, explore, and visualize our data.\n",
    "• Introduce various techniques to transform our raw data into features that can be used as input to machine learning algorithms.\n",
    "• Learn how to normalize input features using external libraries as well as Spark's built-in functionality.\n"
   ]
  },
  {
   "cell_type": "code",
   "execution_count": 2,
   "metadata": {
    "collapsed": true
   },
   "outputs": [],
   "source": [
    "# cli 에서 pyspark 구동 방법 변경 사항\n",
    "# >IPYTHON=1 IPYTHON_OPTS=\"--pylab\" ./bin/pyspark ==> Spark 1.4: spark-submit 으로 변경됨\n",
    "\n",
    "# how to execute pyspark program\n",
    "# >$SPARK_HOME/bin/spark-submit pythonapp.py"
   ]
  },
  {
   "cell_type": "markdown",
   "metadata": {},
   "source": [
    " ## pyspark를 ipython notebook에서 사용하는 방법\n",
    "\n",
    "    mkdir -p ~/.ipython/kernels/pyspark\n",
    "    touch ~/.ipython/kernels/pyspark/kernel.json\n",
    "    vi ~/.ipython/kernels/pyspark/kernel.json \n",
    "    \n",
    "하여 다음을 입력   \n",
    "{\n",
    "  \"display_name\": \"pySpark (Spark 1.4.0)\",\n",
    "  \"language\": \"python\",\n",
    "  \"argv\": [\n",
    "    \"python2\",\n",
    "    \"-m\",\n",
    "    \"IPython.kernel\",\n",
    "    \"-f\",\n",
    "    \"{connection_file}\"\n",
    "  ],\n",
    "  \"env\": {\n",
    "    \"SPARK_HOME\": \"/Users/kkj/Documents/spark-1.4.1-bin-hadoop2.6\",\n",
    "    \"PYTHONPATH\": \"/Users/kkj/Documents/spark-1.4.1-bin-hadoop2.6/python/:/Users/kkj/Documents/spark-1.4.1-bin-hadoop2.6/python/lib/py4j-0.8.2.1-src.zip\",\n",
    "    \"PYTHONSTARTUP\": \"/Users/kkj/Documents/spark-1.4.1-bin-hadoop2.6/python/pyspark/shell.py\",\n",
    "    \"PYSPARK_SUBMIT_ARGS\": \"--master local[2] pyspark-shell\"\n",
    "  }\n",
    "}\n",
    "\n",
    "이때 SPARK_HOME 은 spark설치 디렉토리로 변경해야함. 개별 폴더의 명칭은 각자의 개인 노트북의 폴더명으로 변경.\n",
    "위의 커널 설정 후 ipython notebook 으로 진입하여 kernel을 pyspark을 선택하여 보여지는 notebook에서\n",
    "\n",
    "sc\n",
    "\n",
    "를 입력했을때 <pyspark.context.SparkContext at 0x106bda590> 라고 나와야 정상 구동된 것임!!\n",
    "그냥 아무 것도 안나오면 아직 제대로 구동 안된 것임\n",
    "\n",
    "In [2]:\n",
    "\n",
    "sc\n",
    "\n",
    "Out[2]:\n",
    "\n",
    "<pyspark.context.SparkContext at 0x1106a1a10>"
   ]
  },
  {
   "cell_type": "code",
   "execution_count": 3,
   "metadata": {
    "collapsed": false
   },
   "outputs": [
    {
     "data": {
      "text/plain": [
       "<pyspark.context.SparkContext at 0x10c98e590>"
      ]
     },
     "execution_count": 3,
     "metadata": {},
     "output_type": "execute_result"
    }
   ],
   "source": [
    "sc"
   ]
  },
  {
   "cell_type": "code",
   "execution_count": 4,
   "metadata": {
    "collapsed": false
   },
   "outputs": [],
   "source": [
    "# from pyspark import SparkContext\n",
    "# pyspark 커널 환경에서는 별도 수행 불필요"
   ]
  },
  {
   "cell_type": "markdown",
   "metadata": {},
   "source": [
    "## Accessing publicly available datasets"
   ]
  },
  {
   "cell_type": "raw",
   "metadata": {},
   "source": [
    "# UCI Machine Learning Repository: This is a collection of almost 300 datasets of various types and sizes for tasks including classification, regression, clustering, and recommender systems. The list is available at http://archive.ics.uci.edu/ml/.\n",
    "• Amazon AWS public datasets: This is a set of often very large datasets that can be accessed via Amazon S3. These datasets include the Human Genome Project, the Common Crawl web corpus, Wikipedia data, and Google Books Ngrams. Information on these datasets can be found at http://aws.amazon. com/publicdatasets/.\n",
    "• Kaggle: This is a collection of datasets used in machine learning competitions run by Kaggle. Areas include classification, regression, ranking, recommender systems, and image analysis. These datasets can be found under the Competitions section at http://www.kaggle.com/competitions.\n",
    "• KDnuggets: This has a detailed list of public datasets, including some of those mentioned earlier. The list is available at http://www.kdnuggets.com/ datasets/index.html."
   ]
  },
  {
   "cell_type": "markdown",
   "metadata": {},
   "source": [
    "## The MovieLens 100k dataset"
   ]
  },
  {
   "cell_type": "markdown",
   "metadata": {},
   "source": [
    "### download the dataset from http://files.grouplens.org/datasets/movielens/ml-100k.zip\n",
    "- u.user (user profiles)\n",
    "- u.item(movie metadata)\n",
    "- u.data (the ratings given by users to movies)\n",
    "\n",
    "* 아래는 ml-100k.zip 을 노트북 폴더에 밑에 풀어 놓고 수행해야 정상적으로 결과 나옴"
   ]
  },
  {
   "cell_type": "code",
   "execution_count": 5,
   "metadata": {
    "collapsed": false
   },
   "outputs": [
    {
     "name": "stdout",
     "output_type": "stream",
     "text": [
      "1|24|M|technician|85711\r\n",
      "2|53|F|other|94043\r\n",
      "3|23|M|writer|32067\r\n",
      "4|24|M|technician|43537\r\n",
      "5|33|F|other|15213\r\n"
     ]
    }
   ],
   "source": [
    "# the u.user file contains the user id, age, gender,\n",
    "# occupation, and ZIP code fields, separated by a pipe (| character):\n",
    "\n",
    "!head -5 ./ml-100k/u.user"
   ]
  },
  {
   "cell_type": "code",
   "execution_count": 6,
   "metadata": {
    "collapsed": false
   },
   "outputs": [
    {
     "name": "stdout",
     "output_type": "stream",
     "text": [
      "1|Toy Story (1995)|01-Jan-1995||http://us.imdb.com/M/title-exact?Toy%20Story%20(1995)|0|0|0|1|1|1|0|0|0|0|0|0|0|0|0|0|0|0|0\r\n",
      "2|GoldenEye (1995)|01-Jan-1995||http://us.imdb.com/M/title-exact?GoldenEye%20(1995)|0|1|1|0|0|0|0|0|0|0|0|0|0|0|0|0|1|0|0\r\n",
      "3|Four Rooms (1995)|01-Jan-1995||http://us.imdb.com/M/title-exact?Four%20Rooms%20(1995)|0|0|0|0|0|0|0|0|0|0|0|0|0|0|0|0|1|0|0\r\n",
      "4|Get Shorty (1995)|01-Jan-1995||http://us.imdb.com/M/title-exact?Get%20Shorty%20(1995)|0|1|0|0|0|1|0|0|1|0|0|0|0|0|0|0|0|0|0\r\n",
      "5|Copycat (1995)|01-Jan-1995||http://us.imdb.com/M/title-exact?Copycat%20(1995)|0|0|0|0|0|0|1|0|1|0|0|0|0|0|0|0|1|0|0\r\n"
     ]
    }
   ],
   "source": [
    "# The u.item file contains the movie id, title, release data, and IMDB link fields\n",
    "# and a set of fields related to movie category data.\n",
    "\n",
    "!head -5 ./ml-100k/u.item"
   ]
  },
  {
   "cell_type": "markdown",
   "metadata": {},
   "source": [
    "## Exploring the User Dataset"
   ]
  },
  {
   "cell_type": "markdown",
   "metadata": {},
   "source": [
    "### analyze the characteristics of MovieLens users"
   ]
  },
  {
   "cell_type": "raw",
   "metadata": {},
   "source": [
    "Create user_data RDD from specified text file data"
   ]
  },
  {
   "cell_type": "code",
   "execution_count": 7,
   "metadata": {
    "collapsed": false,
    "scrolled": true
   },
   "outputs": [
    {
     "data": {
      "text/plain": [
       "u'1|24|M|technician|85711'"
      ]
     },
     "execution_count": 7,
     "metadata": {},
     "output_type": "execute_result"
    }
   ],
   "source": [
    "# replace this PATH with the correct path to the MovieLens dataset on your computer\n",
    "\n",
    "PATH = \".\"\n",
    "user_data = sc.textFile(\"%s/ml-100k/u.user\" % PATH)\n",
    "user_data.first()"
   ]
  },
  {
   "cell_type": "code",
   "execution_count": 8,
   "metadata": {
    "collapsed": false
   },
   "outputs": [
    {
     "data": {
      "text/plain": [
       "<function __main__.<lambda>>"
      ]
     },
     "execution_count": 8,
     "metadata": {},
     "output_type": "execute_result"
    }
   ],
   "source": [
    "# Python syntax for anonymous function mapping input x to ouyput y \n",
    "# Scala: x => y\n",
    "# Python: \n",
    "lambda x: y\n",
    "lambda a,b: a + b"
   ]
  },
  {
   "cell_type": "raw",
   "metadata": {},
   "source": [
    "Transform the data by splitting each line, around the \"|\" character. \n",
    "==> an RDD where each record is a Python list that contains the user ID, age,\n",
    "gender, occupation, and ZIP code fields.\n",
    "\n",
    "Then count the number of users, genders, occupations, and ZIP codes."
   ]
  },
  {
   "cell_type": "code",
   "execution_count": 9,
   "metadata": {
    "collapsed": false,
    "scrolled": true
   },
   "outputs": [
    {
     "name": "stdout",
     "output_type": "stream",
     "text": [
      "Users: 943, genders: 2, occupations: 21, ZIP codes: 795\n"
     ]
    }
   ],
   "source": [
    "user_fields = user_data.map(lambda line: line.split(\"|\"))\n",
    "num_users = user_fields.map(lambda fields: fields[0]).count()\n",
    "num_genders = user_fields.map(lambda fields: fields[2]).distinct().count()\n",
    "num_occupations = user_fields.map(lambda fields: fields[3]).distinct().count()\n",
    "num_zipcodes = user_fields.map(lambda fields: fields[4]).distinct().count()\n",
    "print \"Users: %d, genders: %d, occupations: %d, ZIP codes: %d\" % (num_users, num_genders, num_occupations, num_zipcodes)"
   ]
  },
  {
   "cell_type": "raw",
   "metadata": {},
   "source": [
    "create a histogram to analyze the distribution of user ages, using matplotlib's hist function:\n",
    "the ages array, together with the number of bins for our histogram\n",
    "(20 in this case), to the hist function.\n",
    "Using the normed=True argument, we also\n",
    "specified that we want the histogram to be normalized so that each bucket represents\n",
    "the percentage of the overall data that falls into that bucket."
   ]
  },
  {
   "cell_type": "code",
   "execution_count": 10,
   "metadata": {
    "collapsed": false
   },
   "outputs": [
    {
     "data": {
      "image/png": "[encoded data removed]",
      "text/plain": [
       "<matplotlib.figure.Figure at 0x10f054f50>"
      ]
     },
     "metadata": {},
     "output_type": "display_data"
    }
   ],
   "source": [
    "ages = user_fields.map(lambda x: int(x[1])).collect()\n",
    "hist(ages, bins=20, color='lightblue', normed=True)\n",
    "fig = matplotlib.pyplot.gcf()\n",
    "fig.set_size_inches(16, 10)"
   ]
  },
  {
   "cell_type": "raw",
   "metadata": {},
   "source": [
    "==> the ages of MovieLens users are somewhat\n",
    "skewed towards younger viewers. A large number of users are between the ages of\n",
    "about 15 and 35."
   ]
  },
  {
   "cell_type": "raw",
   "metadata": {},
   "source": [
    "Since part of our data is the descriptions of textual occupation, we will need to\n",
    "manipulate it a little to get it to work with the bar function:"
   ]
  },
  {
   "cell_type": "code",
   "execution_count": 11,
   "metadata": {
    "collapsed": false
   },
   "outputs": [
    {
     "data": {
      "image/png": "[encoded data removed]",
      "text/plain": [
       "<matplotlib.figure.Figure at 0x10f577d90>"
      ]
     },
     "metadata": {},
     "output_type": "display_data"
    }
   ],
   "source": [
    "count_by_occupation = user_fields.map(lambda fields: (fields[3], 1)).reduceByKey(lambda x, y: x + y).collect()\n",
    "x_axis1 = np.array([c[0] for c in count_by_occupation])\n",
    "y_axis1 = np.array([c[1] for c in count_by_occupation])\n",
    "x_axis = x_axis1[np.argsort(y_axis1)]\n",
    "y_axis = y_axis1[np.argsort(y_axis1)]\n",
    "\n",
    "pos = np.arange(len(x_axis))\n",
    "width = 1.0\n",
    "\n",
    "ax = plt.axes()\n",
    "ax.set_xticks(pos + (width / 2))\n",
    "ax.set_xticklabels(x_axis)\n",
    "\n",
    "plt.bar(pos, y_axis, width, color='lightblue')\n",
    "plt.xticks(rotation=30)\n",
    "fig = matplotlib.pyplot.gcf()\n",
    "fig.set_size_inches(16, 10)"
   ]
  },
  {
   "cell_type": "code",
   "execution_count": 12,
   "metadata": {
    "collapsed": false
   },
   "outputs": [
    {
     "name": "stdout",
     "output_type": "stream",
     "text": [
      "Map-reduce approach:\n",
      "{u'administrator': 79, u'retired': 14, u'lawyer': 12, u'healthcare': 16, u'marketing': 26, u'executive': 32, u'scientist': 31, u'student': 196, u'technician': 27, u'librarian': 51, u'programmer': 66, u'salesman': 12, u'homemaker': 7, u'engineer': 67, u'none': 9, u'doctor': 7, u'writer': 45, u'entertainment': 18, u'other': 105, u'educator': 95, u'artist': 28}\n",
      "\n",
      "countByValue approach:\n",
      "{u'administrator': 79, u'writer': 45, u'retired': 14, u'lawyer': 12, u'doctor': 7, u'marketing': 26, u'executive': 32, u'none': 9, u'entertainment': 18, u'healthcare': 16, u'scientist': 31, u'student': 196, u'educator': 95, u'technician': 27, u'librarian': 51, u'programmer': 66, u'artist': 28, u'salesman': 12, u'other': 105, u'homemaker': 7, u'engineer': 67}\n"
     ]
    }
   ],
   "source": [
    "# Note we can also use the Spark RDD method 'countByValue' to generate the occupation counts\n",
    "count_by_occupation2 = user_fields.map(lambda fields: fields[3]).countByValue()\n",
    "print \"Map-reduce approach:\"\n",
    "print dict(count_by_occupation2)\n",
    "print \"\"\n",
    "print \"countByValue approach:\"\n",
    "print dict(count_by_occupation)"
   ]
  },
  {
   "cell_type": "markdown",
   "metadata": {},
   "source": [
    "## Exploring the Movie Dataset"
   ]
  },
  {
   "cell_type": "code",
   "execution_count": 13,
   "metadata": {
    "collapsed": false
   },
   "outputs": [
    {
     "name": "stdout",
     "output_type": "stream",
     "text": [
      "1|Toy Story (1995)|01-Jan-1995||http://us.imdb.com/M/title-exact?Toy%20Story%20(1995)|0|0|0|1|1|1|0|0|0|0|0|0|0|0|0|0|0|0|0\n",
      "Movies: 1682\n"
     ]
    }
   ],
   "source": [
    "movie_data = sc.textFile(\"%s/ml-100k/u.item\" % PATH)\n",
    "print movie_data.first()\n",
    "num_movies = movie_data.count()\n",
    "print \"Movies: %d\" % num_movies"
   ]
  },
  {
   "cell_type": "code",
   "execution_count": 14,
   "metadata": {
    "collapsed": false
   },
   "outputs": [
    {
     "data": {
      "image/png": "[encoded data removed]",
      "text/plain": [
       "<matplotlib.figure.Figure at 0x10f8f7350>"
      ]
     },
     "metadata": {},
     "output_type": "display_data"
    }
   ],
   "source": [
    "def convert_year(x):\n",
    "    try:\n",
    "        return int(x[-4:])\n",
    "    except:\n",
    "        return 1900 # there is a 'bad' data point with a blank year, which we set to 1900 and will filter out later\n",
    "\n",
    "movie_fields = movie_data.map(lambda lines: lines.split(\"|\"))\n",
    "years = movie_fields.map(lambda fields: fields[2]).map(lambda x: convert_year(x))\n",
    "\n",
    "# we filter out any 'bad' data points here\n",
    "years_filtered = years.filter(lambda x: x != 1900)\n",
    "\n",
    "# plot the movie ages histogram\n",
    "movie_ages = years_filtered.map(lambda yr: 1998-yr).countByValue()\n",
    "values = movie_ages.values()\n",
    "bins = movie_ages.keys()\n",
    "hist(values, bins=bins, color='lightblue', normed=True)\n",
    "fig = matplotlib.pyplot.gcf()\n",
    "fig.set_size_inches(16,10)"
   ]
  },
  {
   "cell_type": "markdown",
   "metadata": {},
   "source": [
    "## Exploring the Rating Dataset"
   ]
  },
  {
   "cell_type": "code",
   "execution_count": 15,
   "metadata": {
    "collapsed": false
   },
   "outputs": [
    {
     "name": "stdout",
     "output_type": "stream",
     "text": [
      "196\t242\t3\t881250949\n",
      "Ratings: 100000\n"
     ]
    }
   ],
   "source": [
    "rating_data_raw = sc.textFile(\"%s/ml-100k/u.data\" % PATH)\n",
    "print rating_data_raw.first()\n",
    "num_ratings = rating_data_raw.count()\n",
    "print \"Ratings: %d\" % num_ratings"
   ]
  },
  {
   "cell_type": "code",
   "execution_count": 16,
   "metadata": {
    "collapsed": false,
    "scrolled": true
   },
   "outputs": [
    {
     "name": "stdout",
     "output_type": "stream",
     "text": [
      "Min rating: 1\n",
      "Max rating: 5\n",
      "Average rating: 3.53\n",
      "Median rating: 4\n",
      "Average # of ratings per user: 106.00\n",
      "Average # of ratings per movie: 59.00\n"
     ]
    }
   ],
   "source": [
    "# compute some basic summary statistics and frequency histograms for the rating values.\n",
    "\n",
    "rating_data = rating_data_raw.map(lambda line: line.split(\"\\t\"))\n",
    "ratings = rating_data.map(lambda fields: int(fields[2]))\n",
    "max_rating = ratings.reduce(lambda x, y: max(x, y))\n",
    "min_rating = ratings.reduce(lambda x, y: min(x, y))\n",
    "mean_rating = ratings.reduce(lambda x, y: x + y) / float(num_ratings)\n",
    "median_rating = np.median(ratings.collect())\n",
    "ratings_per_user = num_ratings / num_users\n",
    "ratings_per_movie = num_ratings / num_movies\n",
    "print \"Min rating: %d\" % min_rating\n",
    "print \"Max rating: %d\" % max_rating\n",
    "print \"Average rating: %2.2f\" % mean_rating\n",
    "print \"Median rating: %d\" % median_rating\n",
    "print \"Average # of ratings per user: %2.2f\" % ratings_per_user\n",
    "print \"Average # of ratings per movie: %2.2f\" % ratings_per_movie"
   ]
  },
  {
   "cell_type": "code",
   "execution_count": 17,
   "metadata": {
    "collapsed": false
   },
   "outputs": [
    {
     "data": {
      "text/plain": [
       "(count: 100000, mean: 3.52986, stdev: 1.12566797076, max: 5.0, min: 1.0)"
      ]
     },
     "execution_count": 17,
     "metadata": {},
     "output_type": "execute_result"
    }
   ],
   "source": [
    "# Spark also provides a stats function for RDDs; this function contains a numeric\n",
    "# variable (such as ratings in this case) to compute similar summary statistics:\n",
    "# we can also use the stats function to get some similar information to the above\n",
    "ratings.stats()"
   ]
  },
  {
   "cell_type": "raw",
   "metadata": {},
   "source": [
    "Looking at the results, the average rating given by a user to a movie is around 3.5\n",
    "and the median rating is 4, so we might expect that the distribution of ratings will be\n",
    "skewed towards slightly higher ratings. Let's see whether this is true by creating a\n",
    "bar chart of rating values using a similar procedure as we did for occupations:"
   ]
  },
  {
   "cell_type": "code",
   "execution_count": 18,
   "metadata": {
    "collapsed": false
   },
   "outputs": [
    {
     "data": {
      "image/png": "[encoded data removed]",
      "text/plain": [
       "<matplotlib.figure.Figure at 0x10f1aa9d0>"
      ]
     },
     "metadata": {},
     "output_type": "display_data"
    }
   ],
   "source": [
    "# create plot of counts by rating value\n",
    "count_by_rating = ratings.countByValue()\n",
    "x_axis = np.array(count_by_rating.keys())\n",
    "y_axis = np.array([float(c) for c in count_by_rating.values()])\n",
    "\n",
    "# we normalize the y-axis here to percentages\n",
    "y_axis_normed = y_axis / y_axis.sum()\n",
    "\n",
    "pos = np.arange(len(x_axis))\n",
    "width = 1.0\n",
    "\n",
    "ax = plt.axes()\n",
    "ax.set_xticks(pos + (width / 2))\n",
    "ax.set_xticklabels(x_axis)\n",
    "\n",
    "plt.bar(pos, y_axis_normed, width, color='lightblue')\n",
    "plt.xticks(rotation=30)\n",
    "fig = matplotlib.pyplot.gcf()\n",
    "fig.set_size_inches(16, 10)"
   ]
  },
  {
   "cell_type": "raw",
   "metadata": {},
   "source": [
    "In line with what we might have expected after seeing some summary statistics, it is\n",
    "clear that the distribution of ratings is skewed towards average to high ratings."
   ]
  },
  {
   "cell_type": "code",
   "execution_count": 19,
   "metadata": {
    "collapsed": false
   },
   "outputs": [
    {
     "data": {
      "text/plain": [
       "[(2, 62), (4, 24), (6, 211), (8, 59), (10, 184)]"
      ]
     },
     "execution_count": 19,
     "metadata": {},
     "output_type": "execute_result"
    }
   ],
   "source": [
    "# to compute the distribution of ratings per user, we first group the ratings by user id\n",
    "user_ratings_grouped = rating_data.map(lambda fields: (int(fields[0]), int(fields[2]))).\\\n",
    "    groupByKey() \n",
    "    \n",
    "# then, for each key (user id), we find the size of the set of ratings, which gives us the # ratings for that user \n",
    "user_ratings_byuser = user_ratings_grouped.map(lambda (k, v): (k, len(v)))\n",
    "user_ratings_byuser.take(5)"
   ]
  },
  {
   "cell_type": "code",
   "execution_count": 20,
   "metadata": {
    "collapsed": false,
    "scrolled": true
   },
   "outputs": [
    {
     "data": {
      "image/png": "[encoded data removed]",
      "text/plain": [
       "<matplotlib.figure.Figure at 0x10f563110>"
      ]
     },
     "metadata": {},
     "output_type": "display_data"
    }
   ],
   "source": [
    "# and finally plot the histogram\n",
    "user_ratings_byuser_local = user_ratings_byuser.map(lambda (k, v): v).collect()\n",
    "hist(user_ratings_byuser_local, bins=200, color='lightblue', normed=True)\n",
    "fig = matplotlib.pyplot.gcf()\n",
    "fig.set_size_inches(16,10)"
   ]
  },
  {
   "cell_type": "raw",
   "metadata": {},
   "source": [
    "We can see that most of\n",
    "the users give fewer than 100 ratings. The distribution of the ratings shows, however,\n",
    "that there are fairly large number of users that provide hundreds of ratings."
   ]
  },
  {
   "cell_type": "markdown",
   "metadata": {},
   "source": [
    "##Processing and transforming your data"
   ]
  },
  {
   "cell_type": "raw",
   "metadata": {},
   "source": [
    "In order to make the raw data usable in a machine learning algorithm, we first need\n",
    "to clean it up and possibly transform it in various ways before extracting useful\n",
    "features from the transformed data. \n",
    "The transformation and feature extraction steps\n",
    "are closely linked, and in some cases, certain transformations are themselves a case\n",
    "of feature extraction."
   ]
  },
  {
   "cell_type": "raw",
   "metadata": {},
   "source": [
    "Overall, the broad options are as follows:\n",
    "\n",
    "• Filter out or remove records with bad or missing values: This is sometimes\n",
    "unavoidable; however, this means losing the good part of a bad or\n",
    "missing record.\n",
    "\n",
    "• Fill in bad or missing data: We can try to assign a value to bad or missing\n",
    "data based on the rest of the data we have available. Approaches can include\n",
    "assigning a zero value, assigning the global mean or median, interpolating\n",
    "nearby or similar data points (usually, in a time-series dataset), and so on.\n",
    "Deciding on the correct approach is often a tricky task and depends on the\n",
    "data, situation, and one's own experience.\n",
    "\n",
    "• Apply robust techniques to outliers: The main issue with outliers is that\n",
    "they might be correct values, even though they are extreme. They might\n",
    "also be errors. It is often very difficult to know which case you are dealing\n",
    "with. Outliers can also be removed or filled in, although fortunately, there\n",
    "are statistical techniques (such as robust regression) to handle outliers and\n",
    "extreme values.\n",
    "\n",
    "• Apply transformations to potential outliers: Another approach for\n",
    "outliers or extreme values is to apply transformations, such as a logarithmic\n",
    "or Gaussian kernel transformation, to features that have potential outliers, or\n",
    "display large ranges of potential values. These types of transformations have\n",
    "the effect of dampening the impact of large changes in the scale of a variable\n",
    "and turning a nonlinear relationship into one that is linear."
   ]
  },
  {
   "cell_type": "markdown",
   "metadata": {},
   "source": [
    "## Filling in Bad or Missing Values"
   ]
  },
  {
   "cell_type": "markdown",
   "metadata": {},
   "source": [
    "applies the fill-in approach to the bad release date record \n",
    "by assigning a value to the data point that is equal to the median year of release:"
   ]
  },
  {
   "cell_type": "code",
   "execution_count": 21,
   "metadata": {
    "collapsed": false
   },
   "outputs": [
    {
     "name": "stdout",
     "output_type": "stream",
     "text": [
      "Mean year of release: 1989\n",
      "Median year of release: 1995\n",
      "Index of '1900' after assigning median: []\n"
     ]
    }
   ],
   "source": [
    "years_pre_processed = movie_fields.map(lambda fields: fields[2]).map(lambda x: convert_year(x)).filter(lambda yr: yr != 1900).collect()\n",
    "years_pre_processed_arr = np.array(years_pre_processed)   \n",
    "\n",
    "# first we compute the mean and median year of release, without the 'bad' data point\n",
    "mean_year = np.mean(years_pre_processed_arr[years_pre_processed_arr!=1900])\n",
    "median_year = np.median(years_pre_processed_arr[years_pre_processed_arr!=1900])\n",
    "\n",
    "# get the location index of bad data. error processing for array size is zero before applying operator []\n",
    "idx_bad_data = np.where(years_pre_processed_arr==1900)[0]\n",
    "bad_data_arr = np.where(years_pre_processed_arr==19000)\n",
    "\n",
    "years_pre_processed_arr[idx_bad_data] = median_year\n",
    "print \"Mean year of release: %d\" % mean_year\n",
    "print \"Median year of release: %d\" % median_year\n",
    "print \"Index of '1900' after assigning median: %s\" % np.where(years_pre_processed_arr == 1900)[0]"
   ]
  },
  {
   "cell_type": "markdown",
   "metadata": {},
   "source": [
    "##Feature Extraction\n",
    "Extracting useful features from your data"
   ]
  },
  {
   "cell_type": "raw",
   "metadata": {},
   "source": [
    "Features broadly fall into a few categories, which are as follows:\n",
    "• Numerical features: These features are typically real or integer numbers, for\n",
    "example, the user age that we used in an example earlier.\n",
    "\n",
    "• Categorical features: These features refer to variables that can take one of\n",
    "a set of possible states at any given time. Examples from our dataset might\n",
    "include a user's gender or occupation or movie categories.\n",
    "\n",
    "• Text features: These are features derived from the text content in the data, for\n",
    "example, movie titles, descriptions, or reviews.\n",
    "\n",
    "• Other features: Most other types of features are ultimately represented\n",
    "numerically. For example, images, video, and audio can be represented as\n",
    "sets of numerical data. Geographical locations can be represented as latitude\n",
    "and longitude or geohash data."
   ]
  },
  {
   "cell_type": "markdown",
   "metadata": {},
   "source": [
    "##Numerical features\n",
    "\n",
    "Thus, we want to use features that make sense, that is,\n",
    "any numerical data can be used as an input variable. However, in a machine\n",
    "learning model, we learn about a vector of weights for each feature. The weights\n",
    "play a role in mapping feature values to an outcome or target variable (in the case of\n",
    "supervised learning models).\n",
    "\n",
    "Thus, we want to use features that make sense, that is, where the model can learn the\n",
    "relationship between feature values and the target variable. For example, age might\n",
    "be a reasonable feature. Perhaps there is a direct relationship between increasing age\n",
    "and a certain outcome. Similarly, height is a good example of a numerical feature\n",
    "that can be used directly.\n",
    "We will often see that numerical features are less useful in their raw form, but can\n",
    "be turned into representations that are more useful. Location is an example of such\n",
    "a case. Using raw locations (say, latitude and longitude) might not be that useful\n",
    "unless our data is very dense indeed, since our model might not be able to learn\n",
    "about a useful relationship between the raw location and an outcome. However, a\n",
    "relationship might exist between some aggregated or binned representation of the\n",
    "location (for example, a city or country) and the outcome."
   ]
  },
  {
   "cell_type": "markdown",
   "metadata": {},
   "source": [
    "### Categorical Features: _1-of-k_ Encoding of User Occupation"
   ]
  },
  {
   "cell_type": "code",
   "execution_count": 23,
   "metadata": {
    "collapsed": false
   },
   "outputs": [
    {
     "name": "stdout",
     "output_type": "stream",
     "text": [
      "Encoding of 'doctor': 2\n",
      "Encoding of 'programmer': 14\n"
     ]
    }
   ],
   "source": [
    "#we can collect all the possible states of the occupation variable:\n",
    "all_occupations = user_fields.map(lambda fields: fields[3]).distinct().collect()\n",
    "all_occupations.sort()\n",
    "\n",
    "# create a new dictionary to hold the occupations, and assign the \"1-of-k\" indexes\n",
    "idx = 0\n",
    "all_occupations_dict = {}\n",
    "for o in all_occupations:\n",
    "    all_occupations_dict[o] = idx\n",
    "    idx +=1\n",
    "    \n",
    "# try a few examples to see what \"1-of-k\" encoding is assigned\n",
    "print \"Encoding of 'doctor': %d\" % all_occupations_dict['doctor']\n",
    "print \"Encoding of 'programmer': %d\" % all_occupations_dict['programmer']"
   ]
  },
  {
   "cell_type": "raw",
   "metadata": {},
   "source": [
    "Finally, we can encode the value of programmer. We will start by creating a numpy\n",
    "array of a length that is equal to the number of possible occupations (k in this case)\n",
    "and filling it with zeros. We will use the zeros function of numpy to create this array."
   ]
  },
  {
   "cell_type": "code",
   "execution_count": 24,
   "metadata": {
    "collapsed": false
   },
   "outputs": [
    {
     "name": "stdout",
     "output_type": "stream",
     "text": [
      "Binary feature vector: [ 0.  0.  0.  0.  0.  0.  0.  0.  0.  0.  0.  0.  0.  0.  1.  0.  0.  0.\n",
      "  0.  0.  0.]\n",
      "Length of binary vector: 21\n"
     ]
    }
   ],
   "source": [
    "# create a vector representation for \"programmer\" and encode it into a binary vector\n",
    "K = len(all_occupations_dict)\n",
    "binary_x = np.zeros(K)\n",
    "k_programmer = all_occupations_dict['programmer']\n",
    "binary_x[k_programmer] = 1\n",
    "print \"Binary feature vector: %s\" % binary_x\n",
    "print \"Length of binary vector: %d\" % K"
   ]
  },
  {
   "cell_type": "markdown",
   "metadata": {},
   "source": [
    "## Derived features\n",
    "As we mentioned earlier, it is often useful to compute a derived feature from one or\n",
    "more available variables. We hope that the derived feature can add more information\n",
    "than only using the variable in its raw form.\n",
    "For instance, we can compute the average rating given by each user to all the movies\n",
    "they rated. This would be a feature that could provide a user-specific intercept in our\n",
    "model (in fact, this is a commonly used approach in recommendation models). We\n",
    "have taken the raw rating data and created a new feature that can allow us to learn a\n",
    "better model.\n",
    "Examples of features derived from raw data include computing average values,\n",
    "median values, variances, sums, differences, maximums or minimums, and counts.\n",
    "We have already seen a case of this when we created a new movie age feature from\n",
    "the year of release of the movie and the current year. Often, the idea behind using\n",
    "these transformations is to summarize the numerical data in some way that might\n",
    "make it easier for a model to learn.\n",
    "It is also common to transform numerical features into categorical features, for\n",
    "example, by binning features. Common examples of this include variables such as\n",
    "age, geolocation, and time."
   ]
  },
  {
   "cell_type": "markdown",
   "metadata": {},
   "source": [
    "### Transforming Timestamps into Categorical Features"
   ]
  },
  {
   "cell_type": "raw",
   "metadata": {},
   "source": [
    "To illustrate how to derive categorical features from numerical data, we will use\n",
    "the times of the ratings given by users to movies. These are in the form of Unix\n",
    "timestamps. We can use Python's datetime module to extract the date and time from\n",
    "the timestamp and, in turn, extract the"
   ]
  },
  {
   "cell_type": "code",
   "execution_count": 25,
   "metadata": {
    "collapsed": false
   },
   "outputs": [
    {
     "data": {
      "text/plain": [
       "[0, 4, 16, 14, 14]"
      ]
     },
     "execution_count": 25,
     "metadata": {},
     "output_type": "execute_result"
    }
   ],
   "source": [
    "# a function to extract the timestamps (in seconds) from the dataset\n",
    "def extract_datetime(ts):\n",
    "    import datetime\n",
    "    return datetime.datetime.fromtimestamp(ts)\n",
    "    \n",
    "timestamps = rating_data.map(lambda fields: int(fields[3]))\n",
    "hour_of_day = timestamps.map(lambda ts: extract_datetime(ts).hour)\n",
    "hour_of_day.take(5)"
   ]
  },
  {
   "cell_type": "code",
   "execution_count": 26,
   "metadata": {
    "collapsed": false
   },
   "outputs": [
    {
     "data": {
      "text/plain": [
       "[None, None, 'afternoon', 'afternoon', 'afternoon']"
      ]
     },
     "execution_count": 26,
     "metadata": {},
     "output_type": "execute_result"
    }
   ],
   "source": [
    "# a function for assigning \"time-of-day\" bucket given an hour of the day\n",
    "def assign_tod(hr):\n",
    "    times_of_day = {\n",
    "                'morning' : range(7, 12),\n",
    "                'lunch' : range(12, 14),\n",
    "                'afternoon' : range(14, 18),\n",
    "                'evening' : range(18, 23),\n",
    "                'night' : range(23, 7)\n",
    "                }\n",
    "    for k, v in times_of_day.iteritems():\n",
    "        if hr in v: \n",
    "            return k\n",
    "\n",
    "# now apply the \"time of day\" function to the \"hour of day\" RDD\n",
    "time_of_day = hour_of_day.map(lambda hr: assign_tod(hr))\n",
    "time_of_day.take(5)"
   ]
  },
  {
   "cell_type": "markdown",
   "metadata": {},
   "source": [
    "## Text features\n",
    "ext features are a form of categorical and derived features. Let's take\n",
    "the example of the description for a movie (which we do not have in our dataset).\n",
    "Here, the raw text could not be used directly, even as a categorical feature, since there\n",
    "are virtually unlimited possible combinations of words that could occur if each piece\n",
    "of text was a possible value. Our model would almost never see two occurrences of the\n",
    "same feature and would not be able to learn effectively.\n",
    "Therefore, we would like to turn raw text into a form that is more amenable to machine learning.\n",
    "\n",
    "The bag-of-words approach treats a piece of text content as a set of the words, and\n",
    "possibly numbers, in the text (these are often referred to as terms). The process of the\n",
    "bag-of-words approach is as follows:\n",
    "\n",
    "• Tokenization: First, some form of tokenization is applied to the text to split\n",
    "it into a set of tokens (generally words, numbers, and so on). An example of\n",
    "this is simple whitespace tokenization, which splits the text on each space\n",
    "and might remove punctuation and other characters that are not alphabetical\n",
    "or numerical.\n",
    "\n",
    "• Stop word removal: Next, it is usual to remove very common words such as\n",
    "\"the\", \"and\", and \"but\" (these are known as stop words).\n",
    "\n",
    "• Stemming: The next step can include stemming, which refers to taking a\n",
    "term and reducing it to its base form or stem. A common example is plural\n",
    "terms becoming singular (for example, dogs becomes dog and so on). There\n",
    "are many approaches to stemming, and text-processing libraries often\n",
    "contain various stemming algorithms."
   ]
  },
  {
   "cell_type": "markdown",
   "metadata": {},
   "source": [
    "### Simple Text Feature Extraction"
   ]
  },
  {
   "cell_type": "markdown",
   "metadata": {},
   "source": [
    "An example of extracting textual features in the binary vector\n",
    "representation, we can use the movie titles that we have available."
   ]
  },
  {
   "cell_type": "code",
   "execution_count": 27,
   "metadata": {
    "collapsed": false
   },
   "outputs": [
    {
     "name": "stdout",
     "output_type": "stream",
     "text": [
      "Toy Story\n",
      "GoldenEye\n",
      "Four Rooms\n",
      "Get Shorty\n",
      "Copycat\n"
     ]
    }
   ],
   "source": [
    "# we define a function to extract just the title from the raw movie title, removing the year of release\n",
    "def extract_title(raw):\n",
    "    import re\n",
    "    grps = re.search(\"\\((\\w+)\\)\", raw)    # this regular expression finds the non-word (numbers) between parentheses\n",
    "    if grps:\n",
    "        return raw[:grps.start()].strip() # we strip the trailing whitespace from the title\n",
    "    else:\n",
    "        return raw\n",
    "\n",
    "# first lets extract the raw movie titles from the movie fields\n",
    "raw_titles = movie_fields.map(lambda fields: fields[1])\n",
    "\n",
    "# next, we strip away the \"year of release\" to leave us with just the title text\n",
    "# let's test our title extraction function on the first 5 titles\n",
    "for raw_title in raw_titles.take(5):\n",
    "    print extract_title(raw_title)"
   ]
  },
  {
   "cell_type": "code",
   "execution_count": 28,
   "metadata": {
    "collapsed": false
   },
   "outputs": [
    {
     "name": "stdout",
     "output_type": "stream",
     "text": [
      "[[u'Toy', u'Story'], [u'GoldenEye'], [u'Four', u'Rooms'], [u'Get', u'Shorty'], [u'Copycat']]\n"
     ]
    }
   ],
   "source": [
    "# ok that looks good! let's apply it to all the titles\n",
    "movie_titles = raw_titles.map(lambda m: extract_title(m))\n",
    "# next we tokenize the titles into terms. We'll use simple whitespace tokenization\n",
    "title_terms = movie_titles.map(lambda t: t.split(\" \"))\n",
    "print title_terms.take(5)"
   ]
  },
  {
   "cell_type": "code",
   "execution_count": 29,
   "metadata": {
    "collapsed": false
   },
   "outputs": [
    {
     "name": "stdout",
     "output_type": "stream",
     "text": [
      "Total number of terms: 2645\n",
      "Index of term 'Dead': 147\n",
      "Index of term 'Rooms': 1963\n"
     ]
    }
   ],
   "source": [
    "# next we would like to collect all the possible terms, in order to build out dictionary of term <-> index mappings\n",
    "all_terms = title_terms.flatMap(lambda x: x).distinct().collect()\n",
    "# create a new dictionary to hold the terms, and assign the \"1-of-k\" indexes\n",
    "idx = 0\n",
    "all_terms_dict = {}\n",
    "for term in all_terms:\n",
    "    all_terms_dict[term] = idx\n",
    "    idx +=1\n",
    "num_terms = len(all_terms_dict)\n",
    "print \"Total number of terms: %d\" % num_terms\n",
    "print \"Index of term 'Dead': %d\" % all_terms_dict['Dead']\n",
    "print \"Index of term 'Rooms': %d\" % all_terms_dict['Rooms']"
   ]
  },
  {
   "cell_type": "code",
   "execution_count": 30,
   "metadata": {
    "collapsed": false
   },
   "outputs": [
    {
     "name": "stdout",
     "output_type": "stream",
     "text": [
      "Index of term 'Dead': 147\n",
      "Index of term 'Rooms': 1963\n"
     ]
    }
   ],
   "source": [
    "# we could also use Spark's 'zipWithIndex' RDD function to create the term dictionary\n",
    "all_terms_dict2 = title_terms.flatMap(lambda x: x).distinct().zipWithIndex().collectAsMap()\n",
    "print \"Index of term 'Dead': %d\" % all_terms_dict2['Dead']\n",
    "print \"Index of term 'Rooms': %d\" % all_terms_dict2['Rooms']"
   ]
  },
  {
   "cell_type": "code",
   "execution_count": 31,
   "metadata": {
    "collapsed": false
   },
   "outputs": [
    {
     "data": {
      "text/plain": [
       "[<1x2645 sparse matrix of type '<type 'numpy.float64'>'\n",
       " \twith 2 stored elements in Compressed Sparse Column format>,\n",
       " <1x2645 sparse matrix of type '<type 'numpy.float64'>'\n",
       " \twith 1 stored elements in Compressed Sparse Column format>,\n",
       " <1x2645 sparse matrix of type '<type 'numpy.float64'>'\n",
       " \twith 2 stored elements in Compressed Sparse Column format>,\n",
       " <1x2645 sparse matrix of type '<type 'numpy.float64'>'\n",
       " \twith 2 stored elements in Compressed Sparse Column format>,\n",
       " <1x2645 sparse matrix of type '<type 'numpy.float64'>'\n",
       " \twith 1 stored elements in Compressed Sparse Column format>]"
      ]
     },
     "execution_count": 31,
     "metadata": {},
     "output_type": "execute_result"
    }
   ],
   "source": [
    "# this function takes a list of terms and encodes it as a scipy sparse vector using an approach \n",
    "# similar to the 1-of-k encoding\n",
    "def create_vector(terms, term_dict):\n",
    "    from scipy import sparse as sp\n",
    "    x = sp.csc_matrix((1, num_terms))\n",
    "    for t in terms:\n",
    "        if t in term_dict:\n",
    "            idx = term_dict[t]\n",
    "            x[0, idx] = 1\n",
    "    return x\n",
    "all_terms_bcast = sc.broadcast(all_terms_dict)\n",
    "term_vectors = title_terms.map(lambda terms: create_vector(terms, all_terms_bcast.value))\n",
    "term_vectors.take(5)"
   ]
  },
  {
   "cell_type": "markdown",
   "metadata": {},
   "source": [
    "## Normalizing Features"
   ]
  },
  {
   "cell_type": "raw",
   "metadata": {},
   "source": [
    "to transform each numerical feature in a way that scales it to a standard size. We can\n",
    "perform different kinds of normalization, which are as follows:\n",
    "\n",
    "• Normalize a feature: This is usually a transformation applied to an\n",
    "individual feature across the dataset, for example, subtracting the mean\n",
    "(centering the feature) or applying the standard normal transformation\n",
    "(such that the feature has a mean of zero and a standard deviation of 1).\n",
    "\n",
    "• Normalize a feature vector: This is usually a transformation applied to all\n",
    "features in a given row of the dataset such that the resulting feature vector\n",
    "has a normalized length. That is, we will ensure that each feature in the\n",
    "vector is scaled such"
   ]
  },
  {
   "cell_type": "markdown",
   "metadata": {},
   "source": [
    "### Scaling the Norm of Vectors\n",
    "use the norm function of numpy\n",
    "to achieve the vector normalization by first computing the L2 norm of a random\n",
    "vector and then dividing each element in the vector by this norm to create our\n",
    "normalized vector:"
   ]
  },
  {
   "cell_type": "code",
   "execution_count": 32,
   "metadata": {
    "collapsed": false
   },
   "outputs": [
    {
     "name": "stdout",
     "output_type": "stream",
     "text": [
      "x:\n",
      "[ 0.49671415 -0.1382643   0.64768854  1.52302986 -0.23415337 -0.23413696\n",
      "  1.57921282  0.76743473 -0.46947439  0.54256004]\n",
      "2-Norm of x: 2.5908\n",
      "Normalized x:\n",
      "[ 0.19172213 -0.05336737  0.24999534  0.58786029 -0.09037871 -0.09037237\n",
      "  0.60954584  0.29621508 -0.1812081   0.20941776]\n",
      "2-Norm of normalized_x: 1.0000\n"
     ]
    }
   ],
   "source": [
    "np.random.seed(42)\n",
    "x = np.random.randn(10)\n",
    "norm_x_2 = np.linalg.norm(x)\n",
    "normalized_x = x / norm_x_2\n",
    "print \"x:\\n%s\" % x\n",
    "print \"2-Norm of x: %2.4f\" % norm_x_2\n",
    "print \"Normalized x:\\n%s\" % normalized_x\n",
    "print \"2-Norm of normalized_x: %2.4f\" % np.linalg.norm(normalized_x)"
   ]
  },
  {
   "cell_type": "markdown",
   "metadata": {},
   "source": [
    " ### Using MLlib for feature normalization\n",
    "Spark provides some built-in functions for feature scaling and standardization in its\n",
    "MLlib machine learning library. These include StandardScaler, which applies the\n",
    "standard normal transformation, and Normalizer, which applies the same feature\n",
    "vector normalization we showed you in our preceding example code."
   ]
  },
  {
   "cell_type": "code",
   "execution_count": 33,
   "metadata": {
    "collapsed": false
   },
   "outputs": [
    {
     "name": "stdout",
     "output_type": "stream",
     "text": [
      "x:\n",
      "[ 0.49671415 -0.1382643   0.64768854  1.52302986 -0.23415337 -0.23413696\n",
      "  1.57921282  0.76743473 -0.46947439  0.54256004]\n",
      "2-Norm of x: 2.5908\n",
      "Normalized x MLlib:\n",
      "[ 0.19172213 -0.05336737  0.24999534  0.58786029 -0.09037871 -0.09037237\n",
      "  0.60954584  0.29621508 -0.1812081   0.20941776]\n",
      "2-Norm of normalized_x_mllib: 1.0000\n"
     ]
    }
   ],
   "source": [
    "from pyspark.mllib.feature import Normalizer\n",
    "normalizer = Normalizer()\n",
    "vector = sc.parallelize([x])\n",
    "normalized_x_mllib = normalizer.transform(vector).first().toArray()\n",
    "\n",
    "print \"x:\\n%s\" % x\n",
    "print \"2-Norm of x: %2.4f\" % norm_x_2\n",
    "print \"Normalized x MLlib:\\n%s\" % normalized_x_mllib\n",
    "print \"2-Norm of normalized_x_mllib: %2.4f\" % np.linalg.norm(normalized_x_mllib)"
   ]
  },
  {
   "cell_type": "markdown",
   "metadata": {},
   "source": [
    "## Using packages for feature extraction\n",
    "\n",
    "While we have covered many different approaches to feature extraction, it will be\n",
    "rather painful to have to create the code to perform these common tasks each and\n",
    "every time. Certainly, we can create our own reusable code libraries for this purpose;\n",
    "however, fortunately, we can rely on the existing tools and packages.\n",
    "Since Spark supports Scala, Java, and Python bindings, we can use packages\n",
    "available in these languages that provide sophisticated tools to process and extract\n",
    "features and represent them as vectors."
   ]
  },
  {
   "cell_type": "code",
   "execution_count": null,
   "metadata": {
    "collapsed": true
   },
   "outputs": [],
   "source": []
  },
  {
   "cell_type": "code",
   "execution_count": null,
   "metadata": {
    "collapsed": true
   },
   "outputs": [],
   "source": []
  }
 ],
 "metadata": {
  "kernelspec": {
   "display_name": "pySpark (Spark 1.4.0)",
   "language": "python",
   "name": "pyspark"
  },
  "language_info": {
   "codemirror_mode": {
    "name": "ipython",
    "version": 2
   },
   "file_extension": ".py",
   "mimetype": "text/x-python",
   "name": "python",
   "nbconvert_exporter": "python",
   "pygments_lexer": "ipython2",
   "version": "2.7.10"
  }
 },
 "nbformat": 4,
 "nbformat_minor": 0
}
