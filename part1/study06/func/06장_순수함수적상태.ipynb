{
 "cells": [
  {
   "cell_type": "markdown",
   "metadata": {},
   "source": [
    "# 6장 순수함수적상태"
   ]
  },
  {
   "cell_type": "markdown",
   "metadata": {},
   "source": [
    "목표 : 난수발생기 예제로 통해서  순수함수적 프로그램을 작성하는 방법을 배워보자."
   ]
  },
  {
   "cell_type": "markdown",
   "metadata": {},
   "source": [
    "## 6.1 부수효과를 이용한 난수 발생"
   ]
  },
  {
   "cell_type": "code",
   "execution_count": 1,
   "metadata": {
    "collapsed": false
   },
   "outputs": [
    {
     "data": {
      "text/plain": [
       "\u001b[36mrng\u001b[0m: \u001b[32mutil\u001b[0m.\u001b[32mRandom\u001b[0m = scala.util.Random@57ada944"
      ]
     },
     "metadata": {},
     "output_type": "display_data"
    }
   ],
   "source": [
    "val rng = new scala.util.Random"
   ]
  },
  {
   "cell_type": "code",
   "execution_count": 2,
   "metadata": {
    "collapsed": false
   },
   "outputs": [
    {
     "data": {
      "text/plain": [
       "\u001b[36mres1\u001b[0m: \u001b[32mDouble\u001b[0m = \u001b[32m0.8764510441268563\u001b[0m"
      ]
     },
     "metadata": {},
     "output_type": "display_data"
    }
   ],
   "source": [
    "rng.nextDouble"
   ]
  },
  {
   "cell_type": "code",
   "execution_count": 3,
   "metadata": {
    "collapsed": false
   },
   "outputs": [
    {
     "data": {
      "text/plain": [
       "\u001b[36mres2\u001b[0m: \u001b[32mDouble\u001b[0m = \u001b[32m0.7854612353603011\u001b[0m"
      ]
     },
     "metadata": {},
     "output_type": "display_data"
    }
   ],
   "source": [
    "rng.nextDouble"
   ]
  },
  {
   "cell_type": "code",
   "execution_count": 4,
   "metadata": {
    "collapsed": false
   },
   "outputs": [
    {
     "data": {
      "text/plain": [
       "\u001b[36mres3\u001b[0m: \u001b[32mInt\u001b[0m = \u001b[32m-414294773\u001b[0m"
      ]
     },
     "metadata": {},
     "output_type": "display_data"
    }
   ],
   "source": [
    "rng.nextInt"
   ]
  },
  {
   "cell_type": "code",
   "execution_count": 5,
   "metadata": {
    "collapsed": false
   },
   "outputs": [
    {
     "data": {
      "text/plain": [
       "\u001b[36mres4\u001b[0m: \u001b[32mInt\u001b[0m = \u001b[32m1\u001b[0m"
      ]
     },
     "metadata": {},
     "output_type": "display_data"
    }
   ],
   "source": [
    "rng.nextInt( 10 )"
   ]
  },
  {
   "cell_type": "markdown",
   "metadata": {},
   "source": [
    "## 6.2 순수함수적 난수 발생"
   ]
  },
  {
   "cell_type": "markdown",
   "metadata": {},
   "source": [
    "- 순수함수 작성 방법 \n",
    "\n",
    "-  상태를 부수효과로서 갱신하지 않고,  난수와 새로운 상태를 갖는 새로운 난수생성기를 같이 반환"
   ]
  },
  {
   "cell_type": "code",
   "execution_count": 71,
   "metadata": {
    "collapsed": false
   },
   "outputs": [
    {
     "data": {
      "text/plain": [
       "defined \u001b[32mtrait \u001b[36mRNG\u001b[0m"
      ]
     },
     "metadata": {},
     "output_type": "display_data"
    }
   ],
   "source": [
    "trait RNG {\n",
    "    def nextInt : (Int, RNG)\n",
    "}"
   ]
  },
  {
   "cell_type": "markdown",
   "metadata": {},
   "source": [
    "- RNG을 구현하는 SimpleRNG \n",
    "- ( 난수, 새로운 RNG객체 ) 을 반환"
   ]
  },
  {
   "cell_type": "code",
   "execution_count": 72,
   "metadata": {
    "collapsed": false
   },
   "outputs": [
    {
     "data": {
      "text/plain": [
       "defined \u001b[32mclass \u001b[36mSimpleRNG\u001b[0m"
      ]
     },
     "metadata": {},
     "output_type": "display_data"
    }
   ],
   "source": [
    "case class SimpleRNG( seed: Long) extends RNG {\n",
    "    def nextInt : ( Int, RNG ) = {\n",
    "        val newSeed = ( seed * 0x5DEECE66DL + 0xBL )  & 0xFFFFFFFFFFFFL\n",
    "        val nextRNG = SimpleRNG(newSeed)\n",
    "        val n = ( newSeed >>> 16 ).toInt\n",
    "        ( n, nextRNG)\n",
    "    }\n",
    "}"
   ]
  },
  {
   "cell_type": "code",
   "execution_count": 15,
   "metadata": {
    "collapsed": false
   },
   "outputs": [
    {
     "data": {
      "text/plain": [
       "\u001b[36mrng\u001b[0m: \u001b[32mSimpleRNG\u001b[0m = \u001b[33mSimpleRNG\u001b[0m(\u001b[32m42\u001b[0mL)"
      ]
     },
     "metadata": {},
     "output_type": "display_data"
    }
   ],
   "source": [
    "val rng = SimpleRNG( 42 )"
   ]
  },
  {
   "cell_type": "code",
   "execution_count": 16,
   "metadata": {
    "collapsed": false
   },
   "outputs": [
    {
     "data": {
      "text/plain": [
       "\u001b[36mn1\u001b[0m: \u001b[32mInt\u001b[0m = \u001b[32m16159453\u001b[0m\n",
       "\u001b[36mrng2\u001b[0m: \u001b[32mRNG\u001b[0m = SimpleRNG(1059025964525)"
      ]
     },
     "metadata": {},
     "output_type": "display_data"
    }
   ],
   "source": [
    "val ( n1, rng2 ) = rng.nextInt"
   ]
  },
  {
   "cell_type": "code",
   "execution_count": 17,
   "metadata": {
    "collapsed": false
   },
   "outputs": [
    {
     "data": {
      "text/plain": [
       "\u001b[36mn2\u001b[0m: \u001b[32mInt\u001b[0m = \u001b[32m16159453\u001b[0m\n",
       "\u001b[36mrng3\u001b[0m: \u001b[32mRNG\u001b[0m = SimpleRNG(1059025964525)"
      ]
     },
     "metadata": {},
     "output_type": "display_data"
    }
   ],
   "source": [
    "val ( n2, rng3 ) = rng.nextInt"
   ]
  },
  {
   "cell_type": "code",
   "execution_count": 18,
   "metadata": {
    "collapsed": false
   },
   "outputs": [
    {
     "data": {
      "text/plain": [
       "\u001b[36mn2\u001b[0m: \u001b[32mInt\u001b[0m = \u001b[32m-1281479697\u001b[0m\n",
       "\u001b[36mrng3\u001b[0m: \u001b[32mRNG\u001b[0m = SimpleRNG(197491923327988)"
      ]
     },
     "metadata": {},
     "output_type": "display_data"
    }
   ],
   "source": [
    "val ( n2, rng3 ) = rng2.nextInt"
   ]
  },
  {
   "cell_type": "markdown",
   "metadata": {},
   "source": [
    "### 연습문제 6.1\n",
    "RNG.nextInt를 이용해서 0 이상, Int.MaxVale 이하 난수를 생성하는 함수 작성"
   ]
  },
  {
   "cell_type": "code",
   "execution_count": 73,
   "metadata": {
    "collapsed": false
   },
   "outputs": [
    {
     "data": {
      "text/plain": [
       "defined \u001b[32mfunction \u001b[36mnonNegativeInt\u001b[0m\n",
       "\u001b[36mmyRNG\u001b[0m: \u001b[32mSimpleRNG\u001b[0m = \u001b[33mSimpleRNG\u001b[0m(\u001b[32m42\u001b[0mL)\n",
       "\u001b[36mnonNeg1\u001b[0m: \u001b[32mInt\u001b[0m = \u001b[32m16159453\u001b[0m\n",
       "\u001b[36mmyRNG1\u001b[0m: \u001b[32mRNG\u001b[0m = SimpleRNG(1059025964525)\n",
       "\u001b[36mnonNeg2\u001b[0m: \u001b[32mInt\u001b[0m = \u001b[32m1281479697\u001b[0m\n",
       "\u001b[36mmyRNG2\u001b[0m: \u001b[32mRNG\u001b[0m = SimpleRNG(197491923327988)\n",
       "\u001b[36mnonNeg3\u001b[0m: \u001b[32mInt\u001b[0m = \u001b[32m340305902\u001b[0m\n",
       "\u001b[36mmyRNG3\u001b[0m: \u001b[32mRNG\u001b[0m = SimpleRNG(259172689157871)\n",
       "\u001b[36mnonNeg4\u001b[0m: \u001b[32mInt\u001b[0m = \u001b[32m2015756020\u001b[0m\n",
       "\u001b[36mmyRNG4\u001b[0m: \u001b[32mRNG\u001b[0m = SimpleRNG(149370390209998)\n",
       "\u001b[36mnonNeg5\u001b[0m: \u001b[32mInt\u001b[0m = \u001b[32m1770001318\u001b[0m\n",
       "\u001b[36mmyRNG5\u001b[0m: \u001b[32mRNG\u001b[0m = SimpleRNG(115998806404289)"
      ]
     },
     "metadata": {},
     "output_type": "display_data"
    }
   ],
   "source": [
    "def nonNegativeInt(rng: RNG) : (Int, RNG) = {\n",
    "   val (n , newRng )  = rng.nextInt\n",
    "   if( n < 0 )  ( -n, newRng )\n",
    "   else ( n, newRng )\n",
    "}\n",
    "\n",
    "val myRNG = SimpleRNG( 42 )\n",
    "val ( nonNeg1 , myRNG1 ) = nonNegativeInt( myRNG )\n",
    "val ( nonNeg2 , myRNG2 ) = nonNegativeInt( myRNG1 )\n",
    "val ( nonNeg3 , myRNG3 ) = nonNegativeInt( myRNG2 )\n",
    "val ( nonNeg4 , myRNG4 ) = nonNegativeInt( myRNG3 )\n",
    "val ( nonNeg5 , myRNG5 ) = nonNegativeInt( myRNG4 )"
   ]
  },
  {
   "cell_type": "markdown",
   "metadata": {},
   "source": [
    "### 연습문제 6.2\n",
    "0이상, 1미만의 Double난수를 발생하는 함수 작성"
   ]
  },
  {
   "cell_type": "code",
   "execution_count": 74,
   "metadata": {
    "collapsed": false
   },
   "outputs": [
    {
     "data": {
      "text/plain": [
       "defined \u001b[32mfunction \u001b[36mdouble\u001b[0m\n",
       "\u001b[36mmyRNG\u001b[0m: \u001b[32mSimpleRNG\u001b[0m = \u001b[33mSimpleRNG\u001b[0m(\u001b[32m11\u001b[0mL)\n",
       "\u001b[36mnonNeg1\u001b[0m: \u001b[32mInt\u001b[0m = \u001b[32m4232237\u001b[0m\n",
       "\u001b[36mmyRNG1\u001b[0m: \u001b[32mRNG\u001b[0m = SimpleRNG(277363943098)\n",
       "\u001b[36mnonNeg2\u001b[0m: \u001b[32mInt\u001b[0m = \u001b[32m178803790\u001b[0m\n",
       "\u001b[36mmyRNG2\u001b[0m: \u001b[32mRNG\u001b[0m = SimpleRNG(11718085204285)\n",
       "\u001b[36mnonNeg3\u001b[0m: \u001b[32mInt\u001b[0m = \u001b[32m758674372\u001b[0m\n",
       "\u001b[36mmyRNG3\u001b[0m: \u001b[32mRNG\u001b[0m = SimpleRNG(49720483695876)\n",
       "\u001b[36mnonNeg4\u001b[0m: \u001b[32mInt\u001b[0m = \u001b[32m1565954732\u001b[0m\n",
       "\u001b[36mmyRNG4\u001b[0m: \u001b[32mRNG\u001b[0m = SimpleRNG(102626409374399)\n",
       "\u001b[36mnonNeg5\u001b[0m: \u001b[32mInt\u001b[0m = \u001b[32m392261992\u001b[0m\n",
       "\u001b[36mmyRNG5\u001b[0m: \u001b[32mRNG\u001b[0m = SimpleRNG(25707281917278)"
      ]
     },
     "metadata": {},
     "output_type": "display_data"
    }
   ],
   "source": [
    "def double(rng : RNG ) : (Double, RNG) = {\n",
    "    val (n , newRng )  = nonNegativeInt( rng )\n",
    "    ( n / Double.MaxValue + 1 , newRng )\n",
    "}\n",
    "val myRNG = SimpleRNG( 11 )\n",
    "val ( nonNeg1 , myRNG1 ) = nonNegativeInt( myRNG )\n",
    "val ( nonNeg2 , myRNG2 ) = nonNegativeInt( myRNG1 )\n",
    "val ( nonNeg3 , myRNG3 ) = nonNegativeInt( myRNG2 )\n",
    "val ( nonNeg4 , myRNG4 ) = nonNegativeInt( myRNG3 )\n",
    "val ( nonNeg5 , myRNG5 ) = nonNegativeInt( myRNG4 )"
   ]
  },
  {
   "cell_type": "markdown",
   "metadata": {},
   "source": [
    "### 연습문제 6.3\n",
    "(Int, Double), ( Double, Int ), (Double, Double, Double )을 발생하는 함수 작성\n",
    "앞에서 작성한 함수들을 재사용"
   ]
  },
  {
   "cell_type": "code",
   "execution_count": 21,
   "metadata": {
    "collapsed": false
   },
   "outputs": [
    {
     "data": {
      "text/plain": [
       "defined \u001b[32mfunction \u001b[36mintDouble\u001b[0m\n",
       "defined \u001b[32mfunction \u001b[36mDoubleInt\u001b[0m\n",
       "defined \u001b[32mfunction \u001b[36mdouble3\u001b[0m"
      ]
     },
     "metadata": {},
     "output_type": "display_data"
    }
   ],
   "source": [
    "def intDouble(rng : RNG ) : ((Int, Double), RNG ) = {\n",
    "    val first = nonNegativeInt( rng )\n",
    "    val second = double( first._2 )\n",
    "    \n",
    "    ((first._1, second._1 ), second._2 )\n",
    "}\n",
    "\n",
    "def DoubleInt(rng : RNG ) : ((Double, Int), RNG ) = {\n",
    "    \n",
    "    val first = double( rng )\n",
    "    val second = nonNegativeInt( first._2 )\n",
    "\n",
    "    ((first._1, second._1 ), second._2 )\n",
    "}\n",
    "\n",
    "def double3(rng : RNG ) : ((Double, Double, Double), RNG )  = {\n",
    "    val first = double( rng )\n",
    "    val second = double( first._2 )\n",
    "    val third = double( second._2 )\n",
    "    ((first._1, second._1, third._1 ), third._2 )\n",
    "}"
   ]
  },
  {
   "cell_type": "markdown",
   "metadata": {},
   "source": [
    "- 연습문제 6.3을 사용예제 "
   ]
  },
  {
   "cell_type": "code",
   "execution_count": 22,
   "metadata": {
    "collapsed": false
   },
   "outputs": [
    {
     "data": {
      "text/plain": [
       "\u001b[36mmyRNG\u001b[0m: \u001b[32mSimpleRNG\u001b[0m = \u001b[33mSimpleRNG\u001b[0m(\u001b[32m12\u001b[0mL)\n",
       "\u001b[36mretVal\u001b[0m: ((\u001b[32mInt\u001b[0m, \u001b[32mDouble\u001b[0m), \u001b[32mRNG\u001b[0m) = \u001b[33m\u001b[0m(\u001b[33m\u001b[0m(\u001b[32m4616986\u001b[0m, \u001b[32m1.0\u001b[0m), SimpleRNG(217467224744870))\n",
       "\u001b[36mretVal2\u001b[0m: ((\u001b[32mDouble\u001b[0m, \u001b[32mInt\u001b[0m), \u001b[32mRNG\u001b[0m) = \u001b[33m\u001b[0m(\u001b[33m\u001b[0m(\u001b[32m1.0\u001b[0m, \u001b[32m1874720295\u001b[0m), SimpleRNG(158613307474384))\n",
       "\u001b[36mretVal3\u001b[0m: ((\u001b[32mDouble\u001b[0m, \u001b[32mDouble\u001b[0m, \u001b[32mDouble\u001b[0m), \u001b[32mRNG\u001b[0m) = \u001b[33m\u001b[0m(\u001b[33m\u001b[0m(\u001b[32m1.0\u001b[0m, \u001b[32m1.0\u001b[0m, \u001b[32m1.0\u001b[0m), SimpleRNG(198422177849677))"
      ]
     },
     "metadata": {},
     "output_type": "display_data"
    }
   ],
   "source": [
    "val myRNG = SimpleRNG( 12 )\n",
    "val retVal  = intDouble(myRNG)\n",
    "val retVal2 = DoubleInt( retVal._2 )\n",
    "val retVal3 = double3( retVal2._2 )"
   ]
  },
  {
   "cell_type": "markdown",
   "metadata": {},
   "source": [
    "### 연습문제 6.4\n",
    "정수 난수들의 목록을 생성하는 함수 작성"
   ]
  },
  {
   "cell_type": "code",
   "execution_count": 6,
   "metadata": {
    "collapsed": false
   },
   "outputs": [
    {
     "data": {
      "text/plain": [
       "defined \u001b[32mfunction \u001b[36mints\u001b[0m"
      ]
     },
     "metadata": {},
     "output_type": "display_data"
    }
   ],
   "source": [
    "def ints(count : Int )( rng : RNG  ) : (List[Int], RNG) = {\n",
    "     \n",
    "    @annotation.tailrec\n",
    "    def go(n : Int, list : List[Int], rand : RNG ) : (List[Int], RNG) = {\n",
    "        if( n <= 0 ) (list, rand )\n",
    "        else {\n",
    "            val ( x,  newRng ) = rand.nextInt\n",
    "            go( n -1 ,  x::list, newRng  )\n",
    "        }\n",
    "    }\n",
    "\n",
    "    go( count, List[Int](), rng )\n",
    "}"
   ]
  },
  {
   "cell_type": "code",
   "execution_count": 23,
   "metadata": {
    "collapsed": false
   },
   "outputs": [
    {
     "data": {
      "text/plain": [
       "defined \u001b[32mfunction \u001b[36mints2\u001b[0m"
      ]
     },
     "metadata": {},
     "output_type": "display_data"
    }
   ],
   "source": [
    "def ints2 (count: Int)(rng: RNG): (List[Int], RNG) =\n",
    "  if (count <= 0) \n",
    "    (List(), rng)\n",
    "  else {\n",
    "    val (x, r1)  = rng.nextInt\n",
    "    val (xs, r2) = ints(count - 1)(r1)\n",
    "    (x :: xs, r2)\n",
    "  }"
   ]
  },
  {
   "cell_type": "code",
   "execution_count": 24,
   "metadata": {
    "collapsed": false
   },
   "outputs": [
    {
     "data": {
      "text/plain": [
       "\u001b[36mmyRNG\u001b[0m: \u001b[32mSimpleRNG\u001b[0m = \u001b[33mSimpleRNG\u001b[0m(\u001b[32m13\u001b[0mL)\n",
       "\u001b[36mretVal\u001b[0m: (\u001b[32mList\u001b[0m[\u001b[32mInt\u001b[0m], \u001b[32mRNG\u001b[0m) = \u001b[33m\u001b[0m(\n",
       "  \u001b[33mList\u001b[0m(\n",
       "    \u001b[32m1609618173\u001b[0m,\n",
       "    \u001b[32m-1228308347\u001b[0m,\n",
       "    \u001b[32m1902795139\u001b[0m,\n",
       "    \u001b[32m-332185025\u001b[0m,\n",
       "    \u001b[32m-1555087323\u001b[0m,\n",
       "    \u001b[32m-211588261\u001b[0m,\n",
       "    \u001b[32m-1020428027\u001b[0m,\n",
       "    \u001b[32m-697700902\u001b[0m,\n",
       "    \u001b[32m-2132165362\u001b[0m,\n",
       "    \u001b[32m5001735\u001b[0m\n",
       "  ),\n",
       "  SimpleRNG(105487936612151)\n",
       ")"
      ]
     },
     "metadata": {},
     "output_type": "display_data"
    }
   ],
   "source": [
    "val myRNG = SimpleRNG( 13 )\n",
    "val retVal  = ints(10)(myRNG)"
   ]
  },
  {
   "cell_type": "markdown",
   "metadata": {
    "collapsed": true
   },
   "source": [
    "### 문제점 \n",
    "\n",
    "(Int, RNG) 와 같이 결과값을 2개를 받아서 처리해야 하고, RNG을 기억해서 다음 인자로 넘져주어야 하는 번거로움이 있음.\n",
    "\n",
    "=> 이런식으로 프로그램을 만들어 놓으면 욕먹음.  \n",
    "\n",
    "=> 욕 안 먹는 순수함수 작성을 해보자. ~~~"
   ]
  },
  {
   "cell_type": "markdown",
   "metadata": {},
   "source": [
    "## 6.4 상태동작을 위한 더 나은 API"
   ]
  },
  {
   "cell_type": "markdown",
   "metadata": {},
   "source": [
    "- RNG 상태동작  자료형식에 대한 별칭( alia )를 정의\n",
    "- 의미 : 어떤 RNG에 의존하며,  이를 이용해서 A를 생성하고, 또한 새로운 상태로 전이된 RNG을 갖음"
   ]
  },
  {
   "cell_type": "code",
   "execution_count": 25,
   "metadata": {
    "collapsed": false
   },
   "outputs": [
    {
     "data": {
      "text/plain": [
       "defined \u001b[32mtype \u001b[36mRand\u001b[0m"
      ]
     },
     "metadata": {},
     "output_type": "display_data"
    }
   ],
   "source": [
    "type Rand[+A] = RNG => ( A, RNG )"
   ]
  },
  {
   "cell_type": "markdown",
   "metadata": {},
   "source": [
    "- RNG의 nextInt와 같은 메서드를 정의 "
   ]
  },
  {
   "cell_type": "code",
   "execution_count": 26,
   "metadata": {
    "collapsed": false
   },
   "outputs": [
    {
     "data": {
      "text/plain": [
       "\u001b[36mint\u001b[0m: \u001b[32mRNG\u001b[0m => (\u001b[32mInt\u001b[0m, \u001b[32mRNG\u001b[0m) = <function1>"
      ]
     },
     "metadata": {},
     "output_type": "display_data"
    }
   ],
   "source": [
    "val int : Rand[Int] = _.nextInt"
   ]
  },
  {
   "cell_type": "markdown",
   "metadata": {},
   "source": [
    "위의 정의를 활용."
   ]
  },
  {
   "cell_type": "code",
   "execution_count": 38,
   "metadata": {
    "collapsed": false
   },
   "outputs": [
    {
     "data": {
      "text/plain": [
       "\u001b[36mmyRNG\u001b[0m: \u001b[32mSimpleRNG\u001b[0m = \u001b[33mSimpleRNG\u001b[0m(\u001b[32m11\u001b[0mL)\n",
       "\u001b[36mres32_1\u001b[0m: (\u001b[32mInt\u001b[0m, \u001b[32mRNG\u001b[0m) = \u001b[33m\u001b[0m(\u001b[32m4232237\u001b[0m, SimpleRNG(277363943098))"
      ]
     },
     "metadata": {},
     "output_type": "display_data"
    }
   ],
   "source": [
    "val myRNG = SimpleRNG( 11 )\n",
    "int( myRNG )"
   ]
  },
  {
   "cell_type": "markdown",
   "metadata": {},
   "source": [
    "- 가장 간단한 형태의 RNG 상태전이 unit 을 정의"
   ]
  },
  {
   "cell_type": "code",
   "execution_count": 27,
   "metadata": {
    "collapsed": false
   },
   "outputs": [
    {
     "data": {
      "text/plain": [
       "defined \u001b[32mfunction \u001b[36munit\u001b[0m"
      ]
     },
     "metadata": {},
     "output_type": "display_data"
    }
   ],
   "source": [
    "def unit[A] ( a : A ) : Rand[A] = {\n",
    "    rng => ( a, rng )\n",
    "}"
   ]
  },
  {
   "cell_type": "markdown",
   "metadata": {},
   "source": [
    "위의 정의를 활용 => 별의미는 없는것 같음...!!!"
   ]
  },
  {
   "cell_type": "code",
   "execution_count": 35,
   "metadata": {
    "collapsed": false
   },
   "outputs": [
    {
     "data": {
      "text/plain": [
       "\u001b[36mmyUnit\u001b[0m: \u001b[32mRNG\u001b[0m => (\u001b[32mInt\u001b[0m, \u001b[32mRNG\u001b[0m) = <function1>\n",
       "\u001b[36mmyRNG\u001b[0m: \u001b[32mSimpleRNG\u001b[0m = \u001b[33mSimpleRNG\u001b[0m(\u001b[32m11\u001b[0mL)\n",
       "\u001b[36mres30_2\u001b[0m: (\u001b[32mInt\u001b[0m, \u001b[32mRNG\u001b[0m) = \u001b[33m\u001b[0m(\u001b[32m1\u001b[0m, SimpleRNG(11))"
      ]
     },
     "metadata": {},
     "output_type": "display_data"
    }
   ],
   "source": [
    "val myUnit = unit( 1 )\n",
    "\n",
    "val myRNG = SimpleRNG( 11 )\n",
    "myUnit( myRNG )"
   ]
  },
  {
   "cell_type": "markdown",
   "metadata": {},
   "source": [
    "- 한 상태동작의 출력을 변환하되  상태자체는 수정하는 않은 map 정의"
   ]
  },
  {
   "cell_type": "code",
   "execution_count": 9,
   "metadata": {
    "collapsed": false
   },
   "outputs": [
    {
     "data": {
      "text/plain": [
       "defined \u001b[32mfunction \u001b[36mmap\u001b[0m"
      ]
     },
     "metadata": {},
     "output_type": "display_data"
    }
   ],
   "source": [
    "def map[A, B] (s : Rand[A])( f: A => B ) : Rand[B] = \n",
    "    rng => {\n",
    "        val ( a, rng2)  = s ( rng )\n",
    "        ( f(a) , rng2 )\n",
    "    }"
   ]
  },
  {
   "cell_type": "markdown",
   "metadata": {},
   "source": [
    "map의 활용하여  0보다 크거나 같고 2로 나누어지는 Int를 발생하는 함수 작성"
   ]
  },
  {
   "cell_type": "code",
   "execution_count": 33,
   "metadata": {
    "collapsed": false
   },
   "outputs": [
    {
     "data": {
      "text/plain": [
       "defined \u001b[32mfunction \u001b[36mnonNegativeEven\u001b[0m\n",
       "\u001b[36mmyRNG\u001b[0m: \u001b[32mSimpleRNG\u001b[0m = \u001b[33mSimpleRNG\u001b[0m(\u001b[32m11\u001b[0mL)\n",
       "\u001b[36ma\u001b[0m: (\u001b[32mInt\u001b[0m, \u001b[32mRNG\u001b[0m) = \u001b[33m\u001b[0m(\u001b[32m4232236\u001b[0m, SimpleRNG(277363943098))\n",
       "\u001b[36mb\u001b[0m: (\u001b[32mInt\u001b[0m, \u001b[32mRNG\u001b[0m) = \u001b[33m\u001b[0m(\u001b[32m178803790\u001b[0m, SimpleRNG(11718085204285))"
      ]
     },
     "metadata": {},
     "output_type": "display_data"
    }
   ],
   "source": [
    "def nonNegativeEven : Rand[ Int ] = {\n",
    "  map( nonNegativeInt ) ( i => i - i % 2  )\n",
    "}\n",
    "\n",
    "val myRNG = SimpleRNG( 11 )\n",
    "val a = nonNegativeEven( myRNG ) \n",
    "val b = nonNegativeEven( a._2 ) "
   ]
  },
  {
   "cell_type": "markdown",
   "metadata": {
    "collapsed": true
   },
   "source": [
    "### 연습문제 6.5   \n",
    "6.2의 double을 map을 이용해서 좀 더 우아한 방식을 구현"
   ]
  },
  {
   "cell_type": "code",
   "execution_count": 39,
   "metadata": {
    "collapsed": false
   },
   "outputs": [
    {
     "data": {
      "text/plain": [
       "defined \u001b[32mfunction \u001b[36mdoubleElegant\u001b[0m\n",
       "\u001b[36mmyRNG\u001b[0m: \u001b[32mSimpleRNG\u001b[0m = \u001b[33mSimpleRNG\u001b[0m(\u001b[32m12\u001b[0mL)\n",
       "\u001b[36ma\u001b[0m: (\u001b[32mDouble\u001b[0m, \u001b[32mRNG\u001b[0m) = \u001b[33m\u001b[0m(\u001b[32m0.00214995164424181\u001b[0m, SimpleRNG(302578847015))\n",
       "\u001b[36mb\u001b[0m: (\u001b[32mDouble\u001b[0m, \u001b[32mRNG\u001b[0m) = \u001b[33m\u001b[0m(\u001b[32m0.4548024320974946\u001b[0m, SimpleRNG(217467224744870))"
      ]
     },
     "metadata": {},
     "output_type": "display_data"
    }
   ],
   "source": [
    "def doubleElegant : Rand[ Double ] = {\n",
    "  map( nonNegativeInt ) ( i => i / (Int.MaxValue.toDouble + 1)  ) \n",
    "}\n",
    "\n",
    "val myRNG = SimpleRNG( 12 )\n",
    "val a = doubleElegant( myRNG ) \n",
    "val b = doubleElegant( a._2 ) "
   ]
  },
  {
   "cell_type": "markdown",
   "metadata": {
    "collapsed": true
   },
   "source": [
    "### 연습문제 6.6\n",
    "- 두 상태 동작 ra와 rb와 이들의 결과를 조합하는 함수 f를 받고 두 동작을 조합하는 새 동작하는 함수인\n",
    "- def map2[ A, B, C ] ( ra : Rand[A], rb: Rand[B] ) ( f : (A, B) => C ) : Rand[ C ]  정의를 갖는 map2를 구현"
   ]
  },
  {
   "cell_type": "code",
   "execution_count": 41,
   "metadata": {
    "collapsed": false
   },
   "outputs": [
    {
     "data": {
      "text/plain": [
       "defined \u001b[32mfunction \u001b[36mmap2\u001b[0m"
      ]
     },
     "metadata": {},
     "output_type": "display_data"
    }
   ],
   "source": [
    "def map2[ A, B, C ] ( ra : Rand[A], rb: Rand[B] ) ( f : (A, B) => C ) : Rand[ C ] = {\n",
    "    rng => {\n",
    "        val ( a,  newRa ) = ra ( rng )\n",
    "        val ( b,  newRb ) = rb ( newRa )\n",
    "        ( f(a, b),  newRb )\n",
    "    }\n",
    "}"
   ]
  },
  {
   "cell_type": "markdown",
   "metadata": {},
   "source": [
    "<b>map2을 이용하여 임의의 RNG상태 동작을 조합할 수 있는 함수 작성 </b>"
   ]
  },
  {
   "cell_type": "code",
   "execution_count": 46,
   "metadata": {
    "collapsed": false
   },
   "outputs": [
    {
     "data": {
      "text/plain": [
       "defined \u001b[32mfunction \u001b[36mboth\u001b[0m"
      ]
     },
     "metadata": {},
     "output_type": "display_data"
    }
   ],
   "source": [
    "  def both[A,B](ra: Rand[A], rb: Rand[B]): Rand[(A,B)] =\n",
    "    map2(ra, rb)((_, _))"
   ]
  },
  {
   "cell_type": "markdown",
   "metadata": {},
   "source": [
    "<b>both을 이용하여 intDouble과 doubleInt을 구현 </b>"
   ]
  },
  {
   "cell_type": "code",
   "execution_count": 75,
   "metadata": {
    "collapsed": false
   },
   "outputs": [
    {
     "ename": "",
     "evalue": "",
     "output_type": "error",
     "traceback": [
      "Compilation Failed",
      "\u001b[31mMain.scala:142: type mismatch;",
      " found   : (Double, cmd48.INSTANCE.$ref$cmd45.RNG)",
      " required: (?, cmd22.INSTANCE.$ref$cmd0.RNG)\r",
      "both( int, double ) \r",
      "           ^\u001b[0m"
     ]
    }
   ],
   "source": [
    "val randIntDouble: Rand[ (Int, Double) ] = \n",
    "    both( int, double )"
   ]
  },
  {
   "cell_type": "code",
   "execution_count": 93,
   "metadata": {
    "collapsed": false
   },
   "outputs": [
    {
     "ename": "",
     "evalue": "",
     "output_type": "error",
     "traceback": [
      "Compilation Failed",
      "\u001b[31mMain.scala:135: type mismatch;",
      " found   : cmd30.INSTANCE.$ref$cmd29.Rand[Int]",
      "    (which expands to)  cmd29.INSTANCE.$ref$cmd5.RNG => (Int, cmd29.INSTANCE.$ref$cmd5.RNG)",
      " required: cmd58.INSTANCE.$ref$cmd46.Rand[?]",
      "    (which expands to)  cmd46.INSTANCE.$ref$cmd42.RNG => (?, cmd46.INSTANCE.$ref$cmd42.RNG)\r",
      "both( double, int ) \r",
      "              ^\u001b[0m"
     ]
    }
   ],
   "source": [
    "val randDoubleInt: Rand[ (Double, Int) ] = \n",
    "    both( double, int )"
   ]
  },
  {
   "cell_type": "code",
   "execution_count": 78,
   "metadata": {
    "collapsed": false
   },
   "outputs": [
    {
     "ename": "",
     "evalue": "",
     "output_type": "error",
     "traceback": [
      "Compilation Failed",
      "\u001b[31mMain.scala:146: type mismatch;",
      " found   : cmd49.this.$ref$cmd46.SimpleRNG",
      " required: cmd37.INSTANCE.$ref$cmd22.Rand[?]",
      "    (which expands to)  cmd22.INSTANCE.$ref$cmd0.RNG => (?, cmd22.INSTANCE.$ref$cmd0.RNG)\r",
      "both(rngA, rngB) \r",
      "     ^\u001b[0m",
      "\u001b[31mMain.scala:146: type mismatch;",
      " found   : cmd49.this.$ref$cmd46.SimpleRNG",
      " required: cmd37.INSTANCE.$ref$cmd22.Rand[?]",
      "    (which expands to)  cmd22.INSTANCE.$ref$cmd0.RNG => (?, cmd22.INSTANCE.$ref$cmd0.RNG)\r",
      "both(rngA, rngB) \r",
      "           ^\u001b[0m"
     ]
    }
   ],
   "source": [
    "val rngA = SimpleRNG( 12 )\n",
    "val rngB = SimpleRNG( 13 )\n",
    "\n",
    "val randIntDouble: Rand[(Int, Int)] =\n",
    "    both(rngA, rngB)"
   ]
  },
  {
   "cell_type": "markdown",
   "metadata": {},
   "source": [
    "- 위에서 아래와 같이 int는 정의하였지만,  double은 정의하지 않아서 발생하는 문제로 보여짐..\n",
    "- 추가해봤는데.. 그래도 에러가 남.. ㅡㅜ\n",
    "- val int : Rand[Int] = _.nextInt"
   ]
  },
  {
   "cell_type": "markdown",
   "metadata": {
    "collapsed": true
   },
   "source": [
    "### 연습문제 6.7\n",
    "상태 전이들의 List를 하나의 상태전이로 조합하는 함수 sequcence를 구현하라.\n",
    "구현한 sequcence를 이용하여 ints 함수를 재작성하라.\n",
    "\n",
    "Hint : You need to recursively iterate over the list. \n",
    "Remember that you can use `foldLeft` or `foldRight` instead of writing a recursive definition. You can also reuse the `map2` function you just wrote. As a test case for your implementation, we should expect `sequence(List(unit(1), unit(2), unit(3)))(r)._1` to return `List(1, 2, 3)`\n"
   ]
  },
  {
   "cell_type": "code",
   "execution_count": 106,
   "metadata": {
    "collapsed": false
   },
   "outputs": [
    {
     "data": {
      "text/plain": [
       "defined \u001b[32mfunction \u001b[36msequence\u001b[0m"
      ]
     },
     "metadata": {},
     "output_type": "display_data"
    }
   ],
   "source": [
    "def sequence[ A ] ( fs : List[ Rand[A] ] ) : Rand[ List[A] ] = {\n",
    "    \n",
    "    val list = unit(List[A]())\n",
    "    fs.foldRight( list )( (elm, listObj ) =>  map2( elm, listObj ) ( _ :: _ )  )\n",
    "    \n",
    "}"
   ]
  },
  {
   "cell_type": "code",
   "execution_count": 55,
   "metadata": {
    "collapsed": false
   },
   "outputs": [
    {
     "data": {
      "text/plain": [
       "defined \u001b[32mfunction \u001b[36msequence\u001b[0m"
      ]
     },
     "metadata": {},
     "output_type": "display_data"
    }
   ],
   "source": [
    "def sequence[A](fs: List[Rand[A]]): Rand[List[A]] =\n",
    "  fs.foldRight(unit(List[A]()))((f, acc) => map2(f, acc)(_ :: _))"
   ]
  },
  {
   "cell_type": "code",
   "execution_count": null,
   "metadata": {
    "collapsed": false
   },
   "outputs": [],
   "source": [
    "/* 잘못 구현함. */\n",
    "def _ints(count: Int): Rand[List[Int]] = {\n",
    "    val fs = List.fill(count)( unit( Int ) )\n",
    "    sequence( fs )\n",
    "}"
   ]
  },
  {
   "cell_type": "code",
   "execution_count": 57,
   "metadata": {
    "collapsed": false
   },
   "outputs": [
    {
     "data": {
      "text/plain": [
       "defined \u001b[32mfunction \u001b[36m_ints\u001b[0m"
      ]
     },
     "metadata": {},
     "output_type": "display_data"
    }
   ],
   "source": [
    "  def _ints(count: Int): Rand[List[Int]] =\n",
    "    sequence(List.fill(count)(int))\n"
   ]
  },
  {
   "cell_type": "code",
   "execution_count": 60,
   "metadata": {
    "collapsed": false
   },
   "outputs": [
    {
     "data": {
      "text/plain": [
       "\u001b[36mmyRNG\u001b[0m: \u001b[32mSimpleRNG\u001b[0m = \u001b[33mSimpleRNG\u001b[0m(\u001b[32m13\u001b[0mL)\n",
       "\u001b[36mretVal\u001b[0m: (\u001b[32mList\u001b[0m[\u001b[32mInt\u001b[0m], \u001b[32mRNG\u001b[0m) = \u001b[33m\u001b[0m(\n",
       "  \u001b[33mList\u001b[0m(\n",
       "    \u001b[32m5001735\u001b[0m,\n",
       "    \u001b[32m-2132165362\u001b[0m,\n",
       "    \u001b[32m-697700902\u001b[0m,\n",
       "    \u001b[32m-1020428027\u001b[0m,\n",
       "    \u001b[32m-211588261\u001b[0m,\n",
       "    \u001b[32m-1555087323\u001b[0m,\n",
       "    \u001b[32m-332185025\u001b[0m,\n",
       "    \u001b[32m1902795139\u001b[0m,\n",
       "    \u001b[32m-1228308347\u001b[0m,\n",
       "    \u001b[32m1609618173\u001b[0m\n",
       "  ),\n",
       "  SimpleRNG(105487936612151)\n",
       ")"
      ]
     },
     "metadata": {},
     "output_type": "display_data"
    }
   ],
   "source": [
    "val myRNG = SimpleRNG( 13 )\n",
    "val retVal  = _ints(10)(myRNG)"
   ]
  },
  {
   "cell_type": "markdown",
   "metadata": {},
   "source": [
    "- map 과 map2을 이용하면 좀더 간결하고 우아한 구현이 가능하지만, \n",
    "map 과 map2을 이용하여 구현이 어려운 경우도 있음.\n",
    "\n",
    "예) 0 이상,  n 미만의 정수 난수를 n으로 나눈 나머지를 돌려주는 함수"
   ]
  },
  {
   "cell_type": "code",
   "execution_count": 146,
   "metadata": {
    "collapsed": false
   },
   "outputs": [
    {
     "data": {
      "text/plain": [
       "defined \u001b[32mfunction \u001b[36mnonNegativeLessThan\u001b[0m\n",
       "\u001b[36mmyRNG\u001b[0m: \u001b[32mSimpleRNG\u001b[0m = \u001b[33mSimpleRNG\u001b[0m(\u001b[32m14\u001b[0mL)\n",
       "\u001b[36mretVal\u001b[0m: (\u001b[32mInt\u001b[0m, \u001b[32mRNG\u001b[0m) = \u001b[33m\u001b[0m(\u001b[32m34\u001b[0m, SimpleRNG(353008654849))"
      ]
     },
     "metadata": {},
     "output_type": "display_data"
    }
   ],
   "source": [
    "def nonNegativeLessThan(n : Int ) : Rand[Int] = \n",
    "    map( nonNegativeInt ) { _ % n } \n",
    "\n",
    "val myRNG = SimpleRNG( 14 )\n",
    "val retVal  = nonNegativeLessThan(50)(myRNG)"
   ]
  },
  {
   "cell_type": "markdown",
   "metadata": {},
   "source": [
    "- Int.MaxValue 가 n으로 나누어떨어지지 않을수 있으므로 전체적으로 난수가 치우치게 됨\n",
    "- 이해가 안 됨...  그냥 따라해보자.. "
   ]
  },
  {
   "cell_type": "code",
   "execution_count": null,
   "metadata": {
    "collapsed": true
   },
   "outputs": [],
   "source": [
    "def nonNegativeLessThan(n : Int ) : Rand[Int] = {\n",
    "    map( nonNegativeInt ) { i =>\n",
    "        val mod = i % n\n",
    "        if( i + (n-1) - mod >= 0 ) mod  \n",
    "        else nonNegativeLessThan(n) (  ???  )  // nrg 객체를 넘겨줄 방법이 없음.\n",
    "        \n",
    "    } \n",
    "}"
   ]
  },
  {
   "cell_type": "code",
   "execution_count": 85,
   "metadata": {
    "collapsed": false
   },
   "outputs": [
    {
     "ename": "",
     "evalue": "",
     "output_type": "error",
     "traceback": [
      "Compilation Failed",
      "\u001b[31mMain.scala:142: type mismatch;",
      " found   : cmd22.INSTANCE.$ref$cmd0.RNG",
      " required: cmd47.INSTANCE.$ref$cmd45.RNG\r",
      "    val (i, rng2) = nonNegativeInt( rng )\r",
      "                                    ^\u001b[0m",
      "\u001b[31mMain.scala:143: value % is not a member of Any\r",
      "    val mod = i % n\r",
      "                ^\u001b[0m",
      "\u001b[31mMain.scala:144: type mismatch;",
      " found   : Int",
      " required: String\r",
      "    if( i + (n-1) - mod >= 0 ) ( mod  , rng2 )\r",
      "              ^\u001b[0m",
      "\u001b[31mMain.scala:144: type mismatch;",
      " found   : Any",
      " required: cmd22.INSTANCE.$ref$cmd0.RNG\r",
      "    if( i + (n-1) - mod >= 0 ) ( mod  , rng2 )\r",
      "                                        ^\u001b[0m",
      "\u001b[31mMain.scala:145: type mismatch;",
      " found   : Any",
      " required: cmd22.INSTANCE.$ref$cmd0.RNG\r",
      "    else nonNegativeLessThan(n) (  rng2  )  \r",
      "                                   ^\u001b[0m"
     ]
    }
   ],
   "source": [
    "def nonNegativeLessThan(n : Int ) : Rand[Int] = { rng =>\n",
    "    val (i, rng2) = nonNegativeInt( rng )\n",
    "    val mod = i % n\n",
    "    if( i + (n-1) - mod >= 0 ) ( mod  , rng2 )\n",
    "    else nonNegativeLessThan(n) (  rng2  )  \n",
    "}"
   ]
  },
  {
   "cell_type": "code",
   "execution_count": 151,
   "metadata": {
    "collapsed": false
   },
   "outputs": [
    {
     "data": {
      "text/plain": [
       "\u001b[36mmyRNG\u001b[0m: \u001b[32mSimpleRNG\u001b[0m = \u001b[33mSimpleRNG\u001b[0m(\u001b[32m111\u001b[0mL)\n",
       "\u001b[36mretVal\u001b[0m: (\u001b[32mInt\u001b[0m, \u001b[32mRNG\u001b[0m) = \u001b[33m\u001b[0m(\u001b[32m27\u001b[0m, SimpleRNG(2798854334798))\n",
       "\u001b[36mretVal2\u001b[0m: (\u001b[32mInt\u001b[0m, \u001b[32mRNG\u001b[0m) = \u001b[33m\u001b[0m(\u001b[32m36\u001b[0m, SimpleRNG(38958739384897))"
      ]
     },
     "metadata": {},
     "output_type": "display_data"
    }
   ],
   "source": [
    "val myRNG = SimpleRNG( 111 )\n",
    "val retVal  = nonNegativeLessThan(50)(myRNG)\n",
    "val retVal2  = nonNegativeLessThan(50)(retVal._2)"
   ]
  },
  {
   "cell_type": "markdown",
   "metadata": {},
   "source": [
    "### 연습문제 6.8\n",
    "flatMap을 구현하고 이것을 이용해서 nonNegativeLessThan을 구현하라."
   ]
  },
  {
   "cell_type": "code",
   "execution_count": 87,
   "metadata": {
    "collapsed": false
   },
   "outputs": [
    {
     "data": {
      "text/plain": [
       "defined \u001b[32mfunction \u001b[36mflatMap\u001b[0m"
      ]
     },
     "metadata": {},
     "output_type": "display_data"
    }
   ],
   "source": [
    "// def map[A, B] (s : Rand[A])( f: A => B ) : Rand[B] = {}\n",
    "def flatMap[A, B] ( f: Rand[A] ) (g:A => Rand[B] ) : Rand[B] = { \n",
    "    rng => {\n",
    "       val (a, rng2) = f( rng )\n",
    "       g( a )(rng2)\n",
    "    }\n",
    "}"
   ]
  },
  {
   "cell_type": "code",
   "execution_count": 88,
   "metadata": {
    "collapsed": false
   },
   "outputs": [
    {
     "ename": "",
     "evalue": "",
     "output_type": "error",
     "traceback": [
      "Compilation Failed",
      "\u001b[31mMain.scala:144: type mismatch;",
      " found   : (Int, cmd47.INSTANCE.$ref$cmd45.RNG)",
      " required: (?, cmd22.INSTANCE.$ref$cmd0.RNG)\r",
      "    flatMap( nonNegativeInt ) { i => \r",
      "             ^\u001b[0m"
     ]
    }
   ],
   "source": [
    "def nonNegativeLessThan(n : Int ) : Rand[Int] = {\n",
    "    flatMap( nonNegativeInt ) { i => \n",
    "       val mod = i % n\n",
    "       if( i + (n-1) - mod >= 0 ) unit(mod)\n",
    "       else nonNegativeLessThan(n) \n",
    "    }\n",
    "}"
   ]
  },
  {
   "cell_type": "code",
   "execution_count": 161,
   "metadata": {
    "collapsed": false
   },
   "outputs": [
    {
     "data": {
      "text/plain": [
       "\u001b[36mmyRNG\u001b[0m: \u001b[32mSimpleRNG\u001b[0m = \u001b[33mSimpleRNG\u001b[0m(\u001b[32m111\u001b[0mL)\n",
       "\u001b[36mretVal\u001b[0m: (\u001b[32mInt\u001b[0m, \u001b[32mRNG\u001b[0m) = \u001b[33m\u001b[0m(\u001b[32m27\u001b[0m, SimpleRNG(2798854334798))\n",
       "\u001b[36mretVal2\u001b[0m: (\u001b[32mInt\u001b[0m, \u001b[32mRNG\u001b[0m) = \u001b[33m\u001b[0m(\u001b[32m36\u001b[0m, SimpleRNG(38958739384897))"
      ]
     },
     "metadata": {},
     "output_type": "display_data"
    }
   ],
   "source": [
    "val myRNG = SimpleRNG( 111 )\n",
    "val retVal  = nonNegativeLessThan(50)(myRNG)\n",
    "val retVal2  = nonNegativeLessThan(50)(retVal._2)"
   ]
  },
  {
   "cell_type": "markdown",
   "metadata": {},
   "source": [
    "### 연습문제 6.9\n",
    "map과 map2를 flatMap을 이용해서 다시 구현하라."
   ]
  },
  {
   "cell_type": "code",
   "execution_count": 89,
   "metadata": {
    "collapsed": false
   },
   "outputs": [
    {
     "data": {
      "text/plain": [
       "defined \u001b[32mfunction \u001b[36m_map\u001b[0m"
      ]
     },
     "metadata": {},
     "output_type": "display_data"
    }
   ],
   "source": [
    "/*\n",
    "def map[A, B] (s : Rand[A])( f: A => B ) : Rand[B] = \n",
    "    rng => {\n",
    "        val ( a, rng2)  = s ( rng )\n",
    "        ( f(a) , rng2 )\n",
    "    }\n",
    "*/\n",
    "def _map[A, B] (s : Rand[A])( f: A => B ) : Rand[B] =  {\n",
    "    flatMap( s ) { a => unit( f(a) ) }\n",
    "}\n"
   ]
  },
  {
   "cell_type": "code",
   "execution_count": null,
   "metadata": {
    "collapsed": false
   },
   "outputs": [],
   "source": [
    "/*\n",
    "def map2[ A, B, C ] ( ra : Rand[A], rb: Rand[B] ) ( f : (A, B) => C ) : Rand[ C ] = {\n",
    "    rng => {\n",
    "        val ( a,  newRa ) = ra ( rng )\n",
    "        val ( b,  newRb ) = rb ( newRa )\n",
    "        ( f(a, b),  newRb )\n",
    "    }\n",
    "}\n",
    "*/\n",
    "def _map2[ A, B, C ] ( ra : Rand[A], rb: Rand[B] ) ( f : (A, B) => C ) : Rand[ C ] = {\n",
    "    flatMap( ra ) { a =>  \n",
    "        flatMap( rb ) {  b => \n",
    "            unit( f(a, b ) )\n",
    "        }\n",
    "    }\n",
    "}\n",
    "\n",
    "\n",
    "// 정답\n",
    "def _map2[A,B,C](ra: Rand[A], rb: Rand[B])(f: (A, B) => C): Rand[C] =\n",
    "  flatMap(ra)(a => map(rb)(b => f(a, b)))"
   ]
  },
  {
   "cell_type": "markdown",
   "metadata": {},
   "source": [
    "하나 모자라는 오류를 있는 주사위 굴림 함수 "
   ]
  },
  {
   "cell_type": "code",
   "execution_count": 169,
   "metadata": {
    "collapsed": false
   },
   "outputs": [
    {
     "data": {
      "text/plain": [
       "defined \u001b[32mfunction \u001b[36mrollDie\u001b[0m\n",
       "\u001b[36mzero\u001b[0m: \u001b[32mInt\u001b[0m = \u001b[32m0\u001b[0m"
      ]
     },
     "metadata": {},
     "output_type": "display_data"
    }
   ],
   "source": [
    "def rollDie : Rand[Int] = nonNegativeLessThan(6)\n",
    "val zero = rollDie( SimpleRNG(5))._1"
   ]
  },
  {
   "cell_type": "markdown",
   "metadata": {},
   "source": [
    "버그가 간단히 교정된 주사위 굴림 함수 "
   ]
  },
  {
   "cell_type": "code",
   "execution_count": 90,
   "metadata": {
    "collapsed": false
   },
   "outputs": [
    {
     "ename": "",
     "evalue": "",
     "output_type": "error",
     "traceback": [
      "Compilation Failed",
      "\u001b[31mMain.scala:144: type mismatch;",
      " found   : cmd51.this.$ref$cmd46.SimpleRNG",
      " required: cmd22.INSTANCE.$ref$cmd0.RNG\r",
      "rollDie( SimpleRNG(5))._1 \r",
      "                  ^\u001b[0m",
      "\u001b[31mMain.scala:143: not found: value nonNegativeLessThan\r",
      "                def rollDie : Rand[Int] = _map( nonNegativeLessThan(6) ) ( _ + 1) ; val zero = { () =>\r",
      "                                                ^\u001b[0m"
     ]
    }
   ],
   "source": [
    "def rollDie : Rand[Int] = _map( nonNegativeLessThan(6) ) ( _ + 1)\n",
    "val zero = rollDie( SimpleRNG(5))._1"
   ]
  },
  {
   "cell_type": "markdown",
   "metadata": {
    "collapsed": true
   },
   "source": [
    "## 6.5 일반적 상태 동작 자료 형식"
   ]
  },
  {
   "cell_type": "markdown",
   "metadata": {},
   "source": [
    "- map을 RNG 상태 동작에 상관하지 않고, 일반적인 서명을 부여함.\n",
    "\n",
    "- def map[A, B] (s : Rand[A])( f: A => B ) : Rand[B] "
   ]
  },
  {
   "cell_type": "code",
   "execution_count": 91,
   "metadata": {
    "collapsed": false
   },
   "outputs": [
    {
     "ename": "",
     "evalue": "",
     "output_type": "error",
     "traceback": [
      "\u001b[31m<console>:1: '=' expected but eof found.\r",
      "def map[ S, A, B ] ( a : S => ( A, S ) ) (f : A => B ) : S  => ( B, S )\r",
      "                                                                       ^\u001b[0m"
     ]
    }
   ],
   "source": [
    "def map[ S, A, B ] ( a : S => ( A, S ) ) (f : A => B ) : S  => ( B, S )"
   ]
  },
  {
   "cell_type": "markdown",
   "metadata": {},
   "source": [
    "임의의 상태를 처리하는 Rand보다 더 일반적인 형식\n",
    "<font color=\"red\">State</font>는 <b>어떤 상태를 유지하는 계산</b>, 즉 <b>상태 동작</b> 또는 <b>상태 전이</b>를 대표하고, 명령문을 대표한다.\n",
    "\n",
    "// type Rand[+A] = RNG => ( A, RNG )"
   ]
  },
  {
   "cell_type": "code",
   "execution_count": 91,
   "metadata": {
    "collapsed": false
   },
   "outputs": [
    {
     "data": {
      "text/plain": [
       "defined \u001b[32mtype \u001b[36mState\u001b[0m"
      ]
     },
     "metadata": {},
     "output_type": "display_data"
    }
   ],
   "source": [
    "type State[S, +A ] = S => (A ,S)"
   ]
  },
  {
   "cell_type": "code",
   "execution_count": 92,
   "metadata": {
    "collapsed": false
   },
   "outputs": [
    {
     "data": {
      "text/plain": [
       "defined \u001b[32mclass \u001b[36mState\u001b[0m"
      ]
     },
     "metadata": {},
     "output_type": "display_data"
    }
   ],
   "source": [
    "case class State[S, +A] ( run : S => (A, S))"
   ]
  },
  {
   "cell_type": "markdown",
   "metadata": {},
   "source": [
    "Rand을 State를 이용해서 형식별칭 정의"
   ]
  },
  {
   "cell_type": "code",
   "execution_count": 93,
   "metadata": {
    "collapsed": false
   },
   "outputs": [
    {
     "data": {
      "text/plain": [
       "defined \u001b[32mtype \u001b[36mRand\u001b[0m"
      ]
     },
     "metadata": {},
     "output_type": "display_data"
    }
   ],
   "source": [
    "type Rand[A] = State[RNG, A]"
   ]
  },
  {
   "cell_type": "markdown",
   "metadata": {},
   "source": [
    "### 연습문제 6.10\n",
    "- 함수 unit, map, map2, flatMap, sequence를 일반화하라.\n",
    "- 가능하면 이들을 State 경우 클래스의 메서드로 추가하되, 불가능한 경우에는 State 동반 객체에 넣을것"
   ]
  },
  {
   "cell_type": "code",
   "execution_count": 189,
   "metadata": {
    "collapsed": false
   },
   "outputs": [
    {
     "data": {
      "text/plain": [
       "defined \u001b[32mfunction \u001b[36munit\u001b[0m"
      ]
     },
     "metadata": {},
     "output_type": "display_data"
    }
   ],
   "source": [
    "/*\n",
    "def unit[A] ( a : A ) : Rand[A] = \n",
    "    rng => ( a, rng )\n",
    "*/\n",
    "def unit[S, A]( a : A ) : State[S, A] = {\n",
    "    State ( s => ( a, s ) )\n",
    "}"
   ]
  },
  {
   "cell_type": "markdown",
   "metadata": {},
   "source": [
    "## 6.6 순수함수적 명령식 프로그래밍"
   ]
  },
  {
   "cell_type": "code",
   "execution_count": 94,
   "metadata": {
    "collapsed": false
   },
   "outputs": [
    {
     "ename": "",
     "evalue": "",
     "output_type": "error",
     "traceback": [
      "Compilation Failed",
      "\u001b[31mMain.scala:146: value flatMap is not a member of cmd23.INSTANCE.$ref$cmd22.Rand[Int]\r",
      "int.flatMap( x => \r",
      "    ^\u001b[0m",
      "\u001b[31mMain.scala:147: value flatMap is not a member of cmd23.INSTANCE.$ref$cmd22.Rand[Int]\r",
      "        int.flatMap( y => \r",
      "            ^\u001b[0m",
      "\u001b[31mMain.scala:148: missing arguments for method ints in class $user;",
      "follow this method with `_' if you want to treat it as a partially applied function\r",
      "            ints(x).map( xs => \r",
      "                ^\u001b[0m"
     ]
    }
   ],
   "source": [
    "val ns : Rand[ List[Int] ] = \n",
    "   int.flatMap( x => \n",
    "        int.flatMap( y => \n",
    "            ints(x).map( xs => \n",
    "                xs.map( _ % y ) \n",
    "            )\n",
    "        )\n",
    "   )"
   ]
  },
  {
   "cell_type": "code",
   "execution_count": 174,
   "metadata": {
    "collapsed": false
   },
   "outputs": [
    {
     "ename": "",
     "evalue": "",
     "output_type": "error",
     "traceback": [
      "Compilation Failed",
      "\u001b[31mMain.scala:153: value flatMap is not a member of cmd30.INSTANCE.$ref$cmd29.Rand[Int]\r",
      "    x <- int\r",
      "         ^\u001b[0m",
      "\u001b[31mMain.scala:154: value flatMap is not a member of cmd30.INSTANCE.$ref$cmd29.Rand[Int]\r",
      "    y <- int\r",
      "         ^\u001b[0m",
      "\u001b[31mMain.scala:155: missing arguments for method ints in class $user;",
      "follow this method with `_' if you want to treat it as a partially applied function\r",
      "    xs <- ints(x)\r",
      "              ^\u001b[0m"
     ]
    }
   ],
   "source": [
    "val ns : Rand[ List[Int] ] = for {\n",
    "    x <- int\n",
    "    y <- int\n",
    "    xs <- ints(x)\n",
    "} yield xs.map ( _ % y )"
   ]
  },
  {
   "cell_type": "code",
   "execution_count": 178,
   "metadata": {
    "collapsed": false
   },
   "outputs": [
    {
     "ename": "",
     "evalue": "",
     "output_type": "error",
     "traceback": [
      "Compilation Failed",
      "\u001b[31mMain.scala:156: value flatMap is not a member of cmd91.INSTANCE.$ref$cmd88.State[S,S]\r",
      "    s <- get\r",
      "         ^\u001b[0m",
      "\u001b[31mMain.scala:157: value map is not a member of cmd90.INSTANCE.$ref$cmd88.State[S,Unit]\r",
      "    _ <- set( f(s) ) \r",
      "            ^\u001b[0m"
     ]
    }
   ],
   "source": [
    "def modify[S] ( f: S => S ) : State[S, Unit] = for {\n",
    "    s <- get\n",
    "    _ <- set( f(s) ) \n",
    "} yield {}"
   ]
  },
  {
   "cell_type": "code",
   "execution_count": 177,
   "metadata": {
    "collapsed": false
   },
   "outputs": [
    {
     "data": {
      "text/plain": [
       "defined \u001b[32mfunction \u001b[36mget\u001b[0m"
      ]
     },
     "metadata": {},
     "output_type": "display_data"
    }
   ],
   "source": [
    "def get[S] : State[S, S] = State( s => (s, s) )"
   ]
  },
  {
   "cell_type": "code",
   "execution_count": 176,
   "metadata": {
    "collapsed": false
   },
   "outputs": [
    {
     "data": {
      "text/plain": [
       "defined \u001b[32mfunction \u001b[36mset\u001b[0m"
      ]
     },
     "metadata": {},
     "output_type": "display_data"
    }
   ],
   "source": [
    "def set[S]( s :S ) : State[S, Unit] = State( _ => ( (), s)  )"
   ]
  },
  {
   "cell_type": "markdown",
   "metadata": {},
   "source": [
    "### 연습문제 6.11\n",
    "사탕 판매가를 본뜬 유한상태 머신을 구현하라."
   ]
  }
 ],
 "metadata": {
  "kernelspec": {
   "display_name": "Scala 2.11",
   "language": "scala211",
   "name": "scala211"
  },
  "language_info": {
   "codemirror_mode": "text/x-scala",
   "file_extension": "scala",
   "mimetype": "text/x-scala",
   "name": "scala211",
   "pygments_lexer": "scala",
   "version": "2.11.6"
  }
 },
 "nbformat": 4,
 "nbformat_minor": 0
}
