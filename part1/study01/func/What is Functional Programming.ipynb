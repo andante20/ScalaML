{
 "cells": [
  {
   "cell_type": "markdown",
   "metadata": {},
   "source": [
    "#함수형 프로그래밍이란?\n",
    "\n",
    "##일급함수\n",
    "* 함수는 정수나 문자열과 동일한 자격을 갖는 값\n",
    "    * 함수를 다른 함수에 인자로 넘길 수 있고\n",
    "    * 함수 안에서 결과로 함수를 반환할 수도 있고\n",
    "    * 함수를 변수에 저장할 수도 있다\n",
    "    * 함수 안에서 정수 값을 정의할 수 있는 것처럼, 다른 함수의 내부에서 함수를 정의할 수도 있다\n",
    "    * 함수 리터널을 코드 적재적소에 원하는 대로 집어넣을 수 있다"
   ]
  },
  {
   "cell_type": "code",
   "execution_count": 1,
   "metadata": {
    "collapsed": false
   },
   "outputs": [
    {
     "data": {
      "text/plain": [
       "\u001b[36mincrease\u001b[0m: \u001b[32mInt => Int\u001b[0m = <function1>"
      ]
     },
     "metadata": {},
     "output_type": "display_data"
    }
   ],
   "source": [
    "var increase = (x: Int) => x + 1"
   ]
  },
  {
   "cell_type": "code",
   "execution_count": 2,
   "metadata": {
    "collapsed": false
   },
   "outputs": [
    {
     "data": {
      "text/plain": [
       "\u001b[36mres1\u001b[0m: \u001b[32mInt\u001b[0m = \u001b[32m11\u001b[0m"
      ]
     },
     "metadata": {},
     "output_type": "display_data"
    }
   ],
   "source": [
    "increase(10)"
   ]
  },
  {
   "cell_type": "code",
   "execution_count": 3,
   "metadata": {
    "collapsed": false
   },
   "outputs": [
    {
     "data": {
      "text/plain": []
     },
     "metadata": {},
     "output_type": "display_data"
    }
   ],
   "source": [
    "// increase는 var변수 다른 함수값으로 재할당 가능\n",
    "increase = (x: Int) => x + 9999"
   ]
  },
  {
   "cell_type": "code",
   "execution_count": 4,
   "metadata": {
    "collapsed": false
   },
   "outputs": [
    {
     "data": {
      "text/plain": [
       "\u001b[36mres3\u001b[0m: \u001b[32mInt\u001b[0m = \u001b[32m10009\u001b[0m"
      ]
     },
     "metadata": {},
     "output_type": "display_data"
    }
   ],
   "source": [
    "increase(10)"
   ]
  },
  {
   "cell_type": "markdown",
   "metadata": {},
   "source": [
    "##함수값\n",
    "* 함수를 일반적인 함수와 마찬가지로 호출 가능한 함수 객체를 의미"
   ]
  },
  {
   "cell_type": "code",
   "execution_count": 5,
   "metadata": {
    "collapsed": false
   },
   "outputs": [
    {
     "data": {
      "text/plain": [
       "\u001b[36msomeNumbers\u001b[0m: \u001b[32mList[Int]\u001b[0m = \u001b[33mList\u001b[0m(\u001b[32m-3\u001b[0m, \u001b[32m-2\u001b[0m, \u001b[32m-1\u001b[0m, \u001b[32m0\u001b[0m, \u001b[32m1\u001b[0m, \u001b[32m2\u001b[0m, \u001b[32m3\u001b[0m)"
      ]
     },
     "metadata": {},
     "output_type": "display_data"
    }
   ],
   "source": [
    "// 모든 컬렉션 foreach 메소드를 사용\n",
    "val someNumbers = List(-3, -2, -1, 0, 1, 2, 3)"
   ]
  },
  {
   "cell_type": "code",
   "execution_count": 6,
   "metadata": {
    "collapsed": false
   },
   "outputs": [
    {
     "name": "stdout",
     "output_type": "stream",
     "text": [
      "-3\n",
      "-2\n",
      "-1\n",
      "0\n",
      "1\n",
      "2\n",
      "3\n"
     ]
    },
    {
     "data": {
      "text/plain": []
     },
     "metadata": {},
     "output_type": "display_data"
    }
   ],
   "source": [
    "someNumbers.foreach((x: Int) => println(x))\n",
    "// 출력"
   ]
  },
  {
   "cell_type": "code",
   "execution_count": 7,
   "metadata": {
    "collapsed": false
   },
   "outputs": [
    {
     "data": {
      "text/plain": [
       "\u001b[36mres6\u001b[0m: \u001b[32mList[Int]\u001b[0m = \u001b[33mList\u001b[0m(\u001b[32m1\u001b[0m, \u001b[32m2\u001b[0m, \u001b[32m3\u001b[0m)"
      ]
     },
     "metadata": {},
     "output_type": "display_data"
    }
   ],
   "source": [
    "// filter 메소드 컬렉션 중 사용자가 제공한 테트스를 통과한 요소만 선택\n",
    "// 함수 (x: Int) => x > 0\n",
    "// 양의 정수에 대해서는 참\n",
    "// 그 외는 모두 거짓\n",
    "someNumbers.filter((x: Int) => x > 0)\n",
    "// List(1, 2, 3)"
   ]
  },
  {
   "cell_type": "code",
   "execution_count": 8,
   "metadata": {
    "collapsed": false
   },
   "outputs": [
    {
     "data": {
      "text/plain": [
       "\u001b[36mres7\u001b[0m: \u001b[32mList[Int]\u001b[0m = \u001b[33mList\u001b[0m(\u001b[32m1\u001b[0m, \u001b[32m2\u001b[0m, \u001b[32m3\u001b[0m)"
      ]
     },
     "metadata": {},
     "output_type": "display_data"
    }
   ],
   "source": [
    "// 함수 리터럴 간단히 작성\n",
    "someNumbers.filter((x) => x > 0)"
   ]
  },
  {
   "cell_type": "code",
   "execution_count": 9,
   "metadata": {
    "collapsed": false
   },
   "outputs": [
    {
     "data": {
      "text/plain": [
       "\u001b[36mres8\u001b[0m: \u001b[32mList[Int]\u001b[0m = \u001b[33mList\u001b[0m(\u001b[32m1\u001b[0m, \u001b[32m2\u001b[0m, \u001b[32m3\u001b[0m)"
      ]
     },
     "metadata": {},
     "output_type": "display_data"
    }
   ],
   "source": [
    "// x가 정수라는 것을 안다\n",
    "someNumbers.filter(x => x > 0)"
   ]
  },
  {
   "cell_type": "code",
   "execution_count": 10,
   "metadata": {
    "collapsed": false
   },
   "outputs": [
    {
     "data": {
      "text/plain": [
       "\u001b[36mres9\u001b[0m: \u001b[32mList[Int]\u001b[0m = \u001b[33mList\u001b[0m(\u001b[32m1\u001b[0m, \u001b[32m2\u001b[0m, \u001b[32m3\u001b[0m)"
      ]
     },
     "metadata": {},
     "output_type": "display_data"
    }
   ],
   "source": [
    "// 더 짧은 방법\n",
    "// _ 위치 표시자 문법\n",
    "someNumbers.filter(_ > 0)"
   ]
  },
  {
   "cell_type": "markdown",
   "metadata": {},
   "source": [
    "##함수 리터럴"
   ]
  },
  {
   "cell_type": "code",
   "execution_count": 11,
   "metadata": {
    "collapsed": false
   },
   "outputs": [
    {
     "data": {
      "text/plain": [
       "\u001b[36mres10\u001b[0m: \u001b[32mInt => Int\u001b[0m = <function1>"
      ]
     },
     "metadata": {},
     "output_type": "display_data"
    }
   ],
   "source": [
    "(x: Int) => x + 1\n",
    "//       => 왼쪽의 내용(임의의 정수 x)을 오른쪽의 내용(x + 1)으로 변환하는 함수라는 표시"
   ]
  },
  {
   "cell_type": "code",
   "execution_count": 12,
   "metadata": {
    "collapsed": false
   },
   "outputs": [
    {
     "data": {
      "text/plain": [
       "\u001b[36mres11\u001b[0m: \u001b[32mInt\u001b[0m = \u001b[32m91\u001b[0m"
      ]
     },
     "metadata": {},
     "output_type": "display_data"
    }
   ],
   "source": [
    "res10(90)"
   ]
  },
  {
   "cell_type": "markdown",
   "metadata": {},
   "source": [
    "##순수함수Pure Function\n",
    "* 주어진 입력으로 뭔가를 계산하는 것 외에는 프로그램의 실행에 그 어떤 관찰 가능한 영향도 미치지 않는다\n",
    "* 부수 효과side effect가 없는 함수들로만 구축한다는 것"
   ]
  },
  {
   "cell_type": "markdown",
   "metadata": {},
   "source": [
    "##부작용side effect\n",
    "* 결과를 돌려주는 것 이외의 어떤 일을 수행하는 함수\n",
    "    * 변수를 수정한다\n",
    "    * 자료구조를 제자리에서 수정한다\n",
    "    * 객체의 필드를 설정한다\n",
    "    * 예외(excption)를 던지거나 오류를 내면서 실행을 중단한다\n",
    "    * 콘솔에 출력하거나 사용자의 입력을 읽어들인다\n",
    "    * 파일에 기록하거나 파일에서 읽어들인다\n",
    "    * 화면에 그린다"
   ]
  },
  {
   "cell_type": "code",
   "execution_count": 13,
   "metadata": {
    "collapsed": false
   },
   "outputs": [
    {
     "data": {
      "text/plain": [
       "defined \u001b[32mclass \u001b[36mCoffee\u001b[0m\n",
       "defined \u001b[32mclass \u001b[36mCreditCard\u001b[0m\n",
       "defined \u001b[32mclass \u001b[36mCafe\u001b[0m"
      ]
     },
     "metadata": {},
     "output_type": "display_data"
    }
   ],
   "source": [
    "class Coffee {\n",
    "    val price: Int = 0\n",
    "}\n",
    "class CreditCard {\n",
    "    def charge(price: Int) = 0\n",
    "}\n",
    "class Cafe {\n",
    "    def buyCoffee(cc: CreditCard): Coffee = {\n",
    "        val cup = new Coffee()\n",
    "        cc.charge(cup.price) // 부수 효과. 신용카드를 실제로 청구한다\n",
    "        cup\n",
    "    }\n",
    "}"
   ]
  },
  {
   "cell_type": "markdown",
   "metadata": {},
   "source": [
    "##참조 투명성referential transparency\n",
    "* 참조 투명한 함수에\n",
    "    * 어떤 입력을 전달해 호출하는 것은 프로그램의 의미에 영향을 주지 않고,\n",
    "    * 해당 입력에 대한 그 함수의 결과 값으로 대치할 수 있다"
   ]
  },
  {
   "cell_type": "code",
   "execution_count": 14,
   "metadata": {
    "collapsed": false
   },
   "outputs": [
    {
     "data": {
      "text/plain": [
       "defined \u001b[32mfunction \u001b[36msModel\u001b[0m"
      ]
     },
     "metadata": {},
     "output_type": "display_data"
    }
   ],
   "source": [
    "def sModel(x: Int, y: Int) = {\n",
    "    val a = 1 + 3\n",
    "    val b = 5 + 7\n",
    "    \n",
    "    x + y + a + b\n",
    "}"
   ]
  },
  {
   "cell_type": "code",
   "execution_count": 15,
   "metadata": {
    "collapsed": false
   },
   "outputs": [
    {
     "data": {
      "text/plain": [
       "defined \u001b[32mfunction \u001b[36msModel2\u001b[0m"
      ]
     },
     "metadata": {},
     "output_type": "display_data"
    }
   ],
   "source": [
    "def sModel2(x: Int, y: Int) = {\n",
    "    val a = 4\n",
    "    val b = 12\n",
    "    \n",
    "    x + y + a + b\n",
    "}"
   ]
  },
  {
   "cell_type": "code",
   "execution_count": 16,
   "metadata": {
    "collapsed": false
   },
   "outputs": [
    {
     "data": {
      "text/plain": [
       "\u001b[36mres15_0\u001b[0m: \u001b[32mInt\u001b[0m = \u001b[32m126\u001b[0m\n",
       "\u001b[36mres15_1\u001b[0m: \u001b[32mInt\u001b[0m = \u001b[32m126\u001b[0m"
      ]
     },
     "metadata": {},
     "output_type": "display_data"
    }
   ],
   "source": [
    "sModel(10, 100)\n",
    "sModel2(10, 100)"
   ]
  },
  {
   "cell_type": "markdown",
   "metadata": {},
   "source": [
    "##치환 모형substitution model\n",
    "* 참조 투명성은 함수가 수행하는 모든 것이 함수가 돌려주는 값(함수의 결과 형식을 따르는) 대표된다는 불변invariant 조건을 강제한다\n",
    "* 이러한 제약을 지키면 치환 모형이라고 부르는,\n",
    "    * 프로그램 평가에 대한 간단하고도 자연스러운 추론 모형이 가능해 진다\n",
    "* 참조에 투명한 표현식들의 계산 과정은 마치 대수 방정식을 풀 때와 아주 비슷하다\n",
    "* 표현식의\n",
    "    * 모든 부분을 전개(확장)하고,\n",
    "    * 모든 변수를 해당 값으로 치환하고\n",
    "    * 그런 다음 그것들을 가장 간단한 형태로 환원(축약)하면 된다\n",
    "    * 각 단계마다 하나의 항term을 그에 동등한 것으로 대체한다\n",
    "    * 즉, 계산은 등치 대 등치equals for equals 치환을 통해서 진행된다\n",
    "    * 참조 투명성은 프로그램에 대한 등식적 추론equational reasoning을 가능하게 한다"
   ]
  },
  {
   "cell_type": "code",
   "execution_count": 17,
   "metadata": {
    "collapsed": false
   },
   "outputs": [
    {
     "data": {
      "text/plain": [
       "\u001b[36mx\u001b[0m: \u001b[32mjava.lang.String\u001b[0m = \u001b[32m\"Hello, World\"\u001b[0m"
      ]
     },
     "metadata": {},
     "output_type": "display_data"
    }
   ],
   "source": [
    "// 예제 2개\n",
    "// 모든 표현식이 참조에 투명하며 치환 모형을 이용해서 추론\n",
    "// 다른 하나는 일부 표현식이 참조 투명성을 위반\n",
    "val x = \"Hello, World\""
   ]
  },
  {
   "cell_type": "code",
   "execution_count": 18,
   "metadata": {
    "collapsed": false
   },
   "outputs": [
    {
     "data": {
      "text/plain": [
       "\u001b[36mr1\u001b[0m: \u001b[32mString\u001b[0m = \u001b[32m\"dlroW ,olleH\"\u001b[0m"
      ]
     },
     "metadata": {},
     "output_type": "display_data"
    }
   ],
   "source": [
    "val r1 = x.reverse"
   ]
  },
  {
   "cell_type": "code",
   "execution_count": 19,
   "metadata": {
    "collapsed": false
   },
   "outputs": [
    {
     "data": {
      "text/plain": [
       "\u001b[36mr2\u001b[0m: \u001b[32mString\u001b[0m = \u001b[32m\"dlroW ,olleH\"\u001b[0m"
      ]
     },
     "metadata": {},
     "output_type": "display_data"
    }
   ],
   "source": [
    "val r2 = x.reverse"
   ]
  },
  {
   "cell_type": "code",
   "execution_count": 20,
   "metadata": {
    "collapsed": false
   },
   "outputs": [
    {
     "data": {
      "text/plain": [
       "\u001b[36mr1\u001b[0m: \u001b[32mString\u001b[0m = \u001b[32m\"dlroW ,olleH\"\u001b[0m"
      ]
     },
     "metadata": {},
     "output_type": "display_data"
    }
   ],
   "source": [
    "// x항의 모든 출현을 x가 지칭하는(해당 정의)으로 치환하면\n",
    "val r1 = \"Hello, World\".reverse"
   ]
  },
  {
   "cell_type": "code",
   "execution_count": 21,
   "metadata": {
    "collapsed": false
   },
   "outputs": [
    {
     "data": {
      "text/plain": [
       "\u001b[36mr2\u001b[0m: \u001b[32mString\u001b[0m = \u001b[32m\"dlroW ,olleH\"\u001b[0m"
      ]
     },
     "metadata": {},
     "output_type": "display_data"
    }
   ],
   "source": [
    "val r2 = \"Hello, World\".reverse"
   ]
  },
  {
   "cell_type": "code",
   "execution_count": 22,
   "metadata": {
    "collapsed": false
   },
   "outputs": [
    {
     "data": {
      "text/plain": [
       "\u001b[36mx\u001b[0m: \u001b[32mStringBuilder\u001b[0m = \u001b[33mStringBuilder\u001b[0m(\u001b[32m'H'\u001b[0m, \u001b[32m'e'\u001b[0m, \u001b[32m'l'\u001b[0m, \u001b[32m'l'\u001b[0m, \u001b[32m'o'\u001b[0m)"
      ]
     },
     "metadata": {},
     "output_type": "display_data"
    }
   ],
   "source": [
    "// 이러한 변환은 결과에 영향을 미치지 않는다\n",
    "// r1, r2의 값은 동일하며,\n",
    "// 따라서 x는 참조에 투명하다\n",
    "// 더 나아가서 r1과 r2도 참조 투명성을 가지므로,\n",
    "// 만일 더 큰 프로그램의 다른 어떤 부분에 이들이 출현하면 그것들을 모두 해당 값으로 치환할 수 있으며,\n",
    "// 그래도 프로그램에는 여향을 미치지 않는다\n",
    "\n",
    "// 이번에는 참조에 투명하지 않은 함수를 살표보겠다\n",
    "val x = new StringBuilder(\"Hello\")"
   ]
  },
  {
   "cell_type": "code",
   "execution_count": 23,
   "metadata": {
    "collapsed": false
   },
   "outputs": [
    {
     "data": {
      "text/plain": [
       "\u001b[36my\u001b[0m: \u001b[32mStringBuilder\u001b[0m = \u001b[33mStringBuilder\u001b[0m(\n",
       "  \u001b[32m'H'\u001b[0m,\n",
       "  \u001b[32m'e'\u001b[0m,\n",
       "  \u001b[32m'l'\u001b[0m,\n",
       "  \u001b[32m'l'\u001b[0m,\n",
       "  \u001b[32m'o'\u001b[0m,\n",
       "  \u001b[32m','\u001b[0m,\n",
       "  \u001b[32m' '\u001b[0m,\n",
       "  \u001b[32m'W'\u001b[0m,\n",
       "  \u001b[32m'o'\u001b[0m,\n",
       "  \u001b[32m'r'\u001b[0m,\n",
       "  \u001b[32m'l'\u001b[0m,\n",
       "  \u001b[32m'd'\u001b[0m\n",
       ")"
      ]
     },
     "metadata": {},
     "output_type": "display_data"
    }
   ],
   "source": [
    "val y = x.append(\", World\")"
   ]
  },
  {
   "cell_type": "code",
   "execution_count": 24,
   "metadata": {
    "collapsed": false
   },
   "outputs": [
    {
     "data": {
      "text/plain": [
       "\u001b[36mr1\u001b[0m: \u001b[32mjava.lang.String\u001b[0m = \u001b[32m\"Hello, World\"\u001b[0m"
      ]
     },
     "metadata": {},
     "output_type": "display_data"
    }
   ],
   "source": [
    "val r1 = y.toString"
   ]
  },
  {
   "cell_type": "code",
   "execution_count": 25,
   "metadata": {
    "collapsed": false
   },
   "outputs": [
    {
     "data": {
      "text/plain": [
       "\u001b[36mr2\u001b[0m: \u001b[32mjava.lang.String\u001b[0m = \u001b[32m\"Hello, World\"\u001b[0m"
      ]
     },
     "metadata": {},
     "output_type": "display_data"
    }
   ],
   "source": [
    "val r2 = y.toString"
   ]
  },
  {
   "cell_type": "code",
   "execution_count": 26,
   "metadata": {
    "collapsed": false
   },
   "outputs": [
    {
     "data": {
      "text/plain": [
       "\u001b[36mx\u001b[0m: \u001b[32mStringBuilder\u001b[0m = \u001b[33mStringBuilder\u001b[0m(\u001b[32m'H'\u001b[0m, \u001b[32m'e'\u001b[0m, \u001b[32m'l'\u001b[0m, \u001b[32m'l'\u001b[0m, \u001b[32m'o'\u001b[0m)"
      ]
     },
     "metadata": {},
     "output_type": "display_data"
    }
   ],
   "source": [
    "// r1과 r2는 같다\n",
    "// 부수 효과가 어떻게 참조 투명성을 위반하는지 살표보자\n",
    "// 앞에서 처럼 y의 모든 출현을 해다 append 호출로 치환하면 어떻계 될까?\n",
    "\n",
    "val x = new StringBuilder(\"Hello\")"
   ]
  },
  {
   "cell_type": "code",
   "execution_count": 27,
   "metadata": {
    "collapsed": false
   },
   "outputs": [
    {
     "data": {
      "text/plain": [
       "\u001b[36mr1\u001b[0m: \u001b[32mjava.lang.String\u001b[0m = \u001b[32m\"Hello, World\"\u001b[0m"
      ]
     },
     "metadata": {},
     "output_type": "display_data"
    }
   ],
   "source": [
    "val r1 = x.append(\", World\").toString"
   ]
  },
  {
   "cell_type": "code",
   "execution_count": 28,
   "metadata": {
    "collapsed": false
   },
   "outputs": [
    {
     "data": {
      "text/plain": [
       "\u001b[36mr2\u001b[0m: \u001b[32mjava.lang.String\u001b[0m = \u001b[32m\"Hello, World, World\"\u001b[0m"
      ]
     },
     "metadata": {},
     "output_type": "display_data"
    }
   ],
   "source": [
    "val r2 = x.append(\", World\").toString"
   ]
  },
  {
   "cell_type": "code",
   "execution_count": 28,
   "metadata": {
    "collapsed": true
   },
   "outputs": [],
   "source": [
    "// 이제 r1, r2는 같지 않다\n",
    "// StringBuilder.append는 순수 함수가 아니라는 결론을 내릴수 있다"
   ]
  },
  {
   "cell_type": "markdown",
   "metadata": {},
   "source": [
    "* 치환 모형은 추론이 간단하다\n",
    "* 평가의 부수 효과가 전적으로 국소적local 이기 때문이다\n",
    "* 순수 함수는 모듈적이고 합성 가능한데,\n",
    "* 이는 순수 함수에서 계산 자체의 논리가 \"결과로 무엇을 할 것인가\"나 \"입력을 어떻게 얻을 것인가\"와는 분리되어 있지 때문\n",
    "* 순수함수는 하나의 블랙박스"
   ]
  },
  {
   "cell_type": "markdown",
   "metadata": {},
   "source": [
    "##함수형 프로그램의 장점\n",
    "\n",
    "###간편simple"
   ]
  },
  {
   "cell_type": "code",
   "execution_count": 17,
   "metadata": {
    "collapsed": false
   },
   "outputs": [
    {
     "data": {
      "text/plain": [
       "defined \u001b[32mclass \u001b[36mMyClass2\u001b[0m"
      ]
     },
     "metadata": {},
     "output_type": "display_data"
    }
   ],
   "source": [
    "// java class\n",
    "// class MyClass {\n",
    "//   private int index;\n",
    "//   private String name;\n",
    "//   public MyClass(int index, String name) {\n",
    "//     this.index = index;\n",
    "//     this.name = name;\n",
    "//   }\n",
    "// }\n",
    "\n",
    "class MyClass2(index: Int, name: String)"
   ]
  },
  {
   "cell_type": "code",
   "execution_count": 18,
   "metadata": {
    "collapsed": false
   },
   "outputs": [
    {
     "data": {
      "text/plain": [
       "\u001b[36mname\u001b[0m: \u001b[32mjava.lang.String\u001b[0m = \u001b[32m\"hello!!\"\u001b[0m\n",
       "\u001b[36mnameHasUpperCase\u001b[0m: \u001b[32mBoolean\u001b[0m = false"
      ]
     },
     "metadata": {},
     "output_type": "display_data"
    }
   ],
   "source": [
    "// java method\n",
    "// boolean nameHasUpperCase = false;\n",
    "// for (int i = 0; i < name.length(); i++) {\n",
    "//   if (Character.inUpperCase(name.charAt(i))) {\n",
    "//     nameHasUpperCase = true;\n",
    "//     break;\n",
    "//   }\n",
    "// }\n",
    "val name = \"hello!!\"\n",
    "val nameHasUpperCase = name.exists(_.isUpper)"
   ]
  },
  {
   "cell_type": "code",
   "execution_count": null,
   "metadata": {
    "collapsed": true
   },
   "outputs": [],
   "source": []
  }
 ],
 "metadata": {
  "kernelspec": {
   "display_name": "Scala 2.11",
   "language": "scala211",
   "name": "scala211"
  },
  "language_info": {
   "codemirror_mode": "text/x-scala",
   "file_extension": "scala",
   "mimetype": "text/x-scala",
   "name": "scala211",
   "pygments_lexer": "scala",
   "version": "2.11.6"
  }
 },
 "nbformat": 4,
 "nbformat_minor": 0
}
