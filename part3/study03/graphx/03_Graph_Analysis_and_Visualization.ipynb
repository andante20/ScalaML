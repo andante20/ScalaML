{
 "cells": [
  {
   "cell_type": "markdown",
   "metadata": {},
   "source": [
    "# 3. Graph Analysis and Visualization"
   ]
  },
  {
   "cell_type": "markdown",
   "metadata": {},
   "source": [
    "# Contents"
   ]
  },
  {
   "cell_type": "markdown",
   "metadata": {},
   "source": [
    "* Network datasets\n",
    "* The graph visualization\n",
    "    - Installing the GraphStream and BreezeViz libraries\n",
    "    - Visualizing the graph data\n",
    "    - Plotting the degree distribution\n",
    "* The analysis of network connectedness\n",
    "    - Finding the connected components\n",
    "    - Counting triangles and computing clustering coefficients\n",
    "* The network centrality and PageRank\n",
    "    - How PageRank works\n",
    "    - Ranking web pages\n",
    "* Scala Build Tool revisited\n",
    "    - Organizing build definitions\n",
    "    - Managing library dependencies\n",
    "        - A preview of the steps\n",
    "        - Running tasks with SBT commands\n",
    "* Summary"
   ]
  },
  {
   "cell_type": "markdown",
   "metadata": {},
   "source": [
    "After doing the activities in this chapter, you will have learned the tools and concepts to:\n",
    "* Visualize large-scale graph data\n",
    "* Compute the connected components of a network\n",
    "* Use the PageRank algorithm to rank the node importance in networks\n",
    "* Build Spark applications that use third-party libraries using SBT"
   ]
  },
  {
   "cell_type": "markdown",
   "metadata": {},
   "source": [
    "# Network datasets"
   ]
  },
  {
   "cell_type": "markdown",
   "metadata": {},
   "source": [
    "We will be using the same datasets introduced in Chapter 2, Building and Exploring Graphs, including the social ego network, email graph, and food-compound network."
   ]
  },
  {
   "cell_type": "markdown",
   "metadata": {},
   "source": [
    "# The graph visualization\n",
    "* Installing the GraphStream and BreezeViz libraries\n",
    "* Visualizing the graph data\n",
    "* Plotting the degree distribution"
   ]
  },
  {
   "cell_type": "markdown",
   "metadata": {},
   "source": [
    "## Installing the GraphStream and BreezeViz libraries"
   ]
  },
  {
   "cell_type": "code",
   "execution_count": null,
   "metadata": {
    "collapsed": true
   },
   "outputs": [],
   "source": [
    "GraphStream"
   ]
  },
  {
   "cell_type": "markdown",
   "metadata": {},
   "source": [
    "https://oss.sonatype.org/content/repositories/releases/org/graphstream/gs-core/1.2/"
   ]
  },
  {
   "cell_type": "markdown",
   "metadata": {},
   "source": [
    "https://oss.sonatype.org/content/repositories/releases/org/graphstream/gs-ui/1.2/"
   ]
  },
  {
   "cell_type": "code",
   "execution_count": null,
   "metadata": {
    "collapsed": true
   },
   "outputs": [],
   "source": [
    "BreezeViz"
   ]
  },
  {
   "cell_type": "markdown",
   "metadata": {},
   "source": [
    "http://repo.spring.io/libs-release-remote/org/scalanlp/breeze_2.10/0.9/"
   ]
  },
  {
   "cell_type": "markdown",
   "metadata": {},
   "source": [
    "http://repo1.maven.org/maven2/org/scalanlp/breeze-viz_2.10/0.9/"
   ]
  },
  {
   "cell_type": "code",
   "execution_count": null,
   "metadata": {
    "collapsed": true
   },
   "outputs": [],
   "source": [
    "JfreeChart"
   ]
  },
  {
   "cell_type": "markdown",
   "metadata": {},
   "source": [
    "https://repository.jboss.org/nexus/content/repositories/thirdparty-releases/jfree/jcommon/1.0.16/"
   ]
  },
  {
   "cell_type": "markdown",
   "metadata": {},
   "source": [
    "http://repo1.maven.org/maven2/jfree/jfreechart/1.0.13/"
   ]
  },
  {
   "cell_type": "markdown",
   "metadata": {},
   "source": [
    "## Visualizing the graph data"
   ]
  },
  {
   "cell_type": "markdown",
   "metadata": {},
   "source": [
    "Open the terminal, with the current directory set to $SPARKHOME. Launch the Spark shell. This time you will need to specify the third-party JAR files with the --jars option:"
   ]
  },
  {
   "cell_type": "code",
   "execution_count": null,
   "metadata": {
    "collapsed": true
   },
   "outputs": [],
   "source": [
    "$ ./bin/spark-shell --jars \\\n",
    "lib/breeze-viz_2.10-0.9.jar,\\\n",
    "lib/breeze_2.10-0.9.jar,\\\n",
    "lib/gs-core-1.2.jar,\\\n",
    "lib/gs-ui-1.2.jar,\\\n",
    "lib/jcommon-1.0.16.jar,\\\n",
    "lib/jfreechart-1.0.13.jar"
   ]
  },
  {
   "cell_type": "code",
   "execution_count": null,
   "metadata": {
    "collapsed": true
   },
   "outputs": [],
   "source": [
    "$./bin/spark-shell  --jars \\\n",
    "$(find \".\" -name '*.jar' | xargs echo | tr ' ' ',')"
   ]
  },
  {
   "cell_type": "markdown",
   "metadata": {},
   "source": [
    "As a first example, we will visualize the social ego network that we have seen in the previous chapter."
   ]
  },
  {
   "cell_type": "markdown",
   "metadata": {},
   "source": [
    "First, we need to import the GraphStream classes with the following:"
   ]
  },
  {
   "cell_type": "code",
   "execution_count": null,
   "metadata": {
    "collapsed": true
   },
   "outputs": [],
   "source": [
    "import org.graphstream.graph.{Graph => GraphStream}"
   ]
  },
  {
   "cell_type": "code",
   "execution_count": null,
   "metadata": {
    "collapsed": true
   },
   "outputs": [],
   "source": [
    "import org.graphstream.graph.implementations._"
   ]
  },
  {
   "cell_type": "code",
   "execution_count": null,
   "metadata": {
    "collapsed": true
   },
   "outputs": [],
   "source": [
    "// Create a SingleGraph class for GraphStream visualization\n",
    "val graph: SingleGraph = new SingleGraph(\"EgoSocial\")"
   ]
  },
  {
   "cell_type": "markdown",
   "metadata": {},
   "source": [
    "So, let's create a file named stylesheet and put it in a new ./style/ folder. Insert the following lines in the style sheet:"
   ]
  },
  {
   "cell_type": "code",
   "execution_count": null,
   "metadata": {
    "collapsed": true
   },
   "outputs": [],
   "source": [
    "node {\n",
    "       fill-color: #a1d99b;\n",
    "       size: 20px;\n",
    "       text-size: 12;\n",
    "       text-alignment: at-right;\n",
    "       text-padding: 2;\n",
    "       text-background-color: #fff7bc;\n",
    "}\n",
    "edge {\n",
    "       shape: cubic-curve;\n",
    "       fill-color: #dd1c77;\n",
    "       z-index: 0;\n",
    "       text-background-mode: rounded-box;\n",
    "       text-background-color: #fff7bc;\n",
    "       text-alignment: above;\n",
    "       text-padding: 2;\n",
    "￼}"
   ]
  },
  {
   "cell_type": "markdown",
   "metadata": {},
   "source": [
    "With the style sheet now ready, we can connect it to the SingleGraph object graph:"
   ]
  },
  {
   "cell_type": "code",
   "execution_count": null,
   "metadata": {
    "collapsed": true
   },
   "outputs": [],
   "source": [
    "// Set up the visual attributes for graph visualization\n",
    "graph.addAttribute(\"ui.stylesheet\",\"url(file:.//style/stylesheet)\")\n",
    "graph.addAttribute(\"ui.quality\")\n",
    "graph.addAttribute(\"ui.antialias\")"
   ]
  },
  {
   "cell_type": "markdown",
   "metadata": {},
   "source": [
    "Next, we have to reload the graph that we built in the previous chapter. To avoid repetitions, we omit the graph building part. After this, we now load VertexRDD and EdgeRDD of the social network into the GraphStream graph object, with the following code:"
   ]
  },
  {
   "cell_type": "code",
   "execution_count": null,
   "metadata": {
    "collapsed": true
   },
   "outputs": [],
   "source": [
    "// Given the egoNetwork, load the graphX vertices into GraphStream\n",
    "for ((id,_) <- egoNetwork.vertices.collect()) {\n",
    "   val node = graph.addNode(id.toString).asInstanceOf[SingleNode]\n",
    "}\n",
    "// Load the graphX edges into GraphStream edges\n",
    "for (Edge(x,y,_) <- egoNetwork.edges.collect()) {\n",
    "   val edge = graph.addEdge(x.toString ++ y.toString,\n",
    "                            x.toString, y.toString,\n",
    "                            true).asInstanceOf[AbstractEdge]\n",
    "   }"
   ]
  },
  {
   "cell_type": "markdown",
   "metadata": {},
   "source": [
    "Now what? The only thing to do here is to make the social ego network display it. Just call the display method on graph:"
   ]
  },
  {
   "cell_type": "code",
   "execution_count": null,
   "metadata": {
    "collapsed": true
   },
   "outputs": [],
   "source": [
    "graph.display()"
   ]
  },
  {
   "cell_type": "markdown",
   "metadata": {},
   "source": [
    "<img src=\"figures/cap3.1.png\" width=600 />"
   ]
  },
  {
   "cell_type": "markdown",
   "metadata": {},
   "source": [
    "## Plotting the degree distribution"
   ]
  },
  {
   "cell_type": "markdown",
   "metadata": {},
   "source": [
    "# The analysis of network connectedness\n",
    "* Finding the connected components\n",
    "* Counting triangles and computing clustering coefficients"
   ]
  },
  {
   "cell_type": "markdown",
   "metadata": {},
   "source": [
    "## Finding the connected components"
   ]
  },
  {
   "cell_type": "markdown",
   "metadata": {},
   "source": [
    "## Counting triangles and computing clustering coefficients"
   ]
  },
  {
   "cell_type": "markdown",
   "metadata": {},
   "source": [
    "# The network centrality and PageRank\n",
    "* How PageRank works\n",
    "* Ranking web pages"
   ]
  },
  {
   "cell_type": "markdown",
   "metadata": {},
   "source": [
    "## How PageRank works"
   ]
  },
  {
   "cell_type": "markdown",
   "metadata": {},
   "source": [
    "## Ranking web pages"
   ]
  },
  {
   "cell_type": "markdown",
   "metadata": {},
   "source": [
    "# Scala Build Tool revisited\n",
    "* Organizing build definitions\n",
    "* Managing library dependencies\n",
    "    - A preview of the steps\n",
    "    - Running tasks with SBT commands"
   ]
  },
  {
   "cell_type": "markdown",
   "metadata": {},
   "source": [
    "## Organizing build definitions"
   ]
  },
  {
   "cell_type": "markdown",
   "metadata": {},
   "source": [
    "## Managing library dependencies"
   ]
  },
  {
   "cell_type": "markdown",
   "metadata": {},
   "source": [
    "### A preview of the steps"
   ]
  },
  {
   "cell_type": "markdown",
   "metadata": {},
   "source": [
    "### Running tasks with SBT commands"
   ]
  },
  {
   "cell_type": "markdown",
   "metadata": {},
   "source": [
    "# Summary"
   ]
  },
  {
   "cell_type": "code",
   "execution_count": null,
   "metadata": {
    "collapsed": true
   },
   "outputs": [],
   "source": []
  }
 ],
 "metadata": {
  "kernelspec": {
   "display_name": "Scala 2.11",
   "language": "scala",
   "name": "scala-2.11"
  }
 },
 "nbformat": 4,
 "nbformat_minor": 0
}
