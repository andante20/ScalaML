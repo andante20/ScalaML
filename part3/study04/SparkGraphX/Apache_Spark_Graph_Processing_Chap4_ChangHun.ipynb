{
 "cells": [
  {
   "cell_type": "markdown",
   "metadata": {},
   "source": [
    "# Transforming and Shaping Up Graphs to Your Needs"
   ]
  },
  {
   "cell_type": "markdown",
   "metadata": {},
   "source": [
    "# 우선 이번 장 맡은걸 설명 못드리는 점이 정말 죄송합니다. 그렇지만 실습에 관해서는 중요한 부분을 실습 코드를 통해서 확인하시면 많은 도움이 되실 겁니다."
   ]
  },
  {
   "cell_type": "markdown",
   "metadata": {},
   "source": [
    "#### 이번장의 목표 입니다."
   ]
  },
  {
   "cell_type": "markdown",
   "metadata": {},
   "source": [
    "• Use property operators to modify vertex or edge properties\n",
    "\n",
    "• Use structural operators to modify the shape of a graph\n",
    "\n",
    "• Join additional RDD collections with a property graph"
   ]
  },
  {
   "cell_type": "markdown",
   "metadata": {},
   "source": [
    "# Transforming the vertex and edge attributes"
   ]
  },
  {
   "cell_type": "markdown",
   "metadata": {},
   "source": [
    "map 함수는 spark 에서 핵심 Transformation 입니다.\n",
    "여기 Graph 클래스 에는 3개의 map operator가 정의 되어있습니다."
   ]
  },
  {
   "cell_type": "markdown",
   "metadata": {},
   "source": [
    "class Graph[VD, ED] {\n",
    "\n",
    "def mapVertices[VD2](mapFun: (VertexId, VD) => VD2): Graph[VD2,\n",
    " ED]\n",
    "\n",
    "def mapEdges[ED2](mapFun: Edge[ED] => ED2): Graph[VD, ED2]\n",
    "\n",
    "def mapTriplets[ED2](mapFun: EdgeTriplet[VD, ED] => ED2):\n",
    " Graph[VD, ED2]\n",
    "}"
   ]
  },
  {
   "cell_type": "markdown",
   "metadata": {},
   "source": []
  },
  {
   "cell_type": "code",
   "execution_count": 31,
   "metadata": {
    "collapsed": true
   },
   "outputs": [],
   "source": [
    "import org.apache.spark.rdd._"
   ]
  },
  {
   "cell_type": "code",
   "execution_count": 1,
   "metadata": {
    "collapsed": true
   },
   "outputs": [],
   "source": [
    "import org.apache.spark.graphx._"
   ]
  },
  {
   "cell_type": "code",
   "execution_count": 2,
   "metadata": {
    "collapsed": true
   },
   "outputs": [],
   "source": [
    "case class Person( first: String, last: String, age :Int)\n",
    "case class Link( relationship: String, duration: Float)"
   ]
  },
  {
   "cell_type": "markdown",
   "metadata": {},
   "source": [
    "실습을 위해서 PersonData, EdgeData를 만들어 줍니다."
   ]
  },
  {
   "cell_type": "code",
   "execution_count": 3,
   "metadata": {
    "collapsed": true
   },
   "outputs": [],
   "source": [
    "val PersonData = sc.parallelize( Array( (1L, (\"f1\",\"l1\",1)), (2L, (\"f2\",\"l2\",2)), (3L, (\"f3\",\"l3\",3)) ) )\n",
    "val EdgeData = sc.parallelize( Array( (1L, 2L, (\"r1\",1.0)), (2L, 3L, (\"r2\",2.0)) ) )\n"
   ]
  },
  {
   "cell_type": "markdown",
   "metadata": {},
   "source": [
    "데이터로 그래프 폼에 맞춰어 맵함수를 적용시켜 Graph 인자에 넣기 알맞게 만들어준다"
   ]
  },
  {
   "cell_type": "code",
   "execution_count": 4,
   "metadata": {
    "collapsed": true
   },
   "outputs": [],
   "source": [
    "\n",
    "val VertexRDD = PersonData.map( s => ( s._1, Person(s._2._1, s._2._2, s._2._3) ) )\n",
    "val EdgeRDD = EdgeData.map( s => Edge( s._1, s._2, Link(s._3._1, s._3._2.toFloat) ) )"
   ]
  },
  {
   "cell_type": "code",
   "execution_count": 5,
   "metadata": {
    "collapsed": true
   },
   "outputs": [],
   "source": [
    "val inputGraph: Graph[Person,Link] = Graph(VertexRDD, EdgeRDD)"
   ]
  },
  {
   "cell_type": "code",
   "execution_count": 6,
   "metadata": {
    "collapsed": true
   },
   "outputs": [],
   "source": [
    "val outputGraph: Graph[String, Link] =\n",
    "inputGraph.mapVertices((_, person) => person.first + person.last)"
   ]
  },
  {
   "cell_type": "code",
   "execution_count": 29,
   "metadata": {
    "collapsed": false,
    "scrolled": false
   },
   "outputs": [
    {
     "data": {
      "text/plain": [
       "Name: Compile Error\n",
       "Message: <console>:32: error: type mismatch;\n",
       " found   : org.apache.spark.graphx.Edge[Link]\n",
       " required: String\n",
       "       inputGraph.mapEdges(link => link)\n",
       "                                   ^\n",
       "StackTrace: "
      ]
     },
     "execution_count": 29,
     "metadata": {},
     "output_type": "execute_result"
    }
   ],
   "source": [
    "val outputGraph: Graph[Person, String] =\n",
    "inputGraph.mapEdges(link => link)"
   ]
  },
  {
   "cell_type": "code",
   "execution_count": 26,
   "metadata": {
    "collapsed": false
   },
   "outputs": [],
   "source": [
    "val outputGraph: Graph[Person, (Double, Double)] =\n",
    "inputGraph.mapTriplets(t => (t.srcAttr.age - t.attr.duration,\n",
    "t.dstAttr.age - t.attr.duration))"
   ]
  },
  {
   "cell_type": "code",
   "execution_count": 60,
   "metadata": {
    "collapsed": false
   },
   "outputs": [
    {
     "name": "stdout",
     "output_type": "stream",
     "text": [
      "(1,Person(f1,l1,1))\n",
      "(2,Person(f2,l2,2))\n",
      "(3,Person(f3,l3,3))\n"
     ]
    }
   ],
   "source": [
    "outputGraph.vertices.collect.foreach(println)"
   ]
  },
  {
   "cell_type": "markdown",
   "metadata": {},
   "source": [
    "# Modifying graph structures"
   ]
  },
  {
   "cell_type": "markdown",
   "metadata": {},
   "source": [
    "GraphX 라이브러리 안에 graph들의 구조를 바꿀수 있는 메서드를 제공합니다."
   ]
  },
  {
   "cell_type": "markdown",
   "metadata": {},
   "source": [
    "class Graph[VD, ED] {\n",
    " def reverse: Graph[VD, ED]\n",
    "\n",
    " def subgraph(epred: EdgeTriplet[VD,ED] => Boolean,\n",
    " vpred: (VertexId, VD) => Boolean): Graph[VD, ED]\n",
    "\n",
    " def mask[VD2, ED2](other: Graph[VD2, ED2]): Graph[VD, ED]\n",
    "\n",
    " def groupEdges(merge: (ED, ED) => ED): Graph[VD,ED]\n",
    "}"
   ]
  },
  {
   "cell_type": "markdown",
   "metadata": {},
   "source": [
    "# subgraph"
   ]
  },
  {
   "cell_type": "markdown",
   "metadata": {},
   "source": [
    "연결이 제대로 되어있지 않은 부분을 제거해주는 함수"
   ]
  },
  {
   "cell_type": "markdown",
   "metadata": {},
   "source": [
    "vertex와 edge들을 생성해줍니다."
   ]
  },
  {
   "cell_type": "code",
   "execution_count": 32,
   "metadata": {
    "collapsed": false
   },
   "outputs": [],
   "source": [
    "val users: RDD[(VertexId, (String, String))] =\n",
    "  sc.parallelize(Array((3L, (\"rxin\", \"student\")), (7L, (\"jgonzal\", \"postdoc\")),\n",
    "                       (5L, (\"franklin\", \"prof\")), (2L, (\"istoica\", \"prof\")),\n",
    "                       (4L, (\"peter\", \"student\"))))"
   ]
  },
  {
   "cell_type": "code",
   "execution_count": 33,
   "metadata": {
    "collapsed": true
   },
   "outputs": [],
   "source": [
    "val relationships: RDD[Edge[String]] =\n",
    "  sc.parallelize(Array(Edge(3L, 7L, \"collab\"),    Edge(5L, 3L, \"advisor\"),\n",
    "                       Edge(2L, 5L, \"colleague\"), Edge(5L, 7L, \"pi\"),\n",
    "                       Edge(4L, 0L, \"student\"),   Edge(5L, 0L, \"colleague\")))"
   ]
  },
  {
   "cell_type": "markdown",
   "metadata": {},
   "source": [
    "vertex가 없는 case에 대해서 defaultUser가 포함되어있는 graph를 생성한다."
   ]
  },
  {
   "cell_type": "code",
   "execution_count": 34,
   "metadata": {
    "collapsed": true
   },
   "outputs": [],
   "source": [
    "val defaultUser = (\"John Doe\", \"Missing\")"
   ]
  },
  {
   "cell_type": "code",
   "execution_count": 35,
   "metadata": {
    "collapsed": true
   },
   "outputs": [],
   "source": [
    "val graph = Graph(users, relationships, defaultUser)"
   ]
  },
  {
   "cell_type": "markdown",
   "metadata": {},
   "source": [
    "triplets은 세 쌍둥이라는 뜻인데 여기서는 vertex -edge - vertex를 뜻합니다."
   ]
  },
  {
   "cell_type": "code",
   "execution_count": 36,
   "metadata": {
    "collapsed": true
   },
   "outputs": [],
   "source": [
    "graph.triplets.map(\n",
    "    triplet => triplet.srcAttr._1 + \" is the \" + triplet.attr + \" of \" + triplet.dstAttr._1\n",
    "  ).collect.foreach(println(_))"
   ]
  },
  {
   "cell_type": "markdown",
   "metadata": {},
   "source": [
    "subgraph로 두번째 인자가 Missing 인 vertex를 제한합니다."
   ]
  },
  {
   "cell_type": "code",
   "execution_count": 37,
   "metadata": {
    "collapsed": true
   },
   "outputs": [],
   "source": [
    "val validGraph = graph.subgraph(vpred = (id, attr) => attr._2 != \"Missing\")"
   ]
  },
  {
   "cell_type": "code",
   "execution_count": 38,
   "metadata": {
    "collapsed": false,
    "scrolled": true
   },
   "outputs": [
    {
     "name": "stdout",
     "output_type": "stream",
     "text": [
      "(2,(istoica,prof))\n",
      "(3,(rxin,student))\n",
      "(4,(peter,student))\n",
      "(5,(franklin,prof))\n",
      "(7,(jgonzal,postdoc))\n"
     ]
    }
   ],
   "source": [
    "validGraph.vertices.collect.foreach(println(_))"
   ]
  },
  {
   "cell_type": "markdown",
   "metadata": {},
   "source": [
    "## vertex - edge  -vertex를 차례로 보시면 3번 vertex의 첫번째 rxin +\" is the \" + 7vertex로 향하는 edge의 attr값 +\"of \"+ 도착7번 vertex의 첫번째 인자를 프린트 합니다. 나머지 연결된 graph의 존재하는 triplets들을 같은 규칙으로 반환하면 아래의 결과를 반환하게 됩니다."
   ]
  },
  {
   "cell_type": "code",
   "execution_count": 39,
   "metadata": {
    "collapsed": false,
    "scrolled": false
   },
   "outputs": [
    {
     "name": "stdout",
     "output_type": "stream",
     "text": [
      "\r",
      "                                                                                \r",
      "rxin is the collab of jgonzal\n",
      "franklin is the advisor of rxin\n",
      "istoica is the colleague of franklin\n",
      "franklin is the pi of jgonzal\n"
     ]
    }
   ],
   "source": [
    "validGraph.triplets.map(\n",
    "    triplet => triplet.srcAttr._1 + \" is the \" + triplet.attr + \" of \" + triplet.dstAttr._1\n",
    "  ).collect.foreach(println(_))"
   ]
  },
  {
   "cell_type": "markdown",
   "metadata": {},
   "source": [
    "# mask"
   ]
  },
  {
   "cell_type": "code",
   "execution_count": 41,
   "metadata": {
    "collapsed": false
   },
   "outputs": [],
   "source": [
    "val ccGraph = graph.connectedComponents()"
   ]
  },
  {
   "cell_type": "code",
   "execution_count": 3,
   "metadata": {
    "collapsed": false,
    "scrolled": true
   },
   "outputs": [
    {
     "name": "stdout",
     "output_type": "stream",
     "text": [
      "Edge(3,7,collab)\n",
      "Edge(5,3,advisor)\n",
      "Edge(2,5,colleague)\n",
      "Edge(5,7,pi)\n",
      "Edge(4,0,student)\n",
      "Edge(5,0,colleague)\n"
     ]
    }
   ],
   "source": [
    "ccGraph.edges.collect.foreach(println(_))"
   ]
  },
  {
   "cell_type": "code",
   "execution_count": 42,
   "metadata": {
    "collapsed": true
   },
   "outputs": [],
   "source": [
    "val validGraph =graph.subgraph(vpred = (id,attr) => attr._2 != \"Missing\")"
   ]
  },
  {
   "cell_type": "code",
   "execution_count": 6,
   "metadata": {
    "collapsed": false,
    "scrolled": true
   },
   "outputs": [
    {
     "name": "stdout",
     "output_type": "stream",
     "text": [
      "Edge(3,7,collab)\n",
      "Edge(5,3,advisor)\n",
      "Edge(2,5,colleague)\n",
      "Edge(5,7,pi)\n"
     ]
    }
   ],
   "source": [
    "validGraph.edges.collect.foreach(println(_))"
   ]
  },
  {
   "cell_type": "code",
   "execution_count": 7,
   "metadata": {
    "collapsed": false,
    "scrolled": false
   },
   "outputs": [
    {
     "name": "stdout",
     "output_type": "stream",
     "text": [
      "(2,(istoica,prof))\n",
      "(3,(rxin,student))\n",
      "(4,(peter,student))\n",
      "(5,(franklin,prof))\n",
      "(7,(jgonzal,postdoc))\n"
     ]
    }
   ],
   "source": [
    "validGraph.vertices.collect.foreach(println(_))"
   ]
  },
  {
   "cell_type": "markdown",
   "metadata": {},
   "source": [
    "## validGraph로 추려진 graph를 기반으로 연결된 Graph를 반환한다. "
   ]
  },
  {
   "cell_type": "code",
   "execution_count": 8,
   "metadata": {
    "collapsed": true
   },
   "outputs": [],
   "source": [
    "val validCCGraph = ccGraph.mask(validGraph)"
   ]
  },
  {
   "cell_type": "code",
   "execution_count": 10,
   "metadata": {
    "collapsed": false,
    "scrolled": true
   },
   "outputs": [
    {
     "name": "stdout",
     "output_type": "stream",
     "text": [
      "Edge(3,7,collab)\n",
      "Edge(5,3,advisor)\n",
      "Edge(2,5,colleague)\n",
      "Edge(5,7,pi)\n"
     ]
    }
   ],
   "source": [
    "validCCGraph.edges.collect.foreach(println(_))"
   ]
  },
  {
   "cell_type": "markdown",
   "metadata": {
    "collapsed": true
   },
   "source": [
    "# Example - Hollywood movie graph"
   ]
  },
  {
   "cell_type": "markdown",
   "metadata": {},
   "source": [
    "Chapter4의 예제를 풀이하도록하겠습니다."
   ]
  },
  {
   "cell_type": "code",
   "execution_count": 11,
   "metadata": {
    "collapsed": true
   },
   "outputs": [],
   "source": [
    " val actors: RDD[(VertexId, String)] = sc.parallelize(List(\n",
    " (1L, \"George Clooney\"),(2L, \"Julia Stiles\"),\n",
    " (3L, \"Will Smith\"), (4L, \"Matt Damon\"),\n",
    " (5L, \"Salma Hayek\")))"
   ]
  },
  {
   "cell_type": "code",
   "execution_count": 12,
   "metadata": {
    "collapsed": true
   },
   "outputs": [],
   "source": [
    "val movies: RDD[Edge[String]] = sc.parallelize(List(\n",
    " Edge(1L,4L,\"Ocean's Eleven\"),\n",
    " Edge(2L, 4L, \"Bourne Ultimatum\"),\n",
    " Edge(3L, 5L, \"Wild Wild West\"),\n",
    " Edge(1L, 5L, \"From Dusk Till Dawn\"),\n",
    " Edge(3L, 4L, \"The Legend of Bagger Vance\"))\n",
    ")"
   ]
  },
  {
   "cell_type": "code",
   "execution_count": 13,
   "metadata": {
    "collapsed": true
   },
   "outputs": [],
   "source": [
    " val movieGraph = Graph(actors, movies)"
   ]
  },
  {
   "cell_type": "code",
   "execution_count": 14,
   "metadata": {
    "collapsed": false,
    "scrolled": true
   },
   "outputs": [
    {
     "name": "stdout",
     "output_type": "stream",
     "text": [
      "(1,George Clooney)\n",
      "(2,Julia Stiles)\n",
      "(3,Will Smith)\n",
      "(4,Matt Damon)\n",
      "(5,Salma Hayek)\n"
     ]
    }
   ],
   "source": [
    " movieGraph.vertices.collect.foreach(println(_))"
   ]
  },
  {
   "cell_type": "code",
   "execution_count": 15,
   "metadata": {
    "collapsed": false,
    "scrolled": false
   },
   "outputs": [
    {
     "name": "stdout",
     "output_type": "stream",
     "text": [
      "Edge(1,4,Ocean's Eleven)\n",
      "Edge(2,4,Bourne Ultimatum)\n",
      "Edge(3,5,Wild Wild West)\n",
      "Edge(1,5,From Dusk Till Dawn)\n",
      "Edge(3,4,The Legend of Bagger Vance)\n"
     ]
    }
   ],
   "source": [
    "movieGraph.edges.collect.foreach(println(_))"
   ]
  },
  {
   "cell_type": "markdown",
   "metadata": {},
   "source": [
    "# 위의 내용으로 movieGraph 를 생성합니다"
   ]
  },
  {
   "cell_type": "code",
   "execution_count": 19,
   "metadata": {
    "collapsed": false,
    "scrolled": false
   },
   "outputs": [
    {
     "name": "stdout",
     "output_type": "stream",
     "text": [
      "George Clooney & Matt Damon appeared in Ocean's Eleven\n",
      "Julia Stiles & Matt Damon appeared in Bourne Ultimatum\n",
      "Will Smith & Salma Hayek appeared in Wild Wild West\n",
      "George Clooney & Salma Hayek appeared in From Dusk Till Dawn\n",
      "Will Smith & Matt Damon appeared in The Legend of Bagger Vance\n"
     ]
    }
   ],
   "source": [
    " movieGraph.triplets.collect.foreach(t => println(\n",
    "t.srcAttr + \" & \" + t.dstAttr + \" appeared in \" + t.attr))"
   ]
  },
  {
   "cell_type": "code",
   "execution_count": 20,
   "metadata": {
    "collapsed": false,
    "scrolled": false
   },
   "outputs": [
    {
     "name": "stdout",
     "output_type": "stream",
     "text": [
      "(1,George Clooney)\n",
      "(2,Julia Stiles)\n",
      "(3,Will Smith)\n",
      "(4,Matt Damon)\n",
      "(5,Salma Hayek)\n"
     ]
    }
   ],
   "source": [
    " movieGraph.vertices.collect.foreach(println(_))"
   ]
  },
  {
   "cell_type": "markdown",
   "metadata": {},
   "source": [
    "# joinVertices를 실습하기위해서 출생지 RDD를 생성합니다."
   ]
  },
  {
   "cell_type": "code",
   "execution_count": 21,
   "metadata": {
    "collapsed": true
   },
   "outputs": [],
   "source": [
    " case class Biography(birthname: String, hometown: String)"
   ]
  },
  {
   "cell_type": "code",
   "execution_count": 24,
   "metadata": {
    "collapsed": false
   },
   "outputs": [],
   "source": [
    " val bio: RDD[(VertexId, Biography)] = sc.parallelize(List(\n",
    " (2, Biography(\"Julia O'Hara Stiles\", \"NY City, NY, USA\")),\n",
    " (3, Biography(\"Willard Christopher Smith Jr.\", \"Philadelphia, PA,USA\")),\n",
    " (4, Biography(\"Matthew Paige Damon\", \"Boston, MA, USA\")),\n",
    " (5, Biography(\"Salma Valgarma Hayek-Jimenez\", \"Coatzacoalcos, Veracruz,Mexico\")),\n",
    " (6, Biography(\"José Antonio Domínguez Banderas\", \"Málaga, Andalucía,Spain\")),\n",
    " (7, Biography(\"Paul William Walker IV\", \"Glendale, CA, USA\"))))"
   ]
  },
  {
   "cell_type": "code",
   "execution_count": 25,
   "metadata": {
    "collapsed": true
   },
   "outputs": [],
   "source": [
    " def appendHometown(id: VertexId, name: String, bio: Biography):\n",
    "String = name + \":\"+ bio.hometown"
   ]
  },
  {
   "cell_type": "markdown",
   "metadata": {},
   "source": [
    "## bio 데이터를appendHometown방식으로 joinVertices을 수행해줍니다."
   ]
  },
  {
   "cell_type": "code",
   "execution_count": 26,
   "metadata": {
    "collapsed": true
   },
   "outputs": [],
   "source": [
    " val movieJoinedGraph =\n",
    "movieGraph.joinVertices(bio)(appendHometown) "
   ]
  },
  {
   "cell_type": "code",
   "execution_count": 28,
   "metadata": {
    "collapsed": false
   },
   "outputs": [
    {
     "name": "stdout",
     "output_type": "stream",
     "text": [
      "(1,George Clooney)\n",
      "(2,Julia Stiles:NY City, NY, USA)\n",
      "(3,Will Smith:Philadelphia, PA,USA)\n",
      "(4,Matt Damon:Boston, MA, USA)\n",
      "(5,Salma Hayek:Coatzacoalcos, Veracruz,Mexico)\n"
     ]
    }
   ],
   "source": [
    " movieJoinedGraph.vertices.collect.foreach(println) "
   ]
  },
  {
   "cell_type": "markdown",
   "metadata": {},
   "source": [
    "## outerJoinVertices를 수행해줍니다.\n"
   ]
  },
  {
   "cell_type": "markdown",
   "metadata": {},
   "source": [
    "# 여기서 알아야 할 outerJoin은 leftouterjoin개념을  설명 드리면 left 를 기준으로 -> 방식으로 연산을 생각하시면 편합니다. 여기서는 movieGraph 를 기준으로 해서 bio RDD를 조인 하는 것을 생각하면 됩니다. George Clooney의 출생지가 None으로 된것을 보시면 확인 하실수 있습니다."
   ]
  },
  {
   "cell_type": "code",
   "execution_count": 29,
   "metadata": {
    "collapsed": true
   },
   "outputs": [],
   "source": [
    " val movieOuterJoinedGraph =\n",
    "movieGraph.outerJoinVertices(bio)((_,name, bio) => (name,bio)) "
   ]
  },
  {
   "cell_type": "code",
   "execution_count": 31,
   "metadata": {
    "collapsed": false
   },
   "outputs": [
    {
     "name": "stdout",
     "output_type": "stream",
     "text": [
      "(1,(George Clooney,None))\n",
      "(2,(Julia Stiles,Some(Biography(Julia O'Hara Stiles,NY City, NY, USA))))\n",
      "(3,(Will Smith,Some(Biography(Willard Christopher Smith Jr.,Philadelphia, PA,USA))))\n",
      "(4,(Matt Damon,Some(Biography(Matthew Paige Damon,Boston, MA, USA))))\n",
      "(5,(Salma Hayek,Some(Biography(Salma Valgarma Hayek-Jimenez,Coatzacoalcos, Veracruz,Mexico))))\n"
     ]
    }
   ],
   "source": [
    " movieOuterJoinedGraph.vertices.collect.foreach(println)"
   ]
  },
  {
   "cell_type": "markdown",
   "metadata": {},
   "source": [
    "# 위의 OuterJoin의 결과를 보기 좋게 변환 하는 처리를 아래에서 진행해줍니다."
   ]
  },
  {
   "cell_type": "code",
   "execution_count": 32,
   "metadata": {
    "collapsed": true
   },
   "outputs": [],
   "source": [
    " val movieOuterJoinedGraph = movieGraph.outerJoinVertices(bio)((_,\n",
    "name, bio) =>\n",
    "(name,bio.getOrElse(Biography(\"NA\",\"NA\")))) "
   ]
  },
  {
   "cell_type": "code",
   "execution_count": 34,
   "metadata": {
    "collapsed": false,
    "scrolled": false
   },
   "outputs": [
    {
     "name": "stdout",
     "output_type": "stream",
     "text": [
      "(1,(George Clooney,Biography(NA,NA)))\n",
      "(2,(Julia Stiles,Biography(Julia O'Hara Stiles,NY City, NY, USA)))\n",
      "(3,(Will Smith,Biography(Willard Christopher Smith Jr.,Philadelphia, PA,USA)))\n",
      "(4,(Matt Damon,Biography(Matthew Paige Damon,Boston, MA, USA)))\n",
      "(5,(Salma Hayek,Biography(Salma Valgarma Hayek-Jimenez,Coatzacoalcos, Veracruz,Mexico)))\n"
     ]
    }
   ],
   "source": [
    " movieOuterJoinedGraph.vertices.collect.foreach(println)"
   ]
  },
  {
   "cell_type": "code",
   "execution_count": 35,
   "metadata": {
    "collapsed": true
   },
   "outputs": [],
   "source": [
    " case class Actor(name: String, birthname: String, hometown:\n",
    "String) "
   ]
  },
  {
   "cell_type": "code",
   "execution_count": 36,
   "metadata": {
    "collapsed": true
   },
   "outputs": [],
   "source": [
    " val movieOuterJoinedGraph = movieGraph.outerJoinVertices(bio)((_,\n",
    "name, b) => b match {\n",
    " case Some(bio) => Actor(name, bio.birthname, bio.hometown)\n",
    " case None => Actor(name, \"\", \"\")\n",
    " })"
   ]
  },
  {
   "cell_type": "code",
   "execution_count": 38,
   "metadata": {
    "collapsed": false
   },
   "outputs": [
    {
     "name": "stdout",
     "output_type": "stream",
     "text": [
      "(1,Actor(George Clooney,,))\n",
      "(2,Actor(Julia Stiles,Julia O'Hara Stiles,NY City, NY, USA))\n",
      "(3,Actor(Will Smith,Willard Christopher Smith Jr.,Philadelphia, PA,USA))\n",
      "(4,Actor(Matt Damon,Matthew Paige Damon,Boston, MA, USA))\n",
      "(5,Actor(Salma Hayek,Salma Valgarma Hayek-Jimenez,Coatzacoalcos, Veracruz,Mexico))\n"
     ]
    }
   ],
   "source": [
    " movieOuterJoinedGraph.vertices.collect.foreach(println)"
   ]
  },
  {
   "cell_type": "markdown",
   "metadata": {},
   "source": [
    "# Data operations on VertexRDD and EdgeRDD"
   ]
  },
  {
   "cell_type": "markdown",
   "metadata": {},
   "source": [
    "값에 접근해 transformation해주는 함수를 사용한 예제"
   ]
  },
  {
   "cell_type": "code",
   "execution_count": 39,
   "metadata": {
    "collapsed": true
   },
   "outputs": [],
   "source": [
    " val actorsBio = movieJoinedGraph.vertices"
   ]
  },
  {
   "cell_type": "code",
   "execution_count": 41,
   "metadata": {
    "collapsed": false
   },
   "outputs": [
    {
     "name": "stdout",
     "output_type": "stream",
     "text": [
      "(1,George Clooney)\n",
      "(2,Julia Stiles:NY City, NY, USA)\n",
      "(3,Will Smith:Philadelphia, PA,USA)\n",
      "(4,Matt Damon:Boston, MA, USA)\n",
      "(5,Salma Hayek:Coatzacoalcos, Veracruz,Mexico)\n"
     ]
    }
   ],
   "source": [
    " actorsBio.collect.foreach(println)"
   ]
  },
  {
   "cell_type": "code",
   "execution_count": 46,
   "metadata": {
    "collapsed": false
   },
   "outputs": [
    {
     "name": "stdout",
     "output_type": "stream",
     "text": [
      "(1,George Clooney)\n",
      "(2,Julia Stiles)\n",
      "(3,Will Smith)\n",
      "(4,Matt Damon)\n",
      "(5,Salma Hayek)\n"
     ]
    }
   ],
   "source": [
    " actorsBio.mapValues(s => s.split(':')(0)).collect.foreach(println)"
   ]
  },
  {
   "cell_type": "code",
   "execution_count": 47,
   "metadata": {
    "collapsed": false
   },
   "outputs": [
    {
     "name": "stdout",
     "output_type": "stream",
     "text": [
      "(1,George Clooney)\n",
      "(2,Julia Stiles)\n",
      "(3,Will Smith)\n",
      "(4,Matt Damon)\n",
      "(5,Salma Hayek)\n"
     ]
    }
   ],
   "source": [
    " actorsBio.mapValues((vid,s) => s.split(':')(0)).collect.foreach(println)"
   ]
  },
  {
   "cell_type": "markdown",
   "metadata": {
    "collapsed": true
   },
   "source": [
    "## Joining VertexRDDs"
   ]
  },
  {
   "cell_type": "markdown",
   "metadata": {},
   "source": [
    "## 여기서는 innerJoin과 leftJoin에 대해서 예제를 통해 설명하도록하겠습니다."
   ]
  },
  {
   "cell_type": "code",
   "execution_count": 48,
   "metadata": {
    "collapsed": true
   },
   "outputs": [],
   "source": [
    " val actors = movieGraph.vertices"
   ]
  },
  {
   "cell_type": "markdown",
   "metadata": {},
   "source": [
    "### innerJoin은 조인이 성공한 인자만 반환합니다."
   ]
  },
  {
   "cell_type": "code",
   "execution_count": 51,
   "metadata": {
    "collapsed": false,
    "scrolled": true
   },
   "outputs": [
    {
     "name": "stdout",
     "output_type": "stream",
     "text": [
      "(2,Julia Stiles is from NY City, NY, USA)\n",
      "(3,Will Smith is from Philadelphia, PA,USA)\n",
      "(4,Matt Damon is from Boston, MA, USA)\n",
      "(5,Salma Hayek is from Coatzacoalcos, Veracruz,Mexico)\n"
     ]
    }
   ],
   "source": [
    " actors.innerJoin(bio)((vid, name, b) => name + \" is from \" +\n",
    "b.hometown).collect.foreach(println)"
   ]
  },
  {
   "cell_type": "markdown",
   "metadata": {},
   "source": [
    "### leftJoin은 actors를 기준으로 bio를 leftOutJoin해주는 작동을 하여 조인이 안된 인자가 있더라도 합해주는 결과값을 반환합니다."
   ]
  },
  {
   "cell_type": "code",
   "execution_count": 52,
   "metadata": {
    "collapsed": false
   },
   "outputs": [
    {
     "name": "stdout",
     "output_type": "stream",
     "text": [
      "(1,George Clooney's hometown is unknown)\n",
      "(2,Julia Stiles is from NY City, NY, USA)\n",
      "(3,Will Smith is from Philadelphia, PA,USA)\n",
      "(4,Matt Damon is from Boston, MA, USA)\n",
      "(5,Salma Hayek is from Coatzacoalcos, Veracruz,Mexico)\n"
     ]
    }
   ],
   "source": [
    " actors.leftJoin(bio)((vid, name, b) => b match {\n",
    " case Some(bio) => name + \" is from \" + bio.hometown\n",
    " case None => name + \"\\'s hometown is unknown\"\n",
    "}).collect.foreach(println)"
   ]
  },
  {
   "cell_type": "markdown",
   "metadata": {},
   "source": [
    "# Reversing edge directions"
   ]
  },
  {
   "cell_type": "markdown",
   "metadata": {},
   "source": [
    "여기서는 reverse 연산자를 통해서 Edge의 방향을 바꿔주는 함수를 사용해봅니다."
   ]
  },
  {
   "cell_type": "code",
   "execution_count": 53,
   "metadata": {
    "collapsed": true
   },
   "outputs": [],
   "source": [
    " val movies = movieGraph.edges"
   ]
  },
  {
   "cell_type": "code",
   "execution_count": 57,
   "metadata": {
    "collapsed": false,
    "scrolled": false
   },
   "outputs": [
    {
     "name": "stdout",
     "output_type": "stream",
     "text": [
      "Edge(1,4,Ocean's Eleven)\n",
      "Edge(2,4,Bourne Ultimatum)\n",
      "Edge(3,5,Wild Wild West)\n",
      "Edge(1,5,From Dusk Till Dawn)\n",
      "Edge(3,4,The Legend of Bagger Vance)\n"
     ]
    }
   ],
   "source": [
    " movies.collect.foreach(println)"
   ]
  },
  {
   "cell_type": "code",
   "execution_count": 55,
   "metadata": {
    "collapsed": true
   },
   "outputs": [],
   "source": [
    " val bidirectedGraph = Graph(actors, movies union\n",
    " movies.reverse)"
   ]
  },
  {
   "cell_type": "code",
   "execution_count": 59,
   "metadata": {
    "collapsed": false,
    "scrolled": true
   },
   "outputs": [
    {
     "name": "stdout",
     "output_type": "stream",
     "text": [
      "Edge(1,4,Ocean's Eleven)\n",
      "Edge(4,1,Ocean's Eleven)\n",
      "Edge(2,4,Bourne Ultimatum)\n",
      "Edge(4,2,Bourne Ultimatum)\n",
      "Edge(3,5,Wild Wild West)\n",
      "Edge(5,3,Wild Wild West)\n",
      "Edge(1,5,From Dusk Till Dawn)\n",
      "Edge(5,1,From Dusk Till Dawn)\n",
      "Edge(3,4,The Legend of Bagger Vance)\n",
      "Edge(4,3,The Legend of Bagger Vance)\n"
     ]
    }
   ],
   "source": [
    "bidirectedGraph.edges.collect.foreach(println)"
   ]
  },
  {
   "cell_type": "markdown",
   "metadata": {},
   "source": [
    "# Example - from food network to flavor pairing"
   ]
  },
  {
   "cell_type": "markdown",
   "metadata": {},
   "source": [
    "## 이게 마지막 실습 이었지만 .. 안타깝게도 제가  ingredients와 compounds 를 기존의 FNNode를 바탕으로 정의 해서 실행해봤는데 잘 진행이 안됩니다.  이부분 실습에 대해서 도움 부탁드립니다. ㅠㅠ"
   ]
  },
  {
   "cell_type": "code",
   "execution_count": null,
   "metadata": {
    "collapsed": true
   },
   "outputs": [],
   "source": [
    " val nodes = ingredients ++ compounds"
   ]
  },
  {
   "cell_type": "code",
   "execution_count": null,
   "metadata": {
    "collapsed": true
   },
   "outputs": [],
   "source": [
    " val foodNetwork = Graph(nodes, links)"
   ]
  },
  {
   "cell_type": "code",
   "execution_count": null,
   "metadata": {
    "collapsed": true
   },
   "outputs": [],
   "source": [
    " val similarIngr: RDD[(VertexId, Array[VertexId])] =\n",
    "foodNetwork.collectNeighborIds(EdgeDirection.In)"
   ]
  },
  {
   "cell_type": "code",
   "execution_count": null,
   "metadata": {
    "collapsed": true
   },
   "outputs": [],
   "source": [
    " val flavorPairsRDD: RDD[Edge[Int]] = similarIngr flatMap\n",
    "pairIngredients"
   ]
  },
  {
   "cell_type": "code",
   "execution_count": null,
   "metadata": {
    "collapsed": true
   },
   "outputs": [],
   "source": [
    " val flavorNetwork = Graph(ingredients, flavorPairsRDD).cache"
   ]
  },
  {
   "cell_type": "code",
   "execution_count": null,
   "metadata": {
    "collapsed": true
   },
   "outputs": [],
   "source": [
    " flavorNetwork.triplets.take(20).foreach(println)"
   ]
  },
  {
   "cell_type": "code",
   "execution_count": null,
   "metadata": {
    "collapsed": true
   },
   "outputs": [],
   "source": [
    " flavorWeightedNetwork.triplets.\n",
    "sortBy(t => t.attr, false).take(20).\n",
    "foreach(t => println(t.srcAttr.name + \" and \" + t.dstAttr.name + \" share\n",
    "\" + t.attr + \" compounds.\"))"
   ]
  },
  {
   "cell_type": "code",
   "execution_count": null,
   "metadata": {
    "collapsed": true
   },
   "outputs": [],
   "source": []
  },
  {
   "cell_type": "code",
   "execution_count": null,
   "metadata": {
    "collapsed": true
   },
   "outputs": [],
   "source": []
  },
  {
   "cell_type": "code",
   "execution_count": null,
   "metadata": {
    "collapsed": true
   },
   "outputs": [],
   "source": []
  },
  {
   "cell_type": "code",
   "execution_count": null,
   "metadata": {
    "collapsed": true
   },
   "outputs": [],
   "source": []
  },
  {
   "cell_type": "code",
   "execution_count": null,
   "metadata": {
    "collapsed": true
   },
   "outputs": [],
   "source": []
  },
  {
   "cell_type": "code",
   "execution_count": null,
   "metadata": {
    "collapsed": true
   },
   "outputs": [],
   "source": []
  },
  {
   "cell_type": "code",
   "execution_count": null,
   "metadata": {
    "collapsed": true
   },
   "outputs": [],
   "source": []
  },
  {
   "cell_type": "code",
   "execution_count": null,
   "metadata": {
    "collapsed": true
   },
   "outputs": [],
   "source": []
  }
 ],
 "metadata": {
  "kernelspec": {
   "display_name": "Scala 2.10.4 (Spark 1.4.1)",
   "language": "scala",
   "name": "scala"
  },
  "language_info": {
   "name": "scala"
  }
 },
 "nbformat": 4,
 "nbformat_minor": 0
}
